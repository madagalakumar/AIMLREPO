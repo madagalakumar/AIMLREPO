{
 "cells": [
  {
   "cell_type": "code",
   "execution_count": 1,
   "id": "8f211c45",
   "metadata": {},
   "outputs": [],
   "source": [
    "import numpy as numpy\n",
    "import pandas as pd"
   ]
  },
  {
   "cell_type": "markdown",
   "id": "563ef85d",
   "metadata": {},
   "source": [
    "# 1. How many movies are listed in the titles datafrmae?"
   ]
  },
  {
   "cell_type": "code",
   "execution_count": 7,
   "id": "b902cbe7",
   "metadata": {},
   "outputs": [],
   "source": [
    "import pandas as pd\n",
    "title= pd.read_csv('titles.csv')"
   ]
  },
  {
   "cell_type": "code",
   "execution_count": 8,
   "id": "5f17903f",
   "metadata": {
    "scrolled": true
   },
   "outputs": [
    {
     "name": "stdout",
     "output_type": "stream",
     "text": [
      "The movies in dataframe are:  244914\n"
     ]
    }
   ],
   "source": [
    "mov_t=len(title)\n",
    "\n",
    "print(\"The movies in dataframe are: \", mov_t)"
   ]
  },
  {
   "cell_type": "markdown",
   "id": "ebc1b8a9",
   "metadata": {},
   "source": [
    "# 2. what are the ealiest two films listed ine titles dataframe?"
   ]
  },
  {
   "cell_type": "code",
   "execution_count": 9,
   "id": "a3a0a162",
   "metadata": {
    "scrolled": true
   },
   "outputs": [
    {
     "name": "stdout",
     "output_type": "stream",
     "text": [
      "The two earlisted films are: \n",
      "                      title  year\n",
      "193222          Miss Jerry  1894\n",
      "51388   The Startled Lover  1898\n"
     ]
    }
   ],
   "source": [
    "sort_titles=title.sort_values(by='year')\n",
    "\n",
    "two_films=sort_titles.head(2)\n",
    "\n",
    "print(\"The two earlisted films are: \\n\", two_films)"
   ]
  },
  {
   "cell_type": "markdown",
   "id": "555ebbd0",
   "metadata": {},
   "source": [
    "# 3. how many movies have the title \"Hamlet\"?"
   ]
  },
  {
   "cell_type": "code",
   "execution_count": 13,
   "id": "cc8c0b8a",
   "metadata": {
    "scrolled": true
   },
   "outputs": [
    {
     "name": "stdout",
     "output_type": "stream",
     "text": [
      "The number of movies with the title Hamlet are:  57\n"
     ]
    }
   ],
   "source": [
    "hamlet_count = title[\"title\"].str.contains(\"Hamlet\", case=False).sum()\n",
    "\n",
    "print(\"The number of movies with the title Hamlet are: \",hamlet_count)"
   ]
  },
  {
   "cell_type": "markdown",
   "id": "644e3db7",
   "metadata": {},
   "source": [
    "# 4. how many movies are titled \"North by Northwest\""
   ]
  },
  {
   "cell_type": "code",
   "execution_count": 14,
   "id": "105f1d28",
   "metadata": {},
   "outputs": [
    {
     "name": "stdout",
     "output_type": "stream",
     "text": [
      "The number of movies with the title North by Northwest are:  1\n"
     ]
    }
   ],
   "source": [
    "North_count = title[\"title\"].str.contains(\"North by Northwest\", case=False).sum()\n",
    "\n",
    "print(\"The number of movies with the title North by Northwest are: \",North_count)"
   ]
  },
  {
   "cell_type": "markdown",
   "id": "f639292a",
   "metadata": {},
   "source": [
    "# 5. When was the first movie titled \"Hamlet\" made? "
   ]
  },
  {
   "cell_type": "code",
   "execution_count": 17,
   "id": "15e01b73",
   "metadata": {},
   "outputs": [
    {
     "name": "stdout",
     "output_type": "stream",
     "text": [
      "The first movie titled 'Hamlet' was made in the year 1910.\n"
     ]
    }
   ],
   "source": [
    "import pandas as pd\n",
    "\n",
    "title= pd.read_csv('titles.csv')\n",
    "\n",
    "hamlet_movies = title[title['title'] == 'Hamlet']\n",
    "\n",
    "hamlet_movies_sorted = hamlet_movies.sort_values(by='year')\n",
    "\n",
    "first_hamlet_movie = hamlet_movies_sorted.iloc[0]\n",
    "\n",
    "release_year = first_hamlet_movie['year']\n",
    "\n",
    "print(f\"The first movie titled 'Hamlet' was made in the year {release_year}.\")"
   ]
  },
  {
   "cell_type": "markdown",
   "id": "9b41cd90",
   "metadata": {},
   "source": [
    "# 6. List all of the \"Treasure Island\" movies from earliest to most recent."
   ]
  },
  {
   "cell_type": "code",
   "execution_count": 19,
   "id": "d0a58037",
   "metadata": {},
   "outputs": [
    {
     "name": "stdout",
     "output_type": "stream",
     "text": [
      "List of 'Treasure Island' movies from earliest to most recent:\n",
      "                  title  year\n",
      "55686   Treasure Island  1918\n",
      "196514  Treasure Island  1920\n",
      "141822  Treasure Island  1934\n",
      "77354   Treasure Island  1950\n",
      "65051   Treasure Island  1972\n",
      "37238   Treasure Island  1973\n",
      "173051  Treasure Island  1985\n",
      "27076   Treasure Island  1999\n"
     ]
    }
   ],
   "source": [
    "import pandas as pd\n",
    "\n",
    "titles = pd.read_csv('titles.csv')\n",
    "\n",
    "treasure_mov=titles[titles['title'] == 'Treasure Island']\n",
    "\n",
    "treasure_movie_sort= treasure_island_movies.sort_values(by='year')\n",
    "\n",
    "print(\"List of 'Treasure Island' movies from earliest to most recent:\")\n",
    "print(treasure_island_movies_sorted)"
   ]
  },
  {
   "cell_type": "markdown",
   "id": "22c3be37",
   "metadata": {},
   "source": [
    "# 7. How many movies were made in the year 1960?"
   ]
  },
  {
   "cell_type": "code",
   "execution_count": 22,
   "id": "4f77b75b",
   "metadata": {},
   "outputs": [
    {
     "name": "stdout",
     "output_type": "stream",
     "text": [
      "The number of movies made in the year 1950 is: 1113\n"
     ]
    }
   ],
   "source": [
    "import pandas as pd\n",
    "\n",
    "titles = pd.read_csv('titles.csv')\n",
    "movies_1950 = titles[titles['year'] == 1950]\n",
    "num_1950 = len(movies_1950)\n",
    "\n",
    "print(f\"The number of movies made in the year 1950 is: {num_1950}\")"
   ]
  },
  {
   "cell_type": "markdown",
   "id": "1e3f0dcf",
   "metadata": {},
   "source": [
    "# 8. How many movies were made from 1950 through 1959?"
   ]
  },
  {
   "cell_type": "code",
   "execution_count": 23,
   "id": "b2c3f870",
   "metadata": {},
   "outputs": [
    {
     "name": "stdout",
     "output_type": "stream",
     "text": [
      "The number of movies made from 1950 through 1959 is: 12934\n"
     ]
    }
   ],
   "source": [
    "import pandas as pd\n",
    "titles = pd.read_csv('titles.csv')\n",
    "\n",
    "mov_1950 = titles[(titles['year'] >= 1950) & (titles['year'] <= 1959)]\n",
    "\n",
    "\n",
    "num = len(mov_1950)\n",
    "\n",
    "print(f\"The number of movies made from 1950 through 1959 is: {num}\")"
   ]
  },
  {
   "cell_type": "markdown",
   "id": "f7ca9cbf",
   "metadata": {},
   "source": [
    "# 9. In what year has a movie titled \"Batman\" been released?"
   ]
  },
  {
   "cell_type": "code",
   "execution_count": 26,
   "id": "414d60f8",
   "metadata": {},
   "outputs": [
    {
     "name": "stdout",
     "output_type": "stream",
     "text": [
      "The movie 'Batman' was released in 1943.\n"
     ]
    }
   ],
   "source": [
    "import pandas as pd\n",
    "\n",
    "titles= pd.read_csv('titles.csv')\n",
    "\n",
    "movies = titles[titles['title'] == 'Batman']\n",
    "release_year =movies.iloc[0]['year']\n",
    "print(f\"The movie 'Batman' was released in {release_year}.\")"
   ]
  },
  {
   "cell_type": "markdown",
   "id": "3887a32a",
   "metadata": {},
   "source": [
    "# 10. How many roles were there in the movie \"Inception\"?"
   ]
  },
  {
   "cell_type": "code",
   "execution_count": 30,
   "id": "b94da697",
   "metadata": {},
   "outputs": [
    {
     "name": "stdout",
     "output_type": "stream",
     "text": [
      "244914\n"
     ]
    }
   ],
   "source": [
    "import pandas as pd\n",
    "titles= pd.read_csv('titles.csv')\n",
    "movie_count = titles['title'].shape[0]\n",
    "print(movie_count)"
   ]
  },
  {
   "cell_type": "markdown",
   "id": "25750488",
   "metadata": {},
   "source": [
    "# 11. How many roles were there in the movie \"Inception\"?"
   ]
  },
  {
   "cell_type": "code",
   "execution_count": 32,
   "id": "696d3ab4",
   "metadata": {},
   "outputs": [
    {
     "name": "stdout",
     "output_type": "stream",
     "text": [
      "The movie \"Inception\" had 78 roles.\n"
     ]
    }
   ],
   "source": [
    "import pandas as pd\n",
    "\n",
    "cast= pd.read_csv('cast.csv')\n",
    "\n",
    "inception_cast= cast[cast['title'] == 'Inception']\n",
    "\n",
    "n_cast= len(inception_cast)\n",
    "print(f'The movie \"Inception\" had {n_cast} roles.')"
   ]
  },
  {
   "cell_type": "markdown",
   "id": "f949ef27",
   "metadata": {},
   "source": [
    "# 12. How many roles in the movie \"Inception\" are NOT ranked by an \"n\" value?"
   ]
  },
  {
   "cell_type": "code",
   "execution_count": 33,
   "id": "641dfe54",
   "metadata": {},
   "outputs": [
    {
     "name": "stdout",
     "output_type": "stream",
     "text": [
      "The number of roles in \"Inception\" without an \"n\" value is: 27\n"
     ]
    }
   ],
   "source": [
    "import pandas as pd\n",
    "\n",
    "cast= pd.read_csv('cast.csv')\n",
    "inception_role= cast[cast['title'] == 'Inception']\n",
    "roles_n= inception_role[inception_role['n'].isna()]\n",
    "\n",
    "n= len(roles_n)\n",
    "\n",
    "print(f'The number of roles in \"Inception\" without an \"n\" value is: {n}')"
   ]
  },
  {
   "cell_type": "markdown",
   "id": "d66397bc",
   "metadata": {},
   "source": [
    "# 13. But how many roles in the movie \"Inception\" did receive an \"n\" value?"
   ]
  },
  {
   "cell_type": "code",
   "execution_count": 34,
   "id": "fb08d9e3",
   "metadata": {},
   "outputs": [
    {
     "name": "stdout",
     "output_type": "stream",
     "text": [
      "The number of roles with an \"n\" value in the movie \"Inception\" is 51.\n"
     ]
    }
   ],
   "source": [
    "import pandas as pd\n",
    "\n",
    "cast= pd.read_csv('cast.csv')\n",
    "inception_cast= cast[cast['title'] == 'Inception']\n",
    "count= inception_cast['n'].count() \n",
    "\n",
    "print(f'The number of roles with an \"n\" value in the movie \"Inception\" is {count}.')"
   ]
  },
  {
   "cell_type": "markdown",
   "id": "7a95d969",
   "metadata": {},
   "source": [
    "# 14. Display the cast of \"North by Northwest\" in their correct \"n\"-value order, ignoring roles that did not earn a numeric \"n\" value."
   ]
  },
  {
   "cell_type": "code",
   "execution_count": 35,
   "id": "1cdb71c2",
   "metadata": {},
   "outputs": [
    {
     "name": "stdout",
     "output_type": "stream",
     "text": [
      "                         name     n\n",
      "871426             Cary Grant   1.0\n",
      "3518333       Eva Marie Saint   2.0\n",
      "1457165           James Mason   3.0\n",
      "3157232   Jessie Royce Landis   4.0\n",
      "356707         Leo G. Carroll   5.0\n",
      "3048272  Josephine Hutchinson   6.0\n",
      "1695173           Philip Ober   7.0\n",
      "1275337         Martin Landau   8.0\n",
      "2447081         Adam Williams   9.0\n",
      "1811387          Edward Platt  10.0\n",
      "665768      Robert Ellenstein  11.0\n",
      "2295714          Les Tremayne  12.0\n",
      "464736        Philip Coolidge  13.0\n",
      "1508344         Patrick McVey  14.0\n",
      "206471           Edward Binns  15.0\n",
      "1384780             Ken Lynch  16.0\n"
     ]
    }
   ],
   "source": [
    "import pandas as pd\n",
    "\n",
    "cast= pd.read_csv('cast.csv')\n",
    "filtered_cast= cast[(cast['title'] == 'North by Northwest') & cast['n'].notna()]\n",
    "sorted_cast= filtered_cast.sort_values(by='n')\n",
    "\n",
    "print(sorted_cast[['name', 'n']])"
   ]
  },
  {
   "cell_type": "markdown",
   "id": "a4dab70c",
   "metadata": {},
   "source": [
    "# 15. Display the entire cast, in \"n\"-order, of the 1972 film \"Sleuth\"."
   ]
  },
  {
   "cell_type": "code",
   "execution_count": 36,
   "id": "31858f37",
   "metadata": {},
   "outputs": [
    {
     "name": "stdout",
     "output_type": "stream",
     "text": [
      "                       name    n\n",
      "1705394    Laurence Olivier  1.0\n",
      "326773        Michael Caine  2.0\n",
      "373876       Alec Cawthorne  3.0\n",
      "1465483  John (II) Matthews  4.0\n",
      "2724553  Eve (III) Channing  5.0\n",
      "1448690        Teddy Martin  6.0\n"
     ]
    }
   ],
   "source": [
    "import pandas as pd\n",
    "cast= pd.read_csv('cast.csv')\n",
    "sleuth_cast = cast[(cast['title'] == 'Sleuth') & (cast['year'] == 1972)]\n",
    "sleuth_cast_sort = sleuth_cast.sort_values(by='n')\n",
    "\n",
    "print(sleuth_cast_sort[['name', 'n']])"
   ]
  },
  {
   "cell_type": "markdown",
   "id": "d5e12089",
   "metadata": {},
   "source": [
    "# 16. Now display the entire cast, in \"n\"-order, of the 2007 version of \"Sleuth\"."
   ]
  },
  {
   "cell_type": "code",
   "execution_count": 37,
   "id": "84e91af5",
   "metadata": {},
   "outputs": [
    {
     "name": "stdout",
     "output_type": "stream",
     "text": [
      "The entire cast of the 2007 version of 'Sleuth' in 'n'-order:\n",
      "                        name    n\n",
      "326774         Michael Caine  1.0\n",
      "1293634             Jude Law  2.0\n",
      "1805907        Harold Pinter  3.0\n",
      "260242       Kenneth Branagh  NaN\n",
      "373877   Alec (II) Cawthorne  NaN\n",
      "2724552    Eve (II) Channing  NaN\n",
      "3370424    Carmel O'Sullivan  NaN\n"
     ]
    }
   ],
   "source": [
    "import pandas as pd\n",
    "\n",
    "cast= pd.read_csv('cast.csv')\n",
    "sleuth_cast = cast[(cast['title'] == 'Sleuth') & (cast['year'] == 2007)]\n",
    "sleuth_cast_sort=sleuth_cast.sort_values(by='n')\n",
    "\n",
    "print(\"The entire cast of the 2007 version of 'Sleuth' in 'n'-order:\")\n",
    "print(sleuth_cast_sort[['name', 'n']])"
   ]
  },
  {
   "cell_type": "markdown",
   "id": "1fc12e7f",
   "metadata": {},
   "source": [
    "# 17. How many roles were credited in the silent 1921 version of Hamlet? "
   ]
  },
  {
   "cell_type": "code",
   "execution_count": 38,
   "id": "e170158c",
   "metadata": {},
   "outputs": [
    {
     "name": "stdout",
     "output_type": "stream",
     "text": [
      "The silent 1921 version of Hamlet credited 9 roles.\n"
     ]
    }
   ],
   "source": [
    "import pandas as pd\n",
    "\n",
    "cast= pd.read_csv('cast.csv')\n",
    "hamlet= cast[(cast['title'] == 'Hamlet') & (cast['year'] == 1921)]\n",
    "role= len(hamlet['character'].unique())\n",
    "\n",
    "print(f\"The silent 1921 version of Hamlet credited {role} roles.\")"
   ]
  },
  {
   "cell_type": "markdown",
   "id": "f4afd5e2",
   "metadata": {},
   "source": [
    "# 18. How many roles were credited in Branagh’s 1996 Hamlet?"
   ]
  },
  {
   "cell_type": "code",
   "execution_count": 39,
   "id": "53d0195f",
   "metadata": {},
   "outputs": [
    {
     "name": "stdout",
     "output_type": "stream",
     "text": [
      "The number of roles credited in Branagh's 1996 Hamlet is: 49\n"
     ]
    }
   ],
   "source": [
    "import pandas as pd\n",
    "\n",
    "cast= pd.read_csv('cast.csv')\n",
    "filtered_cast = cast[(cast['title'] == 'Hamlet') & (cast['year'] == 1996)]\n",
    "num_roles_credited = filtered_cast['character'].nunique()\n",
    "\n",
    "print(f\"The number of roles credited in Branagh's 1996 Hamlet is: {num_roles_credited}\")"
   ]
  },
  {
   "cell_type": "markdown",
   "id": "a793bddf",
   "metadata": {},
   "source": [
    "# 19. How many \"Hamlet\" roles have been listed in all film credits through history?"
   ]
  },
  {
   "cell_type": "code",
   "execution_count": 40,
   "id": "5259b1ed",
   "metadata": {},
   "outputs": [
    {
     "name": "stdout",
     "output_type": "stream",
     "text": [
      "The number of \"Hamlet\" roles listed in the film credits is: 96\n"
     ]
    }
   ],
   "source": [
    "import pandas as pd\n",
    "\n",
    "\n",
    "cast= pd.read_csv('cast.csv')\n",
    "hamlet_role= cast[cast['character'] == 'Hamlet']\n",
    "\n",
    "\n",
    "n_role= len(hamlet_role)\n",
    "\n",
    "print(f'The number of \"Hamlet\" roles listed in the film credits is: {n_role}')"
   ]
  },
  {
   "cell_type": "markdown",
   "id": "09673a5b",
   "metadata": {},
   "source": [
    "# 20. How many people have played an \"Ophelia\"?"
   ]
  },
  {
   "cell_type": "code",
   "execution_count": 41,
   "id": "5069e955",
   "metadata": {},
   "outputs": [
    {
     "name": "stdout",
     "output_type": "stream",
     "text": [
      "The number of people who have played \"Ophelia\" is: 117\n"
     ]
    }
   ],
   "source": [
    "import pandas as pd\n",
    "\n",
    "cast= pd.read_csv('cast.csv')\n",
    "ophelia_count= cast['character'].value_counts().get('Ophelia', 0)\n",
    "\n",
    "print(f'The number of people who have played \"Ophelia\" is: {ophelia_count}')"
   ]
  },
  {
   "cell_type": "markdown",
   "id": "b711d813",
   "metadata": {},
   "source": [
    "# 21. How many people have played a role called \"The Dude\"? "
   ]
  },
  {
   "cell_type": "code",
   "execution_count": 42,
   "id": "da0afba4",
   "metadata": {},
   "outputs": [
    {
     "name": "stdout",
     "output_type": "stream",
     "text": [
      "The number of actors who have played the role \"The Dude\" is 19.\n"
     ]
    }
   ],
   "source": [
    "import pandas as pd\n",
    "\n",
    "cast = pd.read_csv('cast.csv')\n",
    "dude_actors = cast[cast['character'] == 'The Dude']\n",
    "num_dude_actors = dude_actors['name'].nunique()\n",
    "\n",
    "print(f'The number of actors who have played the role \"The Dude\" is {num_dude_actors}.')"
   ]
  },
  {
   "cell_type": "markdown",
   "id": "28b3b36b",
   "metadata": {},
   "source": [
    "# 22. How many people have played a role called \"The Stranger\"?"
   ]
  },
  {
   "cell_type": "code",
   "execution_count": 43,
   "id": "9a158dbd",
   "metadata": {},
   "outputs": [
    {
     "name": "stdout",
     "output_type": "stream",
     "text": [
      "The number of people who have played the role 'The Stranger' is: 202\n"
     ]
    }
   ],
   "source": [
    "import pandas as pd\n",
    "\n",
    "\n",
    "cast= pd.read_csv('cast.csv')\n",
    "stranger_actors = cast[cast['character'] == 'The Stranger']\n",
    "\n",
    "num_stranger_actors = len(stranger_actors['name'].unique())\n",
    "print(f\"The number of people who have played the role 'The Stranger' is: {num_stranger_actors}\")"
   ]
  },
  {
   "cell_type": "markdown",
   "id": "6cdfb16c",
   "metadata": {},
   "source": [
    "# 23. How many roles has Sidney Poitier played throughout his career?"
   ]
  },
  {
   "cell_type": "code",
   "execution_count": 44,
   "id": "7ed157fe",
   "metadata": {},
   "outputs": [
    {
     "name": "stdout",
     "output_type": "stream",
     "text": [
      "Sidney Poitier has played 43 roles in the cast.csv file.\n"
     ]
    }
   ],
   "source": [
    "import pandas as pd\n",
    "\n",
    "\n",
    "cast= pd.read_csv('cast.csv')\n",
    "sidney_r= cast[cast['name'] == 'Sidney Poitier']\n",
    "n = len(sidney_r)\n",
    "\n",
    "print(f'Sidney Poitier has played {n} roles in the cast.csv file.')"
   ]
  },
  {
   "cell_type": "markdown",
   "id": "33f4af6e",
   "metadata": {},
   "source": [
    "# 24. How many roles has Judi Dench played?"
   ]
  },
  {
   "cell_type": "code",
   "execution_count": 46,
   "id": "4050a013",
   "metadata": {},
   "outputs": [
    {
     "name": "stdout",
     "output_type": "stream",
     "text": [
      "Judi Dench has played 55 roles in the cast.csv file.\n"
     ]
    }
   ],
   "source": [
    "import pandas as pd\n",
    "\n",
    "cast= pd.read_csv('cast.csv')\n",
    "judi_dench= cast[cast['name'] == 'Judi Dench']\n",
    "n= len(judi_dench)\n",
    "\n",
    "print(f'Judi Dench has played {n} roles in the cast.csv file.')"
   ]
  },
  {
   "cell_type": "markdown",
   "id": "de8beceb",
   "metadata": {},
   "source": [
    "# 25. List the supporting roles (having n=2) played by Cary Grant in the 1940s, in order by year."
   ]
  },
  {
   "cell_type": "code",
   "execution_count": 47,
   "id": "c3bcbe8a",
   "metadata": {},
   "outputs": [
    {
     "name": "stdout",
     "output_type": "stream",
     "text": [
      "        year             title    n\n",
      "871423  1940  My Favorite Wife  2.0\n",
      "871433  1941    Penny Serenade  2.0\n"
     ]
    }
   ],
   "source": [
    "import pandas as pd\n",
    "\n",
    "cast= pd.read_csv('cast.csv')\n",
    "cary_support= cast[\n",
    "    (cast['name'] == 'Cary Grant') &  (cast['year'] >= 1940) &        \n",
    "    (cast['year'] <= 1949) & (cast['n'] == 2)]\n",
    "\n",
    "cary_support_sorted = cary_support.sort_values(by='year')\n",
    "\n",
    "print(cary_support_sorted[['year', 'title', 'n']])"
   ]
  },
  {
   "cell_type": "markdown",
   "id": "2bd64555",
   "metadata": {},
   "source": [
    "# 26. List the leading roles that Cary Grant played in the 1940s in order by year."
   ]
  },
  {
   "cell_type": "code",
   "execution_count": 49,
   "id": "e8fd1b24",
   "metadata": {},
   "outputs": [
    {
     "name": "stdout",
     "output_type": "stream",
     "text": [
      "        year                                 title\n",
      "871448  1940               The Howards of Virginia\n",
      "871407  1940                       His Girl Friday\n",
      "871450  1940                The Philadelphia Story\n",
      "871438  1941                             Suspicion\n",
      "871452  1942                  The Talk of the Town\n",
      "871429  1942                 Once Upon a Honeymoon\n",
      "871398  1943                     Destination Tokyo\n",
      "871422  1943                             Mr. Lucky\n",
      "871430  1944                      Once Upon a Time\n",
      "871390  1944                  Arsenic and Old Lace\n",
      "871425  1944             None But the Lonely Heart\n",
      "871424  1946                         Night and Day\n",
      "871427  1946                             Notorious\n",
      "871444  1947      The Bachelor and the Bobby-Soxer\n",
      "871445  1947                     The Bishop's Wife\n",
      "871421  1948  Mr. Blandings Builds His Dream House\n",
      "871402  1948          Every Girl Should Be Married\n",
      "871411  1949                I Was a Male War Bride\n"
     ]
    }
   ],
   "source": [
    "import pandas as pd\n",
    "\n",
    "cast = pd.read_csv('cast.csv')\n",
    "cary_grant= cast[(cast['name'] == 'Cary Grant') & \n",
    "                                (cast['n'] == 1)]\n",
    "\n",
    "cary_grant_r= cary_grant[(cary_grant['year'] >= 1940) & \n",
    "                                    (cary_grant['year'] <= 1949)]\n",
    "\n",
    "n= cary_grant_r.sort_values(by='year')\n",
    "print(n[['year', 'title']])"
   ]
  },
  {
   "cell_type": "markdown",
   "id": "d664619f",
   "metadata": {},
   "source": [
    "# 27. How many roles were available for actors in the 1950s?"
   ]
  },
  {
   "cell_type": "code",
   "execution_count": 52,
   "id": "5f8c4912",
   "metadata": {},
   "outputs": [
    {
     "name": "stdout",
     "output_type": "stream",
     "text": [
      "The number of roles available for actors in the 1950s is: 2142640\n"
     ]
    }
   ],
   "source": [
    "import pandas as pd\n",
    "\n",
    "cast= pd.read_csv('cast.csv')\n",
    "role= cast[(cast['year'] >= 1950) & (cast['type'] == 'actor')]\n",
    "n= len(role)\n",
    "print(f'The number of roles available for actors in the 1950s is: {n}')"
   ]
  },
  {
   "cell_type": "markdown",
   "id": "fe7ccb4d",
   "metadata": {},
   "source": [
    "# 28. How many roles were avilable for actresses in the 1950s?"
   ]
  },
  {
   "cell_type": "code",
   "execution_count": 53,
   "id": "0d264aad",
   "metadata": {},
   "outputs": [
    {
     "name": "stdout",
     "output_type": "stream",
     "text": [
      "The number of roles available for actors in the 1950s is: 0\n"
     ]
    }
   ],
   "source": [
    "import pandas as pd\n",
    "\n",
    "cast= pd.read_csv('cast.csv')\n",
    "role= cast[(cast['year'] >= 1950) & (cast['type'] == 'actresses')]\n",
    "n= len(role)\n",
    "print(f'The number of roles available for actors in the 1950s is: {n}')"
   ]
  },
  {
   "cell_type": "markdown",
   "id": "6d6d0f10",
   "metadata": {},
   "source": [
    "# 29. How many leading roles (n=1) were available from the beginning of film history through 1980"
   ]
  },
  {
   "cell_type": "code",
   "execution_count": 55,
   "id": "be5bb146",
   "metadata": {},
   "outputs": [
    {
     "name": "stdout",
     "output_type": "stream",
     "text": [
      "The number of leading roles (n=1) available from the beginning of film history through 1980 is: 65140\n"
     ]
    }
   ],
   "source": [
    "import pandas as pd\n",
    "\n",
    "cast= pd.read_csv('cast.csv')\n",
    "leading_roles= cast[cast['n'] == 1]\n",
    "leading_roles_n = leading_roles[leading_roles['year'] <= 1980]\n",
    "n= len(leading_roles_n)\n",
    "\n",
    "print(f'The number of leading roles (n=1) available from the beginning of film history through 1980 is: {n}')"
   ]
  },
  {
   "cell_type": "markdown",
   "id": "4f5904fa",
   "metadata": {},
   "source": [
    "# 30. How many non-leading roles were available through from the beginning of film history through 1980"
   ]
  },
  {
   "cell_type": "code",
   "execution_count": 56,
   "id": "f20ce671",
   "metadata": {},
   "outputs": [
    {
     "name": "stdout",
     "output_type": "stream",
     "text": [
      "The number of non-leading roles available from the beginning of film history through 1980 is 669320.\n"
     ]
    }
   ],
   "source": [
    "import pandas as pd\n",
    "\n",
    "cast_df = pd.read_csv('cast.csv')\n",
    "roles_until_1980 = cast_df[cast_df['year'] <= 1980]\n",
    "non_leading_roles = roles_until_1980[roles_until_1980['n'] > 1]\n",
    "\n",
    "num_non_leading_roles = len(non_leading_roles)\n",
    "\n",
    "print(f\"The number of non-leading roles available from the beginning of film history through 1980 is {num_non_leading_roles}.\")"
   ]
  },
  {
   "cell_type": "markdown",
   "id": "8e912034",
   "metadata": {},
   "source": [
    "# 31. How many roles through 1980 were minor enough that they did not warrant a numeric \"n\" rank?"
   ]
  },
  {
   "cell_type": "code",
   "execution_count": 59,
   "id": "f584ecf5",
   "metadata": {},
   "outputs": [
    {
     "name": "stdout",
     "output_type": "stream",
     "text": [
      "The number of roles through 1980 without a numeric 'n' rank is: 1014692\n"
     ]
    }
   ],
   "source": [
    "import pandas as pd\n",
    "\n",
    "cast= pd.read_csv('cast.csv')\n",
    "role= cast[(cast['year'] >= 1980) & (cast['n'].isnull())]\n",
    "n= len(role)\n",
    "\n",
    "print(f\"The number of roles through 1980 without a numeric 'n' rank is: {n}\")"
   ]
  },
  {
   "cell_type": "code",
   "execution_count": null,
   "id": "c06360eb",
   "metadata": {},
   "outputs": [],
   "source": []
  }
 ],
 "metadata": {
  "kernelspec": {
   "display_name": "Python 3 (ipykernel)",
   "language": "python",
   "name": "python3"
  },
  "language_info": {
   "codemirror_mode": {
    "name": "ipython",
    "version": 3
   },
   "file_extension": ".py",
   "mimetype": "text/x-python",
   "name": "python",
   "nbconvert_exporter": "python",
   "pygments_lexer": "ipython3",
   "version": "3.11.4"
  }
 },
 "nbformat": 4,
 "nbformat_minor": 5
}
