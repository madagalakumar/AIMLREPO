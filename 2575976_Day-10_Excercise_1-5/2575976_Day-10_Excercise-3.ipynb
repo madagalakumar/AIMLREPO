{
 "cells": [
  {
   "cell_type": "code",
   "execution_count": 1,
   "id": "d493a95e",
   "metadata": {},
   "outputs": [],
   "source": [
    "import numpy as np\n",
    "import pandas as pd\n",
    "import matplotlib.pyplot as plt"
   ]
  },
  {
   "cell_type": "code",
   "execution_count": 2,
   "id": "9ec5191a",
   "metadata": {},
   "outputs": [],
   "source": [
    "d=pd.read_csv(\"titles.csv\")\n",
    "titles_df=pd.DataFrame(d)"
   ]
  },
  {
   "cell_type": "code",
   "execution_count": 3,
   "id": "c15bbd3b",
   "metadata": {},
   "outputs": [
    {
     "data": {
      "text/html": [
       "<div>\n",
       "<style scoped>\n",
       "    .dataframe tbody tr th:only-of-type {\n",
       "        vertical-align: middle;\n",
       "    }\n",
       "\n",
       "    .dataframe tbody tr th {\n",
       "        vertical-align: top;\n",
       "    }\n",
       "\n",
       "    .dataframe thead th {\n",
       "        text-align: right;\n",
       "    }\n",
       "</style>\n",
       "<table border=\"1\" class=\"dataframe\">\n",
       "  <thead>\n",
       "    <tr style=\"text-align: right;\">\n",
       "      <th></th>\n",
       "      <th>title</th>\n",
       "      <th>year</th>\n",
       "    </tr>\n",
       "  </thead>\n",
       "  <tbody>\n",
       "    <tr>\n",
       "      <th>0</th>\n",
       "      <td>Tasveer Mere Sanam</td>\n",
       "      <td>1996</td>\n",
       "    </tr>\n",
       "    <tr>\n",
       "      <th>1</th>\n",
       "      <td>Only You</td>\n",
       "      <td>1994</td>\n",
       "    </tr>\n",
       "    <tr>\n",
       "      <th>2</th>\n",
       "      <td>El pueblo del terror</td>\n",
       "      <td>1970</td>\n",
       "    </tr>\n",
       "    <tr>\n",
       "      <th>3</th>\n",
       "      <td>Machine</td>\n",
       "      <td>2007</td>\n",
       "    </tr>\n",
       "    <tr>\n",
       "      <th>4</th>\n",
       "      <td>MARy</td>\n",
       "      <td>2008</td>\n",
       "    </tr>\n",
       "    <tr>\n",
       "      <th>...</th>\n",
       "      <td>...</td>\n",
       "      <td>...</td>\n",
       "    </tr>\n",
       "    <tr>\n",
       "      <th>244909</th>\n",
       "      <td>Black Butterfly in a Colorful World</td>\n",
       "      <td>2018</td>\n",
       "    </tr>\n",
       "    <tr>\n",
       "      <th>244910</th>\n",
       "      <td>Hua fei hua wu chun man cheng</td>\n",
       "      <td>1980</td>\n",
       "    </tr>\n",
       "    <tr>\n",
       "      <th>244911</th>\n",
       "      <td>Nippon dabi katsukyu</td>\n",
       "      <td>1970</td>\n",
       "    </tr>\n",
       "    <tr>\n",
       "      <th>244912</th>\n",
       "      <td>Under Siege 2: Dark Territory</td>\n",
       "      <td>1995</td>\n",
       "    </tr>\n",
       "    <tr>\n",
       "      <th>244913</th>\n",
       "      <td>She Must Be Seeing Things</td>\n",
       "      <td>1987</td>\n",
       "    </tr>\n",
       "  </tbody>\n",
       "</table>\n",
       "<p>244914 rows × 2 columns</p>\n",
       "</div>"
      ],
      "text/plain": [
       "                                      title  year\n",
       "0                        Tasveer Mere Sanam  1996\n",
       "1                                  Only You  1994\n",
       "2                      El pueblo del terror  1970\n",
       "3                                   Machine  2007\n",
       "4                                      MARy  2008\n",
       "...                                     ...   ...\n",
       "244909  Black Butterfly in a Colorful World  2018\n",
       "244910        Hua fei hua wu chun man cheng  1980\n",
       "244911                 Nippon dabi katsukyu  1970\n",
       "244912        Under Siege 2: Dark Territory  1995\n",
       "244913            She Must Be Seeing Things  1987\n",
       "\n",
       "[244914 rows x 2 columns]"
      ]
     },
     "execution_count": 3,
     "metadata": {},
     "output_type": "execute_result"
    }
   ],
   "source": [
    "titles_df"
   ]
  },
  {
   "cell_type": "code",
   "execution_count": 4,
   "id": "78e9ac7e",
   "metadata": {},
   "outputs": [],
   "source": [
    "d=pd.read_csv(\"cast.csv\")\n",
    "cast_df=pd.DataFrame(d)"
   ]
  },
  {
   "cell_type": "code",
   "execution_count": 5,
   "id": "7cc58a20",
   "metadata": {},
   "outputs": [
    {
     "data": {
      "text/html": [
       "<div>\n",
       "<style scoped>\n",
       "    .dataframe tbody tr th:only-of-type {\n",
       "        vertical-align: middle;\n",
       "    }\n",
       "\n",
       "    .dataframe tbody tr th {\n",
       "        vertical-align: top;\n",
       "    }\n",
       "\n",
       "    .dataframe thead th {\n",
       "        text-align: right;\n",
       "    }\n",
       "</style>\n",
       "<table border=\"1\" class=\"dataframe\">\n",
       "  <thead>\n",
       "    <tr style=\"text-align: right;\">\n",
       "      <th></th>\n",
       "      <th>title</th>\n",
       "      <th>year</th>\n",
       "      <th>name</th>\n",
       "      <th>type</th>\n",
       "      <th>character</th>\n",
       "      <th>n</th>\n",
       "    </tr>\n",
       "  </thead>\n",
       "  <tbody>\n",
       "    <tr>\n",
       "      <th>0</th>\n",
       "      <td>Closet Monster</td>\n",
       "      <td>2015</td>\n",
       "      <td>Buffy #1</td>\n",
       "      <td>actor</td>\n",
       "      <td>Buffy 4</td>\n",
       "      <td>31.0</td>\n",
       "    </tr>\n",
       "    <tr>\n",
       "      <th>1</th>\n",
       "      <td>Suuri illusioni</td>\n",
       "      <td>1985</td>\n",
       "      <td>Homo $</td>\n",
       "      <td>actor</td>\n",
       "      <td>Guests</td>\n",
       "      <td>22.0</td>\n",
       "    </tr>\n",
       "    <tr>\n",
       "      <th>2</th>\n",
       "      <td>Battle of the Sexes</td>\n",
       "      <td>2017</td>\n",
       "      <td>$hutter</td>\n",
       "      <td>actor</td>\n",
       "      <td>Bobby Riggs Fan</td>\n",
       "      <td>10.0</td>\n",
       "    </tr>\n",
       "    <tr>\n",
       "      <th>3</th>\n",
       "      <td>Secret in Their Eyes</td>\n",
       "      <td>2015</td>\n",
       "      <td>$hutter</td>\n",
       "      <td>actor</td>\n",
       "      <td>2002 Dodger Fan</td>\n",
       "      <td>NaN</td>\n",
       "    </tr>\n",
       "    <tr>\n",
       "      <th>4</th>\n",
       "      <td>Steve Jobs</td>\n",
       "      <td>2015</td>\n",
       "      <td>$hutter</td>\n",
       "      <td>actor</td>\n",
       "      <td>1988 Opera House Patron</td>\n",
       "      <td>NaN</td>\n",
       "    </tr>\n",
       "    <tr>\n",
       "      <th>...</th>\n",
       "      <td>...</td>\n",
       "      <td>...</td>\n",
       "      <td>...</td>\n",
       "      <td>...</td>\n",
       "      <td>...</td>\n",
       "      <td>...</td>\n",
       "    </tr>\n",
       "    <tr>\n",
       "      <th>3786171</th>\n",
       "      <td>Foxtrot</td>\n",
       "      <td>1988</td>\n",
       "      <td>Lilja ??risd?ttir</td>\n",
       "      <td>actress</td>\n",
       "      <td>D?ra</td>\n",
       "      <td>24.0</td>\n",
       "    </tr>\n",
       "    <tr>\n",
       "      <th>3786172</th>\n",
       "      <td>Niceland (Population. 1.000.002)</td>\n",
       "      <td>2004</td>\n",
       "      <td>Sigr??ur J?na ??risd?ttir</td>\n",
       "      <td>actress</td>\n",
       "      <td>Woman in Bus</td>\n",
       "      <td>26.0</td>\n",
       "    </tr>\n",
       "    <tr>\n",
       "      <th>3786173</th>\n",
       "      <td>Skammdegi</td>\n",
       "      <td>1985</td>\n",
       "      <td>Dalla ??r?ard?ttir</td>\n",
       "      <td>actress</td>\n",
       "      <td>Hj?krunarkona</td>\n",
       "      <td>9.0</td>\n",
       "    </tr>\n",
       "    <tr>\n",
       "      <th>3786174</th>\n",
       "      <td>U.S.S.S.S...</td>\n",
       "      <td>2003</td>\n",
       "      <td>Krist?n Andrea ??r?ard?ttir</td>\n",
       "      <td>actress</td>\n",
       "      <td>Afgr.dama ? bens?nst??</td>\n",
       "      <td>17.0</td>\n",
       "    </tr>\n",
       "    <tr>\n",
       "      <th>3786175</th>\n",
       "      <td>Bye Bye Blue Bird</td>\n",
       "      <td>1999</td>\n",
       "      <td>Rosa ? R?gvu</td>\n",
       "      <td>actress</td>\n",
       "      <td>Pensionatv?rtinde</td>\n",
       "      <td>NaN</td>\n",
       "    </tr>\n",
       "  </tbody>\n",
       "</table>\n",
       "<p>3786176 rows × 6 columns</p>\n",
       "</div>"
      ],
      "text/plain": [
       "                                    title  year                         name  \\\n",
       "0                          Closet Monster  2015                     Buffy #1   \n",
       "1                         Suuri illusioni  1985                       Homo $   \n",
       "2                     Battle of the Sexes  2017                      $hutter   \n",
       "3                    Secret in Their Eyes  2015                      $hutter   \n",
       "4                              Steve Jobs  2015                      $hutter   \n",
       "...                                   ...   ...                          ...   \n",
       "3786171                           Foxtrot  1988            Lilja ??risd?ttir   \n",
       "3786172  Niceland (Population. 1.000.002)  2004    Sigr??ur J?na ??risd?ttir   \n",
       "3786173                         Skammdegi  1985           Dalla ??r?ard?ttir   \n",
       "3786174                      U.S.S.S.S...  2003  Krist?n Andrea ??r?ard?ttir   \n",
       "3786175                 Bye Bye Blue Bird  1999                 Rosa ? R?gvu   \n",
       "\n",
       "            type                character     n  \n",
       "0          actor                  Buffy 4  31.0  \n",
       "1          actor                   Guests  22.0  \n",
       "2          actor          Bobby Riggs Fan  10.0  \n",
       "3          actor          2002 Dodger Fan   NaN  \n",
       "4          actor  1988 Opera House Patron   NaN  \n",
       "...          ...                      ...   ...  \n",
       "3786171  actress                     D?ra  24.0  \n",
       "3786172  actress             Woman in Bus  26.0  \n",
       "3786173  actress            Hj?krunarkona   9.0  \n",
       "3786174  actress   Afgr.dama ? bens?nst??  17.0  \n",
       "3786175  actress        Pensionatv?rtinde   NaN  \n",
       "\n",
       "[3786176 rows x 6 columns]"
      ]
     },
     "execution_count": 5,
     "metadata": {},
     "output_type": "execute_result"
    }
   ],
   "source": [
    "cast_df"
   ]
  },
  {
   "cell_type": "markdown",
   "id": "31ccd35e",
   "metadata": {},
   "source": [
    "# 1.Using groupby(), plot the number of films that have been released each decade in the history of cinema."
   ]
  },
  {
   "cell_type": "code",
   "execution_count": 6,
   "id": "18900118",
   "metadata": {},
   "outputs": [
    {
     "data": {
      "image/png": "[encoded data removed]",
      "text/plain": [
       "<Figure size 1200x600 with 1 Axes>"
      ]
     },
     "metadata": {},
     "output_type": "display_data"
    }
   ],
   "source": [
    "film_counts_per_decade = titles_df.groupby((titles_df['year'] // 10) * 10).size()\n",
    "\n",
    "plt.figure(figsize=(12, 6))\n",
    "film_counts_per_decade.plot(kind='bar', color='skyblue')\n",
    "plt.title('Number of Films Released Each Decade in the History of Cinema')\n",
    "plt.xlabel('Decade')\n",
    "plt.ylabel('Number of Films')\n",
    "plt.xticks(rotation=45)\n",
    "plt.show()"
   ]
  },
  {
   "cell_type": "markdown",
   "id": "ce4d970d",
   "metadata": {},
   "source": [
    "# 2.Use groupby() to plot the number of \"Hamlet\" films made each decade."
   ]
  },
  {
   "cell_type": "code",
   "execution_count": 7,
   "id": "dcd71258",
   "metadata": {},
   "outputs": [
    {
     "data": {
      "image/png": "[encoded data removed]",
      "text/plain": [
       "<Figure size 1200x600 with 1 Axes>"
      ]
     },
     "metadata": {},
     "output_type": "display_data"
    }
   ],
   "source": [
    "hamlet_df = titles_df[titles_df['title'] == \"Hamlet\"]\n",
    "\n",
    "hamlet_counts_per_decade = hamlet_df.groupby((hamlet_df['year'] // 10) * 10).size()\n",
    "\n",
    "plt.figure(figsize=(12, 6))\n",
    "hamlet_counts_per_decade.plot(kind='bar', color='skyblue')\n",
    "plt.title('Number of \"Hamlet\" Films Made Each Decade')\n",
    "plt.xlabel('Decade')\n",
    "plt.ylabel('Number of Films')\n",
    "plt.xticks(rotation=45)\n",
    "plt.show()"
   ]
  },
  {
   "cell_type": "markdown",
   "id": "e1e23738",
   "metadata": {},
   "source": [
    "# 3.How many leading (n=1) roles were available to actors, and how many to actresses, in each year of the 1950s?\n"
   ]
  },
  {
   "cell_type": "code",
   "execution_count": 8,
   "id": "48ca551e",
   "metadata": {},
   "outputs": [
    {
     "name": "stdout",
     "output_type": "stream",
     "text": [
      "Number of leading roles (n=1) by year and gender (actor/actress) in the 1950s:\n",
      "type  actor  actress\n",
      "year                \n",
      "1950    625      288\n",
      "1951    651      285\n",
      "1952    613      304\n",
      "1953    664      312\n",
      "1954    636      316\n",
      "1955    648      285\n",
      "1956    668      307\n",
      "1957    739      315\n",
      "1958    715      301\n",
      "1959    733      327\n"
     ]
    }
   ],
   "source": [
    "roles_1950s = cast_df[(cast_df['year'] >= 1950) & (cast_df['year'] <= 1959)]\n",
    "\n",
    "# Filter the dataset to include only leading roles (n=1)\n",
    "leading_roles = roles_1950s[roles_1950s['n'] == 1]\n",
    "\n",
    "# Group the leading roles by year and type (actor/actress) and count the number of roles in each group\n",
    "leading_roles_by_year = leading_roles.groupby(['year', 'type']).size().unstack(fill_value=0)\n",
    "\n",
    "# Display the result\n",
    "print(\"Number of leading roles (n=1) by year and gender (actor/actress) in the 1950s:\")\n",
    "print(leading_roles_by_year)"
   ]
  },
  {
   "cell_type": "markdown",
   "id": "b7d683e8",
   "metadata": {},
   "source": [
    "# 4.In the 1950s decade taken as a whole, how many total roles were available to actors, and how many to actresses, for each \"n\" number 1 through 5?"
   ]
  },
  {
   "cell_type": "code",
   "execution_count": 9,
   "id": "8d0d4362",
   "metadata": {},
   "outputs": [
    {
     "name": "stdout",
     "output_type": "stream",
     "text": [
      "Number of roles (n=1 to 5) by type (actor/actress) in the 1950s:\n",
      "type  actor  actress\n",
      "n                   \n",
      "1.0    6692     3040\n",
      "2.0    4640     4635\n",
      "3.0    5654     3201\n",
      "4.0    5663     2881\n",
      "5.0    5674     2592\n"
     ]
    }
   ],
   "source": [
    "roles_1950s = cast_df[(cast_df['year'] >= 1950) & (cast_df['year'] <= 1959)]\n",
    "\n",
    "roles_n_1_to_5 = roles_1950s[(roles_1950s['n'] >= 1) & (roles_1950s['n'] <= 5)]\n",
    "\n",
    "roles_by_n_and_type = roles_n_1_to_5.groupby(['n', 'type']).size().unstack(fill_value=0)\n",
    "\n",
    "print(\"Number of roles (n=1 to 5) by type (actor/actress) in the 1950s:\")\n",
    "print(roles_by_n_and_type)"
   ]
  },
  {
   "cell_type": "markdown",
   "id": "a9abfba4",
   "metadata": {},
   "source": [
    "# 5.Use groupby() to determine how many roles are listed for each of the Pink Panther movies."
   ]
  },
  {
   "cell_type": "code",
   "execution_count": 10,
   "id": "8a1874e7",
   "metadata": {},
   "outputs": [
    {
     "name": "stdout",
     "output_type": "stream",
     "text": [
      "Number of roles listed for each of the Pink Panther movies:\n",
      "title\n",
      "Curse of the Pink Panther          67\n",
      "Revenge of the Pink Panther        68\n",
      "Son of the Pink Panther            46\n",
      "The Pink Panther                  111\n",
      "The Pink Panther 2                 84\n",
      "The Pink Panther Strikes Again     70\n",
      "The Return of the Pink Panther     30\n",
      "Trail of the Pink Panther          41\n",
      "dtype: int64\n"
     ]
    }
   ],
   "source": [
    "pink_panther_movies = cast_df[cast_df['title'].str.contains(\"Pink Panther\", case=False)]\n",
    "\n",
    "roles_per_pink_panther_movie = pink_panther_movies.groupby('title').size()\n",
    "\n",
    "print(\"Number of roles listed for each of the Pink Panther movies:\")\n",
    "print(roles_per_pink_panther_movie)"
   ]
  },
  {
   "cell_type": "markdown",
   "id": "f8026428",
   "metadata": {},
   "source": [
    "# 6.List, in order by year, each of the films in which Frank Oz has played more than 1 role."
   ]
  },
  {
   "cell_type": "code",
   "execution_count": 11,
   "id": "bb86065f",
   "metadata": {},
   "outputs": [
    {
     "name": "stdout",
     "output_type": "stream",
     "text": [
      "Films in which Frank Oz played more than 1 role, sorted by year:\n",
      "                                   title  year\n",
      "24                      The Muppet Movie  1979\n",
      "0         An American Werewolf in London  1981\n",
      "22                The Great Muppet Caper  1981\n",
      "20                      The Dark Crystal  1982\n",
      "25            The Muppets Take Manhattan  1984\n",
      "2                       Follow That Bird  1985\n",
      "23            The Muppet Christmas Carol  1992\n",
      "7                 Muppet Treasure Island  1996\n",
      "8                     Muppets from Space  1999\n",
      "18  The Adventures of Elmo in Grouchland  1999\n"
     ]
    }
   ],
   "source": [
    "frank_oz_roles = cast_df[cast_df['name'] == \"Frank Oz\"]\n",
    "\n",
    "roles_per_movie = frank_oz_roles.groupby(['title', 'year']).size().reset_index(name='role_count')\n",
    "\n",
    "multiple_role_movies = roles_per_movie[roles_per_movie['role_count'] > 1]\n",
    "\n",
    "multiple_role_movies_sorted = multiple_role_movies.sort_values(by='year')\n",
    "\n",
    "print(\"Films in which Frank Oz played more than 1 role, sorted by year:\")\n",
    "print(multiple_role_movies_sorted[['title', 'year']])"
   ]
  },
  {
   "cell_type": "markdown",
   "id": "343a5cd4",
   "metadata": {},
   "source": [
    "# 7.List each of the characters that Frank Oz has portrayed at least twice."
   ]
  },
  {
   "cell_type": "code",
   "execution_count": 12,
   "id": "cc4e71ce",
   "metadata": {},
   "outputs": [
    {
     "name": "stdout",
     "output_type": "stream",
     "text": [
      "Characters portrayed by Frank Oz at least twice:\n",
      "Miss Piggy        6\n",
      "Yoda              6\n",
      "Animal            6\n",
      "Cookie Monster    5\n",
      "Sam the Eagle     5\n",
      "Fozzie Bear       4\n",
      "Bert              3\n",
      "Grover            2\n",
      "Name: character, dtype: int64\n"
     ]
    }
   ],
   "source": [
    "frank_oz_roles = cast_df[cast_df['name'] == \"Frank Oz\"]\n",
    "\n",
    "character_counts = frank_oz_roles['character'].value_counts()\n",
    "\n",
    "characters_portrayed_at_least_twice = character_counts[character_counts >= 2]\n",
    "\n",
    "print(\"Characters portrayed by Frank Oz at least twice:\")\n",
    "print(characters_portrayed_at_least_twice)"
   ]
  },
  {
   "cell_type": "code",
   "execution_count": null,
   "id": "6e695df6",
   "metadata": {},
   "outputs": [],
   "source": []
  }
 ],
 "metadata": {
  "kernelspec": {
   "display_name": "Python 3 (ipykernel)",
   "language": "python",
   "name": "python3"
  },
  "language_info": {
   "codemirror_mode": {
    "name": "ipython",
    "version": 3
   },
   "file_extension": ".py",
   "mimetype": "text/x-python",
   "name": "python",
   "nbconvert_exporter": "python",
   "pygments_lexer": "ipython3",
   "version": "3.11.4"
  }
 },
 "nbformat": 4,
 "nbformat_minor": 5
}
