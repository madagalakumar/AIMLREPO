{
 "cells": [
  {
   "cell_type": "markdown",
   "id": "cc3fbbd8",
   "metadata": {},
   "source": [
    "# 1. Write a python program with Exception handling to input marks for five subjects Physics Chemistry, Biology, Mathematics, and Computer. Calculate the percentage and grade according to the following:\n",
    "\n",
    "1) Percentage> 90%: Grade A\n",
    "\n",
    "2) Percentage>80%: Grade B\n",
    "\n",
    "3)  Percentage> 70%: Grade C\n",
    "\n",
    "4) Percentage >= 60%: Grade D\n",
    "\n",
    "5) Percentage> 40% : Grade E\n",
    "\n",
    "6) Percentage <40%: Grade F"
   ]
  },
  {
   "cell_type": "code",
   "execution_count": 9,
   "id": "f8432afe",
   "metadata": {},
   "outputs": [
    {
     "name": "stdout",
     "output_type": "stream",
     "text": [
      "Enter Physics marks: -98\n",
      "Enter Chemistry marks: 76\n",
      "Enter Biology marks: 45\n",
      "Enter Mathematics marks: 76\n",
      "Enter Computer marks: 34\n",
      "Marks should be greater than 0 and less than 100\n"
     ]
    }
   ],
   "source": [
    "def grade(marks):\n",
    "    percentage = (sum(marks) / 500) * 100\n",
    "    if percentage > 90:\n",
    "        return \"Grade A\"\n",
    "    elif percentage > 80:\n",
    "        return \"Grade B\"\n",
    "    elif percentage > 70:\n",
    "        return \"Grade C\"\n",
    "    elif percentage >= 60:\n",
    "        return \"Grade D\"\n",
    "    elif percentage > 40:\n",
    "        return \"Grade E\"\n",
    "    else:\n",
    "        return \"Grade F\"\n",
    "\n",
    "try:\n",
    "    pm = float(input(\"Enter Physics marks: \"))\n",
    "    cm = float(input(\"Enter Chemistry marks: \"))\n",
    "    bm = float(input(\"Enter Biology marks: \"))\n",
    "    mm = float(input(\"Enter Mathematics marks: \"))\n",
    "    cm = float(input(\"Enter Computer marks: \"))\n",
    "\n",
    "    if 0 <= pm <= 100 and 0 <= cm <= 100 and 0 <= bm <= 100 and 0 <= mm <= 100 and 0 <= cm <= 100:\n",
    "        marks = [pm, cm, bm, mm, cm]\n",
    "        grade = grade(marks)\n",
    "        print(f\"Percentage: {sum(marks) / 5:.2f}%\")\n",
    "        print(f\"Grade: {grade}\")\n",
    "    else:\n",
    "        raise Exception('Marks should be greater than 0 and less than 100')\n",
    "except ValueError:\n",
    "    print(\"Invalid input! Please enter valid numerical values for marks.\")\n",
    "except Exception as e:\n",
    "    print(e)\n"
   ]
  },
  {
   "cell_type": "markdown",
   "id": "5774d88b",
   "metadata": {},
   "source": [
    "# 2. Write a python program with Exception handling to input electricity unit charges and calculate the total electricity bill according to the given condition:\n",
    "\n",
    "1) For the first 50 units Rs. 0.50/unit\n",
    "\n",
    "11) For the next 100 units Rs. 0.75/unit\n",
    "\n",
    "For the next 100 units Rs. 1.20/unit\n",
    "\n",
    "iv) For units above 250 Rs. 1.50/unit"
   ]
  },
  {
   "cell_type": "code",
   "execution_count": 16,
   "id": "b74e42f7",
   "metadata": {},
   "outputs": [
    {
     "name": "stdout",
     "output_type": "stream",
     "text": [
      "Enter the number of electricity units consumed: 99\n",
      "Total electricity bill: Rs. 74.10\n"
     ]
    }
   ],
   "source": [
    "def bill(units):\n",
    "    if units <= 50:\n",
    "        bill = units * 0.50\n",
    "    elif units <= 100:\n",
    "        bill = (50 * 0.50) + ((units - 50) * 0.75)\n",
    "    elif units <= 250:\n",
    "        bill = (50 * 0.50) + (100 * 0.75) + ((units - 150) * 1.20)\n",
    "    else:\n",
    "        bill = (50 * 0.50) + (100 * 0.75) + (100 * 1.20) + ((units - 250) * 1.50)\n",
    "    return bill\n",
    "\n",
    "try:\n",
    "    units = float(input(\"Enter the number of electricity units consumed: \"))\n",
    "\n",
    "    if units >= 0:\n",
    "        total_bill = bill(units)\n",
    "        tbs = total_bill+(total_bill*0.2)\n",
    "        print(f\"Total electricity bill: Rs. {tbs:.2f}\")\n",
    "    else:\n",
    "        raise Exception(\"Invalid input! Units should be non-negative.\")\n",
    "except ValueError:\n",
    "    print(\"Invalid input! Please enter a valid numerical value for units.\")\n",
    "except Exception as e:\n",
    "    print(e)"
   ]
  },
  {
   "cell_type": "markdown",
   "id": "d6e300de",
   "metadata": {},
   "source": [
    "# 3. Write a python program with Exception handling to input the week number and print the weekday."
   ]
  },
  {
   "cell_type": "code",
   "execution_count": 18,
   "id": "41d8d263",
   "metadata": {},
   "outputs": [
    {
     "name": "stdout",
     "output_type": "stream",
     "text": [
      "Enter weekday day number (1-7) : 8\n",
      "\n",
      "Please enter weekday number between 1-7.\n"
     ]
    }
   ],
   "source": [
    "try:\n",
    "    weekday = int(input(\"Enter weekday day number (1-7) : \"))\n",
    "\n",
    "    if weekday == 1 :\n",
    "        print(\"\\nMonday\");\n",
    "\n",
    "    elif weekday == 2 :\n",
    "        print(\"\\nTuesday\")\n",
    "\n",
    "    elif(weekday == 3) :\n",
    "        print(\"\\nWednesday\")\n",
    "\n",
    "    elif(weekday == 4) :\n",
    "        print(\"\\nThursday\")\n",
    "\n",
    "    elif(weekday == 5) :\n",
    "        print(\"\\nFriday\")\n",
    "\n",
    "    elif(weekday == 6) :\n",
    "        print(\"\\nSaturday\")\n",
    "\n",
    "    elif (weekday == 7) :\n",
    "        print(\"\\nSunday\")\n",
    "\n",
    "    else :\n",
    "        raise Exception(\"\\nPlease enter weekday number between 1-7.\")\n",
    "except Exception as e:\n",
    "    print(e)"
   ]
  },
  {
   "cell_type": "markdown",
   "id": "42119767",
   "metadata": {},
   "source": [
    "# 4. Write a Python program to implement word count using command line arguments.\n",
    "\n",
    "1) Create a text document \"apple.txt\" whch contains text for wordcount.\n",
    "\n",
    "Create a wordcount program which calls the \"apple.txt\" document by opening the file.\n",
    "\n",
    "i) If the word is present again in the \"aaple.txt\",the wordcount is incremented by 1 until all\n",
    "\n",
    "the words are counted in the document.\n",
    "\n",
    "iv) Close the file.\n",
    "\n",
    "v) Create a command.py program which imports the wordcount.py program.\n",
    "\n",
    "vi) Count the number of words using command line arguments.\n",
    "\n",
    "vii) Print each word and its count."
   ]
  },
  {
   "cell_type": "code",
   "execution_count": 1,
   "id": "ad0ef515",
   "metadata": {},
   "outputs": [
    {
     "name": "stdout",
     "output_type": "stream",
     "text": [
      "Atleast give one file as arguement\n"
     ]
    }
   ],
   "source": [
    "import sys\n",
    "try:\n",
    "    def word_count(file_name):\n",
    "        \n",
    "            with open(file_name, 'r') as file:\n",
    "                text = file.read()\n",
    "    \n",
    "                words = text.split()\n",
    "    \n",
    "                word_counts = {}\n",
    "\n",
    "                for word in words:\n",
    "                    word = word.lower()  \n",
    "                    if word in word_counts:\n",
    "                        word_counts[word] += 1\n",
    "                    else:\n",
    "                        word_counts[word] = 1\n",
    "\n",
    "                return word_counts\n",
    "\n",
    "        \n",
    "    if len(sys.argv) != 2:\n",
    "        raise Exception(\"Atleast give one file as arguement\")\n",
    "    else:\n",
    "        file_name = sys.argv[1]\n",
    "        word_counts = word_count(file_name)\n",
    "\n",
    "except FileNotFoundError:\n",
    "    print(\"file not found error\")\n",
    "except Exception as e:\n",
    "    print(e)"
   ]
  },
  {
   "cell_type": "code",
   "execution_count": 2,
   "id": "fc714ee1",
   "metadata": {},
   "outputs": [
    {
     "name": "stdout",
     "output_type": "stream",
     "text": [
      "Atleast give one file as arguement\n",
      "Atleast give one file as arguement\n"
     ]
    }
   ],
   "source": [
    "import sys\n",
    "from wordcount import word_count\n",
    "\n",
    "try:\n",
    "    if len(sys.argv) != 2:\n",
    "        raise Exception(\"Atleast give one file as arguement\")\n",
    "    else:\n",
    "        file_name = sys.argv[1]\n",
    "        word_counts = word_count(file_name)\n",
    "\n",
    "        for word, count in word_counts.items():\n",
    "            print(f\"{word}: {count}\")\n",
    "except FileNotFoundError:\n",
    "    print(\"file not found error\")\n",
    "except Exception as e:\n",
    "    print(e)"
   ]
  },
  {
   "cell_type": "markdown",
   "id": "aae49885",
   "metadata": {},
   "source": [
    "# 5. Write a Python program for finding the most frequent words in a text read from a file.\n",
    "\n",
    "i) Initially open the text file in read mode.\n",
    "\n",
    "ii) Make all the letters in the document into lowercase letters and split the words in each line.\n",
    "\n",
    "iii) Get the words in an order.\n",
    "\n",
    "iv) Sort the words for finding the most frequent words in the file.\n",
    "\n",
    "v) print the most frequent words in th file"
   ]
  },
  {
   "cell_type": "code",
   "execution_count": 22,
   "id": "12becefe",
   "metadata": {},
   "outputs": [
    {
     "name": "stdout",
     "output_type": "stream",
     "text": [
      "Top 3 most frequent words in 'text1.txt':\n",
      "jagadeesh: 3\n",
      "mphasis: 3\n",
      "in: 3\n"
     ]
    }
   ],
   "source": [
    "def frequent_words(filename):\n",
    "    try:\n",
    "        num_words=3\n",
    "        with open(filename, 'r') as file:\n",
    "            text = file.read().lower()\n",
    "            words = text.split()\n",
    "            \n",
    "            \n",
    "            words = [word.strip('.,!?()[]{}\"\\'') for word in words]\n",
    "            \n",
    "            word_counts = {}\n",
    "\n",
    "            for word in words:\n",
    "                if word in word_counts:\n",
    "                    word_counts[word] += 1\n",
    "                else:\n",
    "                    word_counts[word] = 1\n",
    "\n",
    "            sorted_words = sorted(word_counts.items(), key=lambda x: x[1], reverse=True)\n",
    "\n",
    "            print(f\"Top {num_words} most frequent words in '{filename}':\")\n",
    "            for word, count in sorted_words[:num_words]:\n",
    "                print(f\"{word}: {count}\")\n",
    "    except FileNotFoundError:\n",
    "        print(f\"Error: {filename} not found.\")\n",
    "\n",
    "\n",
    "filename = \"text1.txt\"  \n",
    "frequent_words(filename)"
   ]
  },
  {
   "cell_type": "markdown",
   "id": "f8447eb5",
   "metadata": {},
   "source": [
    "# 6. File Processing with Command-Line Arguments- Scenario: You are developing a command-line utility that processes text files. Users can specify input and output file paths as command-line arguments. Your program should handle exceptions gracefully.\n",
    "\n",
    "i. Design a Python program that takes two command-line arguments: the input file path and the output file path. Ensure that the program checks if both arguments are provided and that the input file exists.\n",
    "\n",
    "ii. Implement error handling to deal with scenarios such as missing input files, invalid file paths, or permission issues when writing to the output file.\n",
    "\n",
    "iii. If an error occurs during file processing, display a user-friendly error message.\n",
    "\n",
    "and exit the program with a non-zero exit code.\n",
    "\n",
    "iv. Write test cases that cover various scenarios, including providing valid and invalid file paths as command-line arguments."
   ]
  },
  {
   "cell_type": "code",
   "execution_count": 32,
   "id": "fbf9a3e3",
   "metadata": {},
   "outputs": [
    {
     "name": "stdout",
     "output_type": "stream",
     "text": [
      "['-f', 'C:\\\\Users\\\\jagad\\\\AppData\\\\Roaming\\\\jupyter\\\\runtime\\\\kernel-e1b4ab9f-8021-4a5b-b5b3-c5d7ef7c2e50.json']\n",
      "File not found Error\n"
     ]
    }
   ],
   "source": [
    "import sys, pathlib, subprocess\n",
    "\n",
    "try:\n",
    "    if len(sys.argv)!=3:\n",
    "        sys.exit('Error, Please provide atleast one filename as argument')\n",
    "    input_files=sys.argv[1:3]\n",
    "    print(input_files)\n",
    "    for filename in input_files:\n",
    "        if not pathlib.Path(filename).is_file():\n",
    "            files_not_found.append(\"File '{}' not found\". format (filename))\n",
    "            continue\n",
    "    with open(input_files[0], 'r') as input_file:\n",
    "        data = input_file.read()\n",
    "\n",
    "\n",
    "    processed_data = data.upper()\n",
    "\n",
    "    with open(input_files[1], 'w') as output_file:\n",
    "        output_file.write(processed_data)\n",
    "except NameError:\n",
    "    print('File not found Error')"
   ]
  }
 ],
 "metadata": {
  "kernelspec": {
   "display_name": "Python 3 (ipykernel)",
   "language": "python",
   "name": "python3"
  },
  "language_info": {
   "codemirror_mode": {
    "name": "ipython",
    "version": 3
   },
   "file_extension": ".py",
   "mimetype": "text/x-python",
   "name": "python",
   "nbconvert_exporter": "python",
   "pygments_lexer": "ipython3",
   "version": "3.11.4"
  }
 },
 "nbformat": 4,
 "nbformat_minor": 5
}
