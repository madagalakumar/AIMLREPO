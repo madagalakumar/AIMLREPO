{
 "cells": [
  {
   "cell_type": "markdown",
   "id": "2be52d39",
   "metadata": {},
   "source": [
    "# 1. Write a python program to create a base class \"Shape\" with methods to calculate area and perimeter. Then, create derived classes \"Circle\" and \"Rectangle\" that inherit from the base class and calculate their respective areas and perimeters. Demonstrate their usage in a program.\n",
    "\n",
    "You are developing an online quiz application where users can take quizzes on\n",
    "\n",
    "various topics and receive scores.\n",
    "\n",
    "1. Create a class for quizzes and questions.\n",
    "\n",
    "2. Implement a scoring system that calculates the user's score on a quiz. 3. How would you store and retrieve user progress, including quiz history and\n",
    "\n",
    "scores?"
   ]
  },
  {
   "cell_type": "code",
   "execution_count": 3,
   "id": "ece5b33f",
   "metadata": {},
   "outputs": [
    {
     "name": "stdout",
     "output_type": "stream",
     "text": [
      "Enter the radius: 5\n",
      "Circle Area: 78.5\n",
      "Circle Perimeter: 31.400000000000002\n"
     ]
    }
   ],
   "source": [
    "class Shape:\n",
    "    def __init__(self):\n",
    "        pass\n",
    "\n",
    "    def calculate_area(self):\n",
    "        pass\n",
    "\n",
    "    def calculate_perimeter(self):\n",
    "        pass\n",
    "\n",
    "class Circle(Shape):\n",
    "    def __init__(self, radius=int(input('Enter the radius: '))):\n",
    "        self.radius = radius\n",
    "\n",
    "    def calculate_area(self):\n",
    "        return 3.14 * self.radius ** 2\n",
    "\n",
    "    def calculate_perimeter(self):\n",
    "        return 2 * 3.14 * self.radius\n",
    "\n",
    "circle = Circle()\n",
    "print(\"Circle Area:\", circle.calculate_area())\n",
    "print(\"Circle Perimeter:\", circle.calculate_perimeter())\n"
   ]
  },
  {
   "cell_type": "code",
   "execution_count": 4,
   "id": "dc3db548",
   "metadata": {},
   "outputs": [
    {
     "name": "stdout",
     "output_type": "stream",
     "text": [
      "enter the length: 5\n",
      "enter the width: 5\n",
      "Rectangle Area: 25\n",
      "Rectangle Perimeter: 20\n"
     ]
    }
   ],
   "source": [
    "class Rectangle(Shape):\n",
    "    def __init__(self, length=int(input('enter the length: ')), width=int(input('enter the width: '))):\n",
    "        self.length = length\n",
    "        self.width = width\n",
    "\n",
    "    def calculate_area(self):\n",
    "        return self.length * self.width\n",
    "\n",
    "    def calculate_perimeter(self):\n",
    "        return 2 * (self.length + self.width)\n",
    "\n",
    "rectangle = Rectangle()\n",
    "print(\"Rectangle Area:\", rectangle.calculate_area())\n",
    "print(\"Rectangle Perimeter:\", rectangle.calculate_perimeter())"
   ]
  },
  {
   "cell_type": "markdown",
   "id": "46eab717",
   "metadata": {},
   "source": [
    "# 2. Write a python script to create a class \"Person\" with private attributes for age and name. Implement a method to calculate a person's eligibility for voting based on their age. Ensure that age cannot be accessed directly but only through a getter method."
   ]
  },
  {
   "cell_type": "code",
   "execution_count": 21,
   "id": "15863cc7",
   "metadata": {},
   "outputs": [
    {
     "name": "stdout",
     "output_type": "stream",
     "text": [
      "Name please: jagadeesh\n",
      "Age of your's: 23\n"
     ]
    }
   ],
   "source": [
    "class Person:\n",
    "    def __init__(self, name=input('Name please: '), age=int(input(\"Age of your's: \"))):\n",
    "        self.name=name\n",
    "        self.age=age\n",
    "        \n",
    "    def vote_check(self):\n",
    "        if self.age>=18:\n",
    "            print(\"Your age is {} and you are elligible for voting.\".format(self.age))\n",
    "\n",
    "        else:\n",
    "            print(\"You are not-elligible to vote\")\n",
    "                \n",
    "    def display(self):\n",
    "        print(\"{} is elligle to vote as his age is {}\".format(self.name,self.age))\n",
    "                \n",
    "o=Person()\n"
   ]
  },
  {
   "cell_type": "code",
   "execution_count": 22,
   "id": "7b70aab5",
   "metadata": {},
   "outputs": [
    {
     "name": "stdout",
     "output_type": "stream",
     "text": [
      "Your age is 23 and you are elligible for voting.\n"
     ]
    }
   ],
   "source": [
    "o.vote_check()"
   ]
  },
  {
   "cell_type": "code",
   "execution_count": 23,
   "id": "cc3034db",
   "metadata": {},
   "outputs": [
    {
     "name": "stdout",
     "output_type": "stream",
     "text": [
      "jagadeesh is elligle to vote as his age is 23\n"
     ]
    }
   ],
   "source": [
    "obj.display()"
   ]
  },
  {
   "cell_type": "markdown",
   "id": "577a1a5f",
   "metadata": {},
   "source": [
    "# 3. You are tasked with designing a Python class hierarchy for a simple banking system. The system should be able to handle different types of accounts, such as Savings Accounts and Checking Accounts. Both account types should have common attributes like an account number, account holder's name, and balance. However, Savings Accounts should have an additional attribute for interest rate, while Checking Accounts should have an attribute for overdraft limit.\n",
    "\n",
    "1. Create a Python class called BankAccount with the following attributes and methods:\n",
    "\n",
    "a. Attributes: account number, account holder_name, balance\n",
    "\n",
    "b. Methods: init_() (constructor), deposit(), and withdraw \n",
    "\n",
    "2. Create two subclasses, Savings Account and Checking Account, that inherit from the BankAccount class.\n",
    "\n",
    "3. Add the following attributes and methods to each subclass: a. Savings Account:\n",
    "\n",
    "i. Additional attribute: interest_rate ii. Method: calculate_interest(), which calculates and adds interest to the account based on the interest rate.\n",
    "\n",
    "b. Checking Account:\n",
    "\n",
    "i. Additional attribute: overdraft limit\n",
    "\n",
    "ii. Method: withdraw(), which allows withdrawing money up the overdraft limit (if available) without additional fees. to\n",
    "\n",
    "4. Write a program that creates instances of both Savings Account and Checking Account and demonstrates the use of their methods\n",
    "5. Implement proper encapsulation by making the attributes private where necessary and providing getter and setter methods as needed.\n",
    "\n",
    "6. Handle any potential errors or exceptions that may occur during operations like withdrawals, deposits, or interest calculations. 7. Provide comments in your code to explain the purpose of each class, attribute,\n",
    "\n",
    "and method.\n",
    "\n",
    "Note: Your code should create instances of the classes, simulate transactions, and showcase the differences between Savings Accounts and Checking Accounts."
   ]
  },
  {
   "cell_type": "code",
   "execution_count": 12,
   "id": "02c35c8e",
   "metadata": {},
   "outputs": [],
   "source": [
    "class BankAccount:\n",
    "    def __init__(self, account_number, account_holder_name, balance=0):\n",
    "        self.__account_number = account_number\n",
    "        self.__account_holder_name = account_holder_name\n",
    "        self.__balance = balance\n",
    "\n",
    "    def get_account_number(self):\n",
    "        return self.__account_number\n",
    "\n",
    "    def get_account_holder_name(self):\n",
    "        return self.__account_holder_name\n",
    "\n",
    "    def get_balance(self):\n",
    "        return self.__balance\n",
    "\n",
    "    def deposit(self, amount):\n",
    "        if amount <= 0:\n",
    "            raise ValueError(\"Amount must be positive\")\n",
    "        self.__balance += amount\n",
    "        return f\"Deposited ${amount}. New balance: ${self.__balance}\"\n",
    "\n",
    "    def withdraw(self, amount):\n",
    "        if amount <= 0:\n",
    "            raise ValueError(\"Amount must be positive\")\n",
    "        if amount > self.__balance:\n",
    "            raise ValueError(\"Insufficient funds\")\n",
    "        self.__balance -= amount\n",
    "        return f\"Withdrew ${amount}. New balance: ${self.__balance}\""
   ]
  },
  {
   "cell_type": "code",
   "execution_count": 24,
   "id": "3f19dd2f",
   "metadata": {},
   "outputs": [],
   "source": [
    "class SavingsAccount(BankAccount):\n",
    "    def __init__(self, account_number, account_holder_name, balance, interest_rate=2.4):\n",
    "        super().__init__(account_number, account_holder_name, balance)\n",
    "        self.__interest_rate = interest_rate\n",
    "\n",
    "    def get_interest_rate(self):\n",
    "        return self.__interest_rate\n",
    "\n",
    "    def calculate_interest(self):\n",
    "        interest = super().get_balance() * self.__interest_rate\n",
    "        balance = super().get_balance()+ interest\n",
    "        return f\"Interest added: ${interest}. New balance: ${balance}\"\n"
   ]
  },
  {
   "cell_type": "code",
   "execution_count": 60,
   "id": "82121c69",
   "metadata": {},
   "outputs": [],
   "source": [
    "class CheckingAccount(BankAccount):\n",
    "    def __init__(self, account_number, account_holder_name, balance, overdraft_limit=1000):\n",
    "        super().__init__(account_number, account_holder_name, balance)\n",
    "        self.__overdraft_limit = overdraft_limit\n",
    "\n",
    "    def get_overdraft_limit(self):\n",
    "        return self.__overdraft_limit\n",
    "\n",
    "    def withdraw(self, amount):\n",
    "        if amount <= 0:\n",
    "            raise ValueError(\"Amount must be positive\")\n",
    "        if amount > (super().get_balance() + self.__overdraft_limit):\n",
    "            raise ValueError(\"Exceeds overdraft limit\")\n",
    "        if amount > super().get_balance():\n",
    "            self.__overdraft_limit -= (amount - super().get_balance())\n",
    "            self.__balance = 0\n",
    "            return f\"Withdrew ${amount} (overdraft used). Current balance: ${self.__balance}, Overdraft limit left: ${self.__overdraft_limit}\"\n",
    "        balance =super().get_balance() - amount\n",
    "        return f\"Withdrew ${amount}. New balance: ${balance}\""
   ]
  },
  {
   "cell_type": "code",
   "execution_count": 25,
   "id": "e026e8e2",
   "metadata": {},
   "outputs": [
    {
     "name": "stdout",
     "output_type": "stream",
     "text": [
      "enter the account number: 123\n",
      "enter the name: jagadeesh\n",
      "enter the balance: 5000\n",
      "enter the interest rate: 2.4\n",
      "Deposited $500. New balance: $5500\n",
      "Interest added: $13200.0. New balance: $18700.0\n"
     ]
    }
   ],
   "source": [
    "savings_account = SavingsAccount(account_number=int(input('enter the account number: ')),account_holder_name=input('enter the name: '),balance=int(input('enter the balance: ')),interest_rate=float(input('enter the interest rate: ')))\n",
    "print(savings_account.deposit(500))\n",
    "print(savings_account.calculate_interest())"
   ]
  },
  {
   "cell_type": "code",
   "execution_count": 63,
   "id": "5483fe6a",
   "metadata": {},
   "outputs": [
    {
     "name": "stdout",
     "output_type": "stream",
     "text": [
      "enter the account number: 123\n",
      "enter the name: jagadeesh\n",
      "enter the balance: 1000\n",
      "enter the over Draft limit: 1000\n"
     ]
    }
   ],
   "source": [
    "# Create a Checking Account\n",
    "checking_account = CheckingAccount(account_number=int(input('enter the account number: ')),account_holder_name=input('enter the name: '),balance=int(input('enter the balance: ')),overdraft_limit=int(input('enter the over Draft limit: ')))\n"
   ]
  },
  {
   "cell_type": "code",
   "execution_count": 64,
   "id": "eccda93a",
   "metadata": {},
   "outputs": [
    {
     "data": {
      "text/plain": [
       "1000"
      ]
     },
     "execution_count": 64,
     "metadata": {},
     "output_type": "execute_result"
    }
   ],
   "source": [
    "checking_account.get_balance()"
   ]
  },
  {
   "cell_type": "code",
   "execution_count": 65,
   "id": "dc546e31",
   "metadata": {},
   "outputs": [
    {
     "data": {
      "text/plain": [
       "1000"
      ]
     },
     "execution_count": 65,
     "metadata": {},
     "output_type": "execute_result"
    }
   ],
   "source": [
    "checking_account.get_overdraft_limit()"
   ]
  },
  {
   "cell_type": "code",
   "execution_count": 66,
   "id": "731cd796",
   "metadata": {},
   "outputs": [
    {
     "name": "stdout",
     "output_type": "stream",
     "text": [
      "Withdrew $1500 (overdraft used). Current balance: $0, Overdraft limit left: $500\n"
     ]
    }
   ],
   "source": [
    "print(checking_account.withdraw(1500))  # Should use overdraft"
   ]
  },
  {
   "cell_type": "markdown",
   "id": "fa1522e6",
   "metadata": {},
   "source": [
    "# 4. You are developing an employee management system for a company. Ensure that the system utilizes encapsulation and polymorphism to handle different types of employees, such as full-time and part-time employees.\n",
    "\n",
    "1. Create a base class called \"Employee\" with private attributes for name, employee\n",
    "\n",
    "ID, and salary, Implement getter and setter methods for these attributes. \n",
    "\n",
    "2. Design two subclasses, \"FullTimeEmployee\" and \"Part TimeEmployee,\" that inherit from \"Employee.\" These subclasses should encapsulate specific properties like hours worked (for part-time employees) and annual salary (for full-time employees).\n",
    "\n",
    "3. Override the salary calculation method in both subclasses to account for different payment structures.\n",
    "\n",
    "4. Write a program that demonstrates polymorphism by creating instances of both \"Full TimeEmployee\" and \"Part TimeEmployee.\" Calculate their salaries and\n",
    "\n",
    "display employee information."
   ]
  },
  {
   "cell_type": "code",
   "execution_count": 76,
   "id": "2ccd39c5",
   "metadata": {},
   "outputs": [
    {
     "name": "stdout",
     "output_type": "stream",
     "text": [
      "enter the name: jagadeesh\n",
      "enetr the employee_id: 123\n",
      "enter the salary: 28500\n"
     ]
    }
   ],
   "source": [
    "class Employee:\n",
    "    def __init__(self, name, employee_id, salary):\n",
    "        self.name = name\n",
    "        self.employee_id = employee_id\n",
    "        self.salary = salary\n",
    "\n",
    "    def get_name(self):\n",
    "        return self.name\n",
    "\n",
    "    def set_name(self, name):\n",
    "        self.name = name\n",
    "\n",
    "    def get_employee_id(self):\n",
    "        return self.employee_id\n",
    "\n",
    "    def set_employee_id(self, employee_id):\n",
    "        self.employee_id = employee_id\n",
    "\n",
    "    def get_salary(self):\n",
    "        return self.salary\n",
    "\n",
    "    def set_salary(self, salary):\n",
    "        self.salary = salary\n",
    "\n",
    "    def calculate_salary(self):\n",
    "        return self.salary\n",
    "\n",
    "\n",
    "class fulltime(Employee):\n",
    "    def __init__(self, name, employee_id, annual_salary):\n",
    "        super().__init__(name, employee_id, annual_salary)\n",
    "\n",
    "    def calculate_salary(self):\n",
    "        return self.get_salary() / 12 \n",
    "\n",
    "\n",
    "class parttime(Employee):\n",
    "    def __init__(self, name, employee_id, hourly_rate, hours_worked):\n",
    "        super().__init__(name, employee_id, None) \n",
    "        self.hourly_rate = hourly_rate\n",
    "        self.hours_worked = hours_worked\n",
    "\n",
    "    def get_hourly_rate(self):\n",
    "        return self.hourly_rate\n",
    "\n",
    "    def set_hourly_rate(self, hourly_rate):\n",
    "        self.hourly_rate = hourly_rate\n",
    "\n",
    "    def get_hours_worked(self):\n",
    "        return self.hours_worked\n",
    "\n",
    "    def set_hours_worked(self, hours_worked):\n",
    "        self.hours_worked = hours_worked\n",
    "\n",
    "    def calculate_salary(self):\n",
    "        return self.hourly_rate * self.hours_worked\n",
    "\n",
    "\n",
    "full_time_employee = fulltime(name=input('enter the name: '),employee_id=int(input('enetr the employee_id: ')),annual_salary=int(input('enter the salary: ')))\n"
   ]
  },
  {
   "cell_type": "code",
   "execution_count": 77,
   "id": "b7129d2c",
   "metadata": {},
   "outputs": [
    {
     "name": "stdout",
     "output_type": "stream",
     "text": [
      "enter the name: hari\n",
      "enetr the employee_id: 124\n",
      "enter the hours: 100\n",
      "enter the hours: 150\n"
     ]
    }
   ],
   "source": [
    "part_time_employee = parttime(name=input('enter the name: '),employee_id=int(input('enetr the employee_id: ')),hourly_rate=int(input('enter the hours: ')),hours_worked=int(input('enter the hours: ')))\n"
   ]
  },
  {
   "cell_type": "code",
   "execution_count": 78,
   "id": "39c167ed",
   "metadata": {},
   "outputs": [
    {
     "name": "stdout",
     "output_type": "stream",
     "text": [
      "Employee Name: jagadeesh\n",
      "\n",
      "Employee ID: 123\n",
      "\n",
      "Monthly Salary: 2375.0\n",
      "\n",
      "Employee Name: hari\n",
      "\n",
      "Employee ID: 124\n",
      "\n",
      "Monthly Salary: 15000\n",
      "\n"
     ]
    }
   ],
   "source": [
    "employees = [full_time_employee, part_time_employee]\n",
    "\n",
    "for employee in employees:\n",
    "    print(f\"Employee Name: {employee.get_name()}\")\n",
    "    print()\n",
    "    print(f\"Employee ID: {employee.get_employee_id()}\")\n",
    "    print()\n",
    "    print(f\"Monthly Salary: {employee.calculate_salary()}\")\n",
    "    print()"
   ]
  },
  {
   "cell_type": "markdown",
   "id": "0e6457c0",
   "metadata": {},
   "source": [
    "# 5. Library Management System-Scenario: You are developing a library management system\n",
    "\n",
    "where you need to handle books, patrons, and library transactions.\n",
    "\n",
    "1. Create a class hierarchy that includes classes for books (e.g., Book), patrons (e.g.. Patron), and transactions (e.g.. Transaction). Define attributes and methods for each class. \n",
    "2. Implement encapsulation by making relevant attributes private and providing getter and setter methods where necessary.\n",
    "3. Use inheritance to represent different types of books (e.g.. fiction, non-fiction) as subclasses of the Book class. Ensure that each book type can have specific attributes and methods.\n",
    "4. Demonstrate polymorphism by allowing patrons to check out and return books, regardless of the book type.\n",
    "5. Implement a method for tracking overdue books and notifying patrons.\n",
    "6. Consider scenarios like book reservations, late fees, and library staff interactions in your design."
   ]
  },
  {
   "cell_type": "code",
   "execution_count": 85,
   "id": "fde8d800",
   "metadata": {},
   "outputs": [
    {
     "name": "stdout",
     "output_type": "stream",
     "text": [
      "Checked out: The Great Gatsby\n",
      "Checked out: To Kill a Mockingbird\n",
      "Returned: The Great Gatsby\n",
      "Returned: To Kill a Mockingbird\n"
     ]
    }
   ],
   "source": [
    "from datetime import datetime, timedelta\n",
    "\n",
    "class Book:\n",
    "    def __init__(self, title, author, publication_date, book_type):\n",
    "        self.title = title\n",
    "        self.author = author\n",
    "        self.publication_date = publication_date\n",
    "        self.book_type = book_type\n",
    "        self.checked_out = False\n",
    "        self.checkout_date = None\n",
    "\n",
    "    def is_available(self):\n",
    "        return not self.checked_out\n",
    "\n",
    "    def checkout(self):\n",
    "        if self.is_available():\n",
    "            self.checked_out = True\n",
    "            self.checkout_date = datetime.now()\n",
    "            print(f\"Checked out: {self.title}\")\n",
    "        else:\n",
    "            print(f\"{self.title} is already checked out.\")\n",
    "\n",
    "    def return_book(self):\n",
    "        if not self.is_available():\n",
    "            days_checked_out = (datetime.now() - self.checkout_date).days\n",
    "            if days_checked_out > 14:\n",
    "                print(f\"Late return! You owe a fee for {days_checked_out - 14} days.\")\n",
    "            self.checked_out = False\n",
    "            self.checkout_date = None\n",
    "            print(f\"Returned: {self.title}\")\n",
    "        else:\n",
    "            print(f\"{self.title} is already available.\")\n",
    "\n",
    "class Patron:\n",
    "    def __init__(self, name, id):\n",
    "        self.name = name\n",
    "        self.id = id\n",
    "        self.checked_out_books = []\n",
    "\n",
    "    def check_out_book(self, book):\n",
    "        if book.is_available():\n",
    "            self.checked_out_books.append(book)\n",
    "            book.checkout()\n",
    "        else:\n",
    "            print(f\"{book.title} is not available for checkout.\")\n",
    "\n",
    "    def return_book(self, book):\n",
    "        if book in self.checked_out_books:\n",
    "            self.checked_out_books.remove(book)\n",
    "            book.return_book()\n",
    "        else:\n",
    "            print(f\"You didn't check out {book.title}.\")\n",
    "\n",
    "\n",
    "book1 = Book(\"The Great Gatsby\", \"F. Scott Fitzgerald\", \"1925\", \"Fiction\")\n",
    "book2 = Book(\"To Kill a Mockingbird\", \"Harper Lee\", \"1960\", \"Fiction\")\n",
    "book3 = Book(\"The Elements of Style\", \"William Strunk Jr.\", \"1918\", \"Non-Fiction\")\n",
    "\n",
    "patron1 = Patron(\"Alice\", 101)\n",
    "patron2 = Patron(\"Bob\", 102)\n",
    "\n",
    "patron1.check_out_book(book1)\n",
    "patron2.check_out_book(book2)\n",
    "\n",
    "book1.return_book()\n",
    "patron2.return_book(book2)\n",
    "\n"
   ]
  },
  {
   "cell_type": "markdown",
   "id": "66abaf69",
   "metadata": {},
   "source": [
    "# 6.Online Shopping Cart\n",
    "\n",
    "Scenario: You are tasked with designing a class hierarchy for an online shopping cart system. The system should handle products, shopping carts, and orders. Consider various OOP principles while designing this system.\n",
    "\n",
    "1. Create a class hierarchy that includes classes for products (e.g., Product), shopping carts (e.g., ShoppingCart), and orders (e.g., Order). Define attributes and methods for each class.\n",
    "\n",
    "2. Implement encapsulation by making relevant attributes private and providing getter and setter methods where necessary. \n",
    "\n",
    "3. Use inheritance to represent different types of products (e.g., electronics, clothing) as\n",
    "\n",
    "subclasses of the Product class. Ensure that each product type can have specific attributes and methods.\n",
    "\n",
    "4. Demonstrate polymorphism by allowing various product types to be added cart and calculate the total cost of items in the cart.\n",
    "\n",
    "5. Implement a method for placing an order, which transfers items from the shopping cart to to a shopping an order.\n",
    "\n",
    "Consider scenarios like out-of-stock products, discounts, and shipping costs in your\n",
    "\n",
    "design."
   ]
  },
  {
   "cell_type": "code",
   "execution_count": 11,
   "id": "0536ee8d",
   "metadata": {},
   "outputs": [
    {
     "name": "stdout",
     "output_type": "stream",
     "text": [
      "Added 2 Laptop to the cart.\n",
      "Added 5 T-Shirt to the cart.\n",
      "Order placed successfully.\n",
      "True\n",
      "Stock quantity of Laptop: 8\n"
     ]
    }
   ],
   "source": [
    "class Product:\n",
    "    def __init__(self, product_id, name, price, stock_quantity):\n",
    "        self.__product_id = product_id\n",
    "        self.__name = name\n",
    "        self.__price = price\n",
    "        self.__stock_quantity = stock_quantity\n",
    "\n",
    "    def get_product_id(self):\n",
    "        return self.__product_id\n",
    "\n",
    "    def get_name(self):\n",
    "        return self.__name\n",
    "\n",
    "    def get_price(self):\n",
    "        return self.__price\n",
    "\n",
    "    def get_stock_quantity(self):\n",
    "        return self.__stock_quantity\n",
    "\n",
    "    def set_stock_quantity(self, quantity):\n",
    "        self.__stock_quantity = quantity\n",
    "\n",
    "    def __str__(self):\n",
    "        return f\"{self.__name} (${self.__price})\"\n",
    "\n",
    "class Electronics(Product):\n",
    "    def __init__(self, product_id, name, price, stock_quantity, warranty_months):\n",
    "        super().__init__(product_id, name, price, stock_quantity)\n",
    "        self.__warranty_months = warranty_months\n",
    "\n",
    "    def get_warranty_months(self):\n",
    "        return self.__warranty_months\n",
    "\n",
    "class Clothing(Product):\n",
    "    def __init__(self, product_id, name, price, stock_quantity, size):\n",
    "        super().__init__(product_id, name, price, stock_quantity)\n",
    "        self.__size = size\n",
    "\n",
    "    def get_size(self):\n",
    "        return self.__size\n",
    "\n",
    "class ShoppingCart:\n",
    "    def __init__(self):\n",
    "        self.__items = []\n",
    "\n",
    "    def add_item(self, product, quantity):\n",
    "        if product.get_stock_quantity() >= quantity:\n",
    "            self.__items.append((product, quantity))\n",
    "            product.set_stock_quantity(product.get_stock_quantity() - quantity)\n",
    "            return f\"Added {quantity} {product.get_name()} to the cart.\"\n",
    "        else:\n",
    "            return f\"Sorry, {product.get_name()} is out of stock.\"\n",
    "\n",
    "    def calculate_total(self):\n",
    "        total = sum(product.get_price() * quantity for product, quantity in self.__items)\n",
    "        return total\n",
    "\n",
    "    def get_items(self):\n",
    "        return self.__items\n",
    "\n",
    "    def clear_cart(self):\n",
    "        self.__items = []\n",
    "\n",
    "class Order:\n",
    "    def __init__(self, order_id, cart, shipping_address):\n",
    "        self.__order_id = order_id\n",
    "        self.__cart = cart\n",
    "        self.__shipping_address = shipping_address\n",
    "        self.__is_shipped = False\n",
    "\n",
    "    def place_order(self):\n",
    "        if self.__cart.calculate_total() > 0:\n",
    "            self.__is_shipped = True\n",
    "            return \"Order placed successfully.\"\n",
    "        else:\n",
    "            return \"Cannot place an empty order.\"\n",
    "\n",
    "    def is_shipped(self):\n",
    "        return self.__is_shipped\n",
    "\n",
    "\n",
    "laptop = Electronics(1, \"Laptop\", 1000, 10, 12)\n",
    "tshirt = Clothing(2, \"T-Shirt\", 20, 50, \"Medium\")\n",
    "\n",
    "cart = ShoppingCart()\n",
    "print(cart.add_item(laptop, 2))\n",
    "print(cart.add_item(tshirt, 5))\n",
    "\n",
    "order = Order(1, cart, \"123 Main St\")\n",
    "print(order.place_order())\n",
    "\n",
    "print(order.is_shipped())\n",
    "\n",
    "print(f\"Stock quantity of {laptop.get_name()}: {laptop.get_stock_quantity()}\")\n"
   ]
  }
 ],
 "metadata": {
  "kernelspec": {
   "display_name": "Python 3 (ipykernel)",
   "language": "python",
   "name": "python3"
  },
  "language_info": {
   "codemirror_mode": {
    "name": "ipython",
    "version": 3
   },
   "file_extension": ".py",
   "mimetype": "text/x-python",
   "name": "python",
   "nbconvert_exporter": "python",
   "pygments_lexer": "ipython3",
   "version": "3.11.4"
  }
 },
 "nbformat": 4,
 "nbformat_minor": 5
}
