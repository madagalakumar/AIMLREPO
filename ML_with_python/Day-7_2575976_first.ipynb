{
 "cells": [
  {
   "cell_type": "code",
   "execution_count": 1,
   "id": "ebd289c3",
   "metadata": {},
   "outputs": [],
   "source": [
    "import numpy as np\n",
    "import pandas as pd\n",
    "import matplotlib.pyplot as plt\n",
    "import seaborn as sns"
   ]
  },
  {
   "cell_type": "code",
   "execution_count": 2,
   "id": "4f30c78b",
   "metadata": {},
   "outputs": [],
   "source": [
    "df = pd.read_csv(\"house_price.csv\")"
   ]
  },
  {
   "cell_type": "code",
   "execution_count": 3,
   "id": "20e0a71d",
   "metadata": {},
   "outputs": [
    {
     "data": {
      "text/html": [
       "<div>\n",
       "<style scoped>\n",
       "    .dataframe tbody tr th:only-of-type {\n",
       "        vertical-align: middle;\n",
       "    }\n",
       "\n",
       "    .dataframe tbody tr th {\n",
       "        vertical-align: top;\n",
       "    }\n",
       "\n",
       "    .dataframe thead th {\n",
       "        text-align: right;\n",
       "    }\n",
       "</style>\n",
       "<table border=\"1\" class=\"dataframe\">\n",
       "  <thead>\n",
       "    <tr style=\"text-align: right;\">\n",
       "      <th></th>\n",
       "      <th>area</th>\n",
       "      <th>rooms</th>\n",
       "      <th>price</th>\n",
       "    </tr>\n",
       "  </thead>\n",
       "  <tbody>\n",
       "    <tr>\n",
       "      <th>0</th>\n",
       "      <td>2104</td>\n",
       "      <td>3</td>\n",
       "      <td>399900</td>\n",
       "    </tr>\n",
       "    <tr>\n",
       "      <th>1</th>\n",
       "      <td>1600</td>\n",
       "      <td>3</td>\n",
       "      <td>329900</td>\n",
       "    </tr>\n",
       "    <tr>\n",
       "      <th>2</th>\n",
       "      <td>2400</td>\n",
       "      <td>3</td>\n",
       "      <td>369000</td>\n",
       "    </tr>\n",
       "    <tr>\n",
       "      <th>3</th>\n",
       "      <td>1416</td>\n",
       "      <td>2</td>\n",
       "      <td>232000</td>\n",
       "    </tr>\n",
       "    <tr>\n",
       "      <th>4</th>\n",
       "      <td>3000</td>\n",
       "      <td>4</td>\n",
       "      <td>539900</td>\n",
       "    </tr>\n",
       "  </tbody>\n",
       "</table>\n",
       "</div>"
      ],
      "text/plain": [
       "   area  rooms   price\n",
       "0  2104      3  399900\n",
       "1  1600      3  329900\n",
       "2  2400      3  369000\n",
       "3  1416      2  232000\n",
       "4  3000      4  539900"
      ]
     },
     "execution_count": 3,
     "metadata": {},
     "output_type": "execute_result"
    }
   ],
   "source": [
    "df.head()"
   ]
  },
  {
   "cell_type": "code",
   "execution_count": 4,
   "id": "3b318058",
   "metadata": {},
   "outputs": [
    {
     "data": {
      "text/plain": [
       "(47, 3)"
      ]
     },
     "execution_count": 4,
     "metadata": {},
     "output_type": "execute_result"
    }
   ],
   "source": [
    "df.shape"
   ]
  },
  {
   "cell_type": "markdown",
   "id": "65400fd6",
   "metadata": {},
   "source": [
    "# EDA"
   ]
  },
  {
   "cell_type": "code",
   "execution_count": 5,
   "id": "5d103658",
   "metadata": {},
   "outputs": [
    {
     "data": {
      "text/plain": [
       "area     0\n",
       "rooms    0\n",
       "price    0\n",
       "dtype: int64"
      ]
     },
     "execution_count": 5,
     "metadata": {},
     "output_type": "execute_result"
    }
   ],
   "source": [
    "df.isna().sum()"
   ]
  },
  {
   "cell_type": "code",
   "execution_count": 6,
   "id": "1f9fb74e",
   "metadata": {},
   "outputs": [
    {
     "data": {
      "text/html": [
       "<div>\n",
       "<style scoped>\n",
       "    .dataframe tbody tr th:only-of-type {\n",
       "        vertical-align: middle;\n",
       "    }\n",
       "\n",
       "    .dataframe tbody tr th {\n",
       "        vertical-align: top;\n",
       "    }\n",
       "\n",
       "    .dataframe thead th {\n",
       "        text-align: right;\n",
       "    }\n",
       "</style>\n",
       "<table border=\"1\" class=\"dataframe\">\n",
       "  <thead>\n",
       "    <tr style=\"text-align: right;\">\n",
       "      <th></th>\n",
       "      <th>area</th>\n",
       "      <th>rooms</th>\n",
       "      <th>price</th>\n",
       "    </tr>\n",
       "  </thead>\n",
       "  <tbody>\n",
       "    <tr>\n",
       "      <th>count</th>\n",
       "      <td>47.000000</td>\n",
       "      <td>47.000000</td>\n",
       "      <td>47.000000</td>\n",
       "    </tr>\n",
       "    <tr>\n",
       "      <th>mean</th>\n",
       "      <td>2000.680851</td>\n",
       "      <td>3.170213</td>\n",
       "      <td>340412.659574</td>\n",
       "    </tr>\n",
       "    <tr>\n",
       "      <th>std</th>\n",
       "      <td>794.702354</td>\n",
       "      <td>0.760982</td>\n",
       "      <td>125039.899586</td>\n",
       "    </tr>\n",
       "    <tr>\n",
       "      <th>min</th>\n",
       "      <td>852.000000</td>\n",
       "      <td>1.000000</td>\n",
       "      <td>169900.000000</td>\n",
       "    </tr>\n",
       "    <tr>\n",
       "      <th>25%</th>\n",
       "      <td>1432.000000</td>\n",
       "      <td>3.000000</td>\n",
       "      <td>249900.000000</td>\n",
       "    </tr>\n",
       "    <tr>\n",
       "      <th>50%</th>\n",
       "      <td>1888.000000</td>\n",
       "      <td>3.000000</td>\n",
       "      <td>299900.000000</td>\n",
       "    </tr>\n",
       "    <tr>\n",
       "      <th>75%</th>\n",
       "      <td>2269.000000</td>\n",
       "      <td>4.000000</td>\n",
       "      <td>384450.000000</td>\n",
       "    </tr>\n",
       "    <tr>\n",
       "      <th>max</th>\n",
       "      <td>4478.000000</td>\n",
       "      <td>5.000000</td>\n",
       "      <td>699900.000000</td>\n",
       "    </tr>\n",
       "  </tbody>\n",
       "</table>\n",
       "</div>"
      ],
      "text/plain": [
       "              area      rooms          price\n",
       "count    47.000000  47.000000      47.000000\n",
       "mean   2000.680851   3.170213  340412.659574\n",
       "std     794.702354   0.760982  125039.899586\n",
       "min     852.000000   1.000000  169900.000000\n",
       "25%    1432.000000   3.000000  249900.000000\n",
       "50%    1888.000000   3.000000  299900.000000\n",
       "75%    2269.000000   4.000000  384450.000000\n",
       "max    4478.000000   5.000000  699900.000000"
      ]
     },
     "execution_count": 6,
     "metadata": {},
     "output_type": "execute_result"
    }
   ],
   "source": [
    "df.describe()"
   ]
  },
  {
   "cell_type": "markdown",
   "id": "65cafab8",
   "metadata": {},
   "source": [
    "# Assign x to input features & assign y to response features"
   ]
  },
  {
   "cell_type": "code",
   "execution_count": 8,
   "id": "8eb312d1",
   "metadata": {},
   "outputs": [],
   "source": [
    "x = df.iloc[:, :1].values\n",
    "y = df.iloc[:, -1:].values"
   ]
  },
  {
   "cell_type": "markdown",
   "id": "9bf71c73",
   "metadata": {},
   "source": [
    "# Scatter plot"
   ]
  },
  {
   "cell_type": "code",
   "execution_count": 9,
   "id": "c9c0ace7",
   "metadata": {},
   "outputs": [
    {
     "data": {
      "image/png": "[encoded data removed]",
      "text/plain": [
       "<Figure size 640x480 with 1 Axes>"
      ]
     },
     "metadata": {},
     "output_type": "display_data"
    }
   ],
   "source": [
    "#visualize the dataset\n",
    "\n",
    "plt.scatter(x,y)\n",
    "plt.title(\"House Prices\")\n",
    "plt.xlabel(\"Area\")\n",
    "plt.ylabel(\"Price\")\n",
    "plt.show()"
   ]
  },
  {
   "cell_type": "code",
   "execution_count": 10,
   "id": "44bb27d7",
   "metadata": {},
   "outputs": [],
   "source": [
    "x = df.iloc[:, :-1].values\n",
    "y = df.iloc[:, -1:].values"
   ]
  },
  {
   "cell_type": "code",
   "execution_count": 12,
   "id": "fc84173a",
   "metadata": {},
   "outputs": [],
   "source": [
    "from sklearn.model_selection import train_test_split\n",
    "xtrain, xtest, ytrain, ytest = train_test_split(x, y, test_size = 0.2, random_state = 2)"
   ]
  },
  {
   "cell_type": "code",
   "execution_count": 17,
   "id": "5e4eb240",
   "metadata": {},
   "outputs": [
    {
     "name": "stdout",
     "output_type": "stream",
     "text": [
      "Training Completed\n",
      "\n",
      "Predicted value is: \t [[335224.80438301]\n",
      " [325153.96470802]\n",
      " [418803.53778707]\n",
      " [246286.08497481]\n",
      " [262573.52465506]\n",
      " [229832.76462736]\n",
      " [320028.67103682]\n",
      " [682926.09767704]\n",
      " [239226.73796864]\n",
      " [354717.3513997 ]]\n",
      "\n",
      "Testing completed\n",
      "===========================================================================\n",
      "Hyperparameter:\n",
      " {'copy_X': True, 'fit_intercept': True, 'n_jobs': None, 'positive': False}\n",
      "****************************************************************************************************\n",
      "Linear Regression - Performance Measures\n",
      "****************************************************************************************************\n",
      "Accuracy Score - Linear Regression:\t 0.826811266941067\n",
      "\n",
      "MSE-linear Regression:\t 2766239087.094458\n",
      "\n",
      "RMSE linear Regression:\t 52595.04812332106\n"
     ]
    }
   ],
   "source": [
    "from sklearn.linear_model import LinearRegression\n",
    "lin_reg = LinearRegression()\n",
    "lin_reg.fit(x_train, y_train)\n",
    "print('Training Completed')\n",
    "print()\n",
    "ypred_lin_reg = lin_reg.predict(xtest)\n",
    "print('Predicted value is: \\t',ypred_lin_reg)\n",
    "print()\n",
    "print('Testing completed')\n",
    "print('='*75)\n",
    "print('Hyperparameter:\\n',lin_reg.get_params())\n",
    "#import metrics\n",
    "from sklearn.metrics import r2_score,mean_squared_error\n",
    "print('*'*100)\n",
    "print('Linear Regression - Performance Measures')\n",
    "print('*'*100)\n",
    "Accuracy_lin_reg=r2_score(ytest,ypred_lin_reg)\n",
    "MSE_lin_reg=mean_squared_error(ytest,ypred_lin_reg)\n",
    "RMSE_lin_reg=np.sqrt(mean_squared_error(ytest,ypred_lin_reg))\n",
    "print('Accuracy Score - Linear Regression:\\t',Accuracy_lin_reg)\n",
    "print()\n",
    "print('MSE-linear Regression:\\t',MSE_lin_reg)\n",
    "print()\n",
    "print('RMSE linear Regression:\\t',RMSE_lin_reg)"
   ]
  },
  {
   "cell_type": "markdown",
   "id": "8c8d108f",
   "metadata": {},
   "source": [
    "# 2. KNN Regression"
   ]
  },
  {
   "cell_type": "code",
   "execution_count": 23,
   "id": "f6607513",
   "metadata": {},
   "outputs": [
    {
     "name": "stdout",
     "output_type": "stream",
     "text": [
      "****************************************************************************************************\n",
      "KNN Regression Model\n",
      "****************************************************************************************************\n",
      "\n",
      " Training Phase\n",
      "Hyperparameter:\n",
      " {'algorithm': 'auto', 'leaf_size': 30, 'metric': 'minkowski', 'metric_params': None, 'n_jobs': None, 'n_neighbors': 3, 'p': 2, 'weights': 'uniform'}\n",
      "Training Completed\n",
      "====================================================================================================\n",
      "\n",
      " Test Phase\n",
      "\n",
      "Testing completed\n",
      "====================================================================================================\n",
      "****************************************************************************************************\n",
      "KNN Regression - Performance Measures\n",
      "****************************************************************************************************\n",
      "Accuracy Score - knn Regression:\t 0.6433226876751201\n",
      "\n",
      "MSE-knn Regression:\t 5696991400.111112\n",
      "\n",
      "RMSE knn Regression:\t 75478.41678328389\n"
     ]
    }
   ],
   "source": [
    "from sklearn.neighbors import KNeighborsRegressor\n",
    "knn_reg=KNeighborsRegressor(n_neighbors=3)\n",
    "print('*'*100)\n",
    "print('KNN Regression Model')\n",
    "print('*'*100)\n",
    "print('\\n Training Phase')\n",
    "knn_reg.fit(xtrain,ytrain)\n",
    "print('Hyperparameter:\\n',knn_reg.get_params())\n",
    "print('Training Completed')\n",
    "print('='*100)\n",
    "print('\\n Test Phase')\n",
    "ypred_knn=knn_reg.predict(xtest)\n",
    "#print('Predicted values for the test samples:\\n',ypred_lin_reg)\n",
    "print()\n",
    "print('Testing completed')\n",
    "print('='*100)\n",
    "#import metrics\n",
    "from sklearn.metrics import r2_score,mean_squared_error\n",
    "print('*'*100)\n",
    "print('KNN Regression - Performance Measures')\n",
    "print('*'*100)\n",
    "Accuracy_knn_reg=r2_score(ytest,ypred_knn)\n",
    "MSE_knn=mean_squared_error(ytest,ypred_knn)\n",
    "RMSE_knn=np.sqrt(mean_squared_error(ytest,ypred_knn))\n",
    "print('Accuracy Score - knn Regression:\\t',Accuracy_knn_reg)\n",
    "print()\n",
    "print('MSE-knn Regression:\\t',MSE_knn)\n",
    "print()\n",
    "print('RMSE knn Regression:\\t',RMSE_knn)"
   ]
  },
  {
   "cell_type": "markdown",
   "id": "ad0ac992",
   "metadata": {},
   "source": [
    "# Decision Tree Regression model"
   ]
  },
  {
   "cell_type": "code",
   "execution_count": 24,
   "id": "9718a2ab",
   "metadata": {},
   "outputs": [
    {
     "name": "stdout",
     "output_type": "stream",
     "text": [
      "****************************************************************************************************\n",
      "DT Regression Model\n",
      "****************************************************************************************************\n",
      "\n",
      " Training Phase\n",
      "Hyperparameter:\n",
      " {'ccp_alpha': 0.0, 'criterion': 'squared_error', 'max_depth': None, 'max_features': None, 'max_leaf_nodes': None, 'min_impurity_decrease': 0.0, 'min_samples_leaf': 1, 'min_samples_split': 2, 'min_weight_fraction_leaf': 0.0, 'random_state': None, 'splitter': 'best'}\n",
      "Training Completed\n",
      "====================================================================================================\n",
      "\n",
      " Test Phase\n",
      "\n",
      "Testing completed\n",
      "====================================================================================================\n",
      "****************************************************************************************************\n",
      "Linear Regression - Performance Measures\n",
      "****************************************************************************************************\n",
      "Accuracy Score - DT Regression:\t 0.5621956775501745\n",
      "\n",
      "MSE-DT Regression:\t 6992784160.2\n",
      "\n",
      "RMSE DT Regression:\t 83622.868643691\n"
     ]
    }
   ],
   "source": [
    "from sklearn.tree import DecisionTreeRegressor\n",
    "dt_reg=DecisionTreeRegressor()\n",
    "print('*'*100)\n",
    "print('DT Regression Model')\n",
    "print('*'*100)\n",
    "print('\\n Training Phase')\n",
    "dt_reg.fit(xtrain,ytrain)\n",
    "print('Hyperparameter:\\n',dt_reg.get_params())\n",
    "print('Training Completed')\n",
    "print('='*100)\n",
    "print('\\n Test Phase')\n",
    "ypred_dt_reg=dt_reg.predict(xtest)\n",
    "#print('Predicted values for the test samples:\\n',ypred_lin_reg)\n",
    "print()\n",
    "print('Testing completed')\n",
    "print('='*100)\n",
    "#import metrics\n",
    "from sklearn.metrics import r2_score,mean_squared_error\n",
    "print('*'*100)\n",
    "print('Linear Regression - Performance Measures')\n",
    "print('*'*100)\n",
    "Accuracy_dt_reg=r2_score(ytest,ypred_dt_reg)\n",
    "MSE_dt_reg=mean_squared_error(ytest,ypred_dt_reg)\n",
    "RMSE_dt_reg=np.sqrt(mean_squared_error(ytest,ypred_dt_reg))\n",
    "print('Accuracy Score - DT Regression:\\t',Accuracy_dt_reg)\n",
    "print()\n",
    "print('MSE-DT Regression:\\t',MSE_dt_reg)\n",
    "print()\n",
    "print('RMSE DT Regression:\\t',RMSE_dt_reg)"
   ]
  },
  {
   "cell_type": "markdown",
   "id": "8b7bdb02",
   "metadata": {},
   "source": [
    "# Support Vector Regressor"
   ]
  },
  {
   "cell_type": "code",
   "execution_count": 26,
   "id": "6b256789",
   "metadata": {},
   "outputs": [
    {
     "name": "stdout",
     "output_type": "stream",
     "text": [
      "****************************************************************************************************\n",
      "SVR Regression Model\n",
      "****************************************************************************************************\n",
      "\n",
      " Training Phase\n",
      "Hyperparameter:\n",
      " {'C': 1.0, 'cache_size': 200, 'coef0': 0.0, 'degree': 3, 'epsilon': 0.1, 'gamma': 'scale', 'kernel': 'rbf', 'max_iter': -1, 'shrinking': True, 'tol': 0.001, 'verbose': False}\n",
      "Training Completed\n",
      "====================================================================================================\n",
      "\n",
      " Test Phase\n",
      "\n",
      "Testing completed\n",
      "====================================================================================================\n",
      "****************************************************************************************************\n",
      "SVR Regression - Performance Measures\n",
      "****************************************************************************************************\n",
      "Accuracy Score - SVR Regression:\t -0.043373293714715544\n",
      "\n",
      "MSE-SVR Regression:\t 16665171784.13681\n",
      "\n",
      "RMSE SVR Regression:\t 129093.65508860926\n"
     ]
    },
    {
     "name": "stderr",
     "output_type": "stream",
     "text": [
      "C:\\Users\\jagad\\anaconda3\\Lib\\site-packages\\sklearn\\utils\\validation.py:1184: DataConversionWarning: A column-vector y was passed when a 1d array was expected. Please change the shape of y to (n_samples, ), for example using ravel().\n",
      "  y = column_or_1d(y, warn=True)\n"
     ]
    }
   ],
   "source": [
    "# from sklearn.svm import SVR\n",
    "from sklearn.svm import SVR\n",
    "svr=SVR()\n",
    "print('*'*100)\n",
    "print('SVR Regression Model')\n",
    "print('*'*100)\n",
    "print('\\n Training Phase')\n",
    "svr.fit(xtrain,ytrain)\n",
    "print('Hyperparameter:\\n',svr.get_params())\n",
    "print('Training Completed')\n",
    "print('='*100)\n",
    "print('\\n Test Phase')\n",
    "ypred_svr=svr.predict(xtest)\n",
    "#print('Predicted values for the test samples:\\n',ypred_lin_reg)\n",
    "print()\n",
    "print('Testing completed')\n",
    "print('='*100)\n",
    "#import metrics\n",
    "from sklearn.metrics import r2_score,mean_squared_error\n",
    "print('*'*100)\n",
    "print('SVR Regression - Performance Measures')\n",
    "print('*'*100)\n",
    "Accuracy_svr=r2_score(ytest,ypred_svr)\n",
    "MSE_svr=mean_squared_error(ytest,ypred_svr)\n",
    "RMSE_svr=np.sqrt(mean_squared_error(ytest,ypred_svr))\n",
    "print('Accuracy Score - SVR Regression:\\t',Accuracy_svr)\n",
    "print()\n",
    "print('MSE-SVR Regression:\\t',MSE_svr)\n",
    "print()\n",
    "print('RMSE SVR Regression:\\t',RMSE_svr)"
   ]
  },
  {
   "cell_type": "markdown",
   "id": "bfbc756a",
   "metadata": {},
   "source": [
    "# Boosting - Adaboost with the base model - Linreg"
   ]
  },
  {
   "cell_type": "code",
   "execution_count": 18,
   "id": "281327e5",
   "metadata": {},
   "outputs": [
    {
     "name": "stdout",
     "output_type": "stream",
     "text": [
      "****************************************************************************************************\n",
      "AdaBoost Regression Model\n",
      "****************************************************************************************************\n",
      "\n",
      " Training Phase\n",
      "Hyperparameter:\n",
      " {'base_estimator__copy_X': True, 'base_estimator__fit_intercept': True, 'base_estimator__n_jobs': None, 'base_estimator__positive': False, 'base_estimator': LinearRegression(), 'estimator': None, 'learning_rate': 1.0, 'loss': 'linear', 'n_estimators': 15, 'random_state': None}\n",
      "Training Completed\n",
      "====================================================================================================\n",
      "\n",
      " Test Phase\n",
      "\n",
      "Testing completed\n",
      "====================================================================================================\n",
      "****************************************************************************************************\n",
      "Adaboost Regression - Performance Measures\n",
      "****************************************************************************************************\n",
      "Accuracy Score - Adaboost Regression:\t 0.8115745439744386\n",
      "\n",
      "MSE-Adaboost Regression:\t 3009606065.3330173\n",
      "\n",
      "RMSE Adaboost Regression:\t 54859.87664343602\n"
     ]
    },
    {
     "name": "stderr",
     "output_type": "stream",
     "text": [
      "C:\\Users\\jagad\\anaconda3\\Lib\\site-packages\\sklearn\\utils\\validation.py:1184: DataConversionWarning: A column-vector y was passed when a 1d array was expected. Please change the shape of y to (n_samples, ), for example using ravel().\n",
      "  y = column_or_1d(y, warn=True)\n",
      "C:\\Users\\jagad\\anaconda3\\Lib\\site-packages\\sklearn\\ensemble\\_base.py:156: FutureWarning: `base_estimator` was renamed to `estimator` in version 1.2 and will be removed in 1.4.\n",
      "  warnings.warn(\n"
     ]
    }
   ],
   "source": [
    "from sklearn.ensemble import AdaBoostRegressor\n",
    "ada=AdaBoostRegressor(base_estimator=lin_reg,n_estimators=15)\n",
    "print('*'*100)\n",
    "print('AdaBoost Regression Model')\n",
    "print('*'*100)\n",
    "print('\\n Training Phase')\n",
    "ada.fit(xtrain,ytrain)\n",
    "print('Hyperparameter:\\n',ada.get_params())\n",
    "print('Training Completed')\n",
    "print('='*100)\n",
    "print('\\n Test Phase')\n",
    "ypred_ada=ada.predict(xtest)\n",
    "#print('Predicted values for the test samples:\\n',ypred_lin_reg)\n",
    "print()\n",
    "print('Testing completed')\n",
    "print('='*100)\n",
    "#import metrics\n",
    "from sklearn.metrics import r2_score,mean_squared_error\n",
    "print('*'*100)\n",
    "print('Adaboost Regression - Performance Measures')\n",
    "print('*'*100)\n",
    "Accuracy_ada=r2_score(ytest,ypred_ada)\n",
    "MSE_ada=mean_squared_error(ytest,ypred_ada)\n",
    "RMSE_ada=np.sqrt(mean_squared_error(ytest,ypred_ada))\n",
    "print('Accuracy Score - Adaboost Regression:\\t',Accuracy_ada)\n",
    "print()\n",
    "print('MSE-Adaboost Regression:\\t',MSE_ada)\n",
    "print()\n",
    "print('RMSE Adaboost Regression:\\t',RMSE_ada)"
   ]
  },
  {
   "cell_type": "markdown",
   "id": "33e6fd98",
   "metadata": {},
   "source": [
    "# Boosting - GradientBoost"
   ]
  },
  {
   "cell_type": "code",
   "execution_count": 19,
   "id": "3806f46a",
   "metadata": {},
   "outputs": [
    {
     "name": "stdout",
     "output_type": "stream",
     "text": [
      "****************************************************************************************************\n",
      "GradientBoosting Regression Model\n",
      "****************************************************************************************************\n",
      "\n",
      " Training Phase\n",
      "Hyperparameter:\n",
      " {'alpha': 0.9, 'ccp_alpha': 0.0, 'criterion': 'friedman_mse', 'init': None, 'learning_rate': 0.1, 'loss': 'squared_error', 'max_depth': 3, 'max_features': None, 'max_leaf_nodes': None, 'min_impurity_decrease': 0.0, 'min_samples_leaf': 1, 'min_samples_split': 2, 'min_weight_fraction_leaf': 0.0, 'n_estimators': 15, 'n_iter_no_change': None, 'random_state': None, 'subsample': 1.0, 'tol': 0.0001, 'validation_fraction': 0.1, 'verbose': 0, 'warm_start': False}\n",
      "Training Completed\n",
      "====================================================================================================\n",
      "\n",
      " Test Phase\n",
      "\n",
      "Testing completed\n",
      "====================================================================================================\n",
      "****************************************************************************************************\n",
      "GradientBoosting Regression - Performance Measures\n",
      "****************************************************************************************************\n",
      "Accuracy Score - GradientBoosting Regression:\t 0.5882735426902486\n",
      "\n",
      "MSE-GradientBoosting Regression:\t 6576258162.322854\n",
      "\n",
      "RMSE GradientBoosting Regression:\t 81094.1314912667\n"
     ]
    },
    {
     "name": "stderr",
     "output_type": "stream",
     "text": [
      "C:\\Users\\jagad\\anaconda3\\Lib\\site-packages\\sklearn\\ensemble\\_gb.py:424: DataConversionWarning: A column-vector y was passed when a 1d array was expected. Please change the shape of y to (n_samples, ), for example using ravel().\n",
      "  y = column_or_1d(y, warn=True)\n"
     ]
    }
   ],
   "source": [
    "from sklearn.ensemble import GradientBoostingRegressor\n",
    "grad_boost=GradientBoostingRegressor(n_estimators=15)\n",
    "print('*'*100)\n",
    "print('GradientBoosting Regression Model')\n",
    "print('*'*100)\n",
    "print('\\n Training Phase')\n",
    "grad_boost.fit(xtrain,ytrain)\n",
    "print('Hyperparameter:\\n',grad_boost.get_params())\n",
    "print('Training Completed')\n",
    "print('='*100)\n",
    "print('\\n Test Phase')\n",
    "ypred_grad_boost=grad_boost.predict(xtest)\n",
    "#print('Predicted values for the test samples:\\n',ypred_lin_reg)\n",
    "print()\n",
    "print('Testing completed')\n",
    "print('='*100)\n",
    "#import metrics\n",
    "from sklearn.metrics import r2_score,mean_squared_error\n",
    "print('*'*100)\n",
    "print('GradientBoosting Regression - Performance Measures')\n",
    "print('*'*100)\n",
    "Accuracy_grad_boost=r2_score(ytest,ypred_grad_boost)\n",
    "MSE_grad_boost=mean_squared_error(ytest,ypred_grad_boost)\n",
    "RMSE_grad_boost=np.sqrt(mean_squared_error(ytest,ypred_grad_boost))\n",
    "print('Accuracy Score - GradientBoosting Regression:\\t',Accuracy_grad_boost)\n",
    "print()\n",
    "print('MSE-GradientBoosting Regression:\\t',MSE_grad_boost)\n",
    "print()\n",
    "print('RMSE GradientBoosting Regression:\\t',RMSE_grad_boost)"
   ]
  },
  {
   "cell_type": "code",
   "execution_count": 28,
   "id": "8ad190d7",
   "metadata": {},
   "outputs": [
    {
     "name": "stdout",
     "output_type": "stream",
     "text": [
      "                      Model  Accuracy_score\n",
      "0         Linear Regression        0.826811\n",
      "4        Adaboost Regressor        0.811575\n",
      "1            KNN Regression        0.643323\n",
      "5  Gradient Boost Regressor        0.588274\n",
      "2  Decision Tree Regression        0.562196\n",
      "3                       SVR       -0.043373\n"
     ]
    }
   ],
   "source": [
    "scores=[('Linear Regression',Accuracy_lin_reg),\n",
    "        ('KNN Regression',Accuracy_knn_reg),\n",
    "        ('Decision Tree Regression',Accuracy_dt_reg),\n",
    "        ('SVR',Accuracy_svr),\n",
    "        ('Adaboost Regressor',Accuracy_ada),\n",
    "        ('Gradient Boost Regressor',Accuracy_grad_boost),\n",
    "       ]\n",
    "Acc_scores=pd.DataFrame(scores,columns=['Model','Accuracy_score'])\n",
    "print(Acc_scores.sort_values(by='Accuracy_score',ascending=False))"
   ]
  },
  {
   "cell_type": "code",
   "execution_count": 29,
   "id": "37c83169",
   "metadata": {},
   "outputs": [
    {
     "data": {
      "text/plain": [
       "([0, 1, 2, 3, 4, 5],\n",
       " [Text(0, 0, 'Linear Regression'),\n",
       "  Text(1, 0, 'KNN Regression'),\n",
       "  Text(2, 0, 'Decision Tree Regression'),\n",
       "  Text(3, 0, 'SVR'),\n",
       "  Text(4, 0, 'Adaboost Regressor'),\n",
       "  Text(5, 0, 'Gradient Boost Regressor')])"
      ]
     },
     "execution_count": 29,
     "metadata": {},
     "output_type": "execute_result"
    },
    {
     "data": {
      "image/png": "[encoded data removed]",
      "text/plain": [
       "<Figure size 640x480 with 1 Axes>"
      ]
     },
     "metadata": {},
     "output_type": "display_data"
    }
   ],
   "source": [
    "sns.lineplot(x=Acc_scores['Model'],y=Acc_scores['Accuracy_score'],data=Acc_scores)\n",
    "plt.xticks(rotation=90)"
   ]
  },
  {
   "cell_type": "code",
   "execution_count": null,
   "id": "5b5d3316",
   "metadata": {},
   "outputs": [],
   "source": []
  }
 ],
 "metadata": {
  "kernelspec": {
   "display_name": "Python 3 (ipykernel)",
   "language": "python",
   "name": "python3"
  },
  "language_info": {
   "codemirror_mode": {
    "name": "ipython",
    "version": 3
   },
   "file_extension": ".py",
   "mimetype": "text/x-python",
   "name": "python",
   "nbconvert_exporter": "python",
   "pygments_lexer": "ipython3",
   "version": "3.11.4"
  }
 },
 "nbformat": 4,
 "nbformat_minor": 5
}
