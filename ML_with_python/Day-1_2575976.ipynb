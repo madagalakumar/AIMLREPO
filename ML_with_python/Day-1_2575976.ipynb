{
 "cells": [
  {
   "cell_type": "markdown",
   "id": "99cb9d08",
   "metadata": {},
   "source": [
    "# HOUSING PRICE"
   ]
  },
  {
   "cell_type": "code",
   "execution_count": 1,
   "id": "4059122b",
   "metadata": {},
   "outputs": [],
   "source": [
    "import numpy as np\n",
    "import pandas as pd\n",
    "import matplotlib.pyplot as plt\n",
    "import seaborn as sns"
   ]
  },
  {
   "cell_type": "code",
   "execution_count": 3,
   "id": "c9b3aeb0",
   "metadata": {},
   "outputs": [],
   "source": [
    "df = pd.read_csv(\"house_price.csv\")"
   ]
  },
  {
   "cell_type": "code",
   "execution_count": 4,
   "id": "9dbb8895",
   "metadata": {},
   "outputs": [
    {
     "data": {
      "text/html": [
       "<div>\n",
       "<style scoped>\n",
       "    .dataframe tbody tr th:only-of-type {\n",
       "        vertical-align: middle;\n",
       "    }\n",
       "\n",
       "    .dataframe tbody tr th {\n",
       "        vertical-align: top;\n",
       "    }\n",
       "\n",
       "    .dataframe thead th {\n",
       "        text-align: right;\n",
       "    }\n",
       "</style>\n",
       "<table border=\"1\" class=\"dataframe\">\n",
       "  <thead>\n",
       "    <tr style=\"text-align: right;\">\n",
       "      <th></th>\n",
       "      <th>area</th>\n",
       "      <th>rooms</th>\n",
       "      <th>price</th>\n",
       "    </tr>\n",
       "  </thead>\n",
       "  <tbody>\n",
       "    <tr>\n",
       "      <th>0</th>\n",
       "      <td>2104</td>\n",
       "      <td>3</td>\n",
       "      <td>399900</td>\n",
       "    </tr>\n",
       "    <tr>\n",
       "      <th>1</th>\n",
       "      <td>1600</td>\n",
       "      <td>3</td>\n",
       "      <td>329900</td>\n",
       "    </tr>\n",
       "    <tr>\n",
       "      <th>2</th>\n",
       "      <td>2400</td>\n",
       "      <td>3</td>\n",
       "      <td>369000</td>\n",
       "    </tr>\n",
       "    <tr>\n",
       "      <th>3</th>\n",
       "      <td>1416</td>\n",
       "      <td>2</td>\n",
       "      <td>232000</td>\n",
       "    </tr>\n",
       "    <tr>\n",
       "      <th>4</th>\n",
       "      <td>3000</td>\n",
       "      <td>4</td>\n",
       "      <td>539900</td>\n",
       "    </tr>\n",
       "  </tbody>\n",
       "</table>\n",
       "</div>"
      ],
      "text/plain": [
       "   area  rooms   price\n",
       "0  2104      3  399900\n",
       "1  1600      3  329900\n",
       "2  2400      3  369000\n",
       "3  1416      2  232000\n",
       "4  3000      4  539900"
      ]
     },
     "execution_count": 4,
     "metadata": {},
     "output_type": "execute_result"
    }
   ],
   "source": [
    "df.head()"
   ]
  },
  {
   "cell_type": "code",
   "execution_count": 5,
   "id": "554fa6d9",
   "metadata": {},
   "outputs": [
    {
     "data": {
      "text/html": [
       "<div>\n",
       "<style scoped>\n",
       "    .dataframe tbody tr th:only-of-type {\n",
       "        vertical-align: middle;\n",
       "    }\n",
       "\n",
       "    .dataframe tbody tr th {\n",
       "        vertical-align: top;\n",
       "    }\n",
       "\n",
       "    .dataframe thead th {\n",
       "        text-align: right;\n",
       "    }\n",
       "</style>\n",
       "<table border=\"1\" class=\"dataframe\">\n",
       "  <thead>\n",
       "    <tr style=\"text-align: right;\">\n",
       "      <th></th>\n",
       "      <th>area</th>\n",
       "      <th>rooms</th>\n",
       "      <th>price</th>\n",
       "    </tr>\n",
       "  </thead>\n",
       "  <tbody>\n",
       "    <tr>\n",
       "      <th>42</th>\n",
       "      <td>2567</td>\n",
       "      <td>4</td>\n",
       "      <td>314000</td>\n",
       "    </tr>\n",
       "    <tr>\n",
       "      <th>43</th>\n",
       "      <td>1200</td>\n",
       "      <td>3</td>\n",
       "      <td>299000</td>\n",
       "    </tr>\n",
       "    <tr>\n",
       "      <th>44</th>\n",
       "      <td>852</td>\n",
       "      <td>2</td>\n",
       "      <td>179900</td>\n",
       "    </tr>\n",
       "    <tr>\n",
       "      <th>45</th>\n",
       "      <td>1852</td>\n",
       "      <td>4</td>\n",
       "      <td>299900</td>\n",
       "    </tr>\n",
       "    <tr>\n",
       "      <th>46</th>\n",
       "      <td>1203</td>\n",
       "      <td>3</td>\n",
       "      <td>239500</td>\n",
       "    </tr>\n",
       "  </tbody>\n",
       "</table>\n",
       "</div>"
      ],
      "text/plain": [
       "    area  rooms   price\n",
       "42  2567      4  314000\n",
       "43  1200      3  299000\n",
       "44   852      2  179900\n",
       "45  1852      4  299900\n",
       "46  1203      3  239500"
      ]
     },
     "execution_count": 5,
     "metadata": {},
     "output_type": "execute_result"
    }
   ],
   "source": [
    "df.tail()"
   ]
  },
  {
   "cell_type": "code",
   "execution_count": 7,
   "id": "ad415b45",
   "metadata": {},
   "outputs": [
    {
     "data": {
      "text/plain": [
       "(47, 3)"
      ]
     },
     "execution_count": 7,
     "metadata": {},
     "output_type": "execute_result"
    }
   ],
   "source": [
    "df.shape"
   ]
  },
  {
   "cell_type": "code",
   "execution_count": 8,
   "id": "78662545",
   "metadata": {},
   "outputs": [
    {
     "data": {
      "text/plain": [
       "area     0\n",
       "rooms    0\n",
       "price    0\n",
       "dtype: int64"
      ]
     },
     "execution_count": 8,
     "metadata": {},
     "output_type": "execute_result"
    }
   ],
   "source": [
    "df.isna().sum()"
   ]
  },
  {
   "cell_type": "code",
   "execution_count": 9,
   "id": "6097f505",
   "metadata": {},
   "outputs": [
    {
     "data": {
      "text/html": [
       "<div>\n",
       "<style scoped>\n",
       "    .dataframe tbody tr th:only-of-type {\n",
       "        vertical-align: middle;\n",
       "    }\n",
       "\n",
       "    .dataframe tbody tr th {\n",
       "        vertical-align: top;\n",
       "    }\n",
       "\n",
       "    .dataframe thead th {\n",
       "        text-align: right;\n",
       "    }\n",
       "</style>\n",
       "<table border=\"1\" class=\"dataframe\">\n",
       "  <thead>\n",
       "    <tr style=\"text-align: right;\">\n",
       "      <th></th>\n",
       "      <th>area</th>\n",
       "      <th>rooms</th>\n",
       "      <th>price</th>\n",
       "    </tr>\n",
       "  </thead>\n",
       "  <tbody>\n",
       "    <tr>\n",
       "      <th>count</th>\n",
       "      <td>47.000000</td>\n",
       "      <td>47.000000</td>\n",
       "      <td>47.000000</td>\n",
       "    </tr>\n",
       "    <tr>\n",
       "      <th>mean</th>\n",
       "      <td>2000.680851</td>\n",
       "      <td>3.170213</td>\n",
       "      <td>340412.659574</td>\n",
       "    </tr>\n",
       "    <tr>\n",
       "      <th>std</th>\n",
       "      <td>794.702354</td>\n",
       "      <td>0.760982</td>\n",
       "      <td>125039.899586</td>\n",
       "    </tr>\n",
       "    <tr>\n",
       "      <th>min</th>\n",
       "      <td>852.000000</td>\n",
       "      <td>1.000000</td>\n",
       "      <td>169900.000000</td>\n",
       "    </tr>\n",
       "    <tr>\n",
       "      <th>25%</th>\n",
       "      <td>1432.000000</td>\n",
       "      <td>3.000000</td>\n",
       "      <td>249900.000000</td>\n",
       "    </tr>\n",
       "    <tr>\n",
       "      <th>50%</th>\n",
       "      <td>1888.000000</td>\n",
       "      <td>3.000000</td>\n",
       "      <td>299900.000000</td>\n",
       "    </tr>\n",
       "    <tr>\n",
       "      <th>75%</th>\n",
       "      <td>2269.000000</td>\n",
       "      <td>4.000000</td>\n",
       "      <td>384450.000000</td>\n",
       "    </tr>\n",
       "    <tr>\n",
       "      <th>max</th>\n",
       "      <td>4478.000000</td>\n",
       "      <td>5.000000</td>\n",
       "      <td>699900.000000</td>\n",
       "    </tr>\n",
       "  </tbody>\n",
       "</table>\n",
       "</div>"
      ],
      "text/plain": [
       "              area      rooms          price\n",
       "count    47.000000  47.000000      47.000000\n",
       "mean   2000.680851   3.170213  340412.659574\n",
       "std     794.702354   0.760982  125039.899586\n",
       "min     852.000000   1.000000  169900.000000\n",
       "25%    1432.000000   3.000000  249900.000000\n",
       "50%    1888.000000   3.000000  299900.000000\n",
       "75%    2269.000000   4.000000  384450.000000\n",
       "max    4478.000000   5.000000  699900.000000"
      ]
     },
     "execution_count": 9,
     "metadata": {},
     "output_type": "execute_result"
    }
   ],
   "source": [
    "df.describe()"
   ]
  },
  {
   "cell_type": "markdown",
   "id": "dfd138ce",
   "metadata": {},
   "source": [
    "# 2.Simple linear regression"
   ]
  },
  {
   "cell_type": "markdown",
   "id": "397352b1",
   "metadata": {},
   "source": [
    "# Assign x to input features & assign y to response features"
   ]
  },
  {
   "cell_type": "code",
   "execution_count": 30,
   "id": "72cb05e5",
   "metadata": {},
   "outputs": [],
   "source": [
    "x = df.iloc[:, :1].values\n",
    "y = df.iloc[:, -1:].values"
   ]
  },
  {
   "cell_type": "markdown",
   "id": "f2204c91",
   "metadata": {},
   "source": [
    "# Scatter plot"
   ]
  },
  {
   "cell_type": "code",
   "execution_count": 37,
   "id": "1edfe0f7",
   "metadata": {},
   "outputs": [
    {
     "data": {
      "image/png": "[encoded data removed]",
      "text/plain": [
       "<Figure size 640x480 with 1 Axes>"
      ]
     },
     "metadata": {},
     "output_type": "display_data"
    }
   ],
   "source": [
    "#visualize the dataset\n",
    "\n",
    "plt.scatter(x,y)\n",
    "plt.title(\"House Prices\")\n",
    "plt.xlabel(\"Area\")\n",
    "plt.ylabel(\"Price\")\n",
    "plt.show()"
   ]
  },
  {
   "cell_type": "code",
   "execution_count": 35,
   "id": "bc3d2238",
   "metadata": {},
   "outputs": [
    {
     "data": {
      "text/plain": [
       "(47, 1)"
      ]
     },
     "execution_count": 35,
     "metadata": {},
     "output_type": "execute_result"
    }
   ],
   "source": [
    "x.shape"
   ]
  },
  {
   "cell_type": "code",
   "execution_count": 36,
   "id": "0ac4af3c",
   "metadata": {},
   "outputs": [
    {
     "data": {
      "text/plain": [
       "(47, 1)"
      ]
     },
     "execution_count": 36,
     "metadata": {},
     "output_type": "execute_result"
    }
   ],
   "source": [
    "y.shape"
   ]
  },
  {
   "cell_type": "markdown",
   "id": "5668b2f2",
   "metadata": {},
   "source": [
    "# split the data for training and testing"
   ]
  },
  {
   "cell_type": "code",
   "execution_count": 33,
   "id": "a4484fdd",
   "metadata": {},
   "outputs": [],
   "source": [
    "from sklearn.model_selection import train_test_split\n",
    "x_train, x_test, y_train, y_test = train_test_split(x, y, test_size = 0.2, random_state = 2)"
   ]
  },
  {
   "cell_type": "markdown",
   "id": "0744a5ad",
   "metadata": {},
   "source": [
    "# 3.Build a simple linear regression model"
   ]
  },
  {
   "cell_type": "code",
   "execution_count": 34,
   "id": "fa99c414",
   "metadata": {},
   "outputs": [
    {
     "data": {
      "text/html": [
       "<style>#sk-container-id-1 {color: black;}#sk-container-id-1 pre{padding: 0;}#sk-container-id-1 div.sk-toggleable {background-color: white;}#sk-container-id-1 label.sk-toggleable__label {cursor: pointer;display: block;width: 100%;margin-bottom: 0;padding: 0.3em;box-sizing: border-box;text-align: center;}#sk-container-id-1 label.sk-toggleable__label-arrow:before {content: \"▸\";float: left;margin-right: 0.25em;color: #696969;}#sk-container-id-1 label.sk-toggleable__label-arrow:hover:before {color: black;}#sk-container-id-1 div.sk-estimator:hover label.sk-toggleable__label-arrow:before {color: black;}#sk-container-id-1 div.sk-toggleable__content {max-height: 0;max-width: 0;overflow: hidden;text-align: left;background-color: #f0f8ff;}#sk-container-id-1 div.sk-toggleable__content pre {margin: 0.2em;color: black;border-radius: 0.25em;background-color: #f0f8ff;}#sk-container-id-1 input.sk-toggleable__control:checked~div.sk-toggleable__content {max-height: 200px;max-width: 100%;overflow: auto;}#sk-container-id-1 input.sk-toggleable__control:checked~label.sk-toggleable__label-arrow:before {content: \"▾\";}#sk-container-id-1 div.sk-estimator input.sk-toggleable__control:checked~label.sk-toggleable__label {background-color: #d4ebff;}#sk-container-id-1 div.sk-label input.sk-toggleable__control:checked~label.sk-toggleable__label {background-color: #d4ebff;}#sk-container-id-1 input.sk-hidden--visually {border: 0;clip: rect(1px 1px 1px 1px);clip: rect(1px, 1px, 1px, 1px);height: 1px;margin: -1px;overflow: hidden;padding: 0;position: absolute;width: 1px;}#sk-container-id-1 div.sk-estimator {font-family: monospace;background-color: #f0f8ff;border: 1px dotted black;border-radius: 0.25em;box-sizing: border-box;margin-bottom: 0.5em;}#sk-container-id-1 div.sk-estimator:hover {background-color: #d4ebff;}#sk-container-id-1 div.sk-parallel-item::after {content: \"\";width: 100%;border-bottom: 1px solid gray;flex-grow: 1;}#sk-container-id-1 div.sk-label:hover label.sk-toggleable__label {background-color: #d4ebff;}#sk-container-id-1 div.sk-serial::before {content: \"\";position: absolute;border-left: 1px solid gray;box-sizing: border-box;top: 0;bottom: 0;left: 50%;z-index: 0;}#sk-container-id-1 div.sk-serial {display: flex;flex-direction: column;align-items: center;background-color: white;padding-right: 0.2em;padding-left: 0.2em;position: relative;}#sk-container-id-1 div.sk-item {position: relative;z-index: 1;}#sk-container-id-1 div.sk-parallel {display: flex;align-items: stretch;justify-content: center;background-color: white;position: relative;}#sk-container-id-1 div.sk-item::before, #sk-container-id-1 div.sk-parallel-item::before {content: \"\";position: absolute;border-left: 1px solid gray;box-sizing: border-box;top: 0;bottom: 0;left: 50%;z-index: -1;}#sk-container-id-1 div.sk-parallel-item {display: flex;flex-direction: column;z-index: 1;position: relative;background-color: white;}#sk-container-id-1 div.sk-parallel-item:first-child::after {align-self: flex-end;width: 50%;}#sk-container-id-1 div.sk-parallel-item:last-child::after {align-self: flex-start;width: 50%;}#sk-container-id-1 div.sk-parallel-item:only-child::after {width: 0;}#sk-container-id-1 div.sk-dashed-wrapped {border: 1px dashed gray;margin: 0 0.4em 0.5em 0.4em;box-sizing: border-box;padding-bottom: 0.4em;background-color: white;}#sk-container-id-1 div.sk-label label {font-family: monospace;font-weight: bold;display: inline-block;line-height: 1.2em;}#sk-container-id-1 div.sk-label-container {text-align: center;}#sk-container-id-1 div.sk-container {/* jupyter's `normalize.less` sets `[hidden] { display: none; }` but bootstrap.min.css set `[hidden] { display: none !important; }` so we also need the `!important` here to be able to override the default hidden behavior on the sphinx rendered scikit-learn.org. See: https://github.com/scikit-learn/scikit-learn/issues/21755 */display: inline-block !important;position: relative;}#sk-container-id-1 div.sk-text-repr-fallback {display: none;}</style><div id=\"sk-container-id-1\" class=\"sk-top-container\"><div class=\"sk-text-repr-fallback\"><pre>LinearRegression()</pre><b>In a Jupyter environment, please rerun this cell to show the HTML representation or trust the notebook. <br />On GitHub, the HTML representation is unable to render, please try loading this page with nbviewer.org.</b></div><div class=\"sk-container\" hidden><div class=\"sk-item\"><div class=\"sk-estimator sk-toggleable\"><input class=\"sk-toggleable__control sk-hidden--visually\" id=\"sk-estimator-id-1\" type=\"checkbox\" checked><label for=\"sk-estimator-id-1\" class=\"sk-toggleable__label sk-toggleable__label-arrow\">LinearRegression</label><div class=\"sk-toggleable__content\"><pre>LinearRegression()</pre></div></div></div></div></div>"
      ],
      "text/plain": [
       "LinearRegression()"
      ]
     },
     "execution_count": 34,
     "metadata": {},
     "output_type": "execute_result"
    }
   ],
   "source": [
    "from sklearn.linear_model import LinearRegression\n",
    "lin_reg = LinearRegression()\n",
    "lin_reg.fit(x_train, y_train)"
   ]
  },
  {
   "cell_type": "code",
   "execution_count": 38,
   "id": "ee2e3e2b",
   "metadata": {},
   "outputs": [
    {
     "data": {
      "text/plain": [
       "array([[335111.83671602],\n",
       "       [325161.11687151],\n",
       "       [418725.52429836],\n",
       "       [246384.58476914],\n",
       "       [262554.50451647],\n",
       "       [229800.05169495],\n",
       "       [319909.34806468],\n",
       "       [682834.21350472],\n",
       "       [239197.95377032],\n",
       "       [354736.86752047]])"
      ]
     },
     "execution_count": 38,
     "metadata": {},
     "output_type": "execute_result"
    }
   ],
   "source": [
    "ypred = lin_reg.predict(x_test)\n",
    "ypred"
   ]
  },
  {
   "cell_type": "code",
   "execution_count": 43,
   "id": "409d1f53",
   "metadata": {},
   "outputs": [
    {
     "data": {
      "text/plain": [
       "array([[259900],\n",
       "       [329999],\n",
       "       [314000],\n",
       "       [299900],\n",
       "       [249900],\n",
       "       [299000],\n",
       "       [299900],\n",
       "       [699900],\n",
       "       [259900],\n",
       "       [399900]], dtype=int64)"
      ]
     },
     "execution_count": 43,
     "metadata": {},
     "output_type": "execute_result"
    }
   ],
   "source": [
    "y_test"
   ]
  },
  {
   "cell_type": "code",
   "execution_count": 50,
   "id": "d3c47906",
   "metadata": {},
   "outputs": [
    {
     "data": {
      "image/png": "[encoded data removed]",
      "text/plain": [
       "<Figure size 640x480 with 1 Axes>"
      ]
     },
     "metadata": {},
     "output_type": "display_data"
    }
   ],
   "source": [
    "#visualize the dataset\n",
    "\n",
    "plt.scatter(x_train,y_train,color='yellow')\n",
    "plt.plot(x_train, lin_reg.predict(x_train),color='red')\n",
    "plt.title(\"House Prices\")\n",
    "plt.xlabel(\"Area\")\n",
    "plt.ylabel(\"Price\")\n",
    "plt.show()"
   ]
  },
  {
   "cell_type": "markdown",
   "id": "b85b47b1",
   "metadata": {},
   "source": [
    "# Calculate R square"
   ]
  },
  {
   "cell_type": "code",
   "execution_count": 42,
   "id": "d09cb916",
   "metadata": {},
   "outputs": [
    {
     "name": "stdout",
     "output_type": "stream",
     "text": [
      "Mean Squared Error: \t 2762022826.4372683\n",
      "\n",
      "RMSE:\t 52554.950541668935\n",
      "\n",
      "Variance Score:\t 0.8270780445446254\n",
      "\n",
      "R-Square: \t 0.8270752386436113\n"
     ]
    }
   ],
   "source": [
    "from sklearn.metrics import mean_squared_error\n",
    "from sklearn.metrics import r2_score\n",
    "from sklearn.metrics import explained_variance_score\n",
    "print(\"Mean Squared Error: \\t\", mean_squared_error(y_test,ypred))\n",
    "print()\n",
    "print(\"RMSE:\\t\", np.sqrt(mean_squared_error(y_test, ypred)))\n",
    "print()\n",
    "print(\"Variance Score:\\t\",explained_variance_score (y_test,ypred))\n",
    "# Coeficient of determination R_square\n",
    "print()\n",
    "print(\"R-Square: \\t\",r2_score (y_test,ypred))"
   ]
  },
  {
   "cell_type": "markdown",
   "id": "92e0f764",
   "metadata": {},
   "source": [
    "# Testing unseen data"
   ]
  },
  {
   "cell_type": "code",
   "execution_count": 47,
   "id": "4d5903b5",
   "metadata": {},
   "outputs": [
    {
     "data": {
      "text/plain": [
       "array([[368004.49397981]])"
      ]
     },
     "execution_count": 47,
     "metadata": {},
     "output_type": "execute_result"
    }
   ],
   "source": [
    "unseen_pred = lin_reg.predict([[2200]])\n",
    "unseen_pred"
   ]
  },
  {
   "cell_type": "code",
   "execution_count": 48,
   "id": "26f014f7",
   "metadata": {},
   "outputs": [
    {
     "data": {
      "text/plain": [
       "array([[754976.93237742]])"
      ]
     },
     "execution_count": 48,
     "metadata": {},
     "output_type": "execute_result"
    }
   ],
   "source": [
    "unseen_pred2 = lin_reg.predict([[5000]])\n",
    "unseen_pred2"
   ]
  },
  {
   "cell_type": "markdown",
   "id": "bd928315",
   "metadata": {},
   "source": [
    "# saving the trained model:\n",
    "    1.pickle file conversion"
   ]
  },
  {
   "cell_type": "code",
   "execution_count": 51,
   "id": "69864a2e",
   "metadata": {},
   "outputs": [],
   "source": [
    "import pickle\n",
    "\n",
    "with open('model_pk', 'wb') as file:\n",
    "    pickle.dump(lin_reg, file)"
   ]
  },
  {
   "cell_type": "code",
   "execution_count": 52,
   "id": "b72dfec8",
   "metadata": {},
   "outputs": [],
   "source": [
    "with open('model_pk', 'rb') as f:\n",
    "    deploy_lr=pickle.load(f)"
   ]
  },
  {
   "cell_type": "code",
   "execution_count": 53,
   "id": "7c67c8da",
   "metadata": {},
   "outputs": [
    {
     "data": {
      "text/plain": [
       "array([[685874.71123499]])"
      ]
     },
     "execution_count": 53,
     "metadata": {},
     "output_type": "execute_result"
    }
   ],
   "source": [
    "deploy_lr.predict([[4500]])"
   ]
  },
  {
   "cell_type": "markdown",
   "id": "3ece9d6b",
   "metadata": {},
   "source": [
    "# 3.multilinear regression"
   ]
  },
  {
   "cell_type": "markdown",
   "id": "f8ce59fb",
   "metadata": {},
   "source": [
    "# Assign x to input features & assign y to response features"
   ]
  },
  {
   "cell_type": "code",
   "execution_count": 75,
   "id": "33e1d4b9",
   "metadata": {},
   "outputs": [
    {
     "data": {
      "text/html": [
       "<div>\n",
       "<style scoped>\n",
       "    .dataframe tbody tr th:only-of-type {\n",
       "        vertical-align: middle;\n",
       "    }\n",
       "\n",
       "    .dataframe tbody tr th {\n",
       "        vertical-align: top;\n",
       "    }\n",
       "\n",
       "    .dataframe thead th {\n",
       "        text-align: right;\n",
       "    }\n",
       "</style>\n",
       "<table border=\"1\" class=\"dataframe\">\n",
       "  <thead>\n",
       "    <tr style=\"text-align: right;\">\n",
       "      <th></th>\n",
       "      <th>area</th>\n",
       "      <th>rooms</th>\n",
       "    </tr>\n",
       "  </thead>\n",
       "  <tbody>\n",
       "    <tr>\n",
       "      <th>0</th>\n",
       "      <td>2104</td>\n",
       "      <td>3</td>\n",
       "    </tr>\n",
       "    <tr>\n",
       "      <th>1</th>\n",
       "      <td>1600</td>\n",
       "      <td>3</td>\n",
       "    </tr>\n",
       "    <tr>\n",
       "      <th>2</th>\n",
       "      <td>2400</td>\n",
       "      <td>3</td>\n",
       "    </tr>\n",
       "    <tr>\n",
       "      <th>3</th>\n",
       "      <td>1416</td>\n",
       "      <td>2</td>\n",
       "    </tr>\n",
       "    <tr>\n",
       "      <th>4</th>\n",
       "      <td>3000</td>\n",
       "      <td>4</td>\n",
       "    </tr>\n",
       "  </tbody>\n",
       "</table>\n",
       "</div>"
      ],
      "text/plain": [
       "   area  rooms\n",
       "0  2104      3\n",
       "1  1600      3\n",
       "2  2400      3\n",
       "3  1416      2\n",
       "4  3000      4"
      ]
     },
     "execution_count": 75,
     "metadata": {},
     "output_type": "execute_result"
    }
   ],
   "source": [
    "c=df.iloc[:,:-1]\n",
    "c.head()"
   ]
  },
  {
   "cell_type": "code",
   "execution_count": 77,
   "id": "39794fee",
   "metadata": {},
   "outputs": [
    {
     "data": {
      "text/html": [
       "<div>\n",
       "<style scoped>\n",
       "    .dataframe tbody tr th:only-of-type {\n",
       "        vertical-align: middle;\n",
       "    }\n",
       "\n",
       "    .dataframe tbody tr th {\n",
       "        vertical-align: top;\n",
       "    }\n",
       "\n",
       "    .dataframe thead th {\n",
       "        text-align: right;\n",
       "    }\n",
       "</style>\n",
       "<table border=\"1\" class=\"dataframe\">\n",
       "  <thead>\n",
       "    <tr style=\"text-align: right;\">\n",
       "      <th></th>\n",
       "      <th>price</th>\n",
       "    </tr>\n",
       "  </thead>\n",
       "  <tbody>\n",
       "    <tr>\n",
       "      <th>0</th>\n",
       "      <td>399900</td>\n",
       "    </tr>\n",
       "    <tr>\n",
       "      <th>1</th>\n",
       "      <td>329900</td>\n",
       "    </tr>\n",
       "    <tr>\n",
       "      <th>2</th>\n",
       "      <td>369000</td>\n",
       "    </tr>\n",
       "    <tr>\n",
       "      <th>3</th>\n",
       "      <td>232000</td>\n",
       "    </tr>\n",
       "    <tr>\n",
       "      <th>4</th>\n",
       "      <td>539900</td>\n",
       "    </tr>\n",
       "  </tbody>\n",
       "</table>\n",
       "</div>"
      ],
      "text/plain": [
       "    price\n",
       "0  399900\n",
       "1  329900\n",
       "2  369000\n",
       "3  232000\n",
       "4  539900"
      ]
     },
     "execution_count": 77,
     "metadata": {},
     "output_type": "execute_result"
    }
   ],
   "source": [
    "d=df.iloc[:,-1:]\n",
    "d.head()"
   ]
  },
  {
   "cell_type": "code",
   "execution_count": 55,
   "id": "d76293d6",
   "metadata": {},
   "outputs": [],
   "source": [
    "a = df.iloc[:, :-1].values\n",
    "b = df.iloc[:, -1].values"
   ]
  },
  {
   "cell_type": "markdown",
   "id": "b8c5a71e",
   "metadata": {},
   "source": [
    "# Scatter plot Rooms vs price"
   ]
  },
  {
   "cell_type": "code",
   "execution_count": 87,
   "id": "a7787d94",
   "metadata": {},
   "outputs": [
    {
     "data": {
      "image/png": "[encoded data removed]",
      "text/plain": [
       "<Figure size 640x480 with 1 Axes>"
      ]
     },
     "metadata": {},
     "output_type": "display_data"
    }
   ],
   "source": [
    "#scatter plot\n",
    "plt.scatter(c[\"rooms\"],d)\n",
    "plt.title(\"House Prices\")\n",
    "plt.xlabel(\"Rooms\")\n",
    "plt.ylabel(\"Price\")\n",
    "plt.show()"
   ]
  },
  {
   "cell_type": "markdown",
   "id": "33a65cfe",
   "metadata": {},
   "source": [
    "# training and testing the dataset"
   ]
  },
  {
   "cell_type": "code",
   "execution_count": 56,
   "id": "8075564a",
   "metadata": {},
   "outputs": [],
   "source": [
    "a_train, a_test, b_train, b_test = train_test_split(a, b, test_size = 0.2, random_state = 2)"
   ]
  },
  {
   "cell_type": "code",
   "execution_count": 65,
   "id": "42c6fc0b",
   "metadata": {},
   "outputs": [
    {
     "data": {
      "text/plain": [
       "array([[2400,    3],\n",
       "       [1494,    3],\n",
       "       [1236,    3],\n",
       "       [1839,    2],\n",
       "       [1100,    3],\n",
       "       [ 852,    2],\n",
       "       [2637,    3],\n",
       "       [2526,    3],\n",
       "       [1600,    3],\n",
       "       [3890,    3],\n",
       "       [3137,    3],\n",
       "       [4215,    4],\n",
       "       [3031,    4],\n",
       "       [1239,    3],\n",
       "       [1940,    4],\n",
       "       [3000,    4],\n",
       "       [1534,    3],\n",
       "       [1416,    2],\n",
       "       [2162,    4],\n",
       "       [1985,    4],\n",
       "       [2040,    4],\n",
       "       [2200,    3],\n",
       "       [1767,    3],\n",
       "       [1458,    3],\n",
       "       [2132,    4],\n",
       "       [1888,    2],\n",
       "       [2238,    3],\n",
       "       [1000,    1],\n",
       "       [1811,    4],\n",
       "       [1427,    3],\n",
       "       [1203,    3],\n",
       "       [2000,    3],\n",
       "       [2609,    4],\n",
       "       [1604,    3],\n",
       "       [1380,    3],\n",
       "       [2300,    4],\n",
       "       [1664,    2]], dtype=int64)"
      ]
     },
     "execution_count": 65,
     "metadata": {},
     "output_type": "execute_result"
    }
   ],
   "source": [
    "a_train"
   ]
  },
  {
   "cell_type": "code",
   "execution_count": 69,
   "id": "110188a9",
   "metadata": {},
   "outputs": [
    {
     "data": {
      "text/plain": [
       "array([369000, 242500, 199900, 349900, 249900, 179900, 299900, 469000,\n",
       "       329900, 573900, 579900, 549000, 599000, 229900, 239999, 539900,\n",
       "       314900, 232000, 287000, 299900, 314900, 475000, 252900, 464500,\n",
       "       345000, 255000, 329900, 169900, 285900, 198999, 239500, 347000,\n",
       "       499998, 242900, 212000, 449900, 368500], dtype=int64)"
      ]
     },
     "execution_count": 69,
     "metadata": {},
     "output_type": "execute_result"
    }
   ],
   "source": [
    "b_train"
   ]
  },
  {
   "cell_type": "markdown",
   "id": "17d26414",
   "metadata": {},
   "source": [
    "# 4. build a multi linear model"
   ]
  },
  {
   "cell_type": "code",
   "execution_count": 57,
   "id": "3823a8c5",
   "metadata": {},
   "outputs": [
    {
     "data": {
      "text/html": [
       "<style>#sk-container-id-2 {color: black;}#sk-container-id-2 pre{padding: 0;}#sk-container-id-2 div.sk-toggleable {background-color: white;}#sk-container-id-2 label.sk-toggleable__label {cursor: pointer;display: block;width: 100%;margin-bottom: 0;padding: 0.3em;box-sizing: border-box;text-align: center;}#sk-container-id-2 label.sk-toggleable__label-arrow:before {content: \"▸\";float: left;margin-right: 0.25em;color: #696969;}#sk-container-id-2 label.sk-toggleable__label-arrow:hover:before {color: black;}#sk-container-id-2 div.sk-estimator:hover label.sk-toggleable__label-arrow:before {color: black;}#sk-container-id-2 div.sk-toggleable__content {max-height: 0;max-width: 0;overflow: hidden;text-align: left;background-color: #f0f8ff;}#sk-container-id-2 div.sk-toggleable__content pre {margin: 0.2em;color: black;border-radius: 0.25em;background-color: #f0f8ff;}#sk-container-id-2 input.sk-toggleable__control:checked~div.sk-toggleable__content {max-height: 200px;max-width: 100%;overflow: auto;}#sk-container-id-2 input.sk-toggleable__control:checked~label.sk-toggleable__label-arrow:before {content: \"▾\";}#sk-container-id-2 div.sk-estimator input.sk-toggleable__control:checked~label.sk-toggleable__label {background-color: #d4ebff;}#sk-container-id-2 div.sk-label input.sk-toggleable__control:checked~label.sk-toggleable__label {background-color: #d4ebff;}#sk-container-id-2 input.sk-hidden--visually {border: 0;clip: rect(1px 1px 1px 1px);clip: rect(1px, 1px, 1px, 1px);height: 1px;margin: -1px;overflow: hidden;padding: 0;position: absolute;width: 1px;}#sk-container-id-2 div.sk-estimator {font-family: monospace;background-color: #f0f8ff;border: 1px dotted black;border-radius: 0.25em;box-sizing: border-box;margin-bottom: 0.5em;}#sk-container-id-2 div.sk-estimator:hover {background-color: #d4ebff;}#sk-container-id-2 div.sk-parallel-item::after {content: \"\";width: 100%;border-bottom: 1px solid gray;flex-grow: 1;}#sk-container-id-2 div.sk-label:hover label.sk-toggleable__label {background-color: #d4ebff;}#sk-container-id-2 div.sk-serial::before {content: \"\";position: absolute;border-left: 1px solid gray;box-sizing: border-box;top: 0;bottom: 0;left: 50%;z-index: 0;}#sk-container-id-2 div.sk-serial {display: flex;flex-direction: column;align-items: center;background-color: white;padding-right: 0.2em;padding-left: 0.2em;position: relative;}#sk-container-id-2 div.sk-item {position: relative;z-index: 1;}#sk-container-id-2 div.sk-parallel {display: flex;align-items: stretch;justify-content: center;background-color: white;position: relative;}#sk-container-id-2 div.sk-item::before, #sk-container-id-2 div.sk-parallel-item::before {content: \"\";position: absolute;border-left: 1px solid gray;box-sizing: border-box;top: 0;bottom: 0;left: 50%;z-index: -1;}#sk-container-id-2 div.sk-parallel-item {display: flex;flex-direction: column;z-index: 1;position: relative;background-color: white;}#sk-container-id-2 div.sk-parallel-item:first-child::after {align-self: flex-end;width: 50%;}#sk-container-id-2 div.sk-parallel-item:last-child::after {align-self: flex-start;width: 50%;}#sk-container-id-2 div.sk-parallel-item:only-child::after {width: 0;}#sk-container-id-2 div.sk-dashed-wrapped {border: 1px dashed gray;margin: 0 0.4em 0.5em 0.4em;box-sizing: border-box;padding-bottom: 0.4em;background-color: white;}#sk-container-id-2 div.sk-label label {font-family: monospace;font-weight: bold;display: inline-block;line-height: 1.2em;}#sk-container-id-2 div.sk-label-container {text-align: center;}#sk-container-id-2 div.sk-container {/* jupyter's `normalize.less` sets `[hidden] { display: none; }` but bootstrap.min.css set `[hidden] { display: none !important; }` so we also need the `!important` here to be able to override the default hidden behavior on the sphinx rendered scikit-learn.org. See: https://github.com/scikit-learn/scikit-learn/issues/21755 */display: inline-block !important;position: relative;}#sk-container-id-2 div.sk-text-repr-fallback {display: none;}</style><div id=\"sk-container-id-2\" class=\"sk-top-container\"><div class=\"sk-text-repr-fallback\"><pre>LinearRegression()</pre><b>In a Jupyter environment, please rerun this cell to show the HTML representation or trust the notebook. <br />On GitHub, the HTML representation is unable to render, please try loading this page with nbviewer.org.</b></div><div class=\"sk-container\" hidden><div class=\"sk-item\"><div class=\"sk-estimator sk-toggleable\"><input class=\"sk-toggleable__control sk-hidden--visually\" id=\"sk-estimator-id-2\" type=\"checkbox\" checked><label for=\"sk-estimator-id-2\" class=\"sk-toggleable__label sk-toggleable__label-arrow\">LinearRegression</label><div class=\"sk-toggleable__content\"><pre>LinearRegression()</pre></div></div></div></div></div>"
      ],
      "text/plain": [
       "LinearRegression()"
      ]
     },
     "execution_count": 57,
     "metadata": {},
     "output_type": "execute_result"
    }
   ],
   "source": [
    "mul_reg = LinearRegression()\n",
    "mul_reg.fit(a_train, b_train)"
   ]
  },
  {
   "cell_type": "code",
   "execution_count": 58,
   "id": "80775d97",
   "metadata": {},
   "outputs": [
    {
     "data": {
      "text/plain": [
       "array([335224.80438301, 325153.96470802, 418803.53778707, 246286.08497481,\n",
       "       262573.52465506, 229832.76462736, 320028.67103682, 682926.09767704,\n",
       "       239226.73796864, 354717.3513997 ])"
      ]
     },
     "execution_count": 58,
     "metadata": {},
     "output_type": "execute_result"
    }
   ],
   "source": [
    "bpred = mul_reg.predict(a_test)\n",
    "bpred"
   ]
  },
  {
   "cell_type": "code",
   "execution_count": 59,
   "id": "142a1a1a",
   "metadata": {},
   "outputs": [
    {
     "data": {
      "text/plain": [
       "array([259900, 329999, 314000, 299900, 249900, 299000, 299900, 699900,\n",
       "       259900, 399900], dtype=int64)"
      ]
     },
     "execution_count": 59,
     "metadata": {},
     "output_type": "execute_result"
    }
   ],
   "source": [
    "b_test"
   ]
  },
  {
   "cell_type": "markdown",
   "id": "3dad25eb",
   "metadata": {},
   "source": [
    "# calculate R square"
   ]
  },
  {
   "cell_type": "code",
   "execution_count": 83,
   "id": "7c34ca46",
   "metadata": {},
   "outputs": [
    {
     "name": "stdout",
     "output_type": "stream",
     "text": [
      "Mean Squared Error: \t 2766239087.094458\n",
      "\n",
      "RMSE:\t 52595.04812332106\n",
      "\n",
      "Variance Score:\t 0.8268151006452942\n",
      "\n",
      "R-Square: \t 0.826811266941067\n"
     ]
    }
   ],
   "source": [
    "print(\"Mean Squared Error: \\t\", mean_squared_error(b_test,bpred))\n",
    "print()\n",
    "print(\"RMSE:\\t\", np.sqrt(mean_squared_error(b_test, bpred)))\n",
    "print()\n",
    "print(\"Variance Score:\\t\",explained_variance_score (b_test,bpred))\n",
    "# Coeficient of determination R_square\n",
    "print()\n",
    "print(\"R-Square: \\t\",r2_score (b_test,bpred))"
   ]
  },
  {
   "cell_type": "markdown",
   "id": "de10a194",
   "metadata": {},
   "source": [
    "# Testing unseen data"
   ]
  },
  {
   "cell_type": "code",
   "execution_count": 89,
   "id": "c0da9068",
   "metadata": {},
   "outputs": [
    {
     "data": {
      "text/plain": [
       "array([367979.43141092])"
      ]
     },
     "execution_count": 89,
     "metadata": {},
     "output_type": "execute_result"
    }
   ],
   "source": [
    "unseen_pred = mul_reg.predict([[2200, 3]])\n",
    "unseen_pred"
   ]
  },
  {
   "cell_type": "code",
   "execution_count": 86,
   "id": "9b5f05ec",
   "metadata": {},
   "outputs": [
    {
     "data": {
      "text/plain": [
       "array([506126.09819448])"
      ]
     },
     "execution_count": 86,
     "metadata": {},
     "output_type": "execute_result"
    }
   ],
   "source": [
    "unseen_pred2 = mul_reg.predict([[3200,3]])\n",
    "unseen_pred2"
   ]
  },
  {
   "cell_type": "code",
   "execution_count": 93,
   "id": "4ce2455b",
   "metadata": {},
   "outputs": [
    {
     "data": {
      "text/plain": [
       "array([644397.04464463])"
      ]
     },
     "execution_count": 93,
     "metadata": {},
     "output_type": "execute_result"
    }
   ],
   "source": [
    "unseen_pred3 = mul_reg.predict([[4200,4]])\n",
    "unseen_pred3"
   ]
  },
  {
   "cell_type": "markdown",
   "id": "660835bf",
   "metadata": {},
   "source": [
    "# Saving the model:\n",
    "    2.joblib"
   ]
  },
  {
   "cell_type": "code",
   "execution_count": 94,
   "id": "8f96e78f",
   "metadata": {},
   "outputs": [
    {
     "data": {
      "text/plain": [
       "['model_jlib']"
      ]
     },
     "execution_count": 94,
     "metadata": {},
     "output_type": "execute_result"
    }
   ],
   "source": [
    "import joblib\n",
    "joblib.dump(mul_reg,'model_jlib')"
   ]
  },
  {
   "cell_type": "code",
   "execution_count": 95,
   "id": "c7c61dea",
   "metadata": {},
   "outputs": [],
   "source": [
    "jl_deploy_lr=joblib.load('model_jlib')"
   ]
  },
  {
   "cell_type": "code",
   "execution_count": 96,
   "id": "fe3420c8",
   "metadata": {},
   "outputs": [
    {
     "data": {
      "text/plain": [
       "array([644521.32431121])"
      ]
     },
     "execution_count": 96,
     "metadata": {},
     "output_type": "execute_result"
    }
   ],
   "source": [
    "jl_deploy_lr.predict([[4200,5]])"
   ]
  },
  {
   "cell_type": "code",
   "execution_count": null,
   "id": "3aaeee18",
   "metadata": {},
   "outputs": [],
   "source": []
  }
 ],
 "metadata": {
  "kernelspec": {
   "display_name": "Python 3 (ipykernel)",
   "language": "python",
   "name": "python3"
  },
  "language_info": {
   "codemirror_mode": {
    "name": "ipython",
    "version": 3
   },
   "file_extension": ".py",
   "mimetype": "text/x-python",
   "name": "python",
   "nbconvert_exporter": "python",
   "pygments_lexer": "ipython3",
   "version": "3.11.4"
  }
 },
 "nbformat": 4,
 "nbformat_minor": 5
}
