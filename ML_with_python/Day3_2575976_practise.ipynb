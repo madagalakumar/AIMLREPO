{
 "cells": [
  {
   "cell_type": "markdown",
   "id": "cbc07b48",
   "metadata": {},
   "source": [
    "# Building a Logistic Regression Classification Model"
   ]
  },
  {
   "cell_type": "code",
   "execution_count": 75,
   "id": "8877865b",
   "metadata": {},
   "outputs": [],
   "source": [
    "import pandas as pd\n",
    "\n",
    "import numpy as np\n",
    "\n",
    "import matplotlib.pyplot as plt\n",
    "\n",
    "import seaborn as sns\n",
    "\n",
    "from sklearn.model_selection import train_test_split\n",
    "\n",
    "from sklearn.linear_model import LogisticRegression\n"
   ]
  },
  {
   "cell_type": "code",
   "execution_count": 2,
   "id": "45bde10d",
   "metadata": {},
   "outputs": [
    {
     "data": {
      "text/html": [
       "<div>\n",
       "<style scoped>\n",
       "    .dataframe tbody tr th:only-of-type {\n",
       "        vertical-align: middle;\n",
       "    }\n",
       "\n",
       "    .dataframe tbody tr th {\n",
       "        vertical-align: top;\n",
       "    }\n",
       "\n",
       "    .dataframe thead th {\n",
       "        text-align: right;\n",
       "    }\n",
       "</style>\n",
       "<table border=\"1\" class=\"dataframe\">\n",
       "  <thead>\n",
       "    <tr style=\"text-align: right;\">\n",
       "      <th></th>\n",
       "      <th>Pregnancies</th>\n",
       "      <th>Glucose</th>\n",
       "      <th>BloodPressure</th>\n",
       "      <th>SkinThickness</th>\n",
       "      <th>Insulin</th>\n",
       "      <th>BMI</th>\n",
       "      <th>DiabetesPedigreeFunction</th>\n",
       "      <th>Age</th>\n",
       "      <th>Outcome</th>\n",
       "    </tr>\n",
       "  </thead>\n",
       "  <tbody>\n",
       "    <tr>\n",
       "      <th>0</th>\n",
       "      <td>6.0</td>\n",
       "      <td>148</td>\n",
       "      <td>72</td>\n",
       "      <td>35.0</td>\n",
       "      <td>0</td>\n",
       "      <td>33.6</td>\n",
       "      <td>0.627</td>\n",
       "      <td>50.0</td>\n",
       "      <td>1</td>\n",
       "    </tr>\n",
       "    <tr>\n",
       "      <th>1</th>\n",
       "      <td>NaN</td>\n",
       "      <td>85</td>\n",
       "      <td>66</td>\n",
       "      <td>29.0</td>\n",
       "      <td>0</td>\n",
       "      <td>26.6</td>\n",
       "      <td>0.351</td>\n",
       "      <td>NaN</td>\n",
       "      <td>0</td>\n",
       "    </tr>\n",
       "    <tr>\n",
       "      <th>2</th>\n",
       "      <td>8.0</td>\n",
       "      <td>183</td>\n",
       "      <td>64</td>\n",
       "      <td>0.0</td>\n",
       "      <td>0</td>\n",
       "      <td>NaN</td>\n",
       "      <td>0.672</td>\n",
       "      <td>32.0</td>\n",
       "      <td>1</td>\n",
       "    </tr>\n",
       "    <tr>\n",
       "      <th>3</th>\n",
       "      <td>1.0</td>\n",
       "      <td>89</td>\n",
       "      <td>66</td>\n",
       "      <td>23.0</td>\n",
       "      <td>94</td>\n",
       "      <td>28.1</td>\n",
       "      <td>0.167</td>\n",
       "      <td>21.0</td>\n",
       "      <td>0</td>\n",
       "    </tr>\n",
       "    <tr>\n",
       "      <th>4</th>\n",
       "      <td>0.0</td>\n",
       "      <td>137</td>\n",
       "      <td>40</td>\n",
       "      <td>35.0</td>\n",
       "      <td>168</td>\n",
       "      <td>43.1</td>\n",
       "      <td>2.288</td>\n",
       "      <td>33.0</td>\n",
       "      <td>1</td>\n",
       "    </tr>\n",
       "  </tbody>\n",
       "</table>\n",
       "</div>"
      ],
      "text/plain": [
       "   Pregnancies  Glucose  BloodPressure  SkinThickness  Insulin   BMI  \\\n",
       "0          6.0      148             72           35.0        0  33.6   \n",
       "1          NaN       85             66           29.0        0  26.6   \n",
       "2          8.0      183             64            0.0        0   NaN   \n",
       "3          1.0       89             66           23.0       94  28.1   \n",
       "4          0.0      137             40           35.0      168  43.1   \n",
       "\n",
       "   DiabetesPedigreeFunction   Age  Outcome  \n",
       "0                     0.627  50.0        1  \n",
       "1                     0.351   NaN        0  \n",
       "2                     0.672  32.0        1  \n",
       "3                     0.167  21.0        0  \n",
       "4                     2.288  33.0        1  "
      ]
     },
     "execution_count": 2,
     "metadata": {},
     "output_type": "execute_result"
    }
   ],
   "source": [
    "#Load the dataset\n",
    "\n",
    "data=pd.read_csv('diabetes_na.csv')\n",
    "\n",
    "data.head()"
   ]
  },
  {
   "cell_type": "code",
   "execution_count": 3,
   "id": "30831a12",
   "metadata": {},
   "outputs": [
    {
     "data": {
      "text/plain": [
       "(768, 9)"
      ]
     },
     "execution_count": 3,
     "metadata": {},
     "output_type": "execute_result"
    }
   ],
   "source": [
    "data.shape"
   ]
  },
  {
   "cell_type": "code",
   "execution_count": 4,
   "id": "acce44c0",
   "metadata": {},
   "outputs": [
    {
     "name": "stdout",
     "output_type": "stream",
     "text": [
      "<class 'pandas.core.frame.DataFrame'>\n",
      "RangeIndex: 768 entries, 0 to 767\n",
      "Data columns (total 9 columns):\n",
      " #   Column                    Non-Null Count  Dtype  \n",
      "---  ------                    --------------  -----  \n",
      " 0   Pregnancies               766 non-null    float64\n",
      " 1   Glucose                   768 non-null    int64  \n",
      " 2   BloodPressure             768 non-null    int64  \n",
      " 3   SkinThickness             767 non-null    float64\n",
      " 4   Insulin                   768 non-null    int64  \n",
      " 5   BMI                       767 non-null    float64\n",
      " 6   DiabetesPedigreeFunction  768 non-null    float64\n",
      " 7   Age                       767 non-null    float64\n",
      " 8   Outcome                   768 non-null    int64  \n",
      "dtypes: float64(5), int64(4)\n",
      "memory usage: 54.1 KB\n"
     ]
    }
   ],
   "source": [
    "data.info()"
   ]
  },
  {
   "cell_type": "code",
   "execution_count": 5,
   "id": "3a325859",
   "metadata": {},
   "outputs": [
    {
     "data": {
      "text/html": [
       "<div>\n",
       "<style scoped>\n",
       "    .dataframe tbody tr th:only-of-type {\n",
       "        vertical-align: middle;\n",
       "    }\n",
       "\n",
       "    .dataframe tbody tr th {\n",
       "        vertical-align: top;\n",
       "    }\n",
       "\n",
       "    .dataframe thead th {\n",
       "        text-align: right;\n",
       "    }\n",
       "</style>\n",
       "<table border=\"1\" class=\"dataframe\">\n",
       "  <thead>\n",
       "    <tr style=\"text-align: right;\">\n",
       "      <th></th>\n",
       "      <th>Pregnancies</th>\n",
       "      <th>Glucose</th>\n",
       "      <th>BloodPressure</th>\n",
       "      <th>SkinThickness</th>\n",
       "      <th>Insulin</th>\n",
       "      <th>BMI</th>\n",
       "      <th>DiabetesPedigreeFunction</th>\n",
       "      <th>Age</th>\n",
       "      <th>Outcome</th>\n",
       "    </tr>\n",
       "  </thead>\n",
       "  <tbody>\n",
       "    <tr>\n",
       "      <th>count</th>\n",
       "      <td>766.000000</td>\n",
       "      <td>768.000000</td>\n",
       "      <td>768.000000</td>\n",
       "      <td>767.000000</td>\n",
       "      <td>768.000000</td>\n",
       "      <td>767.000000</td>\n",
       "      <td>768.000000</td>\n",
       "      <td>767.000000</td>\n",
       "      <td>768.000000</td>\n",
       "    </tr>\n",
       "    <tr>\n",
       "      <th>mean</th>\n",
       "      <td>3.849869</td>\n",
       "      <td>120.894531</td>\n",
       "      <td>69.105469</td>\n",
       "      <td>20.517601</td>\n",
       "      <td>79.799479</td>\n",
       "      <td>32.003911</td>\n",
       "      <td>0.471876</td>\n",
       "      <td>33.243807</td>\n",
       "      <td>0.348958</td>\n",
       "    </tr>\n",
       "    <tr>\n",
       "      <th>std</th>\n",
       "      <td>3.372270</td>\n",
       "      <td>31.972618</td>\n",
       "      <td>19.355807</td>\n",
       "      <td>15.954059</td>\n",
       "      <td>115.244002</td>\n",
       "      <td>7.883043</td>\n",
       "      <td>0.331329</td>\n",
       "      <td>11.767627</td>\n",
       "      <td>0.476951</td>\n",
       "    </tr>\n",
       "    <tr>\n",
       "      <th>min</th>\n",
       "      <td>0.000000</td>\n",
       "      <td>0.000000</td>\n",
       "      <td>0.000000</td>\n",
       "      <td>0.000000</td>\n",
       "      <td>0.000000</td>\n",
       "      <td>0.000000</td>\n",
       "      <td>0.078000</td>\n",
       "      <td>21.000000</td>\n",
       "      <td>0.000000</td>\n",
       "    </tr>\n",
       "    <tr>\n",
       "      <th>25%</th>\n",
       "      <td>1.000000</td>\n",
       "      <td>99.000000</td>\n",
       "      <td>62.000000</td>\n",
       "      <td>0.000000</td>\n",
       "      <td>0.000000</td>\n",
       "      <td>27.300000</td>\n",
       "      <td>0.243750</td>\n",
       "      <td>24.000000</td>\n",
       "      <td>0.000000</td>\n",
       "    </tr>\n",
       "    <tr>\n",
       "      <th>50%</th>\n",
       "      <td>3.000000</td>\n",
       "      <td>117.000000</td>\n",
       "      <td>72.000000</td>\n",
       "      <td>23.000000</td>\n",
       "      <td>30.500000</td>\n",
       "      <td>32.000000</td>\n",
       "      <td>0.372500</td>\n",
       "      <td>29.000000</td>\n",
       "      <td>0.000000</td>\n",
       "    </tr>\n",
       "    <tr>\n",
       "      <th>75%</th>\n",
       "      <td>6.000000</td>\n",
       "      <td>140.250000</td>\n",
       "      <td>80.000000</td>\n",
       "      <td>32.000000</td>\n",
       "      <td>127.250000</td>\n",
       "      <td>36.600000</td>\n",
       "      <td>0.626250</td>\n",
       "      <td>41.000000</td>\n",
       "      <td>1.000000</td>\n",
       "    </tr>\n",
       "    <tr>\n",
       "      <th>max</th>\n",
       "      <td>17.000000</td>\n",
       "      <td>199.000000</td>\n",
       "      <td>122.000000</td>\n",
       "      <td>99.000000</td>\n",
       "      <td>846.000000</td>\n",
       "      <td>67.100000</td>\n",
       "      <td>2.420000</td>\n",
       "      <td>81.000000</td>\n",
       "      <td>1.000000</td>\n",
       "    </tr>\n",
       "  </tbody>\n",
       "</table>\n",
       "</div>"
      ],
      "text/plain": [
       "       Pregnancies     Glucose  BloodPressure  SkinThickness     Insulin  \\\n",
       "count   766.000000  768.000000     768.000000     767.000000  768.000000   \n",
       "mean      3.849869  120.894531      69.105469      20.517601   79.799479   \n",
       "std       3.372270   31.972618      19.355807      15.954059  115.244002   \n",
       "min       0.000000    0.000000       0.000000       0.000000    0.000000   \n",
       "25%       1.000000   99.000000      62.000000       0.000000    0.000000   \n",
       "50%       3.000000  117.000000      72.000000      23.000000   30.500000   \n",
       "75%       6.000000  140.250000      80.000000      32.000000  127.250000   \n",
       "max      17.000000  199.000000     122.000000      99.000000  846.000000   \n",
       "\n",
       "              BMI  DiabetesPedigreeFunction         Age     Outcome  \n",
       "count  767.000000                768.000000  767.000000  768.000000  \n",
       "mean    32.003911                  0.471876   33.243807    0.348958  \n",
       "std      7.883043                  0.331329   11.767627    0.476951  \n",
       "min      0.000000                  0.078000   21.000000    0.000000  \n",
       "25%     27.300000                  0.243750   24.000000    0.000000  \n",
       "50%     32.000000                  0.372500   29.000000    0.000000  \n",
       "75%     36.600000                  0.626250   41.000000    1.000000  \n",
       "max     67.100000                  2.420000   81.000000    1.000000  "
      ]
     },
     "execution_count": 5,
     "metadata": {},
     "output_type": "execute_result"
    }
   ],
   "source": [
    "data.describe()"
   ]
  },
  {
   "cell_type": "markdown",
   "id": "9d7eebe6",
   "metadata": {},
   "source": [
    "# Checking the Missing Values"
   ]
  },
  {
   "cell_type": "code",
   "execution_count": 6,
   "id": "ea80e41b",
   "metadata": {},
   "outputs": [
    {
     "data": {
      "text/plain": [
       "Pregnancies                 2\n",
       "Glucose                     0\n",
       "BloodPressure               0\n",
       "SkinThickness               1\n",
       "Insulin                     0\n",
       "BMI                         1\n",
       "DiabetesPedigreeFunction    0\n",
       "Age                         1\n",
       "Outcome                     0\n",
       "dtype: int64"
      ]
     },
     "execution_count": 6,
     "metadata": {},
     "output_type": "execute_result"
    }
   ],
   "source": [
    "data.isna().sum()"
   ]
  },
  {
   "cell_type": "code",
   "execution_count": 7,
   "id": "4c62d72b",
   "metadata": {},
   "outputs": [
    {
     "data": {
      "text/plain": [
       "Pregnancies                 0\n",
       "Glucose                     0\n",
       "BloodPressure               0\n",
       "SkinThickness               0\n",
       "Insulin                     0\n",
       "BMI                         0\n",
       "DiabetesPedigreeFunction    0\n",
       "Age                         0\n",
       "Outcome                     0\n",
       "dtype: int64"
      ]
     },
     "execution_count": 7,
     "metadata": {},
     "output_type": "execute_result"
    }
   ],
   "source": [
    "df=data.fillna(method='bfill')\n",
    "df.isna().sum()"
   ]
  },
  {
   "cell_type": "code",
   "execution_count": 8,
   "id": "48dd5997",
   "metadata": {},
   "outputs": [
    {
     "data": {
      "text/html": [
       "<div>\n",
       "<style scoped>\n",
       "    .dataframe tbody tr th:only-of-type {\n",
       "        vertical-align: middle;\n",
       "    }\n",
       "\n",
       "    .dataframe tbody tr th {\n",
       "        vertical-align: top;\n",
       "    }\n",
       "\n",
       "    .dataframe thead th {\n",
       "        text-align: right;\n",
       "    }\n",
       "</style>\n",
       "<table border=\"1\" class=\"dataframe\">\n",
       "  <thead>\n",
       "    <tr style=\"text-align: right;\">\n",
       "      <th></th>\n",
       "      <th>Pregnancies</th>\n",
       "      <th>Glucose</th>\n",
       "      <th>BloodPressure</th>\n",
       "      <th>SkinThickness</th>\n",
       "      <th>Insulin</th>\n",
       "      <th>BMI</th>\n",
       "      <th>DiabetesPedigreeFunction</th>\n",
       "      <th>Age</th>\n",
       "      <th>Outcome</th>\n",
       "    </tr>\n",
       "  </thead>\n",
       "  <tbody>\n",
       "    <tr>\n",
       "      <th>0</th>\n",
       "      <td>6.0</td>\n",
       "      <td>148</td>\n",
       "      <td>72</td>\n",
       "      <td>35.0</td>\n",
       "      <td>0</td>\n",
       "      <td>33.6</td>\n",
       "      <td>0.627</td>\n",
       "      <td>50.0</td>\n",
       "      <td>1</td>\n",
       "    </tr>\n",
       "    <tr>\n",
       "      <th>1</th>\n",
       "      <td>8.0</td>\n",
       "      <td>85</td>\n",
       "      <td>66</td>\n",
       "      <td>29.0</td>\n",
       "      <td>0</td>\n",
       "      <td>26.6</td>\n",
       "      <td>0.351</td>\n",
       "      <td>32.0</td>\n",
       "      <td>0</td>\n",
       "    </tr>\n",
       "    <tr>\n",
       "      <th>2</th>\n",
       "      <td>8.0</td>\n",
       "      <td>183</td>\n",
       "      <td>64</td>\n",
       "      <td>0.0</td>\n",
       "      <td>0</td>\n",
       "      <td>28.1</td>\n",
       "      <td>0.672</td>\n",
       "      <td>32.0</td>\n",
       "      <td>1</td>\n",
       "    </tr>\n",
       "    <tr>\n",
       "      <th>3</th>\n",
       "      <td>1.0</td>\n",
       "      <td>89</td>\n",
       "      <td>66</td>\n",
       "      <td>23.0</td>\n",
       "      <td>94</td>\n",
       "      <td>28.1</td>\n",
       "      <td>0.167</td>\n",
       "      <td>21.0</td>\n",
       "      <td>0</td>\n",
       "    </tr>\n",
       "    <tr>\n",
       "      <th>4</th>\n",
       "      <td>0.0</td>\n",
       "      <td>137</td>\n",
       "      <td>40</td>\n",
       "      <td>35.0</td>\n",
       "      <td>168</td>\n",
       "      <td>43.1</td>\n",
       "      <td>2.288</td>\n",
       "      <td>33.0</td>\n",
       "      <td>1</td>\n",
       "    </tr>\n",
       "  </tbody>\n",
       "</table>\n",
       "</div>"
      ],
      "text/plain": [
       "   Pregnancies  Glucose  BloodPressure  SkinThickness  Insulin   BMI  \\\n",
       "0          6.0      148             72           35.0        0  33.6   \n",
       "1          8.0       85             66           29.0        0  26.6   \n",
       "2          8.0      183             64            0.0        0  28.1   \n",
       "3          1.0       89             66           23.0       94  28.1   \n",
       "4          0.0      137             40           35.0      168  43.1   \n",
       "\n",
       "   DiabetesPedigreeFunction   Age  Outcome  \n",
       "0                     0.627  50.0        1  \n",
       "1                     0.351  32.0        0  \n",
       "2                     0.672  32.0        1  \n",
       "3                     0.167  21.0        0  \n",
       "4                     2.288  33.0        1  "
      ]
     },
     "execution_count": 8,
     "metadata": {},
     "output_type": "execute_result"
    }
   ],
   "source": [
    "df.head()"
   ]
  },
  {
   "cell_type": "code",
   "execution_count": 9,
   "id": "62b6bc5b",
   "metadata": {},
   "outputs": [
    {
     "data": {
      "text/plain": [
       "array([[<Axes: title={'center': 'Pregnancies'}>,\n",
       "        <Axes: title={'center': 'Glucose'}>,\n",
       "        <Axes: title={'center': 'BloodPressure'}>],\n",
       "       [<Axes: title={'center': 'SkinThickness'}>,\n",
       "        <Axes: title={'center': 'Insulin'}>,\n",
       "        <Axes: title={'center': 'BMI'}>],\n",
       "       [<Axes: title={'center': 'DiabetesPedigreeFunction'}>,\n",
       "        <Axes: title={'center': 'Age'}>,\n",
       "        <Axes: title={'center': 'Outcome'}>]], dtype=object)"
      ]
     },
     "execution_count": 9,
     "metadata": {},
     "output_type": "execute_result"
    },
    {
     "data": {
      "image/png": "[encoded data removed]",
      "text/plain": [
       "<Figure size 1600x1000 with 9 Axes>"
      ]
     },
     "metadata": {},
     "output_type": "display_data"
    }
   ],
   "source": [
    "df.hist(figsize=(16,10))"
   ]
  },
  {
   "cell_type": "code",
   "execution_count": 10,
   "id": "49157855",
   "metadata": {},
   "outputs": [
    {
     "data": {
      "text/plain": [
       "<Axes: >"
      ]
     },
     "execution_count": 10,
     "metadata": {},
     "output_type": "execute_result"
    },
    {
     "data": {
      "image/png": "[encoded data removed]",
      "text/plain": [
       "<Figure size 1600x800 with 1 Axes>"
      ]
     },
     "metadata": {},
     "output_type": "display_data"
    }
   ],
   "source": [
    "df.boxplot(figsize=(16,8))"
   ]
  },
  {
   "cell_type": "code",
   "execution_count": 11,
   "id": "8b2aa59c",
   "metadata": {},
   "outputs": [
    {
     "data": {
      "text/plain": [
       "<Axes: >"
      ]
     },
     "execution_count": 11,
     "metadata": {},
     "output_type": "execute_result"
    },
    {
     "data": {
      "image/png": "[encoded data removed]",
      "text/plain": [
       "<Figure size 640x480 with 1 Axes>"
      ]
     },
     "metadata": {},
     "output_type": "display_data"
    }
   ],
   "source": [
    "sns.boxplot(df['Pregnancies'])"
   ]
  },
  {
   "cell_type": "markdown",
   "id": "81b28571",
   "metadata": {},
   "source": [
    "# Assign the X & Y"
   ]
  },
  {
   "cell_type": "code",
   "execution_count": 12,
   "id": "dd192a42",
   "metadata": {},
   "outputs": [],
   "source": [
    "x=df.iloc[:,:-1]\n",
    "y=df.iloc[:,-1:].values"
   ]
  },
  {
   "cell_type": "code",
   "execution_count": 13,
   "id": "80f929db",
   "metadata": {},
   "outputs": [
    {
     "data": {
      "text/html": [
       "<div>\n",
       "<style scoped>\n",
       "    .dataframe tbody tr th:only-of-type {\n",
       "        vertical-align: middle;\n",
       "    }\n",
       "\n",
       "    .dataframe tbody tr th {\n",
       "        vertical-align: top;\n",
       "    }\n",
       "\n",
       "    .dataframe thead th {\n",
       "        text-align: right;\n",
       "    }\n",
       "</style>\n",
       "<table border=\"1\" class=\"dataframe\">\n",
       "  <thead>\n",
       "    <tr style=\"text-align: right;\">\n",
       "      <th></th>\n",
       "      <th>Pregnancies</th>\n",
       "      <th>Glucose</th>\n",
       "      <th>BloodPressure</th>\n",
       "      <th>SkinThickness</th>\n",
       "      <th>Insulin</th>\n",
       "      <th>BMI</th>\n",
       "      <th>DiabetesPedigreeFunction</th>\n",
       "      <th>Age</th>\n",
       "    </tr>\n",
       "  </thead>\n",
       "  <tbody>\n",
       "    <tr>\n",
       "      <th>0</th>\n",
       "      <td>6.0</td>\n",
       "      <td>148</td>\n",
       "      <td>72</td>\n",
       "      <td>35.0</td>\n",
       "      <td>0</td>\n",
       "      <td>33.6</td>\n",
       "      <td>0.627</td>\n",
       "      <td>50.0</td>\n",
       "    </tr>\n",
       "    <tr>\n",
       "      <th>1</th>\n",
       "      <td>8.0</td>\n",
       "      <td>85</td>\n",
       "      <td>66</td>\n",
       "      <td>29.0</td>\n",
       "      <td>0</td>\n",
       "      <td>26.6</td>\n",
       "      <td>0.351</td>\n",
       "      <td>32.0</td>\n",
       "    </tr>\n",
       "  </tbody>\n",
       "</table>\n",
       "</div>"
      ],
      "text/plain": [
       "   Pregnancies  Glucose  BloodPressure  SkinThickness  Insulin   BMI  \\\n",
       "0          6.0      148             72           35.0        0  33.6   \n",
       "1          8.0       85             66           29.0        0  26.6   \n",
       "\n",
       "   DiabetesPedigreeFunction   Age  \n",
       "0                     0.627  50.0  \n",
       "1                     0.351  32.0  "
      ]
     },
     "execution_count": 13,
     "metadata": {},
     "output_type": "execute_result"
    }
   ],
   "source": [
    "x.head(2)"
   ]
  },
  {
   "cell_type": "code",
   "execution_count": 15,
   "id": "b55a8a7f",
   "metadata": {},
   "outputs": [
    {
     "data": {
      "text/plain": [
       "<Axes: ylabel='count'>"
      ]
     },
     "execution_count": 15,
     "metadata": {},
     "output_type": "execute_result"
    },
    {
     "data": {
      "image/png": "[encoded data removed]",
      "text/plain": [
       "<Figure size 640x480 with 1 Axes>"
      ]
     },
     "metadata": {},
     "output_type": "display_data"
    }
   ],
   "source": [
    "sns.countplot(df['Outcome'])"
   ]
  },
  {
   "cell_type": "markdown",
   "id": "7faa4006",
   "metadata": {},
   "source": [
    "# Split the data for Training & Testing"
   ]
  },
  {
   "cell_type": "code",
   "execution_count": 18,
   "id": "5f748efd",
   "metadata": {},
   "outputs": [
    {
     "name": "stdout",
     "output_type": "stream",
     "text": [
      "***************Training Data Shape...............****\n",
      "\n",
      "Training data-X- Shape: \t (576, 8)\n",
      "\n",
      "Training data-y- Shape: \t (576, 1)\n",
      "\n",
      "***************Testing Data Shape*******************\n",
      "\n",
      "Testing data(x-Input) Shape: \t (192, 8)\n",
      "\n",
      "Testing data(y-Outcome) Shape:\t (192, 1)\n"
     ]
    }
   ],
   "source": [
    "xtrain, xtest,ytrain,ytest=train_test_split(x,y,test_size=.25,random_state=2)\n",
    "\n",
    "print('***************Training Data Shape...............****\\n')\n",
    "\n",
    "print('Training data-X- Shape: \\t',xtrain.shape)\n",
    "\n",
    "print()\n",
    "\n",
    "print('Training data-y- Shape: \\t', ytrain.shape)\n",
    "\n",
    "print()\n",
    "\n",
    "print('***************Testing Data Shape*******************\\n')\n",
    "\n",
    "print('Testing data(x-Input) Shape: \\t', xtest.shape)\n",
    "\n",
    "print()\n",
    "\n",
    "print('Testing data(y-Outcome) Shape:\\t',ytest.shape)"
   ]
  },
  {
   "cell_type": "markdown",
   "id": "e254e1b5",
   "metadata": {},
   "source": [
    "# Model Development with Logistic Regression Algorithm"
   ]
  },
  {
   "cell_type": "code",
   "execution_count": 22,
   "id": "231c1c82",
   "metadata": {},
   "outputs": [
    {
     "name": "stdout",
     "output_type": "stream",
     "text": [
      "Training the model\n",
      "\n",
      "[LibLinear]Predicted Label for the input samples: \n",
      " [0 0 0 0 0 0 0 0 0 1 0 0 1 0 0 1 1 0 0 1 1 1 0 0 0 0 1 0 0 0 0 0 0 0 0 1 0\n",
      " 1 0 0 0 0 1 0 0 0 0 0 0 0 1 0 0 1 0 0 1 0 0 0 0 1 1 1 0 0 1 0 0 0 0 0 0 0\n",
      " 0 1 0 0 0 0 0 0 0 0 1 0 0 0 0 0 0 0 0 0 0 1 0 1 1 0 0 1 0 0 0 0 1 0 0 0 0\n",
      " 0 0 0 0 1 0 0 0 0 0 0 0 0 0 1 0 0 0 0 1 0 0 0 1 1 0 0 0 1 0 1 0 0 0 0 0 0\n",
      " 0 0 0 0 0 0 0 0 0 1 0 1 0 0 0 0 0 0 0 1 0 0 0 1 0 0 0 0 0 0 0 0 0 0 1 0 0\n",
      " 0 0 0 0 1 0 0]\n",
      "\n",
      "Testing is completed\n",
      "\n",
      "Testing samples are: \t 192\n"
     ]
    },
    {
     "name": "stderr",
     "output_type": "stream",
     "text": [
      "C:\\Users\\jagad\\anaconda3\\Lib\\site-packages\\sklearn\\utils\\validation.py:1184: DataConversionWarning: A column-vector y was passed when a 1d array was expected. Please change the shape of y to (n_samples, ), for example using ravel().\n",
      "  y = column_or_1d(y, warn=True)\n"
     ]
    }
   ],
   "source": [
    "#invoke the Log reg algorithm from sklearn\n",
    "\n",
    "log_reg=LogisticRegression(solver='liblinear', verbose=2)\n",
    "\n",
    "#Train the model\n",
    "\n",
    "print('Training the model\\n')\n",
    "log_reg.fit(xtrain, ytrain)\n",
    "#Test the model\n",
    "ypred=log_reg.predict(xtest)\n",
    "print('Predicted Label for the input samples: \\n', ypred)\n",
    "print()\n",
    "print('Testing is completed\\n')\n",
    "print('Testing samples are: \\t',len(ypred))"
   ]
  },
  {
   "cell_type": "markdown",
   "id": "054c5b85",
   "metadata": {},
   "source": [
    "# Performance Measures"
   ]
  },
  {
   "cell_type": "code",
   "execution_count": 23,
   "id": "13c15f23",
   "metadata": {},
   "outputs": [
    {
     "name": "stdout",
     "output_type": "stream",
     "text": [
      "********************Performance Measures for Logistic Regression Classification*********\n",
      "Accuracy Score:\t\n",
      " 0.7604166666666666\n",
      "\n",
      "================================================================================\n",
      "Confusion Matrix:\n",
      " [[121  13]\n",
      " [ 33  25]]\n",
      "\n",
      "================================================================================\n",
      "Classification Report: \n",
      "               precision    recall  f1-score   support\n",
      "\n",
      "           0       0.79      0.90      0.84       134\n",
      "           1       0.66      0.43      0.52        58\n",
      "\n",
      "    accuracy                           0.76       192\n",
      "   macro avg       0.72      0.67      0.68       192\n",
      "weighted avg       0.75      0.76      0.74       192\n",
      "\n",
      "================================================================================\n"
     ]
    }
   ],
   "source": [
    "from sklearn.metrics import accuracy_score\n",
    "\n",
    "from sklearn.metrics import confusion_matrix\n",
    "from sklearn.metrics import classification_report\n",
    "print('********************Performance Measures for Logistic Regression Classification*********')\n",
    "print('Accuracy Score:\\t\\n', accuracy_score(ytest, ypred))\n",
    "print()\n",
    "print('='*80)\n",
    "print('Confusion Matrix:\\n', confusion_matrix(ytest,ypred))\n",
    "print()\n",
    "print('='*80)\n",
    "print('Classification Report: \\n', classification_report(ytest,ypred))\n",
    "print('='*80)"
   ]
  },
  {
   "cell_type": "code",
   "execution_count": 24,
   "id": "5b4b368c",
   "metadata": {},
   "outputs": [
    {
     "data": {
      "text/plain": [
       "0    500\n",
       "1    268\n",
       "Name: Outcome, dtype: int64"
      ]
     },
     "execution_count": 24,
     "metadata": {},
     "output_type": "execute_result"
    }
   ],
   "source": [
    "df['Outcome'].value_counts()"
   ]
  },
  {
   "cell_type": "code",
   "execution_count": 25,
   "id": "378fb7ec",
   "metadata": {},
   "outputs": [
    {
     "data": {
      "text/plain": [
       "array([0, 1], dtype=int64)"
      ]
     },
     "execution_count": 25,
     "metadata": {},
     "output_type": "execute_result"
    }
   ],
   "source": [
    "log_reg.classes_"
   ]
  },
  {
   "cell_type": "code",
   "execution_count": 26,
   "id": "5704fbbc",
   "metadata": {},
   "outputs": [
    {
     "data": {
      "text/plain": [
       "<bound method LinearClassifierMixin.decision_function of LogisticRegression(solver='liblinear', verbose=2)>"
      ]
     },
     "execution_count": 26,
     "metadata": {},
     "output_type": "execute_result"
    }
   ],
   "source": [
    "log_reg.decision_function"
   ]
  },
  {
   "cell_type": "code",
   "execution_count": 27,
   "id": "63dafb7e",
   "metadata": {},
   "outputs": [
    {
     "data": {
      "text/plain": [
       "{'C': 1.0,\n",
       " 'class_weight': None,\n",
       " 'dual': False,\n",
       " 'fit_intercept': True,\n",
       " 'intercept_scaling': 1,\n",
       " 'l1_ratio': None,\n",
       " 'max_iter': 100,\n",
       " 'multi_class': 'auto',\n",
       " 'n_jobs': None,\n",
       " 'penalty': 'l2',\n",
       " 'random_state': None,\n",
       " 'solver': 'liblinear',\n",
       " 'tol': 0.0001,\n",
       " 'verbose': 2,\n",
       " 'warm_start': False}"
      ]
     },
     "execution_count": 27,
     "metadata": {},
     "output_type": "execute_result"
    }
   ],
   "source": [
    "log_reg.get_params()"
   ]
  },
  {
   "cell_type": "markdown",
   "id": "26535d0d",
   "metadata": {},
   "source": [
    "# ROC Curve"
   ]
  },
  {
   "cell_type": "code",
   "execution_count": 28,
   "id": "0752e69e",
   "metadata": {},
   "outputs": [
    {
     "data": {
      "text/plain": [
       "array([0.08867946, 0.20436704, 0.11852957, 0.20293295, 0.45903765,\n",
       "       0.17107269, 0.11086474, 0.42839362, 0.10478583, 0.54996264,\n",
       "       0.41383121, 0.46049241, 0.70549546, 0.20449486, 0.0502735 ,\n",
       "       0.78687109, 0.79828656, 0.07030348, 0.33820884, 0.80797643,\n",
       "       0.91462254, 0.79010684, 0.17505306, 0.32742388, 0.14757489,\n",
       "       0.1141207 , 0.54288149, 0.3726473 , 0.19657892, 0.31020263,\n",
       "       0.24431265, 0.43058201, 0.06678921, 0.27557649, 0.40642484,\n",
       "       0.92005269, 0.35746713, 0.75681692, 0.31757295, 0.11260973,\n",
       "       0.25103537, 0.1009415 , 0.58548219, 0.22504399, 0.05906768,\n",
       "       0.08313809, 0.27410264, 0.43343787, 0.12995668, 0.44023534,\n",
       "       0.9631171 , 0.09595362, 0.32135212, 0.73731387, 0.37600675,\n",
       "       0.47335157, 0.88162224, 0.38263526, 0.25806379, 0.09172959,\n",
       "       0.40422002, 0.81077224, 0.79035913, 0.84087039, 0.32464727,\n",
       "       0.11977772, 0.93667066, 0.34972082, 0.32314778, 0.34307042,\n",
       "       0.14512346, 0.11637109, 0.47320192, 0.12564443, 0.1392552 ,\n",
       "       0.50897355, 0.38917383, 0.12186853, 0.28326592, 0.38629077,\n",
       "       0.08117575, 0.19559173, 0.06672816, 0.24570098, 0.64240978,\n",
       "       0.29221661, 0.11202511, 0.15055776, 0.21749489, 0.49367993,\n",
       "       0.16534994, 0.28060443, 0.15678842, 0.21937754, 0.16387122,\n",
       "       0.59376   , 0.34034791, 0.50304314, 0.58427404, 0.08065357,\n",
       "       0.399281  , 0.53360697, 0.1496442 , 0.13703687, 0.25890606,\n",
       "       0.1689604 , 0.96182228, 0.19770814, 0.14024751, 0.00625897,\n",
       "       0.07821579, 0.34974071, 0.45944965, 0.11079409, 0.30029802,\n",
       "       0.58230854, 0.46949652, 0.33475537, 0.19923414, 0.21834426,\n",
       "       0.03795026, 0.26106795, 0.16523525, 0.15908355, 0.29396271,\n",
       "       0.80420489, 0.19720227, 0.42525425, 0.34990824, 0.44551478,\n",
       "       0.58026401, 0.27669773, 0.44133371, 0.10769339, 0.63850204,\n",
       "       0.5506    , 0.29952091, 0.28173721, 0.22397835, 0.50200793,\n",
       "       0.16487289, 0.55724397, 0.17640535, 0.35137486, 0.26940629,\n",
       "       0.271986  , 0.05487978, 0.38710501, 0.06297522, 0.19693346,\n",
       "       0.123205  , 0.23688878, 0.48503399, 0.05779307, 0.177659  ,\n",
       "       0.09075082, 0.16682158, 0.82960869, 0.10372956, 0.77295671,\n",
       "       0.22737918, 0.00984723, 0.34607397, 0.08822032, 0.16880349,\n",
       "       0.10899172, 0.38768776, 0.83332789, 0.27678377, 0.12725724,\n",
       "       0.28904929, 0.69793125, 0.17741042, 0.21773037, 0.15382541,\n",
       "       0.29470342, 0.45399796, 0.34655379, 0.2758366 , 0.10040852,\n",
       "       0.1944144 , 0.07066518, 0.71951351, 0.42778277, 0.0834325 ,\n",
       "       0.109665  , 0.10997738, 0.40013565, 0.1688786 , 0.69841751,\n",
       "       0.25511429, 0.20543087])"
      ]
     },
     "execution_count": 28,
     "metadata": {},
     "output_type": "execute_result"
    }
   ],
   "source": [
    "y_probs = log_reg.predict_proba(xtest)[:,1]\n",
    "y_probs"
   ]
  },
  {
   "cell_type": "code",
   "execution_count": 30,
   "id": "44f4a9c0",
   "metadata": {},
   "outputs": [
    {
     "data": {
      "image/png": "[encoded data removed]",
      "text/plain": [
       "<Figure size 800x600 with 1 Axes>"
      ]
     },
     "metadata": {},
     "output_type": "display_data"
    }
   ],
   "source": [
    "from sklearn.metrics import roc_curve, roc_auc_score, auc\n",
    "\n",
    "#Calculate ROC & AUC\n",
    "fpr, tpr, thresholds=roc_curve(ytest,y_probs)\n",
    "roc_curve=auc(fpr,tpr)\n",
    "#Plot ROC Curve\n",
    "plt.figure(figsize=(8,6))\n",
    "plt.plot(fpr, tpr, label='ROC curve')\n",
    "plt.xlabel('Fasle Positive Rate')\n",
    "plt.ylabel('True Positive Rate')\n",
    "plt.title('ROC Curve')\n",
    "plt.legend()\n",
    "plt.show()"
   ]
  },
  {
   "cell_type": "code",
   "execution_count": 31,
   "id": "626df18d",
   "metadata": {},
   "outputs": [
    {
     "data": {
      "text/plain": [
       "0.7759907359752959"
      ]
     },
     "execution_count": 31,
     "metadata": {},
     "output_type": "execute_result"
    }
   ],
   "source": [
    "roc_curve"
   ]
  },
  {
   "cell_type": "code",
   "execution_count": 32,
   "id": "88c462a3",
   "metadata": {},
   "outputs": [],
   "source": [
    "cm = confusion_matrix(ytest,ypred)"
   ]
  },
  {
   "cell_type": "code",
   "execution_count": 33,
   "id": "09fb8c45",
   "metadata": {},
   "outputs": [
    {
     "data": {
      "text/plain": [
       "array([[121,  13],\n",
       "       [ 33,  25]], dtype=int64)"
      ]
     },
     "execution_count": 33,
     "metadata": {},
     "output_type": "execute_result"
    }
   ],
   "source": [
    "cm"
   ]
  },
  {
   "cell_type": "code",
   "execution_count": 37,
   "id": "8af91d7f",
   "metadata": {},
   "outputs": [
    {
     "data": {
      "text/plain": [
       "Text(70.72222222222221, 0.5, 'Actual')"
      ]
     },
     "execution_count": 37,
     "metadata": {},
     "output_type": "execute_result"
    },
    {
     "data": {
      "image/png": "[encoded data removed]",
      "text/plain": [
       "<Figure size 800x600 with 2 Axes>"
      ]
     },
     "metadata": {},
     "output_type": "display_data"
    }
   ],
   "source": [
    "plt.figure(figsize=(8,6))\n",
    "\n",
    "sns.heatmap(cm, annot=True, fmt='d', xticklabels=['Predicted 0(No diabeted)','Predicted 1(having diabites)'] ,yticklabels=[\"Actual 0\", \"Actual 1\"]) \n",
    "\n",
    "plt.xlabel('Predicted')\n",
    "\n",
    "plt.ylabel(\"Actual\")"
   ]
  },
  {
   "cell_type": "code",
   "execution_count": 38,
   "id": "0283e7b6",
   "metadata": {},
   "outputs": [
    {
     "data": {
      "text/plain": [
       "0    500\n",
       "1    268\n",
       "Name: Outcome, dtype: int64"
      ]
     },
     "execution_count": 38,
     "metadata": {},
     "output_type": "execute_result"
    }
   ],
   "source": [
    "df['Outcome'].value_counts()"
   ]
  },
  {
   "cell_type": "markdown",
   "id": "b11dbe46",
   "metadata": {},
   "source": [
    "# UPSAMPLING"
   ]
  },
  {
   "cell_type": "code",
   "execution_count": 40,
   "id": "264f57e2",
   "metadata": {},
   "outputs": [],
   "source": [
    "df_major = df[df.Outcome==0]\n",
    "df_minor = df[df.Outcome==1]"
   ]
  },
  {
   "cell_type": "code",
   "execution_count": 41,
   "id": "d8b9039b",
   "metadata": {},
   "outputs": [
    {
     "data": {
      "text/plain": [
       "((500, 9), (268, 9))"
      ]
     },
     "execution_count": 41,
     "metadata": {},
     "output_type": "execute_result"
    }
   ],
   "source": [
    "df_major.shape,df_minor.shape"
   ]
  },
  {
   "cell_type": "code",
   "execution_count": 42,
   "id": "45e7a117",
   "metadata": {},
   "outputs": [],
   "source": [
    "from sklearn.utils import resample"
   ]
  },
  {
   "cell_type": "code",
   "execution_count": 43,
   "id": "258c475e",
   "metadata": {},
   "outputs": [],
   "source": [
    "df_minor_upsampled = resample(df_minor, \n",
    "                                 replace=True,     # sample with replacement\n",
    "                                 n_samples=500,    # to match majority class\n",
    "                                 random_state=123) "
   ]
  },
  {
   "cell_type": "code",
   "execution_count": 44,
   "id": "b2cddd5c",
   "metadata": {},
   "outputs": [],
   "source": [
    "df_upsampled = pd.concat([df_major, df_minor_upsampled])"
   ]
  },
  {
   "cell_type": "code",
   "execution_count": 45,
   "id": "a5219830",
   "metadata": {},
   "outputs": [
    {
     "data": {
      "text/html": [
       "<div>\n",
       "<style scoped>\n",
       "    .dataframe tbody tr th:only-of-type {\n",
       "        vertical-align: middle;\n",
       "    }\n",
       "\n",
       "    .dataframe tbody tr th {\n",
       "        vertical-align: top;\n",
       "    }\n",
       "\n",
       "    .dataframe thead th {\n",
       "        text-align: right;\n",
       "    }\n",
       "</style>\n",
       "<table border=\"1\" class=\"dataframe\">\n",
       "  <thead>\n",
       "    <tr style=\"text-align: right;\">\n",
       "      <th></th>\n",
       "      <th>Pregnancies</th>\n",
       "      <th>Glucose</th>\n",
       "      <th>BloodPressure</th>\n",
       "      <th>SkinThickness</th>\n",
       "      <th>Insulin</th>\n",
       "      <th>BMI</th>\n",
       "      <th>DiabetesPedigreeFunction</th>\n",
       "      <th>Age</th>\n",
       "      <th>Outcome</th>\n",
       "    </tr>\n",
       "  </thead>\n",
       "  <tbody>\n",
       "    <tr>\n",
       "      <th>1</th>\n",
       "      <td>8.0</td>\n",
       "      <td>85</td>\n",
       "      <td>66</td>\n",
       "      <td>29.0</td>\n",
       "      <td>0</td>\n",
       "      <td>26.6</td>\n",
       "      <td>0.351</td>\n",
       "      <td>32.0</td>\n",
       "      <td>0</td>\n",
       "    </tr>\n",
       "    <tr>\n",
       "      <th>3</th>\n",
       "      <td>1.0</td>\n",
       "      <td>89</td>\n",
       "      <td>66</td>\n",
       "      <td>23.0</td>\n",
       "      <td>94</td>\n",
       "      <td>28.1</td>\n",
       "      <td>0.167</td>\n",
       "      <td>21.0</td>\n",
       "      <td>0</td>\n",
       "    </tr>\n",
       "    <tr>\n",
       "      <th>5</th>\n",
       "      <td>5.0</td>\n",
       "      <td>116</td>\n",
       "      <td>74</td>\n",
       "      <td>0.0</td>\n",
       "      <td>0</td>\n",
       "      <td>25.6</td>\n",
       "      <td>0.201</td>\n",
       "      <td>30.0</td>\n",
       "      <td>0</td>\n",
       "    </tr>\n",
       "    <tr>\n",
       "      <th>7</th>\n",
       "      <td>10.0</td>\n",
       "      <td>115</td>\n",
       "      <td>0</td>\n",
       "      <td>0.0</td>\n",
       "      <td>0</td>\n",
       "      <td>35.3</td>\n",
       "      <td>0.134</td>\n",
       "      <td>29.0</td>\n",
       "      <td>0</td>\n",
       "    </tr>\n",
       "    <tr>\n",
       "      <th>10</th>\n",
       "      <td>4.0</td>\n",
       "      <td>110</td>\n",
       "      <td>92</td>\n",
       "      <td>0.0</td>\n",
       "      <td>0</td>\n",
       "      <td>37.6</td>\n",
       "      <td>0.191</td>\n",
       "      <td>30.0</td>\n",
       "      <td>0</td>\n",
       "    </tr>\n",
       "  </tbody>\n",
       "</table>\n",
       "</div>"
      ],
      "text/plain": [
       "    Pregnancies  Glucose  BloodPressure  SkinThickness  Insulin   BMI  \\\n",
       "1           8.0       85             66           29.0        0  26.6   \n",
       "3           1.0       89             66           23.0       94  28.1   \n",
       "5           5.0      116             74            0.0        0  25.6   \n",
       "7          10.0      115              0            0.0        0  35.3   \n",
       "10          4.0      110             92            0.0        0  37.6   \n",
       "\n",
       "    DiabetesPedigreeFunction   Age  Outcome  \n",
       "1                      0.351  32.0        0  \n",
       "3                      0.167  21.0        0  \n",
       "5                      0.201  30.0        0  \n",
       "7                      0.134  29.0        0  \n",
       "10                     0.191  30.0        0  "
      ]
     },
     "execution_count": 45,
     "metadata": {},
     "output_type": "execute_result"
    }
   ],
   "source": [
    "df_upsampled.head()"
   ]
  },
  {
   "cell_type": "code",
   "execution_count": 47,
   "id": "7f418bda",
   "metadata": {},
   "outputs": [
    {
     "data": {
      "text/plain": [
       "0    500\n",
       "1    500\n",
       "Name: Outcome, dtype: int64"
      ]
     },
     "execution_count": 47,
     "metadata": {},
     "output_type": "execute_result"
    }
   ],
   "source": [
    "df_upsampled['Outcome'].value_counts()"
   ]
  },
  {
   "cell_type": "code",
   "execution_count": 48,
   "id": "94905e74",
   "metadata": {},
   "outputs": [],
   "source": [
    "x=df_upsampled.iloc[:,:-1]\n",
    "y=df_upsampled.iloc[:,-1:].values"
   ]
  },
  {
   "cell_type": "code",
   "execution_count": 49,
   "id": "feec5da5",
   "metadata": {},
   "outputs": [
    {
     "name": "stdout",
     "output_type": "stream",
     "text": [
      "***************Training Data Shape...............****\n",
      "\n",
      "Training data-X- Shape: \t (750, 8)\n",
      "\n",
      "Training data-y- Shape: \t (750, 1)\n",
      "\n",
      "***************Testing Data Shape*******************\n",
      "\n",
      "Testing data(x-Input) Shape: \t (250, 8)\n",
      "\n",
      "Testing data(y-Outcome) Shape:\t (250, 1)\n"
     ]
    }
   ],
   "source": [
    "xtrain, xtest,ytrain,ytest=train_test_split(x,y,test_size=.25,random_state=2)\n",
    "\n",
    "print('***************Training Data Shape...............****\\n')\n",
    "\n",
    "print('Training data-X- Shape: \\t',xtrain.shape)\n",
    "\n",
    "print()\n",
    "\n",
    "print('Training data-y- Shape: \\t', ytrain.shape)\n",
    "\n",
    "print()\n",
    "\n",
    "print('***************Testing Data Shape*******************\\n')\n",
    "\n",
    "print('Testing data(x-Input) Shape: \\t', xtest.shape)\n",
    "\n",
    "print()\n",
    "\n",
    "print('Testing data(y-Outcome) Shape:\\t',ytest.shape)"
   ]
  },
  {
   "cell_type": "code",
   "execution_count": 50,
   "id": "d62c9516",
   "metadata": {},
   "outputs": [
    {
     "name": "stdout",
     "output_type": "stream",
     "text": [
      "Training the model\n",
      "\n",
      "[LibLinear]Predicted Label for the input samples: \n",
      " [0 1 1 0 1 1 1 0 0 0 1 0 0 1 0 0 1 1 0 0 1 0 1 0 0 0 0 0 1 1 0 0 1 1 0 0 0\n",
      " 0 0 1 1 0 1 0 1 0 1 1 0 0 1 1 0 1 1 1 1 0 0 1 1 1 0 1 0 0 0 1 0 0 0 0 0 1\n",
      " 0 1 1 1 0 1 1 0 1 0 1 0 1 0 1 0 0 1 1 0 1 0 0 1 1 1 0 0 0 0 1 1 0 0 1 1 1\n",
      " 1 1 1 1 0 1 0 1 1 0 0 1 1 0 1 1 1 1 0 1 0 1 1 0 0 1 0 0 0 0 0 0 0 0 0 0 1\n",
      " 1 1 0 0 1 0 0 1 0 0 0 0 0 0 0 1 1 0 0 1 1 0 0 1 0 0 1 0 1 0 1 1 1 0 0 1 0\n",
      " 0 1 1 1 0 0 0 1 0 0 0 1 1 1 1 1 1 1 1 0 1 0 1 1 0 0 1 1 1 1 0 1 1 0 1 0 0\n",
      " 1 0 0 0 0 1 1 1 0 1 0 1 1 1 1 1 1 0 0 0 1 0 1 1 0 0 0 0]\n",
      "\n",
      "Testing is completed\n",
      "\n",
      "Testing samples are: \t 250\n"
     ]
    },
    {
     "name": "stderr",
     "output_type": "stream",
     "text": [
      "C:\\Users\\jagad\\anaconda3\\Lib\\site-packages\\sklearn\\utils\\validation.py:1184: DataConversionWarning: A column-vector y was passed when a 1d array was expected. Please change the shape of y to (n_samples, ), for example using ravel().\n",
      "  y = column_or_1d(y, warn=True)\n"
     ]
    }
   ],
   "source": [
    "#invoke the Log reg algorithm from sklearn\n",
    "\n",
    "log_reg=LogisticRegression(solver='liblinear', verbose=2)\n",
    "\n",
    "#Train the model\n",
    "\n",
    "print('Training the model\\n')\n",
    "log_reg.fit(xtrain, ytrain)\n",
    "#Test the model\n",
    "ypred=log_reg.predict(xtest)\n",
    "print('Predicted Label for the input samples: \\n', ypred)\n",
    "print()\n",
    "print('Testing is completed\\n')\n",
    "print('Testing samples are: \\t',len(ypred))"
   ]
  },
  {
   "cell_type": "markdown",
   "id": "e1bf0431",
   "metadata": {},
   "source": [
    "# Performance Measures with Upsampling"
   ]
  },
  {
   "cell_type": "code",
   "execution_count": 51,
   "id": "a7285185",
   "metadata": {},
   "outputs": [
    {
     "name": "stdout",
     "output_type": "stream",
     "text": [
      "********************Performance Measures for Logistic Regression Classification*********\n",
      "Accuracy Score:\t\n",
      " 0.724\n",
      "\n",
      "================================================================================\n",
      "Confusion Matrix:\n",
      " [[90 31]\n",
      " [38 91]]\n",
      "\n",
      "================================================================================\n",
      "Classification Report: \n",
      "               precision    recall  f1-score   support\n",
      "\n",
      "           0       0.70      0.74      0.72       121\n",
      "           1       0.75      0.71      0.73       129\n",
      "\n",
      "    accuracy                           0.72       250\n",
      "   macro avg       0.72      0.72      0.72       250\n",
      "weighted avg       0.73      0.72      0.72       250\n",
      "\n",
      "================================================================================\n"
     ]
    }
   ],
   "source": [
    "from sklearn.metrics import accuracy_score\n",
    "\n",
    "from sklearn.metrics import confusion_matrix\n",
    "from sklearn.metrics import classification_report\n",
    "print('********************Performance Measures for Logistic Regression Classification*********')\n",
    "print('Accuracy Score:\\t\\n', accuracy_score(ytest, ypred))\n",
    "print()\n",
    "print('='*80)\n",
    "print('Confusion Matrix:\\n', confusion_matrix(ytest,ypred))\n",
    "print()\n",
    "print('='*80)\n",
    "print('Classification Report: \\n', classification_report(ytest,ypred))\n",
    "print('='*80)"
   ]
  },
  {
   "cell_type": "markdown",
   "id": "1d44bf9e",
   "metadata": {},
   "source": [
    "# ROC curve with upsampling"
   ]
  },
  {
   "cell_type": "code",
   "execution_count": 53,
   "id": "0b2ae6f2",
   "metadata": {},
   "outputs": [
    {
     "data": {
      "text/plain": [
       "array([0.33750581, 0.70230469, 0.53445298, 0.44259644, 0.87167454,\n",
       "       0.54193766, 0.54120418, 0.04561321, 0.3269345 , 0.38665223,\n",
       "       0.77474056, 0.21469201, 0.21983884, 0.84468109, 0.47137363,\n",
       "       0.47225919, 0.67194253, 0.56476047, 0.44158429, 0.12058521,\n",
       "       0.59102311, 0.46694638, 0.64620065, 0.48158381, 0.31543517,\n",
       "       0.36858446, 0.46806267, 0.41866001, 0.71678182, 0.89084516,\n",
       "       0.47253758, 0.27055234, 0.82821759, 0.78537757, 0.26681926,\n",
       "       0.07409297, 0.18512312, 0.49850016, 0.44451042, 0.71816746,\n",
       "       0.69053659, 0.30053162, 0.69856554, 0.48335193, 0.74494285,\n",
       "       0.30615897, 0.60118715, 0.5750545 , 0.48158381, 0.48003455,\n",
       "       0.61417185, 0.72937023, 0.16304293, 0.53464346, 0.530607  ,\n",
       "       0.96642782, 0.83930982, 0.30392058, 0.36273538, 0.59777785,\n",
       "       0.50298998, 0.8875884 , 0.27268076, 0.69399955, 0.40340776,\n",
       "       0.02497919, 0.19037369, 0.88299902, 0.08631956, 0.21793963,\n",
       "       0.21910372, 0.16137963, 0.09692653, 0.82297709, 0.09794318,\n",
       "       0.96490469, 0.52840192, 0.87167454, 0.36062079, 0.67715264,\n",
       "       0.92533572, 0.07705048, 0.71083105, 0.2478887 , 0.90819652,\n",
       "       0.06727939, 0.87862773, 0.36858446, 0.92978591, 0.07236908,\n",
       "       0.17536834, 0.56729074, 0.82297709, 0.21983884, 0.54023835,\n",
       "       0.43567614, 0.14625136, 0.675324  , 0.95291047, 0.53167852,\n",
       "       0.47531741, 0.47285749, 0.48335193, 0.09773044, 0.67715264,\n",
       "       0.56219509, 0.16233282, 0.16897101, 0.78616855, 0.69053659,\n",
       "       0.69856554, 0.91505832, 0.54208629, 0.92533572, 0.69809074,\n",
       "       0.32644884, 0.96933129, 0.47531741, 0.72385142, 0.9505958 ,\n",
       "       0.30173777, 0.46093386, 0.96933129, 0.90665826, 0.31126919,\n",
       "       0.66276958, 0.85048276, 0.50556285, 0.90017048, 0.14214611,\n",
       "       0.70868079, 0.41643181, 0.78114586, 0.89084516, 0.3269345 ,\n",
       "       0.41417765, 0.97922833, 0.21820495, 0.23065035, 0.32443922,\n",
       "       0.34975289, 0.23722901, 0.23320035, 0.25031396, 0.29542521,\n",
       "       0.16226292, 0.09765536, 0.77846302, 0.70868079, 0.85549697,\n",
       "       0.48912452, 0.43223716, 0.63428686, 0.19781446, 0.18702039,\n",
       "       0.64159689, 0.07651098, 0.26902657, 0.09673757, 0.22836748,\n",
       "       0.05596293, 0.18427934, 0.13599539, 0.81456419, 0.65943854,\n",
       "       0.00980097, 0.38124047, 0.69526786, 0.71816746, 0.22746679,\n",
       "       0.36272883, 0.64584062, 0.43223716, 0.21469201, 0.67663824,\n",
       "       0.11065685, 0.85434049, 0.34283129, 0.86183159, 0.88689306,\n",
       "       0.87862773, 0.23375058, 0.27044747, 0.82319601, 0.17677041,\n",
       "       0.10091812, 0.77971042, 0.88689306, 0.74494285, 0.09750479,\n",
       "       0.31205857, 0.2486266 , 0.88722325, 0.28163663, 0.02355221,\n",
       "       0.3023833 , 0.54731597, 0.91602294, 0.74461329, 0.81456419,\n",
       "       0.74792766, 0.81558127, 0.85549697, 0.54168705, 0.3532986 ,\n",
       "       0.5098765 , 0.1225915 , 0.83799817, 0.61389426, 0.40941824,\n",
       "       0.33437238, 0.84015438, 0.89778493, 0.70129212, 0.60843223,\n",
       "       0.16136798, 0.89122618, 0.74494285, 0.37697599, 0.7427861 ,\n",
       "       0.49850016, 0.40460666, 0.87167454, 0.20810882, 0.49016504,\n",
       "       0.16004461, 0.36427854, 0.86055089, 0.85590592, 0.90855826,\n",
       "       0.48335193, 0.9126907 , 0.08863258, 0.90528215, 0.77657741,\n",
       "       0.55689589, 0.5098765 , 0.54731597, 0.6878206 , 0.44881661,\n",
       "       0.27503315, 0.18252058, 0.6878206 , 0.02355221, 0.81558127,\n",
       "       0.85294836, 0.26334742, 0.07567617, 0.32607985, 0.40859681])"
      ]
     },
     "execution_count": 53,
     "metadata": {},
     "output_type": "execute_result"
    }
   ],
   "source": [
    "y_probs = log_reg.predict_proba(xtest)[:,1]\n",
    "y_probs"
   ]
  },
  {
   "cell_type": "code",
   "execution_count": 54,
   "id": "00f708a7",
   "metadata": {},
   "outputs": [
    {
     "data": {
      "image/png": "[encoded data removed]",
      "text/plain": [
       "<Figure size 800x600 with 1 Axes>"
      ]
     },
     "metadata": {},
     "output_type": "display_data"
    }
   ],
   "source": [
    "from sklearn.metrics import roc_curve, roc_auc_score, auc\n",
    "\n",
    "#Calculate ROC & AUC\n",
    "fpr, tpr, thresholds=roc_curve(ytest,y_probs)\n",
    "roc_curve=auc(fpr,tpr)\n",
    "#Plot ROC Curve\n",
    "plt.figure(figsize=(8,6))\n",
    "plt.plot(fpr, tpr, label='ROC curve')\n",
    "plt.xlabel('Fasle Positive Rate')\n",
    "plt.ylabel('True Positive Rate')\n",
    "plt.title('ROC Curve')\n",
    "plt.legend()\n",
    "plt.show()"
   ]
  },
  {
   "cell_type": "code",
   "execution_count": 55,
   "id": "7f61ed6b",
   "metadata": {},
   "outputs": [
    {
     "data": {
      "text/plain": [
       "0.8056890255621756"
      ]
     },
     "execution_count": 55,
     "metadata": {},
     "output_type": "execute_result"
    }
   ],
   "source": [
    "roc_curve"
   ]
  },
  {
   "cell_type": "code",
   "execution_count": 56,
   "id": "e3d8e925",
   "metadata": {},
   "outputs": [],
   "source": [
    "cm = confusion_matrix(ytest,ypred)"
   ]
  },
  {
   "cell_type": "code",
   "execution_count": 57,
   "id": "16b23260",
   "metadata": {},
   "outputs": [
    {
     "data": {
      "text/plain": [
       "array([[90, 31],\n",
       "       [38, 91]], dtype=int64)"
      ]
     },
     "execution_count": 57,
     "metadata": {},
     "output_type": "execute_result"
    }
   ],
   "source": [
    "cm"
   ]
  },
  {
   "cell_type": "code",
   "execution_count": 58,
   "id": "3fce5d9f",
   "metadata": {},
   "outputs": [
    {
     "data": {
      "text/plain": [
       "Text(70.72222222222221, 0.5, 'Actual')"
      ]
     },
     "execution_count": 58,
     "metadata": {},
     "output_type": "execute_result"
    },
    {
     "data": {
      "image/png": "[encoded data removed]",
      "text/plain": [
       "<Figure size 800x600 with 2 Axes>"
      ]
     },
     "metadata": {},
     "output_type": "display_data"
    }
   ],
   "source": [
    "plt.figure(figsize=(8,6))\n",
    "\n",
    "sns.heatmap(cm, annot=True, fmt='d', xticklabels=['Predicted 0(No diabeted)','Predicted 1(having diabites)'] ,yticklabels=[\"Actual 0\", \"Actual 1\"]) \n",
    "\n",
    "plt.xlabel('Predicted')\n",
    "\n",
    "plt.ylabel(\"Actual\")"
   ]
  },
  {
   "cell_type": "code",
   "execution_count": 59,
   "id": "0e24f66e",
   "metadata": {},
   "outputs": [
    {
     "data": {
      "text/plain": [
       "0    500\n",
       "1    268\n",
       "Name: Outcome, dtype: int64"
      ]
     },
     "execution_count": 59,
     "metadata": {},
     "output_type": "execute_result"
    }
   ],
   "source": [
    "df['Outcome'].value_counts()"
   ]
  },
  {
   "cell_type": "markdown",
   "id": "d3aecb71",
   "metadata": {},
   "source": [
    "# DOWNSAMPLING"
   ]
  },
  {
   "cell_type": "code",
   "execution_count": 61,
   "id": "ffa77270",
   "metadata": {},
   "outputs": [],
   "source": [
    "df_major_downsampled = resample(df_major, \n",
    "                                 replace=True,    # sample without replacement\n",
    "                                 n_samples=268,     # to match minority class\n",
    "                                 random_state=123) # reproducible results\n",
    " \n",
    "# Combine minority class with downsampled majority class\n",
    "df_downsampled = pd.concat([df_major_downsampled, df_minor])"
   ]
  },
  {
   "cell_type": "code",
   "execution_count": 64,
   "id": "e75b21fc",
   "metadata": {},
   "outputs": [
    {
     "data": {
      "text/html": [
       "<div>\n",
       "<style scoped>\n",
       "    .dataframe tbody tr th:only-of-type {\n",
       "        vertical-align: middle;\n",
       "    }\n",
       "\n",
       "    .dataframe tbody tr th {\n",
       "        vertical-align: top;\n",
       "    }\n",
       "\n",
       "    .dataframe thead th {\n",
       "        text-align: right;\n",
       "    }\n",
       "</style>\n",
       "<table border=\"1\" class=\"dataframe\">\n",
       "  <thead>\n",
       "    <tr style=\"text-align: right;\">\n",
       "      <th></th>\n",
       "      <th>Pregnancies</th>\n",
       "      <th>Glucose</th>\n",
       "      <th>BloodPressure</th>\n",
       "      <th>SkinThickness</th>\n",
       "      <th>Insulin</th>\n",
       "      <th>BMI</th>\n",
       "      <th>DiabetesPedigreeFunction</th>\n",
       "      <th>Age</th>\n",
       "      <th>Outcome</th>\n",
       "    </tr>\n",
       "  </thead>\n",
       "  <tbody>\n",
       "    <tr>\n",
       "      <th>562</th>\n",
       "      <td>1.0</td>\n",
       "      <td>87</td>\n",
       "      <td>68</td>\n",
       "      <td>34.0</td>\n",
       "      <td>77</td>\n",
       "      <td>37.6</td>\n",
       "      <td>0.401</td>\n",
       "      <td>24.0</td>\n",
       "      <td>0</td>\n",
       "    </tr>\n",
       "    <tr>\n",
       "      <th>583</th>\n",
       "      <td>8.0</td>\n",
       "      <td>100</td>\n",
       "      <td>76</td>\n",
       "      <td>0.0</td>\n",
       "      <td>0</td>\n",
       "      <td>38.7</td>\n",
       "      <td>0.190</td>\n",
       "      <td>42.0</td>\n",
       "      <td>0</td>\n",
       "    </tr>\n",
       "    <tr>\n",
       "      <th>505</th>\n",
       "      <td>10.0</td>\n",
       "      <td>75</td>\n",
       "      <td>82</td>\n",
       "      <td>0.0</td>\n",
       "      <td>0</td>\n",
       "      <td>33.3</td>\n",
       "      <td>0.263</td>\n",
       "      <td>38.0</td>\n",
       "      <td>0</td>\n",
       "    </tr>\n",
       "    <tr>\n",
       "      <th>727</th>\n",
       "      <td>0.0</td>\n",
       "      <td>141</td>\n",
       "      <td>84</td>\n",
       "      <td>26.0</td>\n",
       "      <td>0</td>\n",
       "      <td>32.4</td>\n",
       "      <td>0.433</td>\n",
       "      <td>22.0</td>\n",
       "      <td>0</td>\n",
       "    </tr>\n",
       "    <tr>\n",
       "      <th>151</th>\n",
       "      <td>4.0</td>\n",
       "      <td>114</td>\n",
       "      <td>65</td>\n",
       "      <td>0.0</td>\n",
       "      <td>0</td>\n",
       "      <td>21.9</td>\n",
       "      <td>0.432</td>\n",
       "      <td>37.0</td>\n",
       "      <td>0</td>\n",
       "    </tr>\n",
       "  </tbody>\n",
       "</table>\n",
       "</div>"
      ],
      "text/plain": [
       "     Pregnancies  Glucose  BloodPressure  SkinThickness  Insulin   BMI  \\\n",
       "562          1.0       87             68           34.0       77  37.6   \n",
       "583          8.0      100             76            0.0        0  38.7   \n",
       "505         10.0       75             82            0.0        0  33.3   \n",
       "727          0.0      141             84           26.0        0  32.4   \n",
       "151          4.0      114             65            0.0        0  21.9   \n",
       "\n",
       "     DiabetesPedigreeFunction   Age  Outcome  \n",
       "562                     0.401  24.0        0  \n",
       "583                     0.190  42.0        0  \n",
       "505                     0.263  38.0        0  \n",
       "727                     0.433  22.0        0  \n",
       "151                     0.432  37.0        0  "
      ]
     },
     "execution_count": 64,
     "metadata": {},
     "output_type": "execute_result"
    }
   ],
   "source": [
    "df_downsampled.head()"
   ]
  },
  {
   "cell_type": "code",
   "execution_count": 63,
   "id": "c59d7a88",
   "metadata": {},
   "outputs": [
    {
     "data": {
      "text/plain": [
       "0    268\n",
       "1    268\n",
       "Name: Outcome, dtype: int64"
      ]
     },
     "execution_count": 63,
     "metadata": {},
     "output_type": "execute_result"
    }
   ],
   "source": [
    "df_downsampled['Outcome'].value_counts()"
   ]
  },
  {
   "cell_type": "code",
   "execution_count": 65,
   "id": "c8c95d49",
   "metadata": {},
   "outputs": [],
   "source": [
    "x=df_downsampled.iloc[:,:-1]\n",
    "y=df_downsampled.iloc[:,-1:].values"
   ]
  },
  {
   "cell_type": "code",
   "execution_count": 66,
   "id": "92e85da6",
   "metadata": {},
   "outputs": [
    {
     "name": "stdout",
     "output_type": "stream",
     "text": [
      "***************Training Data Shape...............****\n",
      "\n",
      "Training data-X- Shape: \t (402, 8)\n",
      "\n",
      "Training data-y- Shape: \t (402, 1)\n",
      "\n",
      "***************Testing Data Shape*******************\n",
      "\n",
      "Testing data(x-Input) Shape: \t (134, 8)\n",
      "\n",
      "Testing data(y-Outcome) Shape:\t (134, 1)\n"
     ]
    }
   ],
   "source": [
    "xtrain, xtest,ytrain,ytest=train_test_split(x,y,test_size=.25,random_state=2)\n",
    "\n",
    "print('***************Training Data Shape...............****\\n')\n",
    "\n",
    "print('Training data-X- Shape: \\t',xtrain.shape)\n",
    "\n",
    "print()\n",
    "\n",
    "print('Training data-y- Shape: \\t', ytrain.shape)\n",
    "\n",
    "print()\n",
    "\n",
    "print('***************Testing Data Shape*******************\\n')\n",
    "\n",
    "print('Testing data(x-Input) Shape: \\t', xtest.shape)\n",
    "\n",
    "print()\n",
    "\n",
    "print('Testing data(y-Outcome) Shape:\\t',ytest.shape)"
   ]
  },
  {
   "cell_type": "code",
   "execution_count": 67,
   "id": "60bb000e",
   "metadata": {},
   "outputs": [
    {
     "name": "stdout",
     "output_type": "stream",
     "text": [
      "Training the model\n",
      "\n",
      "[LibLinear]Predicted Label for the input samples: \n",
      " [0 1 0 0 1 1 1 1 0 1 1 1 0 1 0 1 1 1 0 0 1 1 0 1 1 0 1 1 0 0 1 1 0 1 1 1 0\n",
      " 0 0 0 1 0 1 0 1 0 1 0 1 0 1 0 1 1 0 1 0 0 1 1 0 0 0 0 0 1 0 1 1 1 0 1 0 1\n",
      " 0 1 1 1 0 1 0 1 0 0 1 0 0 0 1 0 0 0 1 0 1 0 1 0 0 0 0 0 0 0 0 0 1 1 1 0 1\n",
      " 1 1 1 0 1 0 1 0 1 0 0 1 0 1 1 0 0 0 1 0 1 1 1]\n",
      "\n",
      "Testing is completed\n",
      "\n",
      "Testing samples are: \t 134\n"
     ]
    },
    {
     "name": "stderr",
     "output_type": "stream",
     "text": [
      "C:\\Users\\jagad\\anaconda3\\Lib\\site-packages\\sklearn\\utils\\validation.py:1184: DataConversionWarning: A column-vector y was passed when a 1d array was expected. Please change the shape of y to (n_samples, ), for example using ravel().\n",
      "  y = column_or_1d(y, warn=True)\n"
     ]
    }
   ],
   "source": [
    "#invoke the Log reg algorithm from sklearn\n",
    "\n",
    "log_reg=LogisticRegression(solver='liblinear', verbose=2)\n",
    "\n",
    "#Train the model\n",
    "\n",
    "print('Training the model\\n')\n",
    "log_reg.fit(xtrain, ytrain)\n",
    "#Test the model\n",
    "ypred=log_reg.predict(xtest)\n",
    "print('Predicted Label for the input samples: \\n', ypred)\n",
    "print()\n",
    "print('Testing is completed\\n')\n",
    "print('Testing samples are: \\t',len(ypred))"
   ]
  },
  {
   "cell_type": "markdown",
   "id": "f9675520",
   "metadata": {},
   "source": [
    "# Performance measures with Downsampling"
   ]
  },
  {
   "cell_type": "code",
   "execution_count": 68,
   "id": "b02152ae",
   "metadata": {},
   "outputs": [
    {
     "name": "stdout",
     "output_type": "stream",
     "text": [
      "********************Performance Measures for Logistic Regression Classification*********\n",
      "Accuracy Score:\t\n",
      " 0.7313432835820896\n",
      "\n",
      "================================================================================\n",
      "Confusion Matrix:\n",
      " [[51 20]\n",
      " [16 47]]\n",
      "\n",
      "================================================================================\n",
      "Classification Report: \n",
      "               precision    recall  f1-score   support\n",
      "\n",
      "           0       0.76      0.72      0.74        71\n",
      "           1       0.70      0.75      0.72        63\n",
      "\n",
      "    accuracy                           0.73       134\n",
      "   macro avg       0.73      0.73      0.73       134\n",
      "weighted avg       0.73      0.73      0.73       134\n",
      "\n",
      "================================================================================\n"
     ]
    }
   ],
   "source": [
    "from sklearn.metrics import accuracy_score\n",
    "\n",
    "from sklearn.metrics import confusion_matrix\n",
    "from sklearn.metrics import classification_report\n",
    "print('********************Performance Measures for Logistic Regression Classification*********')\n",
    "print('Accuracy Score:\\t\\n', accuracy_score(ytest, ypred))\n",
    "print()\n",
    "print('='*80)\n",
    "print('Confusion Matrix:\\n', confusion_matrix(ytest,ypred))\n",
    "print()\n",
    "print('='*80)\n",
    "print('Classification Report: \\n', classification_report(ytest,ypred))\n",
    "print('='*80)"
   ]
  },
  {
   "cell_type": "markdown",
   "id": "231fbd88",
   "metadata": {},
   "source": [
    "# ROC curve with downsampling"
   ]
  },
  {
   "cell_type": "code",
   "execution_count": 69,
   "id": "7b3dec4b",
   "metadata": {},
   "outputs": [
    {
     "data": {
      "text/plain": [
       "array([0.40608599, 0.72730521, 0.45061528, 0.27590114, 0.77120628,\n",
       "       0.92158307, 0.75700001, 0.68760543, 0.20808419, 0.84024378,\n",
       "       0.90424319, 0.66796526, 0.14958685, 0.91855063, 0.20445803,\n",
       "       0.56685425, 0.53752904, 0.83457132, 0.45857234, 0.49180935,\n",
       "       0.89783252, 0.9181616 , 0.32975651, 0.80613903, 0.8543586 ,\n",
       "       0.3500992 , 0.62968894, 0.63672648, 0.32539188, 0.46572374,\n",
       "       0.60303656, 0.58793578, 0.35101554, 0.74213847, 0.87214544,\n",
       "       0.83142258, 0.11726259, 0.28328644, 0.48406703, 0.18865369,\n",
       "       0.91855063, 0.43071453, 0.85512172, 0.30447799, 0.91855063,\n",
       "       0.30652759, 0.8943392 , 0.14958685, 0.60826844, 0.18823559,\n",
       "       0.85090281, 0.22948191, 0.85293738, 0.8739635 , 0.26263683,\n",
       "       0.69398681, 0.23753027, 0.39815076, 0.79203837, 0.57250262,\n",
       "       0.29207852, 0.27746502, 0.22927245, 0.22387178, 0.3624667 ,\n",
       "       0.77693088, 0.25421988, 0.61837271, 0.70738541, 0.64727876,\n",
       "       0.37298135, 0.61717199, 0.49846979, 0.75871537, 0.45358328,\n",
       "       0.75308457, 0.52814214, 0.93650154, 0.49980528, 0.57899666,\n",
       "       0.36718297, 0.83859709, 0.32094953, 0.32728229, 0.78081485,\n",
       "       0.49903537, 0.46849385, 0.17120101, 0.93489142, 0.23373168,\n",
       "       0.49214547, 0.48842279, 0.8215261 , 0.31397181, 0.94867737,\n",
       "       0.30401836, 0.66038041, 0.37553014, 0.29852538, 0.23142849,\n",
       "       0.48353125, 0.36759848, 0.41018843, 0.25175195, 0.45699015,\n",
       "       0.11988446, 0.77077157, 0.64418907, 0.91470823, 0.37705865,\n",
       "       0.89783252, 0.55595572, 0.76482044, 0.90163255, 0.40977763,\n",
       "       0.53752904, 0.25421988, 0.86433795, 0.34943613, 0.91470823,\n",
       "       0.25021366, 0.23321775, 0.88624561, 0.47747991, 0.78321458,\n",
       "       0.90976086, 0.43207781, 0.09064409, 0.18954392, 0.89783252,\n",
       "       0.47813646, 0.74421416, 0.80936748, 0.69897331])"
      ]
     },
     "execution_count": 69,
     "metadata": {},
     "output_type": "execute_result"
    }
   ],
   "source": [
    "y_probs = log_reg.predict_proba(xtest)[:,1]\n",
    "y_probs"
   ]
  },
  {
   "cell_type": "code",
   "execution_count": 70,
   "id": "f4ac6f36",
   "metadata": {},
   "outputs": [
    {
     "data": {
      "image/png": "[encoded data removed]",
      "text/plain": [
       "<Figure size 800x600 with 1 Axes>"
      ]
     },
     "metadata": {},
     "output_type": "display_data"
    }
   ],
   "source": [
    "from sklearn.metrics import roc_curve, roc_auc_score, auc\n",
    "\n",
    "#Calculate ROC & AUC\n",
    "fpr, tpr, thresholds=roc_curve(ytest,y_probs)\n",
    "roc_curve=auc(fpr,tpr)\n",
    "#Plot ROC Curve\n",
    "plt.figure(figsize=(8,6))\n",
    "plt.plot(fpr, tpr, label='ROC curve')\n",
    "plt.xlabel('Fasle Positive Rate')\n",
    "plt.ylabel('True Positive Rate')\n",
    "plt.title('ROC Curve')\n",
    "plt.legend()\n",
    "plt.show()\n"
   ]
  },
  {
   "cell_type": "code",
   "execution_count": 71,
   "id": "840c3778",
   "metadata": {},
   "outputs": [
    {
     "data": {
      "text/plain": [
       "0.784037558685446"
      ]
     },
     "execution_count": 71,
     "metadata": {},
     "output_type": "execute_result"
    }
   ],
   "source": [
    "roc_curve"
   ]
  },
  {
   "cell_type": "code",
   "execution_count": 72,
   "id": "394357e0",
   "metadata": {},
   "outputs": [
    {
     "data": {
      "text/plain": [
       "array([[51, 20],\n",
       "       [16, 47]], dtype=int64)"
      ]
     },
     "execution_count": 72,
     "metadata": {},
     "output_type": "execute_result"
    }
   ],
   "source": [
    "cm = confusion_matrix(ytest,ypred)\n",
    "cm"
   ]
  },
  {
   "cell_type": "code",
   "execution_count": 73,
   "id": "6df5644a",
   "metadata": {},
   "outputs": [
    {
     "data": {
      "text/plain": [
       "Text(70.72222222222221, 0.5, 'Actual')"
      ]
     },
     "execution_count": 73,
     "metadata": {},
     "output_type": "execute_result"
    },
    {
     "data": {
      "image/png": "[encoded data removed]",
      "text/plain": [
       "<Figure size 800x600 with 2 Axes>"
      ]
     },
     "metadata": {},
     "output_type": "display_data"
    }
   ],
   "source": [
    "plt.figure(figsize=(8,6))\n",
    "\n",
    "sns.heatmap(cm, annot=True, fmt='d', xticklabels=['Predicted 0(No diabeted)','Predicted 1(having diabites)'] ,yticklabels=[\"Actual 0\", \"Actual 1\"]) \n",
    "\n",
    "plt.xlabel('Predicted')\n",
    "\n",
    "plt.ylabel(\"Actual\")"
   ]
  },
  {
   "cell_type": "code",
   "execution_count": null,
   "id": "3868ac01",
   "metadata": {},
   "outputs": [],
   "source": []
  }
 ],
 "metadata": {
  "kernelspec": {
   "display_name": "Python 3 (ipykernel)",
   "language": "python",
   "name": "python3"
  },
  "language_info": {
   "codemirror_mode": {
    "name": "ipython",
    "version": 3
   },
   "file_extension": ".py",
   "mimetype": "text/x-python",
   "name": "python",
   "nbconvert_exporter": "python",
   "pygments_lexer": "ipython3",
   "version": "3.11.4"
  }
 },
 "nbformat": 4,
 "nbformat_minor": 5
}
