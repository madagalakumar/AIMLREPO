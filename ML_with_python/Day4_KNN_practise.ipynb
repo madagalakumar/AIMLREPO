{
 "cells": [
  {
   "cell_type": "code",
   "execution_count": 12,
   "id": "ba96d25c",
   "metadata": {},
   "outputs": [],
   "source": [
    "import numpy as np\n",
    "import pandas as pd\n",
    "import matplotlib.pyplot as plt\n",
    "import seaborn as sns"
   ]
  },
  {
   "cell_type": "code",
   "execution_count": 13,
   "id": "649285c4",
   "metadata": {},
   "outputs": [
    {
     "data": {
      "text/html": [
       "<div>\n",
       "<style scoped>\n",
       "    .dataframe tbody tr th:only-of-type {\n",
       "        vertical-align: middle;\n",
       "    }\n",
       "\n",
       "    .dataframe tbody tr th {\n",
       "        vertical-align: top;\n",
       "    }\n",
       "\n",
       "    .dataframe thead th {\n",
       "        text-align: right;\n",
       "    }\n",
       "</style>\n",
       "<table border=\"1\" class=\"dataframe\">\n",
       "  <thead>\n",
       "    <tr style=\"text-align: right;\">\n",
       "      <th></th>\n",
       "      <th>fixed acidity</th>\n",
       "      <th>volatile acidity</th>\n",
       "      <th>citric acid</th>\n",
       "      <th>residual sugar</th>\n",
       "      <th>chlorides</th>\n",
       "      <th>free sulfur dioxide</th>\n",
       "      <th>total sulfur dioxide</th>\n",
       "      <th>density</th>\n",
       "      <th>pH</th>\n",
       "      <th>sulphates</th>\n",
       "      <th>alcohol</th>\n",
       "      <th>quality</th>\n",
       "    </tr>\n",
       "  </thead>\n",
       "  <tbody>\n",
       "    <tr>\n",
       "      <th>0</th>\n",
       "      <td>7.4</td>\n",
       "      <td>0.70</td>\n",
       "      <td>0.00</td>\n",
       "      <td>1.9</td>\n",
       "      <td>0.076</td>\n",
       "      <td>11.0</td>\n",
       "      <td>34.0</td>\n",
       "      <td>0.9978</td>\n",
       "      <td>3.51</td>\n",
       "      <td>0.56</td>\n",
       "      <td>9.4</td>\n",
       "      <td>5</td>\n",
       "    </tr>\n",
       "    <tr>\n",
       "      <th>1</th>\n",
       "      <td>7.8</td>\n",
       "      <td>0.88</td>\n",
       "      <td>0.00</td>\n",
       "      <td>2.6</td>\n",
       "      <td>0.098</td>\n",
       "      <td>25.0</td>\n",
       "      <td>67.0</td>\n",
       "      <td>0.9968</td>\n",
       "      <td>3.20</td>\n",
       "      <td>0.68</td>\n",
       "      <td>9.8</td>\n",
       "      <td>5</td>\n",
       "    </tr>\n",
       "    <tr>\n",
       "      <th>2</th>\n",
       "      <td>7.8</td>\n",
       "      <td>0.76</td>\n",
       "      <td>0.04</td>\n",
       "      <td>2.3</td>\n",
       "      <td>0.092</td>\n",
       "      <td>15.0</td>\n",
       "      <td>54.0</td>\n",
       "      <td>0.9970</td>\n",
       "      <td>3.26</td>\n",
       "      <td>0.65</td>\n",
       "      <td>9.8</td>\n",
       "      <td>5</td>\n",
       "    </tr>\n",
       "    <tr>\n",
       "      <th>3</th>\n",
       "      <td>11.2</td>\n",
       "      <td>0.28</td>\n",
       "      <td>0.56</td>\n",
       "      <td>1.9</td>\n",
       "      <td>0.075</td>\n",
       "      <td>17.0</td>\n",
       "      <td>60.0</td>\n",
       "      <td>0.9980</td>\n",
       "      <td>3.16</td>\n",
       "      <td>0.58</td>\n",
       "      <td>9.8</td>\n",
       "      <td>6</td>\n",
       "    </tr>\n",
       "    <tr>\n",
       "      <th>4</th>\n",
       "      <td>7.4</td>\n",
       "      <td>0.70</td>\n",
       "      <td>0.00</td>\n",
       "      <td>1.9</td>\n",
       "      <td>0.076</td>\n",
       "      <td>11.0</td>\n",
       "      <td>34.0</td>\n",
       "      <td>0.9978</td>\n",
       "      <td>3.51</td>\n",
       "      <td>0.56</td>\n",
       "      <td>9.4</td>\n",
       "      <td>5</td>\n",
       "    </tr>\n",
       "  </tbody>\n",
       "</table>\n",
       "</div>"
      ],
      "text/plain": [
       "   fixed acidity  volatile acidity  citric acid  residual sugar  chlorides  \\\n",
       "0            7.4              0.70         0.00             1.9      0.076   \n",
       "1            7.8              0.88         0.00             2.6      0.098   \n",
       "2            7.8              0.76         0.04             2.3      0.092   \n",
       "3           11.2              0.28         0.56             1.9      0.075   \n",
       "4            7.4              0.70         0.00             1.9      0.076   \n",
       "\n",
       "   free sulfur dioxide  total sulfur dioxide  density    pH  sulphates  \\\n",
       "0                 11.0                  34.0   0.9978  3.51       0.56   \n",
       "1                 25.0                  67.0   0.9968  3.20       0.68   \n",
       "2                 15.0                  54.0   0.9970  3.26       0.65   \n",
       "3                 17.0                  60.0   0.9980  3.16       0.58   \n",
       "4                 11.0                  34.0   0.9978  3.51       0.56   \n",
       "\n",
       "   alcohol  quality  \n",
       "0      9.4        5  \n",
       "1      9.8        5  \n",
       "2      9.8        5  \n",
       "3      9.8        6  \n",
       "4      9.4        5  "
      ]
     },
     "execution_count": 13,
     "metadata": {},
     "output_type": "execute_result"
    }
   ],
   "source": [
    "data = pd.read_csv(\"winequality-red.csv\")\n",
    "data.head()"
   ]
  },
  {
   "cell_type": "code",
   "execution_count": 21,
   "id": "d1062b0e",
   "metadata": {},
   "outputs": [
    {
     "data": {
      "text/plain": [
       "<Axes: xlabel='quality', ylabel='count'>"
      ]
     },
     "execution_count": 21,
     "metadata": {},
     "output_type": "execute_result"
    },
    {
     "data": {
      "image/png": "[encoded data removed]",
      "text/plain": [
       "<Figure size 640x480 with 1 Axes>"
      ]
     },
     "metadata": {},
     "output_type": "display_data"
    }
   ],
   "source": [
    "sns.countplot(data,x='quality')"
   ]
  },
  {
   "cell_type": "markdown",
   "id": "7f779db9",
   "metadata": {},
   "source": [
    "# Assign X & Y"
   ]
  },
  {
   "cell_type": "code",
   "execution_count": 22,
   "id": "038961de",
   "metadata": {},
   "outputs": [
    {
     "data": {
      "text/html": [
       "<div>\n",
       "<style scoped>\n",
       "    .dataframe tbody tr th:only-of-type {\n",
       "        vertical-align: middle;\n",
       "    }\n",
       "\n",
       "    .dataframe tbody tr th {\n",
       "        vertical-align: top;\n",
       "    }\n",
       "\n",
       "    .dataframe thead th {\n",
       "        text-align: right;\n",
       "    }\n",
       "</style>\n",
       "<table border=\"1\" class=\"dataframe\">\n",
       "  <thead>\n",
       "    <tr style=\"text-align: right;\">\n",
       "      <th></th>\n",
       "      <th>fixed acidity</th>\n",
       "      <th>volatile acidity</th>\n",
       "      <th>citric acid</th>\n",
       "      <th>residual sugar</th>\n",
       "      <th>chlorides</th>\n",
       "      <th>free sulfur dioxide</th>\n",
       "      <th>total sulfur dioxide</th>\n",
       "      <th>density</th>\n",
       "      <th>pH</th>\n",
       "      <th>sulphates</th>\n",
       "      <th>alcohol</th>\n",
       "      <th>quality</th>\n",
       "    </tr>\n",
       "  </thead>\n",
       "  <tbody>\n",
       "    <tr>\n",
       "      <th>0</th>\n",
       "      <td>7.4</td>\n",
       "      <td>0.70</td>\n",
       "      <td>0.0</td>\n",
       "      <td>1.9</td>\n",
       "      <td>0.076</td>\n",
       "      <td>11.0</td>\n",
       "      <td>34.0</td>\n",
       "      <td>0.9978</td>\n",
       "      <td>3.51</td>\n",
       "      <td>0.56</td>\n",
       "      <td>9.4</td>\n",
       "      <td>5</td>\n",
       "    </tr>\n",
       "    <tr>\n",
       "      <th>1</th>\n",
       "      <td>7.8</td>\n",
       "      <td>0.88</td>\n",
       "      <td>0.0</td>\n",
       "      <td>2.6</td>\n",
       "      <td>0.098</td>\n",
       "      <td>25.0</td>\n",
       "      <td>67.0</td>\n",
       "      <td>0.9968</td>\n",
       "      <td>3.20</td>\n",
       "      <td>0.68</td>\n",
       "      <td>9.8</td>\n",
       "      <td>5</td>\n",
       "    </tr>\n",
       "  </tbody>\n",
       "</table>\n",
       "</div>"
      ],
      "text/plain": [
       "   fixed acidity  volatile acidity  citric acid  residual sugar  chlorides  \\\n",
       "0            7.4              0.70          0.0             1.9      0.076   \n",
       "1            7.8              0.88          0.0             2.6      0.098   \n",
       "\n",
       "   free sulfur dioxide  total sulfur dioxide  density    pH  sulphates  \\\n",
       "0                 11.0                  34.0   0.9978  3.51       0.56   \n",
       "1                 25.0                  67.0   0.9968  3.20       0.68   \n",
       "\n",
       "   alcohol  quality  \n",
       "0      9.4        5  \n",
       "1      9.8        5  "
      ]
     },
     "execution_count": 22,
     "metadata": {},
     "output_type": "execute_result"
    }
   ],
   "source": [
    "data.head(2)"
   ]
  },
  {
   "cell_type": "code",
   "execution_count": 23,
   "id": "b73231ff",
   "metadata": {},
   "outputs": [],
   "source": [
    "x=data.iloc[:,:-1]"
   ]
  },
  {
   "cell_type": "code",
   "execution_count": 25,
   "id": "223bce92",
   "metadata": {},
   "outputs": [],
   "source": [
    "y=data.iloc[:,-1:]"
   ]
  },
  {
   "cell_type": "code",
   "execution_count": 26,
   "id": "339720d8",
   "metadata": {},
   "outputs": [
    {
     "data": {
      "text/html": [
       "<div>\n",
       "<style scoped>\n",
       "    .dataframe tbody tr th:only-of-type {\n",
       "        vertical-align: middle;\n",
       "    }\n",
       "\n",
       "    .dataframe tbody tr th {\n",
       "        vertical-align: top;\n",
       "    }\n",
       "\n",
       "    .dataframe thead th {\n",
       "        text-align: right;\n",
       "    }\n",
       "</style>\n",
       "<table border=\"1\" class=\"dataframe\">\n",
       "  <thead>\n",
       "    <tr style=\"text-align: right;\">\n",
       "      <th></th>\n",
       "      <th>fixed acidity</th>\n",
       "      <th>volatile acidity</th>\n",
       "      <th>citric acid</th>\n",
       "      <th>residual sugar</th>\n",
       "      <th>chlorides</th>\n",
       "      <th>free sulfur dioxide</th>\n",
       "      <th>total sulfur dioxide</th>\n",
       "      <th>density</th>\n",
       "      <th>pH</th>\n",
       "      <th>sulphates</th>\n",
       "      <th>alcohol</th>\n",
       "    </tr>\n",
       "  </thead>\n",
       "  <tbody>\n",
       "    <tr>\n",
       "      <th>0</th>\n",
       "      <td>7.4</td>\n",
       "      <td>0.70</td>\n",
       "      <td>0.0</td>\n",
       "      <td>1.9</td>\n",
       "      <td>0.076</td>\n",
       "      <td>11.0</td>\n",
       "      <td>34.0</td>\n",
       "      <td>0.9978</td>\n",
       "      <td>3.51</td>\n",
       "      <td>0.56</td>\n",
       "      <td>9.4</td>\n",
       "    </tr>\n",
       "    <tr>\n",
       "      <th>1</th>\n",
       "      <td>7.8</td>\n",
       "      <td>0.88</td>\n",
       "      <td>0.0</td>\n",
       "      <td>2.6</td>\n",
       "      <td>0.098</td>\n",
       "      <td>25.0</td>\n",
       "      <td>67.0</td>\n",
       "      <td>0.9968</td>\n",
       "      <td>3.20</td>\n",
       "      <td>0.68</td>\n",
       "      <td>9.8</td>\n",
       "    </tr>\n",
       "  </tbody>\n",
       "</table>\n",
       "</div>"
      ],
      "text/plain": [
       "   fixed acidity  volatile acidity  citric acid  residual sugar  chlorides  \\\n",
       "0            7.4              0.70          0.0             1.9      0.076   \n",
       "1            7.8              0.88          0.0             2.6      0.098   \n",
       "\n",
       "   free sulfur dioxide  total sulfur dioxide  density    pH  sulphates  \\\n",
       "0                 11.0                  34.0   0.9978  3.51       0.56   \n",
       "1                 25.0                  67.0   0.9968  3.20       0.68   \n",
       "\n",
       "   alcohol  \n",
       "0      9.4  \n",
       "1      9.8  "
      ]
     },
     "execution_count": 26,
     "metadata": {},
     "output_type": "execute_result"
    }
   ],
   "source": [
    "x.head(2)"
   ]
  },
  {
   "cell_type": "code",
   "execution_count": 29,
   "id": "67827db4",
   "metadata": {},
   "outputs": [
    {
     "name": "stdout",
     "output_type": "stream",
     "text": [
      "***************Training Data Shape**********.........\n",
      "\n",
      "Training data-X- Shape: \t (1279, 11)\n",
      "\n",
      "Training data-y- Shape: \t (1279, 1)\n",
      "\n",
      "****************Testing Data Shape******************\n",
      "\n",
      "Testing data(x-Input) Shape: \t (320, 11)\n",
      "\n",
      "Testing data(y-Outcome) Shape:\t (320, 1)\n"
     ]
    }
   ],
   "source": [
    "from sklearn.neighbors import KNeighborsClassifier\n",
    "from sklearn.model_selection import train_test_split\n",
    "from sklearn.metrics import accuracy_score \n",
    "from sklearn.metrics import confusion_matrix\n",
    "from sklearn.metrics import classification_report\n",
    "\n",
    "xtrain, xtest, ytrain, ytest=train_test_split(x,y,test_size=0.2,random_state=2)\n",
    "print('***************Training Data Shape**********.........\\n')\n",
    "print('Training data-X- Shape: \\t',xtrain.shape)\n",
    "print()\n",
    "print('Training data-y- Shape: \\t', ytrain.shape)\n",
    "print()\n",
    "print('****************Testing Data Shape******************\\n')\n",
    "print('Testing data(x-Input) Shape: \\t', xtest.shape)\n",
    "print()\n",
    "print('Testing data(y-Outcome) Shape:\\t',ytest.shape)"
   ]
  },
  {
   "cell_type": "code",
   "execution_count": 32,
   "id": "91f5a334",
   "metadata": {},
   "outputs": [
    {
     "name": "stdout",
     "output_type": "stream",
     "text": [
      "**********************KNN Classifier Model**************\n",
      "Training Phase\n",
      "\n",
      "Training is completed\n",
      "====================================================================================================\n",
      "\n",
      "Testing Phase\n",
      "\n",
      "Prdicted Class Labels are:\n",
      " [7 5 4 5 6 5 6 6 5 5 4 6 6 6 5 7 6 6 6 4 4 6 6 6 5 7 5 5 7 6 5 5 5 5 5 5 6\n",
      " 6 7 4 5 5 6 6 5 6 5 5 5 5 5 5 5 5 7 5 5 5 5 5 6 6 6 6 6 6 7 6 6 4 5 5 5 5\n",
      " 5 5 5 5 5 5 6 4 7 4 7 5 5 6 5 6 7 5 6 4 4 6 5 5 5 5 6 5 3 5 5 6 5 6 6 6 5\n",
      " 5 5 6 5 6 5 6 6 6 5 5 6 5 7 5 6 4 6 5 6 5 5 6 7 5 6 5 5 6 5 6 6 6 3 5 5 5\n",
      " 6 5 7 6 5 5 7 4 7 5 6 6 5 5 6 5 7 6 7 5 6 5 6 6 7 6 5 5 5 5 5 6 5 6 5 6 5\n",
      " 7 5 5 6 6 4 5 6 4 4 6 5 6 6 7 6 5 5 5 5 5 6 7 5 6 7 4 5 6 5 7 6 5 6 5 6 6\n",
      " 5 7 5 5 5 6 5 5 5 5 5 5 5 5 3 6 5 5 5 7 5 6 5 5 5 5 5 6 5 5 5 5 7 6 5 5 6\n",
      " 6 5 6 5 6 5 7 5 5 5 5 5 6 5 6 5 5 5 5 6 6 3 6 5 5 7 5 4 5 6 7 7 6 5 6 3 5\n",
      " 6 5 7 5 7 6 7 6 6 5 6 6 5 7 5 5 7 5 5 6 5 6 5 6]\n",
      "Test is also done\n",
      "\n",
      "----------------------------------------------------------------------------------------------------\n"
     ]
    },
    {
     "name": "stderr",
     "output_type": "stream",
     "text": [
      "C:\\Users\\jagad\\anaconda3\\Lib\\site-packages\\sklearn\\neighbors\\_classification.py:228: DataConversionWarning: A column-vector y was passed when a 1d array was expected. Please change the shape of y to (n_samples,), for example using ravel().\n",
      "  return self._fit(X, y)\n"
     ]
    }
   ],
   "source": [
    "#Train the model\n",
    "\n",
    "knn_model=KNeighborsClassifier(n_neighbors=3)\n",
    "print('**********************KNN Classifier Model**************')\n",
    "print('Training Phase\\n')\n",
    "knn_model.fit(xtrain, ytrain)\n",
    "print('Training is completed')\n",
    "print('=' *100)\n",
    "print()\n",
    "print('Testing Phase\\n')\n",
    "ypred=knn_model.predict(xtest)\n",
    "print('Prdicted Class Labels are:\\n', ypred)\n",
    "print('Test is also done')\n",
    "print()\n",
    "print('-'*100)"
   ]
  },
  {
   "cell_type": "code",
   "execution_count": 33,
   "id": "b9e12e0a",
   "metadata": {},
   "outputs": [
    {
     "name": "stdout",
     "output_type": "stream",
     "text": [
      "Accuracy Score: \t 0.503125\n",
      "\n",
      "Confusion Matrix:\n",
      " [[ 0  0  0  1  0  0]\n",
      " [ 2  1  3  3  0  0]\n",
      " [ 1  6 84 25  6  0]\n",
      " [ 1 10 63 62 11  0]\n",
      " [ 1  0  9 12 14  0]\n",
      " [ 0  0  0  1  4  0]]\n",
      "\n",
      "Classification Report:\n",
      "               precision    recall  f1-score   support\n",
      "\n",
      "           3       0.00      0.00      0.00         1\n",
      "           4       0.06      0.11      0.08         9\n",
      "           5       0.53      0.69      0.60       122\n",
      "           6       0.60      0.42      0.49       147\n",
      "           7       0.40      0.39      0.39        36\n",
      "           8       0.00      0.00      0.00         5\n",
      "\n",
      "    accuracy                           0.50       320\n",
      "   macro avg       0.26      0.27      0.26       320\n",
      "weighted avg       0.52      0.50      0.50       320\n",
      "\n"
     ]
    },
    {
     "name": "stderr",
     "output_type": "stream",
     "text": [
      "C:\\Users\\jagad\\anaconda3\\Lib\\site-packages\\sklearn\\metrics\\_classification.py:1469: UndefinedMetricWarning: Precision and F-score are ill-defined and being set to 0.0 in labels with no predicted samples. Use `zero_division` parameter to control this behavior.\n",
      "  _warn_prf(average, modifier, msg_start, len(result))\n",
      "C:\\Users\\jagad\\anaconda3\\Lib\\site-packages\\sklearn\\metrics\\_classification.py:1469: UndefinedMetricWarning: Precision and F-score are ill-defined and being set to 0.0 in labels with no predicted samples. Use `zero_division` parameter to control this behavior.\n",
      "  _warn_prf(average, modifier, msg_start, len(result))\n",
      "C:\\Users\\jagad\\anaconda3\\Lib\\site-packages\\sklearn\\metrics\\_classification.py:1469: UndefinedMetricWarning: Precision and F-score are ill-defined and being set to 0.0 in labels with no predicted samples. Use `zero_division` parameter to control this behavior.\n",
      "  _warn_prf(average, modifier, msg_start, len(result))\n"
     ]
    }
   ],
   "source": [
    "print('Accuracy Score: \\t', accuracy_score(ytest,ypred))\n",
    "print()\n",
    "print('Confusion Matrix:\\n', confusion_matrix(ytest,ypred))\n",
    "print()\n",
    "print('Classification Report:\\n', classification_report(ytest,ypred))"
   ]
  },
  {
   "cell_type": "code",
   "execution_count": 34,
   "id": "6454a32f",
   "metadata": {},
   "outputs": [
    {
     "data": {
      "text/html": [
       "<div>\n",
       "<style scoped>\n",
       "    .dataframe tbody tr th:only-of-type {\n",
       "        vertical-align: middle;\n",
       "    }\n",
       "\n",
       "    .dataframe tbody tr th {\n",
       "        vertical-align: top;\n",
       "    }\n",
       "\n",
       "    .dataframe thead th {\n",
       "        text-align: right;\n",
       "    }\n",
       "</style>\n",
       "<table border=\"1\" class=\"dataframe\">\n",
       "  <thead>\n",
       "    <tr style=\"text-align: right;\">\n",
       "      <th></th>\n",
       "      <th>count</th>\n",
       "      <th>mean</th>\n",
       "      <th>std</th>\n",
       "      <th>min</th>\n",
       "      <th>25%</th>\n",
       "      <th>50%</th>\n",
       "      <th>75%</th>\n",
       "      <th>max</th>\n",
       "    </tr>\n",
       "  </thead>\n",
       "  <tbody>\n",
       "    <tr>\n",
       "      <th>fixed acidity</th>\n",
       "      <td>1599.0</td>\n",
       "      <td>8.319637</td>\n",
       "      <td>1.741096</td>\n",
       "      <td>4.60000</td>\n",
       "      <td>7.1000</td>\n",
       "      <td>7.90000</td>\n",
       "      <td>9.200000</td>\n",
       "      <td>15.90000</td>\n",
       "    </tr>\n",
       "    <tr>\n",
       "      <th>volatile acidity</th>\n",
       "      <td>1599.0</td>\n",
       "      <td>0.527821</td>\n",
       "      <td>0.179060</td>\n",
       "      <td>0.12000</td>\n",
       "      <td>0.3900</td>\n",
       "      <td>0.52000</td>\n",
       "      <td>0.640000</td>\n",
       "      <td>1.58000</td>\n",
       "    </tr>\n",
       "    <tr>\n",
       "      <th>citric acid</th>\n",
       "      <td>1599.0</td>\n",
       "      <td>0.270976</td>\n",
       "      <td>0.194801</td>\n",
       "      <td>0.00000</td>\n",
       "      <td>0.0900</td>\n",
       "      <td>0.26000</td>\n",
       "      <td>0.420000</td>\n",
       "      <td>1.00000</td>\n",
       "    </tr>\n",
       "    <tr>\n",
       "      <th>residual sugar</th>\n",
       "      <td>1599.0</td>\n",
       "      <td>2.538806</td>\n",
       "      <td>1.409928</td>\n",
       "      <td>0.90000</td>\n",
       "      <td>1.9000</td>\n",
       "      <td>2.20000</td>\n",
       "      <td>2.600000</td>\n",
       "      <td>15.50000</td>\n",
       "    </tr>\n",
       "    <tr>\n",
       "      <th>chlorides</th>\n",
       "      <td>1599.0</td>\n",
       "      <td>0.087467</td>\n",
       "      <td>0.047065</td>\n",
       "      <td>0.01200</td>\n",
       "      <td>0.0700</td>\n",
       "      <td>0.07900</td>\n",
       "      <td>0.090000</td>\n",
       "      <td>0.61100</td>\n",
       "    </tr>\n",
       "    <tr>\n",
       "      <th>free sulfur dioxide</th>\n",
       "      <td>1599.0</td>\n",
       "      <td>15.874922</td>\n",
       "      <td>10.460157</td>\n",
       "      <td>1.00000</td>\n",
       "      <td>7.0000</td>\n",
       "      <td>14.00000</td>\n",
       "      <td>21.000000</td>\n",
       "      <td>72.00000</td>\n",
       "    </tr>\n",
       "    <tr>\n",
       "      <th>total sulfur dioxide</th>\n",
       "      <td>1599.0</td>\n",
       "      <td>46.467792</td>\n",
       "      <td>32.895324</td>\n",
       "      <td>6.00000</td>\n",
       "      <td>22.0000</td>\n",
       "      <td>38.00000</td>\n",
       "      <td>62.000000</td>\n",
       "      <td>289.00000</td>\n",
       "    </tr>\n",
       "    <tr>\n",
       "      <th>density</th>\n",
       "      <td>1599.0</td>\n",
       "      <td>0.996747</td>\n",
       "      <td>0.001887</td>\n",
       "      <td>0.99007</td>\n",
       "      <td>0.9956</td>\n",
       "      <td>0.99675</td>\n",
       "      <td>0.997835</td>\n",
       "      <td>1.00369</td>\n",
       "    </tr>\n",
       "    <tr>\n",
       "      <th>pH</th>\n",
       "      <td>1599.0</td>\n",
       "      <td>3.311113</td>\n",
       "      <td>0.154386</td>\n",
       "      <td>2.74000</td>\n",
       "      <td>3.2100</td>\n",
       "      <td>3.31000</td>\n",
       "      <td>3.400000</td>\n",
       "      <td>4.01000</td>\n",
       "    </tr>\n",
       "    <tr>\n",
       "      <th>sulphates</th>\n",
       "      <td>1599.0</td>\n",
       "      <td>0.658149</td>\n",
       "      <td>0.169507</td>\n",
       "      <td>0.33000</td>\n",
       "      <td>0.5500</td>\n",
       "      <td>0.62000</td>\n",
       "      <td>0.730000</td>\n",
       "      <td>2.00000</td>\n",
       "    </tr>\n",
       "    <tr>\n",
       "      <th>alcohol</th>\n",
       "      <td>1599.0</td>\n",
       "      <td>10.422983</td>\n",
       "      <td>1.065668</td>\n",
       "      <td>8.40000</td>\n",
       "      <td>9.5000</td>\n",
       "      <td>10.20000</td>\n",
       "      <td>11.100000</td>\n",
       "      <td>14.90000</td>\n",
       "    </tr>\n",
       "  </tbody>\n",
       "</table>\n",
       "</div>"
      ],
      "text/plain": [
       "                       count       mean        std      min      25%  \\\n",
       "fixed acidity         1599.0   8.319637   1.741096  4.60000   7.1000   \n",
       "volatile acidity      1599.0   0.527821   0.179060  0.12000   0.3900   \n",
       "citric acid           1599.0   0.270976   0.194801  0.00000   0.0900   \n",
       "residual sugar        1599.0   2.538806   1.409928  0.90000   1.9000   \n",
       "chlorides             1599.0   0.087467   0.047065  0.01200   0.0700   \n",
       "free sulfur dioxide   1599.0  15.874922  10.460157  1.00000   7.0000   \n",
       "total sulfur dioxide  1599.0  46.467792  32.895324  6.00000  22.0000   \n",
       "density               1599.0   0.996747   0.001887  0.99007   0.9956   \n",
       "pH                    1599.0   3.311113   0.154386  2.74000   3.2100   \n",
       "sulphates             1599.0   0.658149   0.169507  0.33000   0.5500   \n",
       "alcohol               1599.0  10.422983   1.065668  8.40000   9.5000   \n",
       "\n",
       "                           50%        75%        max  \n",
       "fixed acidity          7.90000   9.200000   15.90000  \n",
       "volatile acidity       0.52000   0.640000    1.58000  \n",
       "citric acid            0.26000   0.420000    1.00000  \n",
       "residual sugar         2.20000   2.600000   15.50000  \n",
       "chlorides              0.07900   0.090000    0.61100  \n",
       "free sulfur dioxide   14.00000  21.000000   72.00000  \n",
       "total sulfur dioxide  38.00000  62.000000  289.00000  \n",
       "density                0.99675   0.997835    1.00369  \n",
       "pH                     3.31000   3.400000    4.01000  \n",
       "sulphates              0.62000   0.730000    2.00000  \n",
       "alcohol               10.20000  11.100000   14.90000  "
      ]
     },
     "execution_count": 34,
     "metadata": {},
     "output_type": "execute_result"
    }
   ],
   "source": [
    "x.describe().T"
   ]
  },
  {
   "cell_type": "code",
   "execution_count": 35,
   "id": "55374217",
   "metadata": {},
   "outputs": [
    {
     "data": {
      "text/html": [
       "<div>\n",
       "<style scoped>\n",
       "    .dataframe tbody tr th:only-of-type {\n",
       "        vertical-align: middle;\n",
       "    }\n",
       "\n",
       "    .dataframe tbody tr th {\n",
       "        vertical-align: top;\n",
       "    }\n",
       "\n",
       "    .dataframe thead th {\n",
       "        text-align: right;\n",
       "    }\n",
       "</style>\n",
       "<table border=\"1\" class=\"dataframe\">\n",
       "  <thead>\n",
       "    <tr style=\"text-align: right;\">\n",
       "      <th></th>\n",
       "      <th>fixed acidity</th>\n",
       "      <th>volatile acidity</th>\n",
       "      <th>citric acid</th>\n",
       "      <th>residual sugar</th>\n",
       "      <th>chlorides</th>\n",
       "      <th>free sulfur dioxide</th>\n",
       "      <th>total sulfur dioxide</th>\n",
       "      <th>density</th>\n",
       "      <th>pH</th>\n",
       "      <th>sulphates</th>\n",
       "      <th>alcohol</th>\n",
       "    </tr>\n",
       "  </thead>\n",
       "  <tbody>\n",
       "    <tr>\n",
       "      <th>0</th>\n",
       "      <td>7.4</td>\n",
       "      <td>0.70</td>\n",
       "      <td>0.00</td>\n",
       "      <td>1.9</td>\n",
       "      <td>0.076</td>\n",
       "      <td>11.0</td>\n",
       "      <td>34.0</td>\n",
       "      <td>0.9978</td>\n",
       "      <td>3.51</td>\n",
       "      <td>0.56</td>\n",
       "      <td>9.4</td>\n",
       "    </tr>\n",
       "    <tr>\n",
       "      <th>1</th>\n",
       "      <td>7.8</td>\n",
       "      <td>0.88</td>\n",
       "      <td>0.00</td>\n",
       "      <td>2.6</td>\n",
       "      <td>0.098</td>\n",
       "      <td>25.0</td>\n",
       "      <td>67.0</td>\n",
       "      <td>0.9968</td>\n",
       "      <td>3.20</td>\n",
       "      <td>0.68</td>\n",
       "      <td>9.8</td>\n",
       "    </tr>\n",
       "    <tr>\n",
       "      <th>2</th>\n",
       "      <td>7.8</td>\n",
       "      <td>0.76</td>\n",
       "      <td>0.04</td>\n",
       "      <td>2.3</td>\n",
       "      <td>0.092</td>\n",
       "      <td>15.0</td>\n",
       "      <td>54.0</td>\n",
       "      <td>0.9970</td>\n",
       "      <td>3.26</td>\n",
       "      <td>0.65</td>\n",
       "      <td>9.8</td>\n",
       "    </tr>\n",
       "    <tr>\n",
       "      <th>3</th>\n",
       "      <td>11.2</td>\n",
       "      <td>0.28</td>\n",
       "      <td>0.56</td>\n",
       "      <td>1.9</td>\n",
       "      <td>0.075</td>\n",
       "      <td>17.0</td>\n",
       "      <td>60.0</td>\n",
       "      <td>0.9980</td>\n",
       "      <td>3.16</td>\n",
       "      <td>0.58</td>\n",
       "      <td>9.8</td>\n",
       "    </tr>\n",
       "    <tr>\n",
       "      <th>4</th>\n",
       "      <td>7.4</td>\n",
       "      <td>0.70</td>\n",
       "      <td>0.00</td>\n",
       "      <td>1.9</td>\n",
       "      <td>0.076</td>\n",
       "      <td>11.0</td>\n",
       "      <td>34.0</td>\n",
       "      <td>0.9978</td>\n",
       "      <td>3.51</td>\n",
       "      <td>0.56</td>\n",
       "      <td>9.4</td>\n",
       "    </tr>\n",
       "  </tbody>\n",
       "</table>\n",
       "</div>"
      ],
      "text/plain": [
       "   fixed acidity  volatile acidity  citric acid  residual sugar  chlorides  \\\n",
       "0            7.4              0.70         0.00             1.9      0.076   \n",
       "1            7.8              0.88         0.00             2.6      0.098   \n",
       "2            7.8              0.76         0.04             2.3      0.092   \n",
       "3           11.2              0.28         0.56             1.9      0.075   \n",
       "4            7.4              0.70         0.00             1.9      0.076   \n",
       "\n",
       "   free sulfur dioxide  total sulfur dioxide  density    pH  sulphates  \\\n",
       "0                 11.0                  34.0   0.9978  3.51       0.56   \n",
       "1                 25.0                  67.0   0.9968  3.20       0.68   \n",
       "2                 15.0                  54.0   0.9970  3.26       0.65   \n",
       "3                 17.0                  60.0   0.9980  3.16       0.58   \n",
       "4                 11.0                  34.0   0.9978  3.51       0.56   \n",
       "\n",
       "   alcohol  \n",
       "0      9.4  \n",
       "1      9.8  \n",
       "2      9.8  \n",
       "3      9.8  \n",
       "4      9.4  "
      ]
     },
     "execution_count": 35,
     "metadata": {},
     "output_type": "execute_result"
    }
   ],
   "source": [
    "x.head()"
   ]
  },
  {
   "cell_type": "markdown",
   "id": "037ccb4f",
   "metadata": {},
   "source": [
    "# Scaling the Data"
   ]
  },
  {
   "cell_type": "code",
   "execution_count": 36,
   "id": "a4edf623",
   "metadata": {},
   "outputs": [],
   "source": [
    "from sklearn.preprocessing import StandardScaler\n",
    "sc=StandardScaler()\n",
    "sc_x = sc.fit_transform(x)"
   ]
  },
  {
   "cell_type": "code",
   "execution_count": 37,
   "id": "b383e981",
   "metadata": {},
   "outputs": [
    {
     "data": {
      "text/plain": [
       "(1599, 11)"
      ]
     },
     "execution_count": 37,
     "metadata": {},
     "output_type": "execute_result"
    }
   ],
   "source": [
    "sc_x.shape"
   ]
  },
  {
   "cell_type": "code",
   "execution_count": 38,
   "id": "c434452f",
   "metadata": {},
   "outputs": [
    {
     "data": {
      "text/plain": [
       "array([-0.52835961,  0.96187667, -1.39147228, -0.45321841, -0.24370669,\n",
       "       -0.46619252, -0.37913269,  0.55827446,  1.28864292, -0.57920652,\n",
       "       -0.96024611])"
      ]
     },
     "execution_count": 38,
     "metadata": {},
     "output_type": "execute_result"
    }
   ],
   "source": [
    "sc_x[0]"
   ]
  },
  {
   "cell_type": "markdown",
   "id": "232c3db1",
   "metadata": {},
   "source": [
    "# split the scaled data"
   ]
  },
  {
   "cell_type": "code",
   "execution_count": 39,
   "id": "0348d30d",
   "metadata": {},
   "outputs": [
    {
     "name": "stdout",
     "output_type": "stream",
     "text": [
      "***************Training Data Shape**********.........\n",
      "\n",
      "Training data-X- Shape: \t (1279, 11)\n",
      "\n",
      "Training data-y- Shape: \t (1279, 1)\n",
      "\n",
      "****************Testing Data Shape******************\n",
      "\n",
      "Testing data(x-Input) Shape: \t (320, 11)\n",
      "\n",
      "Testing data(y-Outcome) Shape:\t (320, 1)\n"
     ]
    }
   ],
   "source": [
    "xtrain, xtest, ytrain, ytest=train_test_split(sc_x,y,test_size=0.2,random_state=2)\n",
    "print('***************Training Data Shape**********.........\\n')\n",
    "print('Training data-X- Shape: \\t',xtrain.shape)\n",
    "print()\n",
    "print('Training data-y- Shape: \\t', ytrain.shape)\n",
    "print()\n",
    "print('****************Testing Data Shape******************\\n')\n",
    "print('Testing data(x-Input) Shape: \\t', xtest.shape)\n",
    "print()\n",
    "print('Testing data(y-Outcome) Shape:\\t',ytest.shape)"
   ]
  },
  {
   "cell_type": "markdown",
   "id": "a1d42b5d",
   "metadata": {},
   "source": [
    "# Train the scaled data"
   ]
  },
  {
   "cell_type": "code",
   "execution_count": 45,
   "id": "560efddf",
   "metadata": {},
   "outputs": [
    {
     "name": "stdout",
     "output_type": "stream",
     "text": [
      "**********************KNN Classifier Model**************\n",
      "Training Phase\n",
      "\n",
      "Training is completed\n",
      "====================================================================================================\n",
      "\n",
      "Testing Phase\n",
      "\n",
      "Prdicted Class Labels are:\n",
      " [6 5 5 6 6 6 4 5 5 5 6 5 5 6 5 5 6 7 6 6 6 6 6 6 5 7 5 6 7 5 5 6 6 6 6 5 6\n",
      " 5 6 6 5 6 5 5 5 5 5 6 5 6 5 5 5 6 6 5 7 5 6 6 4 5 6 5 6 6 7 6 5 6 5 6 6 5\n",
      " 5 6 6 5 6 5 5 7 5 5 7 6 7 6 5 5 6 5 6 5 5 6 5 5 5 5 6 6 3 4 6 6 6 5 6 7 6\n",
      " 5 6 5 6 6 5 6 6 6 6 5 6 6 5 5 6 5 6 5 5 5 7 5 6 6 6 5 5 7 6 5 6 6 5 5 4 5\n",
      " 6 4 6 6 6 6 6 6 6 5 6 6 5 5 6 5 6 6 7 6 3 5 6 6 7 6 6 6 6 6 5 6 5 6 5 6 5\n",
      " 4 5 5 6 6 6 7 5 5 5 6 5 5 5 7 5 5 5 5 5 5 6 7 6 5 7 5 5 5 7 5 6 5 5 6 5 6\n",
      " 4 6 6 5 6 6 6 6 5 4 5 5 6 5 6 6 4 5 7 6 6 6 5 6 6 6 5 7 6 5 6 5 7 5 5 4 6\n",
      " 6 6 5 5 5 6 6 5 5 6 6 5 5 5 5 5 5 6 5 6 5 5 6 5 6 7 5 5 5 7 7 7 7 5 5 3 5\n",
      " 6 6 4 6 7 6 7 5 6 7 5 5 5 7 5 5 6 5 5 3 5 6 6 5]\n",
      "Test is also done\n",
      "\n",
      "----------------------------------------------------------------------------------------------------\n"
     ]
    },
    {
     "name": "stderr",
     "output_type": "stream",
     "text": [
      "C:\\Users\\jagad\\anaconda3\\Lib\\site-packages\\sklearn\\neighbors\\_classification.py:228: DataConversionWarning: A column-vector y was passed when a 1d array was expected. Please change the shape of y to (n_samples,), for example using ravel().\n",
      "  return self._fit(X, y)\n"
     ]
    }
   ],
   "source": [
    "#Train the model\n",
    "\n",
    "knn_model=KNeighborsClassifier(n_neighbors=3)\n",
    "print('**********************KNN Classifier Model**************')\n",
    "print('Training Phase\\n')\n",
    "knn_model.fit(xtrain, ytrain)\n",
    "print('Training is completed')\n",
    "print('=' *100)\n",
    "print()\n",
    "print('Testing Phase\\n')\n",
    "ypred=knn_model.predict(xtest)\n",
    "print('Prdicted Class Labels are:\\n', ypred)\n",
    "print('Test is also done')\n",
    "print()\n",
    "print('-'*100)"
   ]
  },
  {
   "cell_type": "markdown",
   "id": "61d4d920",
   "metadata": {},
   "source": [
    "# performance Measures with Scaled data"
   ]
  },
  {
   "cell_type": "code",
   "execution_count": 46,
   "id": "beb7a67d",
   "metadata": {},
   "outputs": [
    {
     "name": "stdout",
     "output_type": "stream",
     "text": [
      "Accuracy Score: \t 0.5375\n",
      "\n",
      "Confusion Matrix:\n",
      " [[ 0  0  0  1  0  0]\n",
      " [ 2  1  4  2  0  0]\n",
      " [ 1  5 75 40  1  0]\n",
      " [ 0  5 50 81 11  0]\n",
      " [ 1  0 10 10 15  0]\n",
      " [ 0  0  0  2  3  0]]\n",
      "\n",
      "Classification Report:\n",
      "               precision    recall  f1-score   support\n",
      "\n",
      "           3       0.00      0.00      0.00         1\n",
      "           4       0.09      0.11      0.10         9\n",
      "           5       0.54      0.61      0.57       122\n",
      "           6       0.60      0.55      0.57       147\n",
      "           7       0.50      0.42      0.45        36\n",
      "           8       0.00      0.00      0.00         5\n",
      "\n",
      "    accuracy                           0.54       320\n",
      "   macro avg       0.29      0.28      0.28       320\n",
      "weighted avg       0.54      0.54      0.54       320\n",
      "\n"
     ]
    },
    {
     "name": "stderr",
     "output_type": "stream",
     "text": [
      "C:\\Users\\jagad\\anaconda3\\Lib\\site-packages\\sklearn\\metrics\\_classification.py:1469: UndefinedMetricWarning: Precision and F-score are ill-defined and being set to 0.0 in labels with no predicted samples. Use `zero_division` parameter to control this behavior.\n",
      "  _warn_prf(average, modifier, msg_start, len(result))\n",
      "C:\\Users\\jagad\\anaconda3\\Lib\\site-packages\\sklearn\\metrics\\_classification.py:1469: UndefinedMetricWarning: Precision and F-score are ill-defined and being set to 0.0 in labels with no predicted samples. Use `zero_division` parameter to control this behavior.\n",
      "  _warn_prf(average, modifier, msg_start, len(result))\n",
      "C:\\Users\\jagad\\anaconda3\\Lib\\site-packages\\sklearn\\metrics\\_classification.py:1469: UndefinedMetricWarning: Precision and F-score are ill-defined and being set to 0.0 in labels with no predicted samples. Use `zero_division` parameter to control this behavior.\n",
      "  _warn_prf(average, modifier, msg_start, len(result))\n"
     ]
    }
   ],
   "source": [
    "print('Accuracy Score: \\t', accuracy_score(ytest,ypred))\n",
    "print()\n",
    "print('Confusion Matrix:\\n', confusion_matrix(ytest,ypred))\n",
    "print()\n",
    "print('Classification Report:\\n', classification_report(ytest,ypred))"
   ]
  },
  {
   "cell_type": "markdown",
   "id": "98dd8a91",
   "metadata": {},
   "source": [
    "# Train the data with no of neighbours=4"
   ]
  },
  {
   "cell_type": "code",
   "execution_count": 48,
   "id": "aba1b4cb",
   "metadata": {},
   "outputs": [
    {
     "name": "stdout",
     "output_type": "stream",
     "text": [
      "**********************KNN Classifier Model**************\n",
      "Training Phase\n",
      "\n",
      "Training is completed\n",
      "====================================================================================================\n",
      "\n",
      "Testing Phase\n",
      "\n",
      "Prdicted Class Labels are:\n",
      " [6 7 5 6 6 6 4 6 5 5 6 5 5 6 5 7 6 7 6 6 6 5 6 8 5 7 5 6 7 5 5 6 5 6 6 5 5\n",
      " 6 6 6 5 6 5 5 5 5 5 6 5 6 5 5 5 6 6 5 7 5 6 6 5 5 6 5 6 6 7 6 7 6 5 6 6 5\n",
      " 5 6 6 6 6 5 5 7 6 5 7 6 5 6 5 5 6 5 5 5 5 5 5 5 5 5 6 5 5 6 6 8 6 5 5 7 6\n",
      " 5 5 5 6 6 5 6 6 6 6 6 6 6 7 5 7 7 6 5 5 5 7 5 6 5 6 6 5 7 6 5 6 6 5 5 4 5\n",
      " 6 6 6 6 6 5 6 6 6 5 5 6 5 5 6 5 6 6 7 6 5 5 6 6 7 6 6 6 5 6 5 6 5 5 5 6 5\n",
      " 5 5 5 6 6 6 7 5 5 5 5 5 5 5 7 5 5 5 5 5 5 6 7 6 5 7 5 6 6 7 5 6 5 5 5 5 6\n",
      " 6 6 6 5 6 6 6 6 5 3 5 5 6 5 6 6 5 5 7 6 6 7 5 6 5 6 5 7 5 5 6 5 7 5 5 6 6\n",
      " 6 6 7 5 5 5 6 5 5 5 6 5 5 5 5 5 5 4 5 6 5 5 6 5 6 7 5 5 7 7 6 7 7 5 5 3 5\n",
      " 7 6 6 5 6 5 5 5 6 6 5 5 5 7 5 5 6 5 5 4 5 6 5 5]\n",
      "Test is also done\n",
      "\n",
      "----------------------------------------------------------------------------------------------------\n"
     ]
    },
    {
     "name": "stderr",
     "output_type": "stream",
     "text": [
      "C:\\Users\\jagad\\anaconda3\\Lib\\site-packages\\sklearn\\neighbors\\_classification.py:228: DataConversionWarning: A column-vector y was passed when a 1d array was expected. Please change the shape of y to (n_samples,), for example using ravel().\n",
      "  return self._fit(X, y)\n"
     ]
    }
   ],
   "source": [
    "#Train the model\n",
    "\n",
    "knn_model=KNeighborsClassifier(n_neighbors=4)\n",
    "print('**********************KNN Classifier Model**************')\n",
    "print('Training Phase\\n')\n",
    "knn_model.fit(xtrain, ytrain)\n",
    "print('Training is completed')\n",
    "print('=' *100)\n",
    "print()\n",
    "print('Testing Phase\\n')\n",
    "ypred=knn_model.predict(xtest)\n",
    "print('Prdicted Class Labels are:\\n', ypred)\n",
    "print('Test is also done')\n",
    "print()\n",
    "print('-'*100)"
   ]
  },
  {
   "cell_type": "markdown",
   "id": "90b1326b",
   "metadata": {},
   "source": [
    "# performance Measures with Scaled data and no of neighbours = 4"
   ]
  },
  {
   "cell_type": "code",
   "execution_count": 49,
   "id": "cfb42d4b",
   "metadata": {},
   "outputs": [
    {
     "name": "stdout",
     "output_type": "stream",
     "text": [
      "Accuracy Score: \t 0.55625\n",
      "\n",
      "Confusion Matrix:\n",
      " [[ 0  0  0  1  0  0]\n",
      " [ 0  2  6  1  0  0]\n",
      " [ 1  1 85 33  2  0]\n",
      " [ 0  1 53 76 15  2]\n",
      " [ 1  0  9 11 15  0]\n",
      " [ 0  0  0  2  3  0]]\n",
      "\n",
      "Classification Report:\n",
      "               precision    recall  f1-score   support\n",
      "\n",
      "           3       0.00      0.00      0.00         1\n",
      "           4       0.50      0.22      0.31         9\n",
      "           5       0.56      0.70      0.62       122\n",
      "           6       0.61      0.52      0.56       147\n",
      "           7       0.43      0.42      0.42        36\n",
      "           8       0.00      0.00      0.00         5\n",
      "\n",
      "    accuracy                           0.56       320\n",
      "   macro avg       0.35      0.31      0.32       320\n",
      "weighted avg       0.56      0.56      0.55       320\n",
      "\n"
     ]
    }
   ],
   "source": [
    "print('Accuracy Score: \\t', accuracy_score(ytest,ypred))\n",
    "print()\n",
    "print('Confusion Matrix:\\n', confusion_matrix(ytest,ypred))\n",
    "print()\n",
    "print('Classification Report:\\n', classification_report(ytest,ypred))"
   ]
  },
  {
   "cell_type": "markdown",
   "id": "312cd753",
   "metadata": {},
   "source": [
    "# Train the data with no of neighbours=5"
   ]
  },
  {
   "cell_type": "code",
   "execution_count": 55,
   "id": "e6088803",
   "metadata": {},
   "outputs": [
    {
     "name": "stdout",
     "output_type": "stream",
     "text": [
      "**********************KNN Classifier Model**************\n",
      "Training Phase\n",
      "\n",
      "Training is completed\n",
      "====================================================================================================\n",
      "\n",
      "Testing Phase\n",
      "\n",
      "Prdicted Class Labels are:\n",
      " [6 6 5 6 5 6 6 5 5 5 6 5 5 6 5 7 6 7 6 6 6 6 6 7 5 7 5 7 7 5 5 6 6 6 6 5 5\n",
      " 6 6 6 5 5 6 5 5 5 6 6 5 6 5 5 5 6 6 5 7 5 6 6 5 6 6 5 6 6 6 7 7 6 5 6 6 5\n",
      " 5 6 6 6 7 5 5 7 6 5 7 6 5 6 5 5 6 6 6 5 5 5 5 5 6 5 6 5 5 6 6 7 6 5 6 5 6\n",
      " 5 5 5 6 7 5 6 6 6 6 6 6 6 7 5 7 7 6 5 5 5 7 5 6 5 6 6 5 7 6 5 6 6 5 5 7 5\n",
      " 6 6 6 6 6 5 5 6 7 5 5 6 5 5 6 5 6 7 7 6 5 5 6 6 7 6 6 7 5 6 5 6 5 6 5 6 5\n",
      " 5 5 5 6 6 6 7 5 6 5 6 5 5 5 7 5 5 5 5 5 5 6 7 6 5 7 5 6 5 7 5 6 5 5 5 5 6\n",
      " 5 6 6 6 6 6 6 6 5 6 5 5 6 5 5 6 5 5 7 6 6 7 5 6 5 6 5 7 5 5 6 5 7 5 5 6 6\n",
      " 6 6 6 5 5 5 6 5 5 6 6 5 5 5 7 5 5 4 5 6 5 5 6 5 6 6 5 5 6 7 7 7 6 5 5 6 5\n",
      " 7 6 4 5 7 5 5 5 6 6 5 5 5 7 5 5 6 5 5 4 5 6 5 5]\n",
      "Test is also done\n",
      "\n",
      "----------------------------------------------------------------------------------------------------\n"
     ]
    },
    {
     "name": "stderr",
     "output_type": "stream",
     "text": [
      "C:\\Users\\jagad\\anaconda3\\Lib\\site-packages\\sklearn\\neighbors\\_classification.py:228: DataConversionWarning: A column-vector y was passed when a 1d array was expected. Please change the shape of y to (n_samples,), for example using ravel().\n",
      "  return self._fit(X, y)\n"
     ]
    }
   ],
   "source": [
    "#Train the model\n",
    "\n",
    "knn_model=KNeighborsClassifier(n_neighbors=5)\n",
    "print('**********************KNN Classifier Model**************')\n",
    "print('Training Phase\\n')\n",
    "knn_model.fit(xtrain, ytrain)\n",
    "print('Training is completed')\n",
    "print('=' *100)\n",
    "print()\n",
    "print('Testing Phase\\n')\n",
    "ypred=knn_model.predict(xtest)\n",
    "print('Prdicted Class Labels are:\\n', ypred)\n",
    "print('Test is also done')\n",
    "print()\n",
    "print('-'*100)"
   ]
  },
  {
   "cell_type": "markdown",
   "id": "6041cc9a",
   "metadata": {},
   "source": [
    "# performance Measures with Scaled data and no of neighbours = 5"
   ]
  },
  {
   "cell_type": "code",
   "execution_count": 57,
   "id": "923b5571",
   "metadata": {},
   "outputs": [
    {
     "name": "stdout",
     "output_type": "stream",
     "text": [
      "Accuracy Score: \t 0.546875\n",
      "\n",
      "Confusion Matrix:\n",
      " [[ 0  0  0  1  0  0]\n",
      " [ 0  1  6  2  0  0]\n",
      " [ 0  2 80 38  2  0]\n",
      " [ 0  0 52 77 18  0]\n",
      " [ 0  0  8 11 17  0]\n",
      " [ 0  0  0  1  4  0]]\n",
      "\n",
      "Classification Report:\n",
      "               precision    recall  f1-score   support\n",
      "\n",
      "           3       0.00      0.00      0.00         1\n",
      "           4       0.33      0.11      0.17         9\n",
      "           5       0.55      0.66      0.60       122\n",
      "           6       0.59      0.52      0.56       147\n",
      "           7       0.41      0.47      0.44        36\n",
      "           8       0.00      0.00      0.00         5\n",
      "\n",
      "    accuracy                           0.55       320\n",
      "   macro avg       0.31      0.29      0.29       320\n",
      "weighted avg       0.54      0.55      0.54       320\n",
      "\n"
     ]
    },
    {
     "name": "stderr",
     "output_type": "stream",
     "text": [
      "C:\\Users\\jagad\\anaconda3\\Lib\\site-packages\\sklearn\\metrics\\_classification.py:1469: UndefinedMetricWarning: Precision and F-score are ill-defined and being set to 0.0 in labels with no predicted samples. Use `zero_division` parameter to control this behavior.\n",
      "  _warn_prf(average, modifier, msg_start, len(result))\n",
      "C:\\Users\\jagad\\anaconda3\\Lib\\site-packages\\sklearn\\metrics\\_classification.py:1469: UndefinedMetricWarning: Precision and F-score are ill-defined and being set to 0.0 in labels with no predicted samples. Use `zero_division` parameter to control this behavior.\n",
      "  _warn_prf(average, modifier, msg_start, len(result))\n",
      "C:\\Users\\jagad\\anaconda3\\Lib\\site-packages\\sklearn\\metrics\\_classification.py:1469: UndefinedMetricWarning: Precision and F-score are ill-defined and being set to 0.0 in labels with no predicted samples. Use `zero_division` parameter to control this behavior.\n",
      "  _warn_prf(average, modifier, msg_start, len(result))\n"
     ]
    }
   ],
   "source": [
    "print('Accuracy Score: \\t', accuracy_score(ytest,ypred))\n",
    "print()\n",
    "print('Confusion Matrix:\\n', confusion_matrix(ytest,ypred))\n",
    "print()\n",
    "print('Classification Report:\\n', classification_report(ytest,ypred))"
   ]
  },
  {
   "cell_type": "code",
   "execution_count": null,
   "id": "243d8aab",
   "metadata": {},
   "outputs": [],
   "source": []
  }
 ],
 "metadata": {
  "kernelspec": {
   "display_name": "Python 3 (ipykernel)",
   "language": "python",
   "name": "python3"
  },
  "language_info": {
   "codemirror_mode": {
    "name": "ipython",
    "version": 3
   },
   "file_extension": ".py",
   "mimetype": "text/x-python",
   "name": "python",
   "nbconvert_exporter": "python",
   "pygments_lexer": "ipython3",
   "version": "3.11.4"
  }
 },
 "nbformat": 4,
 "nbformat_minor": 5
}
