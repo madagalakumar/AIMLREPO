{
 "cells": [
  {
   "cell_type": "markdown",
   "id": "7790def0",
   "metadata": {},
   "source": [
    "# Model API"
   ]
  },
  {
   "cell_type": "code",
   "execution_count": 2,
   "id": "28edd87b",
   "metadata": {},
   "outputs": [],
   "source": [
    "from __future__ import absolute_import, division, print_function\n",
    "import tensorflow as tf\n",
    "from tensorflow.keras import Model, layers\n",
    "import numpy as np"
   ]
  },
  {
   "cell_type": "markdown",
   "id": "d017e78a",
   "metadata": {},
   "source": [
    "# Parameters"
   ]
  },
  {
   "cell_type": "code",
   "execution_count": 3,
   "id": "e63ad16c",
   "metadata": {},
   "outputs": [],
   "source": [
    "num_classes = 10 # total classes (0-9 digits).\n",
    "num_features = 32*32*3 # data features \n",
    "# Training parameters.\n",
    "learning_rate = 0.1\n",
    "training_steps = 2000\n",
    "batch_size = 256\n",
    "display_step = 100\n",
    "# Network parameters.\n",
    "n_hidden_1 = 128 # 1st layer number of neurons.\n",
    "n_hidden_2 = 256 # 2nd layer number of neurons."
   ]
  },
  {
   "cell_type": "markdown",
   "id": "38f8b09c",
   "metadata": {},
   "source": [
    "# Importing Dataset"
   ]
  },
  {
   "cell_type": "code",
   "execution_count": 4,
   "id": "9415b320",
   "metadata": {},
   "outputs": [
    {
     "name": "stdout",
     "output_type": "stream",
     "text": [
      "Downloading data from https://www.cs.toronto.edu/~kriz/cifar-10-python.tar.gz\n",
      "170498071/170498071 [==============================] - 431s 3us/step\n",
      "shape x:\t (50000, 32, 32, 3)\n",
      "shape y:\t (50000, 1)\n"
     ]
    }
   ],
   "source": [
    "from keras.datasets import cifar10\n",
    "(xtrain,ytrain),(xtest,ytest)=cifar10.load_data()\n",
    "print('shape x:\\t',xtrain.shape)\n",
    "print('shape y:\\t',ytrain.shape)"
   ]
  },
  {
   "cell_type": "code",
   "execution_count": 5,
   "id": "7833a214",
   "metadata": {},
   "outputs": [],
   "source": [
    "#Flatten Images to 1D vector of 784 features(28*28)\n",
    "xtrain,xtest=xtrain.reshape([-1,num_features]),xtest.reshape([-1,num_features])\n",
    "\n",
    "#Normalize images value from [0,255] to [0,1]\n",
    "xtrain,xtest=xtrain/255.,xtest/255."
   ]
  },
  {
   "cell_type": "code",
   "execution_count": 6,
   "id": "ffda6820",
   "metadata": {},
   "outputs": [
    {
     "data": {
      "text/plain": [
       "1.0"
      ]
     },
     "execution_count": 6,
     "metadata": {},
     "output_type": "execute_result"
    }
   ],
   "source": [
    "xtest[0].max()"
   ]
  },
  {
   "cell_type": "code",
   "execution_count": 7,
   "id": "4550c959",
   "metadata": {},
   "outputs": [],
   "source": [
    "train_data=tf.data.Dataset.from_tensor_slices((xtrain,ytrain))\n",
    "train_data=train_data.repeat().shuffle(5000).batch(batch_size).prefetch(1)\n"
   ]
  },
  {
   "cell_type": "markdown",
   "id": "9df32b78",
   "metadata": {},
   "source": [
    "# Build the model"
   ]
  },
  {
   "cell_type": "code",
   "execution_count": 8,
   "id": "820fd7a5",
   "metadata": {},
   "outputs": [],
   "source": [
    "# Create TF Model.\n",
    "class NeuralNet(Model):\n",
    "     # Set layers.\n",
    "     def __init__(self):\n",
    "         super(NeuralNet, self).__init__()\n",
    "         # First fully-connected hidden layer.\n",
    "         self.fc1 = layers.Dense(n_hidden_1, activation=tf.nn.relu)\n",
    "         # First fully-connected hidden layer.\n",
    "         self.fc2 = layers.Dense(n_hidden_2, activation=tf.nn.relu)\n",
    "         # Second fully-connecter hidden layer.\n",
    "         self.out = layers.Dense(num_classes, activation=tf.nn.softmax)\n",
    "     \n",
    "    # Set forward pass.\n",
    "     def call(self, x, is_training=False):\n",
    "         x = self.fc1(x)\n",
    "         x = self.fc2(x)\n",
    "         x = self.out(x)\n",
    "         if not is_training:\n",
    "             # tf cross entropy expect logits without softmax, so only\n",
    "             # apply softmax when not training.\n",
    "             x = tf.nn.softmax(x)\n",
    "         return x\n",
    "# Build neural network model.\n",
    "neural_net = NeuralNet()"
   ]
  },
  {
   "cell_type": "code",
   "execution_count": 9,
   "id": "1c13b0e2",
   "metadata": {},
   "outputs": [],
   "source": [
    "def cross_entropy_loss(x, y):\n",
    "    # Convert labels to int64 for tf loss\n",
    "    y = tf.squeeze(y)  # Remove the extra dimension\n",
    "    y = tf.cast(y, tf.int64)\n",
    "    loss = tf.nn.sparse_softmax_cross_entropy_with_logits(labels=y, logits=x)\n",
    "    return tf.reduce_mean(loss)\n"
   ]
  },
  {
   "cell_type": "code",
   "execution_count": 10,
   "id": "b2023bed",
   "metadata": {},
   "outputs": [],
   "source": [
    "def accuracy(ypred, ytrue):\n",
    "    correct_prediction = tf.equal(tf.argmax(ypred, 1), tf.cast(ytrue, tf.int64))\n",
    "    return tf.reduce_mean(tf.cast(correct_prediction, tf.float32))\n"
   ]
  },
  {
   "cell_type": "code",
   "execution_count": 11,
   "id": "a1d237a6",
   "metadata": {},
   "outputs": [],
   "source": [
    "#optimizer\n",
    "optimizer=tf.optimizers.SGD(learning_rate)"
   ]
  },
  {
   "cell_type": "code",
   "execution_count": 12,
   "id": "26363c7f",
   "metadata": {},
   "outputs": [],
   "source": [
    "# Optimization process.\n",
    "def run_optimization(x, y):\n",
    "     # Wrap computation inside a GradientTape for automatic differentiation\n",
    "     with tf.GradientTape() as g:\n",
    "         # Forward pass.\n",
    "         pred = neural_net(x, is_training=True)\n",
    "         # Compute loss.\n",
    "         loss = cross_entropy_loss(pred, y)\n",
    "        \n",
    "     # Variables to update, i.e. trainable variables.\n",
    "     trainable_variables = neural_net.trainable_variables\n",
    "        \n",
    "     # Compute gradients.\n",
    "     gradients = g.gradient(loss, trainable_variables)\n",
    "        \n",
    "     # Update W and b following gradients.\n",
    "     optimizer.apply_gradients(zip(gradients, trainable_variables))"
   ]
  },
  {
   "cell_type": "code",
   "execution_count": 13,
   "id": "621b9176",
   "metadata": {},
   "outputs": [
    {
     "name": "stdout",
     "output_type": "stream",
     "text": [
      "step: 100, loss: 2.248803, accuracy: 0.107788\n",
      "step: 200, loss: 2.192740, accuracy: 0.112381\n",
      "step: 300, loss: 2.159138, accuracy: 0.106644\n",
      "step: 400, loss: 2.146268, accuracy: 0.104630\n",
      "step: 500, loss: 2.138933, accuracy: 0.104919\n",
      "step: 600, loss: 2.094764, accuracy: 0.107697\n",
      "step: 700, loss: 2.100277, accuracy: 0.102966\n",
      "step: 800, loss: 2.092839, accuracy: 0.106186\n",
      "step: 900, loss: 2.069626, accuracy: 0.105225\n",
      "step: 1000, loss: 2.079847, accuracy: 0.107452\n",
      "step: 1100, loss: 2.076299, accuracy: 0.103409\n",
      "step: 1200, loss: 2.040287, accuracy: 0.103622\n",
      "step: 1300, loss: 2.114758, accuracy: 0.096146\n",
      "step: 1400, loss: 2.085408, accuracy: 0.102280\n",
      "step: 1500, loss: 2.071772, accuracy: 0.105362\n",
      "step: 1600, loss: 2.064333, accuracy: 0.100876\n",
      "step: 1700, loss: 2.046067, accuracy: 0.103714\n",
      "step: 1800, loss: 2.058167, accuracy: 0.100174\n",
      "step: 1900, loss: 2.064751, accuracy: 0.102386\n",
      "step: 2000, loss: 2.052171, accuracy: 0.110062\n"
     ]
    }
   ],
   "source": [
    "#  Run training for the given number of steps.\n",
    "for step, (batch_x, batch_y) in enumerate(train_data.take(training_steps),1): \n",
    "     # Run the optimization to update W and b values.\n",
    "     run_optimization(batch_x, batch_y)\n",
    "                                          \n",
    "     if step % display_step == 0:\n",
    "        pred = neural_net(batch_x, is_training=True)\n",
    "        loss = cross_entropy_loss(pred, batch_y)\n",
    "        acc = accuracy(pred, batch_y)\n",
    "        print(\"step: %i, loss: %f, accuracy: %f\" % (step, loss, acc))"
   ]
  },
  {
   "cell_type": "markdown",
   "id": "8490df48",
   "metadata": {},
   "source": [
    "# Accuracy Measure"
   ]
  },
  {
   "cell_type": "code",
   "execution_count": 14,
   "id": "6beffebf",
   "metadata": {},
   "outputs": [
    {
     "name": "stdout",
     "output_type": "stream",
     "text": [
      "Test Accuracy: 0.100000\n"
     ]
    }
   ],
   "source": [
    "pred = neural_net(xtest, is_training=False)\n",
    "print(\"Test Accuracy: %f\" % accuracy(pred, ytest))\n"
   ]
  },
  {
   "cell_type": "code",
   "execution_count": null,
   "id": "67c0415d",
   "metadata": {},
   "outputs": [],
   "source": []
  },
  {
   "cell_type": "code",
   "execution_count": null,
   "id": "21de78eb",
   "metadata": {},
   "outputs": [],
   "source": []
  }
 ],
 "metadata": {
  "kernelspec": {
   "display_name": "Python 3 (ipykernel)",
   "language": "python",
   "name": "python3"
  },
  "language_info": {
   "codemirror_mode": {
    "name": "ipython",
    "version": 3
   },
   "file_extension": ".py",
   "mimetype": "text/x-python",
   "name": "python",
   "nbconvert_exporter": "python",
   "pygments_lexer": "ipython3",
   "version": "3.11.4"
  }
 },
 "nbformat": 4,
 "nbformat_minor": 5
}
