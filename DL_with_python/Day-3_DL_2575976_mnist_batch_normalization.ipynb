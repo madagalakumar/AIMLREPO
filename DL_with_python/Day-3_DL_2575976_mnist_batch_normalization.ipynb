{
 "cells": [
  {
   "cell_type": "code",
   "execution_count": 18,
   "id": "4555f6a4",
   "metadata": {},
   "outputs": [],
   "source": [
    "import keras \n",
    "from keras.datasets import mnist\n",
    "from keras.models import Sequential\n",
    "from keras.layers import Dense,Dropout,BatchNormalization\n",
    "from keras.optimizers import RMSprop, Adagrad,Adam "
   ]
  },
  {
   "cell_type": "code",
   "execution_count": 2,
   "id": "5ee95f5e",
   "metadata": {},
   "outputs": [],
   "source": [
    "batch_size=128\n",
    "num_classes=10\n",
    "epochs=20"
   ]
  },
  {
   "cell_type": "code",
   "execution_count": 3,
   "id": "52bdf3fa",
   "metadata": {},
   "outputs": [
    {
     "name": "stdout",
     "output_type": "stream",
     "text": [
      "shape x:\t (60000, 28, 28)\n",
      "shape t:\t (60000,)\n"
     ]
    }
   ],
   "source": [
    "(xtrain,ytrain),(xtest,ytest)=mnist.load_data()\n",
    "print('shape x:\\t',xtrain.shape)\n",
    "print('shape t:\\t',ytrain.shape)"
   ]
  },
  {
   "cell_type": "code",
   "execution_count": 4,
   "id": "fa14e167",
   "metadata": {},
   "outputs": [
    {
     "name": "stdout",
     "output_type": "stream",
     "text": [
      "(60000, 784)\n",
      "(10000, 784)\n"
     ]
    }
   ],
   "source": [
    "xtrain=xtrain.reshape(60000,784)\n",
    "xtest=xtest.reshape(10000,784)\n",
    "print(xtrain.shape)\n",
    "print(xtest.shape)"
   ]
  },
  {
   "cell_type": "code",
   "execution_count": 5,
   "id": "490435bc",
   "metadata": {},
   "outputs": [],
   "source": [
    "xtrain=xtrain.astype('float32')\n",
    "xtest=xtest.astype('float32')"
   ]
  },
  {
   "cell_type": "code",
   "execution_count": 6,
   "id": "5fc2431e",
   "metadata": {},
   "outputs": [],
   "source": [
    "xtrain=xtrain/255.\n",
    "xtest=xtest/255."
   ]
  },
  {
   "cell_type": "markdown",
   "id": "d38b1f9d",
   "metadata": {},
   "source": [
    "# Print shape of date"
   ]
  },
  {
   "cell_type": "code",
   "execution_count": 7,
   "id": "b61f56f3",
   "metadata": {},
   "outputs": [
    {
     "name": "stdout",
     "output_type": "stream",
     "text": [
      "60000\n",
      "10000\n"
     ]
    }
   ],
   "source": [
    "print(xtrain.shape[0])\n",
    "print(xtest.shape[0])"
   ]
  },
  {
   "cell_type": "markdown",
   "id": "e46ea0f3",
   "metadata": {},
   "source": [
    "# convert class vectors to binary class matrics"
   ]
  },
  {
   "cell_type": "code",
   "execution_count": 8,
   "id": "e9c8fcea",
   "metadata": {},
   "outputs": [],
   "source": [
    "import keras\n",
    "\n",
    "ytrain=keras.utils.to_categorical(ytrain,num_classes)\n",
    "ytest=keras.utils.to_categorical(ytest,num_classes)"
   ]
  },
  {
   "cell_type": "code",
   "execution_count": 9,
   "id": "75dde501",
   "metadata": {},
   "outputs": [
    {
     "data": {
      "text/plain": [
       "(60000, 10)"
      ]
     },
     "execution_count": 9,
     "metadata": {},
     "output_type": "execute_result"
    }
   ],
   "source": [
    "ytrain.shape"
   ]
  },
  {
   "cell_type": "markdown",
   "id": "ee7d4afe",
   "metadata": {},
   "source": [
    "# Sequential Model"
   ]
  },
  {
   "cell_type": "code",
   "execution_count": 12,
   "id": "55f1b675",
   "metadata": {},
   "outputs": [
    {
     "name": "stdout",
     "output_type": "stream",
     "text": [
      "Model: \"sequential_1\"\n",
      "_________________________________________________________________\n",
      " Layer (type)                Output Shape              Param #   \n",
      "=================================================================\n",
      " dense_2 (Dense)             (None, 512)               401920    \n",
      "                                                                 \n",
      " dense_3 (Dense)             (None, 512)               262656    \n",
      "                                                                 \n",
      " batch_normalization (Batch  (None, 512)               2048      \n",
      " Normalization)                                                  \n",
      "                                                                 \n",
      " dense_4 (Dense)             (None, 10)                5130      \n",
      "                                                                 \n",
      "=================================================================\n",
      "Total params: 671754 (2.56 MB)\n",
      "Trainable params: 670730 (2.56 MB)\n",
      "Non-trainable params: 1024 (4.00 KB)\n",
      "_________________________________________________________________\n"
     ]
    }
   ],
   "source": [
    "model=Sequential()\n",
    "model.add(Dense(512,activation='relu',input_shape=(784,)))\n",
    "model.add(Dense(512,activation='relu'))\n",
    "model.add(BatchNormalization(axis=1))\n",
    "model.add(Dense(num_classes,activation='softmax'))\n",
    "model.summary()"
   ]
  },
  {
   "cell_type": "markdown",
   "id": "aecc3eb6",
   "metadata": {},
   "source": [
    "# Compile the model with RMSprop()"
   ]
  },
  {
   "cell_type": "code",
   "execution_count": 13,
   "id": "090d4514",
   "metadata": {},
   "outputs": [],
   "source": [
    "model.compile(loss='categorical_crossentropy',optimizer=RMSprop(),metrics=['accuracy'])"
   ]
  },
  {
   "cell_type": "markdown",
   "id": "82ffe0c0",
   "metadata": {},
   "source": [
    "# Fit the model"
   ]
  },
  {
   "cell_type": "code",
   "execution_count": 14,
   "id": "2535c8d7",
   "metadata": {},
   "outputs": [
    {
     "name": "stdout",
     "output_type": "stream",
     "text": [
      "Epoch 1/20\n",
      "469/469 - 6s - loss: 0.1836 - accuracy: 0.9438 - val_loss: 0.1034 - val_accuracy: 0.9670 - 6s/epoch - 13ms/step\n",
      "Epoch 2/20\n",
      "469/469 - 5s - loss: 0.0786 - accuracy: 0.9759 - val_loss: 0.0847 - val_accuracy: 0.9716 - 5s/epoch - 11ms/step\n",
      "Epoch 3/20\n",
      "469/469 - 5s - loss: 0.0545 - accuracy: 0.9834 - val_loss: 0.1004 - val_accuracy: 0.9708 - 5s/epoch - 11ms/step\n",
      "Epoch 4/20\n",
      "469/469 - 6s - loss: 0.0368 - accuracy: 0.9882 - val_loss: 0.0785 - val_accuracy: 0.9777 - 6s/epoch - 12ms/step\n",
      "Epoch 5/20\n",
      "469/469 - 6s - loss: 0.0288 - accuracy: 0.9906 - val_loss: 0.0802 - val_accuracy: 0.9773 - 6s/epoch - 13ms/step\n",
      "Epoch 6/20\n",
      "469/469 - 6s - loss: 0.0214 - accuracy: 0.9931 - val_loss: 0.0651 - val_accuracy: 0.9813 - 6s/epoch - 13ms/step\n",
      "Epoch 7/20\n",
      "469/469 - 6s - loss: 0.0163 - accuracy: 0.9949 - val_loss: 0.0691 - val_accuracy: 0.9821 - 6s/epoch - 13ms/step\n",
      "Epoch 8/20\n",
      "469/469 - 6s - loss: 0.0132 - accuracy: 0.9958 - val_loss: 0.0801 - val_accuracy: 0.9799 - 6s/epoch - 13ms/step\n",
      "Epoch 9/20\n",
      "469/469 - 6s - loss: 0.0111 - accuracy: 0.9962 - val_loss: 0.0704 - val_accuracy: 0.9813 - 6s/epoch - 13ms/step\n",
      "Epoch 10/20\n",
      "469/469 - 6s - loss: 0.0087 - accuracy: 0.9970 - val_loss: 0.0783 - val_accuracy: 0.9831 - 6s/epoch - 13ms/step\n",
      "Epoch 11/20\n",
      "469/469 - 6s - loss: 0.0089 - accuracy: 0.9972 - val_loss: 0.0703 - val_accuracy: 0.9825 - 6s/epoch - 13ms/step\n",
      "Epoch 12/20\n",
      "469/469 - 6s - loss: 0.0065 - accuracy: 0.9979 - val_loss: 0.0804 - val_accuracy: 0.9822 - 6s/epoch - 13ms/step\n",
      "Epoch 13/20\n",
      "469/469 - 6s - loss: 0.0051 - accuracy: 0.9983 - val_loss: 0.0801 - val_accuracy: 0.9838 - 6s/epoch - 13ms/step\n",
      "Epoch 14/20\n",
      "469/469 - 6s - loss: 0.0045 - accuracy: 0.9986 - val_loss: 0.0829 - val_accuracy: 0.9820 - 6s/epoch - 13ms/step\n",
      "Epoch 15/20\n",
      "469/469 - 6s - loss: 0.0040 - accuracy: 0.9987 - val_loss: 0.0752 - val_accuracy: 0.9842 - 6s/epoch - 13ms/step\n",
      "Epoch 16/20\n",
      "469/469 - 6s - loss: 0.0034 - accuracy: 0.9987 - val_loss: 0.0829 - val_accuracy: 0.9822 - 6s/epoch - 13ms/step\n",
      "Epoch 17/20\n",
      "469/469 - 6s - loss: 0.0037 - accuracy: 0.9986 - val_loss: 0.0922 - val_accuracy: 0.9823 - 6s/epoch - 13ms/step\n",
      "Epoch 18/20\n",
      "469/469 - 6s - loss: 0.0038 - accuracy: 0.9987 - val_loss: 0.0828 - val_accuracy: 0.9832 - 6s/epoch - 13ms/step\n",
      "Epoch 19/20\n",
      "469/469 - 6s - loss: 0.0028 - accuracy: 0.9992 - val_loss: 0.0956 - val_accuracy: 0.9830 - 6s/epoch - 13ms/step\n",
      "Epoch 20/20\n",
      "469/469 - 6s - loss: 0.0014 - accuracy: 0.9997 - val_loss: 0.0800 - val_accuracy: 0.9841 - 6s/epoch - 13ms/step\n",
      "313/313 [==============================] - 1s 4ms/step - loss: 0.0800 - accuracy: 0.9841\n"
     ]
    }
   ],
   "source": [
    "history=model.fit(xtrain,ytrain,\n",
    "                 batch_size=batch_size,\n",
    "                 epochs=epochs,\n",
    "                 verbose=2,\n",
    "                 validation_data=(xtest,ytest))\n",
    "\n",
    "score=model.evaluate(xtest,ytest,verbose=1)"
   ]
  },
  {
   "cell_type": "code",
   "execution_count": 15,
   "id": "a8ed2146",
   "metadata": {},
   "outputs": [
    {
     "name": "stdout",
     "output_type": "stream",
     "text": [
      "Test loss:\t 0.08001119643449783\n",
      "Test Accuracy:\t 0.9840999841690063\n"
     ]
    }
   ],
   "source": [
    "print('Test loss:\\t',score[0])\n",
    "print('Test Accuracy:\\t',score[1])"
   ]
  },
  {
   "cell_type": "markdown",
   "id": "fb05dbcb",
   "metadata": {},
   "source": [
    "# Compile the model with Adagrad()"
   ]
  },
  {
   "cell_type": "code",
   "execution_count": 19,
   "id": "219b83d6",
   "metadata": {},
   "outputs": [],
   "source": [
    "model.compile(loss='categorical_crossentropy',optimizer=Adagrad(),metrics=['accuracy'])"
   ]
  },
  {
   "cell_type": "code",
   "execution_count": 20,
   "id": "43f02d30",
   "metadata": {},
   "outputs": [
    {
     "name": "stdout",
     "output_type": "stream",
     "text": [
      "Epoch 1/20\n",
      "469/469 - 5s - loss: 0.0021 - accuracy: 0.9995 - val_loss: 0.0772 - val_accuracy: 0.9847 - 5s/epoch - 11ms/step\n",
      "Epoch 2/20\n",
      "469/469 - 4s - loss: 0.0016 - accuracy: 0.9996 - val_loss: 0.0767 - val_accuracy: 0.9846 - 4s/epoch - 10ms/step\n",
      "Epoch 3/20\n",
      "469/469 - 5s - loss: 0.0017 - accuracy: 0.9996 - val_loss: 0.0763 - val_accuracy: 0.9848 - 5s/epoch - 10ms/step\n",
      "Epoch 4/20\n",
      "469/469 - 5s - loss: 0.0013 - accuracy: 0.9997 - val_loss: 0.0760 - val_accuracy: 0.9846 - 5s/epoch - 11ms/step\n",
      "Epoch 5/20\n",
      "469/469 - 6s - loss: 0.0011 - accuracy: 0.9998 - val_loss: 0.0757 - val_accuracy: 0.9847 - 6s/epoch - 12ms/step\n",
      "Epoch 6/20\n",
      "469/469 - 6s - loss: 0.0013 - accuracy: 0.9997 - val_loss: 0.0756 - val_accuracy: 0.9847 - 6s/epoch - 12ms/step\n",
      "Epoch 7/20\n",
      "469/469 - 6s - loss: 0.0011 - accuracy: 0.9997 - val_loss: 0.0752 - val_accuracy: 0.9848 - 6s/epoch - 14ms/step\n",
      "Epoch 8/20\n",
      "469/469 - 6s - loss: 9.8247e-04 - accuracy: 0.9997 - val_loss: 0.0748 - val_accuracy: 0.9848 - 6s/epoch - 14ms/step\n",
      "Epoch 9/20\n",
      "469/469 - 6s - loss: 8.3964e-04 - accuracy: 0.9998 - val_loss: 0.0746 - val_accuracy: 0.9850 - 6s/epoch - 12ms/step\n",
      "Epoch 10/20\n",
      "469/469 - 6s - loss: 8.1202e-04 - accuracy: 0.9998 - val_loss: 0.0746 - val_accuracy: 0.9848 - 6s/epoch - 12ms/step\n",
      "Epoch 11/20\n",
      "469/469 - 6s - loss: 8.4778e-04 - accuracy: 0.9998 - val_loss: 0.0742 - val_accuracy: 0.9852 - 6s/epoch - 12ms/step\n",
      "Epoch 12/20\n",
      "469/469 - 6s - loss: 6.8925e-04 - accuracy: 0.9999 - val_loss: 0.0741 - val_accuracy: 0.9853 - 6s/epoch - 12ms/step\n",
      "Epoch 13/20\n",
      "469/469 - 6s - loss: 6.6632e-04 - accuracy: 0.9998 - val_loss: 0.0739 - val_accuracy: 0.9853 - 6s/epoch - 12ms/step\n",
      "Epoch 14/20\n",
      "469/469 - 6s - loss: 7.0955e-04 - accuracy: 0.9998 - val_loss: 0.0738 - val_accuracy: 0.9850 - 6s/epoch - 12ms/step\n",
      "Epoch 15/20\n",
      "469/469 - 6s - loss: 7.1552e-04 - accuracy: 0.9999 - val_loss: 0.0737 - val_accuracy: 0.9853 - 6s/epoch - 12ms/step\n",
      "Epoch 16/20\n",
      "469/469 - 6s - loss: 5.9163e-04 - accuracy: 0.9998 - val_loss: 0.0735 - val_accuracy: 0.9853 - 6s/epoch - 12ms/step\n",
      "Epoch 17/20\n",
      "469/469 - 6s - loss: 5.4271e-04 - accuracy: 0.9999 - val_loss: 0.0736 - val_accuracy: 0.9852 - 6s/epoch - 12ms/step\n",
      "Epoch 18/20\n",
      "469/469 - 6s - loss: 5.5896e-04 - accuracy: 0.9998 - val_loss: 0.0734 - val_accuracy: 0.9854 - 6s/epoch - 13ms/step\n",
      "Epoch 19/20\n",
      "469/469 - 6s - loss: 4.6278e-04 - accuracy: 0.9999 - val_loss: 0.0734 - val_accuracy: 0.9854 - 6s/epoch - 12ms/step\n",
      "Epoch 20/20\n",
      "469/469 - 6s - loss: 4.5629e-04 - accuracy: 0.9998 - val_loss: 0.0729 - val_accuracy: 0.9854 - 6s/epoch - 13ms/step\n",
      "313/313 [==============================] - 1s 4ms/step - loss: 0.0729 - accuracy: 0.9854\n"
     ]
    }
   ],
   "source": [
    "history=model.fit(xtrain,ytrain,\n",
    "                 batch_size=batch_size,\n",
    "                 epochs=epochs,\n",
    "                 verbose=2,\n",
    "                 validation_data=(xtest,ytest))\n",
    "\n",
    "score=model.evaluate(xtest,ytest,verbose=1)"
   ]
  },
  {
   "cell_type": "code",
   "execution_count": 21,
   "id": "7a63cb00",
   "metadata": {},
   "outputs": [
    {
     "name": "stdout",
     "output_type": "stream",
     "text": [
      "Test loss:\t 0.07287272065877914\n",
      "Test Accuracy:\t 0.9854000210762024\n"
     ]
    }
   ],
   "source": [
    "print('Test loss:\\t',score[0])\n",
    "print('Test Accuracy:\\t',score[1])"
   ]
  },
  {
   "cell_type": "markdown",
   "id": "fc47de74",
   "metadata": {},
   "source": [
    "# Compile the model with Adam()"
   ]
  },
  {
   "cell_type": "code",
   "execution_count": 22,
   "id": "7556ace7",
   "metadata": {},
   "outputs": [],
   "source": [
    "model.compile(loss='categorical_crossentropy',optimizer=Adam(),metrics=['accuracy'])"
   ]
  },
  {
   "cell_type": "code",
   "execution_count": 23,
   "id": "4ea0c6fe",
   "metadata": {},
   "outputs": [
    {
     "name": "stdout",
     "output_type": "stream",
     "text": [
      "Epoch 1/20\n",
      "469/469 - 7s - loss: 0.0230 - accuracy: 0.9937 - val_loss: 0.1245 - val_accuracy: 0.9746 - 7s/epoch - 15ms/step\n",
      "Epoch 2/20\n",
      "469/469 - 6s - loss: 0.0141 - accuracy: 0.9957 - val_loss: 0.0917 - val_accuracy: 0.9803 - 6s/epoch - 12ms/step\n",
      "Epoch 3/20\n",
      "469/469 - 7s - loss: 0.0090 - accuracy: 0.9969 - val_loss: 0.1163 - val_accuracy: 0.9767 - 7s/epoch - 14ms/step\n",
      "Epoch 4/20\n",
      "469/469 - 7s - loss: 0.0149 - accuracy: 0.9954 - val_loss: 0.1193 - val_accuracy: 0.9780 - 7s/epoch - 15ms/step\n",
      "Epoch 5/20\n",
      "469/469 - 7s - loss: 0.0108 - accuracy: 0.9964 - val_loss: 0.1046 - val_accuracy: 0.9768 - 7s/epoch - 14ms/step\n",
      "Epoch 6/20\n",
      "469/469 - 7s - loss: 0.0095 - accuracy: 0.9967 - val_loss: 0.0816 - val_accuracy: 0.9841 - 7s/epoch - 14ms/step\n",
      "Epoch 7/20\n",
      "469/469 - 7s - loss: 0.0077 - accuracy: 0.9974 - val_loss: 0.1112 - val_accuracy: 0.9791 - 7s/epoch - 15ms/step\n",
      "Epoch 8/20\n",
      "469/469 - 6s - loss: 0.0102 - accuracy: 0.9969 - val_loss: 0.1026 - val_accuracy: 0.9803 - 6s/epoch - 14ms/step\n",
      "Epoch 9/20\n",
      "469/469 - 7s - loss: 0.0064 - accuracy: 0.9980 - val_loss: 0.0820 - val_accuracy: 0.9831 - 7s/epoch - 15ms/step\n",
      "Epoch 10/20\n",
      "469/469 - 7s - loss: 0.0092 - accuracy: 0.9968 - val_loss: 0.1065 - val_accuracy: 0.9777 - 7s/epoch - 14ms/step\n",
      "Epoch 11/20\n",
      "469/469 - 7s - loss: 0.0098 - accuracy: 0.9966 - val_loss: 0.1045 - val_accuracy: 0.9778 - 7s/epoch - 15ms/step\n",
      "Epoch 12/20\n",
      "469/469 - 7s - loss: 0.0052 - accuracy: 0.9984 - val_loss: 0.0861 - val_accuracy: 0.9816 - 7s/epoch - 14ms/step\n",
      "Epoch 13/20\n",
      "469/469 - 7s - loss: 0.0048 - accuracy: 0.9982 - val_loss: 0.0934 - val_accuracy: 0.9832 - 7s/epoch - 15ms/step\n",
      "Epoch 14/20\n",
      "469/469 - 8s - loss: 0.0069 - accuracy: 0.9979 - val_loss: 0.1061 - val_accuracy: 0.9785 - 8s/epoch - 17ms/step\n",
      "Epoch 15/20\n",
      "469/469 - 7s - loss: 0.0106 - accuracy: 0.9966 - val_loss: 0.1069 - val_accuracy: 0.9788 - 7s/epoch - 14ms/step\n",
      "Epoch 16/20\n",
      "469/469 - 6s - loss: 0.0064 - accuracy: 0.9979 - val_loss: 0.0785 - val_accuracy: 0.9842 - 6s/epoch - 14ms/step\n",
      "Epoch 17/20\n",
      "469/469 - 6s - loss: 0.0035 - accuracy: 0.9988 - val_loss: 0.0893 - val_accuracy: 0.9824 - 6s/epoch - 13ms/step\n",
      "Epoch 18/20\n",
      "469/469 - 7s - loss: 0.0048 - accuracy: 0.9985 - val_loss: 0.0872 - val_accuracy: 0.9832 - 7s/epoch - 14ms/step\n",
      "Epoch 19/20\n",
      "469/469 - 7s - loss: 0.0059 - accuracy: 0.9982 - val_loss: 0.0924 - val_accuracy: 0.9807 - 7s/epoch - 15ms/step\n",
      "Epoch 20/20\n",
      "469/469 - 7s - loss: 0.0031 - accuracy: 0.9989 - val_loss: 0.0888 - val_accuracy: 0.9828 - 7s/epoch - 14ms/step\n",
      "313/313 [==============================] - 1s 4ms/step - loss: 0.0888 - accuracy: 0.9828\n"
     ]
    }
   ],
   "source": [
    "history=model.fit(xtrain,ytrain,\n",
    "                 batch_size=batch_size,\n",
    "                 epochs=epochs,\n",
    "                 verbose=2,\n",
    "                 validation_data=(xtest,ytest))\n",
    "\n",
    "score=model.evaluate(xtest,ytest,verbose=1)"
   ]
  },
  {
   "cell_type": "code",
   "execution_count": 24,
   "id": "472145b4",
   "metadata": {},
   "outputs": [
    {
     "name": "stdout",
     "output_type": "stream",
     "text": [
      "Test loss:\t 0.0887836143374443\n",
      "Test Accuracy:\t 0.9828000068664551\n"
     ]
    }
   ],
   "source": [
    "print('Test loss:\\t',score[0])\n",
    "print('Test Accuracy:\\t',score[1])"
   ]
  },
  {
   "cell_type": "code",
   "execution_count": null,
   "id": "172d12d8",
   "metadata": {},
   "outputs": [],
   "source": []
  }
 ],
 "metadata": {
  "kernelspec": {
   "display_name": "Python 3 (ipykernel)",
   "language": "python",
   "name": "python3"
  },
  "language_info": {
   "codemirror_mode": {
    "name": "ipython",
    "version": 3
   },
   "file_extension": ".py",
   "mimetype": "text/x-python",
   "name": "python",
   "nbconvert_exporter": "python",
   "pygments_lexer": "ipython3",
   "version": "3.11.4"
  }
 },
 "nbformat": 4,
 "nbformat_minor": 5
}
