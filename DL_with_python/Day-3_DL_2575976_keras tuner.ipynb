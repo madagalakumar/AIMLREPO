{
 "cells": [
  {
   "cell_type": "code",
   "execution_count": 1,
   "id": "4dadaaf0",
   "metadata": {},
   "outputs": [],
   "source": [
    "from tensorflow import keras\n",
    "from tensorflow.keras import layers"
   ]
  },
  {
   "cell_type": "code",
   "execution_count": 2,
   "id": "1828845c",
   "metadata": {},
   "outputs": [],
   "source": [
    "def build_model(hp):\n",
    "    units = hp.Int(name='units',min_value=16,max_value=64,step=16)\n",
    "    model=keras.Sequential([\n",
    "        layers.Dense(units,activation='relu'),\n",
    "        layers.Dense(10,activation='softmax')\n",
    "    ])\n",
    "    optimizer=hp.Choice(name='optimizer',values=['adagrad','adam'])\n",
    "    model.compile(optimizer=optimizer,loss='sparse_categorical_crossentropy',metrics=['accuracy'])\n",
    "    return model"
   ]
  },
  {
   "cell_type": "code",
   "execution_count": 3,
   "id": "279f8462",
   "metadata": {},
   "outputs": [],
   "source": [
    "import keras_tuner as kt\n",
    "\n",
    "class SimpleMLP(kt.HyperModel):\n",
    "    def __init__(self,num_classes):\n",
    "        self.num_classes=num_classes\n",
    "        \n",
    "    def build(self,hp):\n",
    "        units = hp.Int(name='units',min_value=16,max_value=64,step=16)\n",
    "        model=keras.Sequential([\n",
    "                layers.Dense(units,activation='relu'),\n",
    "                layers.Dense(10,activation='softmax')\n",
    "                ])\n",
    "        optimizer=hp.Choice(name='optimizer',values=['adagrad','adam'])\n",
    "        model.compile(optimizer=optimizer,loss='sparse_categorical_crossentropy',metrics=['accuracy'])\n",
    "        return model\n",
    "        \n",
    "    \n",
    "hypermodel=SimpleMLP(num_classes=10)"
   ]
  },
  {
   "cell_type": "code",
   "execution_count": 4,
   "id": "723644b8",
   "metadata": {},
   "outputs": [],
   "source": [
    "tuner=kt.BayesianOptimization(build_model,\n",
    "                             objective='val_accuracy',\n",
    "                             max_trials=5\n",
    "                             )"
   ]
  },
  {
   "cell_type": "code",
   "execution_count": 6,
   "id": "d5f9f34f",
   "metadata": {},
   "outputs": [
    {
     "name": "stdout",
     "output_type": "stream",
     "text": [
      "Trial 5 Complete [00h 00m 25s]\n",
      "val_accuracy: 0.35370001196861267\n",
      "\n",
      "Best val_accuracy So Far: 0.40639999508857727\n",
      "Total elapsed time: 00h 02m 09s\n"
     ]
    }
   ],
   "source": [
    "#Load cifar10 dataset from keras\n",
    "\n",
    "(xtrain,ytrain),(xtest,ytest)=keras.datasets.cifar10.load_data()\n",
    "xtrain=xtrain.reshape((-1,32*32*3)).astype('float32')/255\n",
    "xtest=xtest.reshape((-1,32*32*3)).astype('float32')/255\n",
    "xtrain_full=xtrain[:]\n",
    "ytrain_full=ytrain[:]\n",
    "num_val_samples=10000\n",
    "xtrain,xval=xtrain[:-num_val_samples],xtrain[-num_val_samples:]\n",
    "ytrain,yval=ytrain[:-num_val_samples],ytrain[-num_val_samples:]\n",
    "\n",
    "callbacks=[keras.callbacks.EarlyStopping(monitor='val_loss',patience=5)]\n",
    "\n",
    "tuner.search(xtrain,ytrain,batch_size=128,epochs=20,\n",
    "            validation_data=(xval,yval),\n",
    "            callbacks=callbacks,verbose=2)"
   ]
  },
  {
   "cell_type": "code",
   "execution_count": null,
   "id": "c11bbc8d",
   "metadata": {},
   "outputs": [],
   "source": []
  }
 ],
 "metadata": {
  "kernelspec": {
   "display_name": "Python 3 (ipykernel)",
   "language": "python",
   "name": "python3"
  },
  "language_info": {
   "codemirror_mode": {
    "name": "ipython",
    "version": 3
   },
   "file_extension": ".py",
   "mimetype": "text/x-python",
   "name": "python",
   "nbconvert_exporter": "python",
   "pygments_lexer": "ipython3",
   "version": "3.11.4"
  }
 },
 "nbformat": 4,
 "nbformat_minor": 5
}
