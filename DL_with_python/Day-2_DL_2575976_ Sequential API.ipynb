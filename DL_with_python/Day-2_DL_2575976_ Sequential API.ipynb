{
 "cells": [
  {
   "cell_type": "markdown",
   "id": "d4c77a55",
   "metadata": {},
   "source": [
    "# Sequential API"
   ]
  },
  {
   "cell_type": "code",
   "execution_count": 1,
   "id": "3c079df4",
   "metadata": {},
   "outputs": [],
   "source": [
    "import keras \n",
    "from keras.datasets import cifar10\n",
    "from keras.models import Sequential\n",
    "from keras.layers import Dense,Dropout\n",
    "from keras.optimizers import RMSprop"
   ]
  },
  {
   "cell_type": "code",
   "execution_count": 2,
   "id": "88ffaf44",
   "metadata": {},
   "outputs": [],
   "source": [
    "batch_size=128\n",
    "num_classes=10\n",
    "epochs=20"
   ]
  },
  {
   "cell_type": "markdown",
   "id": "6a1d3354",
   "metadata": {},
   "source": [
    "# import dataset"
   ]
  },
  {
   "cell_type": "code",
   "execution_count": 3,
   "id": "d5df1caf",
   "metadata": {},
   "outputs": [
    {
     "name": "stdout",
     "output_type": "stream",
     "text": [
      "shape x:\t (50000, 32, 32, 3)\n",
      "shape t:\t (50000, 1)\n"
     ]
    }
   ],
   "source": [
    "(xtrain,ytrain),(xtest,ytest)=cifar10.load_data()\n",
    "print('shape x:\\t',xtrain.shape)\n",
    "print('shape t:\\t',ytrain.shape)"
   ]
  },
  {
   "cell_type": "code",
   "execution_count": 4,
   "id": "f5d08f51",
   "metadata": {},
   "outputs": [
    {
     "name": "stdout",
     "output_type": "stream",
     "text": [
      "(50000, 3072)\n",
      "(10000, 3072)\n"
     ]
    }
   ],
   "source": [
    "xtrain=xtrain.reshape(50000,32*32*3)\n",
    "xtest=xtest.reshape(10000,32*32*3)\n",
    "print(xtrain.shape)\n",
    "print(xtest.shape)"
   ]
  },
  {
   "cell_type": "code",
   "execution_count": 12,
   "id": "f5782b40",
   "metadata": {},
   "outputs": [
    {
     "data": {
      "text/plain": [
       "array([0.23137255, 0.24313726, 0.24705882, ..., 0.48235294, 0.36078432,\n",
       "       0.28235295], dtype=float32)"
      ]
     },
     "execution_count": 12,
     "metadata": {},
     "output_type": "execute_result"
    }
   ],
   "source": [
    "xtrain[0]"
   ]
  },
  {
   "cell_type": "code",
   "execution_count": 5,
   "id": "c3f11edb",
   "metadata": {},
   "outputs": [],
   "source": [
    "xtrain=xtrain.astype('float32')\n",
    "xtest=xtest.astype('float32')"
   ]
  },
  {
   "cell_type": "code",
   "execution_count": 6,
   "id": "ae4d41fd",
   "metadata": {},
   "outputs": [],
   "source": [
    "xtrain=xtrain/255.\n",
    "xtest=xtest/255."
   ]
  },
  {
   "cell_type": "code",
   "execution_count": 7,
   "id": "81e7db3b",
   "metadata": {},
   "outputs": [],
   "source": [
    "import keras\n",
    "\n",
    "ytrain=keras.utils.to_categorical(ytrain,num_classes)\n",
    "ytest=keras.utils.to_categorical(ytest,num_classes)"
   ]
  },
  {
   "cell_type": "code",
   "execution_count": 8,
   "id": "a983b8df",
   "metadata": {},
   "outputs": [
    {
     "data": {
      "text/plain": [
       "(50000, 10)"
      ]
     },
     "execution_count": 8,
     "metadata": {},
     "output_type": "execute_result"
    }
   ],
   "source": [
    "ytrain.shape"
   ]
  },
  {
   "cell_type": "markdown",
   "id": "3ee3a08e",
   "metadata": {},
   "source": [
    "# Build the model"
   ]
  },
  {
   "cell_type": "code",
   "execution_count": 9,
   "id": "ef321200",
   "metadata": {},
   "outputs": [
    {
     "name": "stdout",
     "output_type": "stream",
     "text": [
      "Model: \"sequential\"\n",
      "_________________________________________________________________\n",
      " Layer (type)                Output Shape              Param #   \n",
      "=================================================================\n",
      " dense (Dense)               (None, 512)               1573376   \n",
      "                                                                 \n",
      " dense_1 (Dense)             (None, 512)               262656    \n",
      "                                                                 \n",
      " dense_2 (Dense)             (None, 512)               262656    \n",
      "                                                                 \n",
      " dense_3 (Dense)             (None, 10)                5130      \n",
      "                                                                 \n",
      "=================================================================\n",
      "Total params: 2103818 (8.03 MB)\n",
      "Trainable params: 2103818 (8.03 MB)\n",
      "Non-trainable params: 0 (0.00 Byte)\n",
      "_________________________________________________________________\n"
     ]
    }
   ],
   "source": [
    "model=Sequential()\n",
    "model.add(Dense(512,activation='relu',input_shape=(32*32*3,)))\n",
    "model.add(Dense(512,activation='relu'))\n",
    "model.add(Dense(512,activation='relu'))\n",
    "model.add(Dense(num_classes,activation='softmax'))\n",
    "model.summary()"
   ]
  },
  {
   "cell_type": "code",
   "execution_count": 10,
   "id": "a53ff2b8",
   "metadata": {},
   "outputs": [],
   "source": [
    "model.compile(loss='categorical_crossentropy',optimizer=RMSprop(),metrics=['accuracy'])"
   ]
  },
  {
   "cell_type": "code",
   "execution_count": 11,
   "id": "20c8effc",
   "metadata": {},
   "outputs": [
    {
     "name": "stdout",
     "output_type": "stream",
     "text": [
      "Epoch 1/20\n",
      "391/391 - 30s - loss: 2.0443 - accuracy: 0.2656 - val_loss: 1.7901 - val_accuracy: 0.3605 - 30s/epoch - 76ms/step\n",
      "Epoch 2/20\n",
      "391/391 - 27s - loss: 1.7799 - accuracy: 0.3577 - val_loss: 1.6732 - val_accuracy: 0.3967 - 27s/epoch - 70ms/step\n",
      "Epoch 3/20\n",
      "391/391 - 26s - loss: 1.6822 - accuracy: 0.3959 - val_loss: 1.6595 - val_accuracy: 0.4011 - 26s/epoch - 67ms/step\n",
      "Epoch 4/20\n",
      "391/391 - 25s - loss: 1.6152 - accuracy: 0.4192 - val_loss: 1.6330 - val_accuracy: 0.4160 - 25s/epoch - 65ms/step\n",
      "Epoch 5/20\n",
      "391/391 - 23s - loss: 1.5640 - accuracy: 0.4397 - val_loss: 1.5430 - val_accuracy: 0.4503 - 23s/epoch - 58ms/step\n",
      "Epoch 6/20\n",
      "391/391 - 25s - loss: 1.5185 - accuracy: 0.4560 - val_loss: 1.5840 - val_accuracy: 0.4394 - 25s/epoch - 64ms/step\n",
      "Epoch 7/20\n",
      "391/391 - 27s - loss: 1.4807 - accuracy: 0.4691 - val_loss: 1.5325 - val_accuracy: 0.4605 - 27s/epoch - 68ms/step\n",
      "Epoch 8/20\n",
      "391/391 - 26s - loss: 1.4455 - accuracy: 0.4839 - val_loss: 1.5029 - val_accuracy: 0.4731 - 26s/epoch - 66ms/step\n",
      "Epoch 9/20\n",
      "391/391 - 25s - loss: 1.4106 - accuracy: 0.4960 - val_loss: 1.5369 - val_accuracy: 0.4587 - 25s/epoch - 64ms/step\n",
      "Epoch 10/20\n",
      "391/391 - 23s - loss: 1.3818 - accuracy: 0.5049 - val_loss: 1.4551 - val_accuracy: 0.4944 - 23s/epoch - 60ms/step\n",
      "Epoch 11/20\n",
      "391/391 - 21s - loss: 1.3499 - accuracy: 0.5170 - val_loss: 1.4649 - val_accuracy: 0.4828 - 21s/epoch - 54ms/step\n",
      "Epoch 12/20\n",
      "391/391 - 21s - loss: 1.3175 - accuracy: 0.5287 - val_loss: 1.4494 - val_accuracy: 0.4849 - 21s/epoch - 53ms/step\n",
      "Epoch 13/20\n",
      "391/391 - 22s - loss: 1.2939 - accuracy: 0.5346 - val_loss: 1.4905 - val_accuracy: 0.4852 - 22s/epoch - 56ms/step\n",
      "Epoch 14/20\n",
      "391/391 - 20s - loss: 1.2602 - accuracy: 0.5506 - val_loss: 1.5115 - val_accuracy: 0.4820 - 20s/epoch - 52ms/step\n",
      "Epoch 15/20\n",
      "391/391 - 21s - loss: 1.2357 - accuracy: 0.5593 - val_loss: 1.6961 - val_accuracy: 0.4538 - 21s/epoch - 55ms/step\n",
      "Epoch 16/20\n",
      "391/391 - 24s - loss: 1.2080 - accuracy: 0.5694 - val_loss: 1.5151 - val_accuracy: 0.4925 - 24s/epoch - 60ms/step\n",
      "Epoch 17/20\n",
      "391/391 - 25s - loss: 1.1790 - accuracy: 0.5798 - val_loss: 1.6383 - val_accuracy: 0.4622 - 25s/epoch - 65ms/step\n",
      "Epoch 18/20\n",
      "391/391 - 27s - loss: 1.1603 - accuracy: 0.5868 - val_loss: 1.6204 - val_accuracy: 0.4695 - 27s/epoch - 70ms/step\n",
      "Epoch 19/20\n",
      "391/391 - 26s - loss: 1.1285 - accuracy: 0.5968 - val_loss: 1.5955 - val_accuracy: 0.4773 - 26s/epoch - 67ms/step\n",
      "Epoch 20/20\n",
      "391/391 - 18s - loss: 1.0999 - accuracy: 0.6089 - val_loss: 1.6501 - val_accuracy: 0.4884 - 18s/epoch - 47ms/step\n",
      "313/313 [==============================] - 3s 8ms/step - loss: 1.6501 - accuracy: 0.4884\n"
     ]
    }
   ],
   "source": [
    "history=model.fit(xtrain,ytrain,\n",
    "                 batch_size=batch_size,\n",
    "                 epochs=epochs,\n",
    "                 verbose=2,\n",
    "                 validation_data=(xtest,ytest))\n",
    "\n",
    "score=model.evaluate(xtest,ytest,verbose=1)"
   ]
  },
  {
   "cell_type": "markdown",
   "id": "0f7c7b64",
   "metadata": {},
   "source": [
    "# Accuracy measure"
   ]
  },
  {
   "cell_type": "code",
   "execution_count": 13,
   "id": "89290937",
   "metadata": {},
   "outputs": [
    {
     "name": "stdout",
     "output_type": "stream",
     "text": [
      "Test loss:\t 1.6501226425170898\n",
      "Test Accuracy:\t 0.48840001225471497\n"
     ]
    }
   ],
   "source": [
    "print('Test loss:\\t',score[0])\n",
    "print('Test Accuracy:\\t',score[1])"
   ]
  },
  {
   "cell_type": "code",
   "execution_count": null,
   "id": "ed3f3b50",
   "metadata": {},
   "outputs": [],
   "source": []
  }
 ],
 "metadata": {
  "kernelspec": {
   "display_name": "Python 3 (ipykernel)",
   "language": "python",
   "name": "python3"
  },
  "language_info": {
   "codemirror_mode": {
    "name": "ipython",
    "version": 3
   },
   "file_extension": ".py",
   "mimetype": "text/x-python",
   "name": "python",
   "nbconvert_exporter": "python",
   "pygments_lexer": "ipython3",
   "version": "3.11.4"
  }
 },
 "nbformat": 4,
 "nbformat_minor": 5
}
