{
 "cells": [
  {
   "cell_type": "code",
   "execution_count": 1,
   "id": "257e32f1",
   "metadata": {},
   "outputs": [
    {
     "name": "stdout",
     "output_type": "stream",
     "text": [
      "<mysql.connector.connection_cext.CMySQLConnection object at 0x000001B4E8A85A50>\n"
     ]
    }
   ],
   "source": [
    "import mysql.connector\n",
    "\n",
    "conn = mysql.connector.connect(user='root',password='jagadeesh',host='localhost')\n",
    "print(conn)"
   ]
  },
  {
   "cell_type": "code",
   "execution_count": 47,
   "id": "6210885d",
   "metadata": {},
   "outputs": [],
   "source": [
    "curs = conn.cursor()"
   ]
  },
  {
   "cell_type": "code",
   "execution_count": 14,
   "id": "16f748ab",
   "metadata": {},
   "outputs": [
    {
     "data": {
      "text/plain": [
       "<mysql.connector.cursor_cext.CMySQLCursor at 0x1ee18fee750>"
      ]
     },
     "execution_count": 14,
     "metadata": {},
     "output_type": "execute_result"
    }
   ],
   "source": [
    "curs"
   ]
  },
  {
   "cell_type": "markdown",
   "id": "31405741",
   "metadata": {},
   "source": [
    "# 1. Implement Inventory Management in Python with MySQL\n",
    "\n",
    "a) Inventory management, a critical element of the supply chain, is the tracking of inventory from manufacturers to warehouses and from these facilities to a point of sale. The goal of inventory management is to have the right products in the right place at the right time.\n",
    "\n",
    "b) The required Database is Inventory, and the required Tables are Purchases, Sales and Inventory\n",
    "\n",
    "c) Note: Apply your thoughts to demonstrate the DB Operation in Python."
   ]
  },
  {
   "cell_type": "code",
   "execution_count": 6,
   "id": "929c6c5f",
   "metadata": {},
   "outputs": [],
   "source": [
    "#create database\n",
    "sql='create database Inventory'\n",
    "curs.execute(sql)"
   ]
  },
  {
   "cell_type": "code",
   "execution_count": 15,
   "id": "eb50d390",
   "metadata": {},
   "outputs": [],
   "source": [
    "curs.execute('show databases')"
   ]
  },
  {
   "cell_type": "code",
   "execution_count": 16,
   "id": "ff6cf860",
   "metadata": {},
   "outputs": [
    {
     "name": "stdout",
     "output_type": "stream",
     "text": [
      "('company',)\n",
      "('information_schema',)\n",
      "('innodb',)\n",
      "('inventory',)\n",
      "('mypractise',)\n",
      "('mysql',)\n",
      "('performance_schema',)\n",
      "('sakila',)\n",
      "('shirts_db',)\n",
      "('sys',)\n",
      "('world',)\n"
     ]
    }
   ],
   "source": [
    "for i in curs:\n",
    "    print(i)"
   ]
  },
  {
   "cell_type": "code",
   "execution_count": 17,
   "id": "b658c4a8",
   "metadata": {},
   "outputs": [],
   "source": [
    "curs.execute(\"use Inventory\")"
   ]
  },
  {
   "cell_type": "code",
   "execution_count": 25,
   "id": "f653e1f5",
   "metadata": {},
   "outputs": [],
   "source": [
    "curs.execute(\"\"\"CREATE TABLE Purchases (\n",
    "    purchase_id INT AUTO_INCREMENT PRIMARY KEY,\n",
    "    product_name VARCHAR(255),\n",
    "    quantity INT,\n",
    "    cost_price DECIMAL(10, 2))\"\"\")"
   ]
  },
  {
   "cell_type": "code",
   "execution_count": 26,
   "id": "b8198cab",
   "metadata": {},
   "outputs": [],
   "source": [
    "curs.execute(\"\"\"CREATE TABLE Sales (\n",
    "    sale_id INT AUTO_INCREMENT PRIMARY KEY,\n",
    "    product_name VARCHAR(255),\n",
    "    quantity INT,\n",
    "    selling_price DECIMAL(10, 2))\"\"\")"
   ]
  },
  {
   "cell_type": "code",
   "execution_count": 28,
   "id": "f9756e02",
   "metadata": {},
   "outputs": [],
   "source": [
    "curs.execute(\"\"\"CREATE TABLE Inventory (\n",
    "    product_id INT AUTO_INCREMENT PRIMARY KEY,\n",
    "    product_name VARCHAR(255),\n",
    "    quantity INT,\n",
    "    cost_price DECIMAL(10, 2),\n",
    "    selling_price DECIMAL(10, 2))\"\"\")"
   ]
  },
  {
   "cell_type": "markdown",
   "id": "a0a4715b",
   "metadata": {},
   "source": [
    "# 2. Customer Order Processing\n",
    "\n",
    "Scenario: You are building a customer order processing system for an e-commerce company. The system needs to interact with a MySQL database to store customer orders, products, and order details.\n",
    "\n",
    "1. Design a MySQL database schema for the order processing system, including tables for\n",
    "\n",
    "customers, products, and orders. 2. Write a Python program that connects to the database and allows customers to place\n",
    "\n",
    "new orders. 3. Implement a feature that calculates the total cost of an order and updates product\n",
    "\n",
    "quantities in the database.\n",
    "\n",
    "4. How would you handle cases where a product is no longer available when a customer places an order?\n",
    "\n",
    "5. Develop a function to generate order reports for the company's finance department.\n"
   ]
  },
  {
   "cell_type": "code",
   "execution_count": 29,
   "id": "b5bbbc1b",
   "metadata": {},
   "outputs": [],
   "source": [
    "sql='create database orderprocess'\n",
    "curs.execute(sql)"
   ]
  },
  {
   "cell_type": "code",
   "execution_count": 60,
   "id": "d583e6e5",
   "metadata": {},
   "outputs": [],
   "source": [
    "curs.execute(\"use orderprocess\")"
   ]
  },
  {
   "cell_type": "code",
   "execution_count": 34,
   "id": "3cfb5682",
   "metadata": {},
   "outputs": [],
   "source": [
    "curs.execute(\"\"\"CREATE TABLE Customers (\n",
    "    customer_id INT AUTO_INCREMENT PRIMARY KEY,\n",
    "    name VARCHAR(30) NOT NULL,\n",
    "    email VARCHAR(30) NOT NULL,\n",
    "    address varchar(255))\"\"\")"
   ]
  },
  {
   "cell_type": "code",
   "execution_count": 35,
   "id": "f889db9b",
   "metadata": {},
   "outputs": [],
   "source": [
    "curs.execute(\"\"\"CREATE TABLE Products (\n",
    "    product_id INT AUTO_INCREMENT PRIMARY KEY,\n",
    "    name VARCHAR(255),\n",
    "    price INT,\n",
    "    quantity_in_stock INT)\"\"\")"
   ]
  },
  {
   "cell_type": "code",
   "execution_count": 36,
   "id": "44f0e912",
   "metadata": {},
   "outputs": [],
   "source": [
    "curs.execute(\"\"\"CREATE TABLE Orders (\n",
    "    order_id INT AUTO_INCREMENT PRIMARY KEY,\n",
    "    customer_id INT,\n",
    "    order_date DATE,\n",
    "    total_cost INT,\n",
    "    FOREIGN KEY (customer_id) REFERENCES Customers(customer_id))\"\"\")"
   ]
  },
  {
   "cell_type": "code",
   "execution_count": 37,
   "id": "99347785",
   "metadata": {},
   "outputs": [],
   "source": [
    "curs.execute(\"\"\"CREATE TABLE OrderDetails (\n",
    "    order_detail_id INT AUTO_INCREMENT PRIMARY KEY,\n",
    "    order_id INT,\n",
    "    product_id INT,\n",
    "    quantity_ordered INT,\n",
    "    unit_price INT,\n",
    "    total_price INT,\n",
    "    FOREIGN KEY (order_id) REFERENCES Orders(order_id),\n",
    "    FOREIGN KEY (product_id) REFERENCES Products(product_id))\"\"\")"
   ]
  },
  {
   "cell_type": "code",
   "execution_count": 38,
   "id": "19193f52",
   "metadata": {},
   "outputs": [],
   "source": [
    "curs.execute('show tables')"
   ]
  },
  {
   "cell_type": "code",
   "execution_count": 39,
   "id": "6a14e959",
   "metadata": {},
   "outputs": [
    {
     "name": "stdout",
     "output_type": "stream",
     "text": [
      "('customers',)\n",
      "('orderdetails',)\n",
      "('orders',)\n",
      "('products',)\n"
     ]
    }
   ],
   "source": [
    "for i in curs:\n",
    "    print(i)"
   ]
  },
  {
   "cell_type": "code",
   "execution_count": 52,
   "id": "484a9744",
   "metadata": {},
   "outputs": [
    {
     "name": "stdout",
     "output_type": "stream",
     "text": [
      "3 is inserted now\n"
     ]
    }
   ],
   "source": [
    "insert=\"insert into Customers(name,email,address) values(%s,%s,%s)\"\n",
    "val=[('jagadeesh','j@gmail.com','vizag'),\n",
    "     ('hari','h@gmail.com','kurnool'),\n",
    "     ('arun','a@gmail.com','bangalore')\n",
    "    ]\n",
    "curs=conn.cursor()\n",
    "curs.executemany(insert,val)\n",
    "\n",
    "conn.commit()\n",
    "\n",
    "print(curs.rowcount,'is inserted now')"
   ]
  },
  {
   "cell_type": "code",
   "execution_count": 61,
   "id": "e10296c8",
   "metadata": {},
   "outputs": [
    {
     "name": "stdout",
     "output_type": "stream",
     "text": [
      "3 is inserted now\n"
     ]
    }
   ],
   "source": [
    "insert1=\"insert into Products(name,price,quantity_in_stock) values(%s,%s,%s)\"\n",
    "val1=[('bag',500,5),\n",
    "     ('bat',1500,5),\n",
    "     ('ball',200,5)\n",
    "    ]\n",
    "curs=conn.cursor()\n",
    "curs.executemany(insert1,val1)\n",
    "\n",
    "conn.commit()\n",
    "curs.close()\n",
    "\n",
    "print(curs.rowcount,'is inserted now')"
   ]
  },
  {
   "cell_type": "code",
   "execution_count": 62,
   "id": "b8797590",
   "metadata": {},
   "outputs": [
    {
     "name": "stdout",
     "output_type": "stream",
     "text": [
      "3 rows inserted into Orders table\n"
     ]
    }
   ],
   "source": [
    "insert_query = \"INSERT INTO Orders (customer_id, order_date, total_cost) VALUES (%s, %s, %s)\"\n",
    "\n",
    "order_data = [\n",
    "    (1, '2023-09-15', 500),\n",
    "    (2, '2023-09-16', 1200),\n",
    "    (3, '2023-09-17', 750)\n",
    "]\n",
    "\n",
    "curs = conn.cursor()\n",
    "\n",
    "curs.executemany(insert_query, order_data)\n",
    "\n",
    "conn.commit()\n",
    "curs.close()\n",
    "\n",
    "print(curs.rowcount, 'rows inserted into Orders table')"
   ]
  },
  {
   "cell_type": "code",
   "execution_count": 66,
   "id": "e03f27c1",
   "metadata": {},
   "outputs": [
    {
     "name": "stdout",
     "output_type": "stream",
     "text": [
      "3 rows inserted into OrderDetails table\n"
     ]
    }
   ],
   "source": [
    "import mysql.connector\n",
    "\n",
    "insert_query = \"INSERT INTO OrderDetails (order_id, product_id, quantity_ordered, unit_price, total_price) VALUES (%s, %s, %s, %s, %s)\"\n",
    "\n",
    "order_details_data = [\n",
    "    (1, 1, 3, 150, 450),\n",
    "    (2, 2, 2, 25, 50),\n",
    "    (3, 3, 5, 10, 50)\n",
    "]\n",
    "\n",
    "\n",
    "curs = conn.cursor()\n",
    "\n",
    "curs.executemany(insert_query, order_details_data)\n",
    "\n",
    "conn.commit()\n",
    "curs.close()\n",
    "\n",
    "print(curs.rowcount, 'rows inserted into OrderDetails table')\n"
   ]
  },
  {
   "cell_type": "code",
   "execution_count": 69,
   "id": "817633ea",
   "metadata": {},
   "outputs": [
    {
     "name": "stdout",
     "output_type": "stream",
     "text": [
      "Order placed successfully.\n"
     ]
    }
   ],
   "source": [
    "def place_order(customer_id, product_id, quantity_ordered):\n",
    "\n",
    "    curs = conn.cursor()\n",
    "\n",
    "    curs.execute(\"SELECT price, quantity_in_stock FROM Products WHERE product_id = %s\", (product_id,))\n",
    "    result = curs.fetchone()\n",
    "\n",
    "    if result is None:\n",
    "        print(\"Product not found.\")\n",
    "    else:\n",
    "        price, quantity_in_stock = result\n",
    "        if quantity_ordered > quantity_in_stock:\n",
    "            print(\"Product not available in the required quantity.\")\n",
    "        else:\n",
    "            total_price = price * quantity_ordered\n",
    "\n",
    "            curs.execute(\"INSERT INTO Orders (customer_id, order_date, total_cost) VALUES (%s, CURDATE(), %s)\", (customer_id, total_price))\n",
    "            order_id = curs.lastrowid\n",
    "            curs.execute(\"INSERT INTO OrderDetails (order_id, product_id, quantity_ordered, unit_price, total_price) VALUES (%s, %s, %s, %s, %s)\", (order_id, product_id, quantity_ordered, price, total_price))\n",
    "\n",
    "            curs.execute(\"UPDATE Products SET quantity_in_stock = quantity_in_stock - %s WHERE product_id = %s\", (quantity_ordered, product_id))\n",
    "\n",
    "            conn.commit()\n",
    "            curs.close()\n",
    "            print(\"Order placed successfully.\")\n",
    "\n",
    "place_order(1, 1, 2)"
   ]
  },
  {
   "cell_type": "code",
   "execution_count": 70,
   "id": "e4805c0f",
   "metadata": {},
   "outputs": [
    {
     "name": "stdout",
     "output_type": "stream",
     "text": [
      "Product not available in the required quantity.\n"
     ]
    }
   ],
   "source": [
    "place_order(2,2,10)"
   ]
  },
  {
   "cell_type": "code",
   "execution_count": 73,
   "id": "978250b7",
   "metadata": {},
   "outputs": [],
   "source": [
    "import csv\n",
    "\n",
    "def generate_order_report(output_file):\n",
    "    curs = conn.cursor()\n",
    "\n",
    "    curs.execute(\"SELECT order_id, customer_id, order_date, total_cost FROM Orders\")\n",
    "\n",
    "    orders = curs.fetchall()\n",
    "\n",
    "    # Write the results to a CSV file\n",
    "    with open(output_file, 'w', newline='') as csvfile:\n",
    "        fieldnames = [\"Order ID\", \"Customer ID\", \"Order Date\", \"Total Cost\"]\n",
    "        writer = csv.DictWriter(csvfile, fieldnames=fieldnames)\n",
    "        writer.writeheader()\n",
    "\n",
    "        for order in orders:\n",
    "            writer.writerow({\n",
    "                \"Order ID\": order[0],\n",
    "                \"Customer ID\": order[1],\n",
    "                \"Order Date\": order[2],\n",
    "                \"Total Cost\": order[3]\n",
    "            })\n",
    "\n",
    "    curs.close()\n",
    "\n",
    "generate_order_report(\"order_report.csv\")\n"
   ]
  },
  {
   "cell_type": "markdown",
   "id": "401a14f3",
   "metadata": {},
   "source": [
    "# 3. You are tasked with developing a Python program that connects to a MySQL database, retrieves data from a table, performs some operations on the data, and updates the database with the modified data. Please write Python code to accomplish this task.\n",
    "\n",
    "Instructions:\n",
    "\n",
    "1. Assume that you have a MySQL database server running with the following details:\n",
    "\n",
    "i. Host: localhost ii. Port: 3306\n",
    "\n",
    "iii. Username: your username\n",
    "\n",
    "iv. Password: your password\n",
    "\n",
    "v. Database Name: your database vi. Table Name: your table\n",
    "\n",
    "vil. The table has the following columns: id (int), name (varchar).\n",
    "\n",
    "quantity (int).\n",
    "\n",
    "2. Your Python program should;\n",
    "\n",
    "1. Connect to the MySQL database.\n",
    "\n",
    "ii. Retrieve all records from the your table table.\n",
    "\n",
    "iii. Calculate the total quantity of all records retrieved.\n",
    "\n",
    "iv. Update the quantity column of each record by doubling its value. v. Commit the changes to the database.\n",
    "\n",
    "vi. Close the database connection.\n",
    "\n",
    "3. Handle any potential errors that may occur during the database connection data manipulation, such as connection failures or SQL errors.\n",
    "\n",
    "4. Provide comments in your code to explain each step."
   ]
  },
  {
   "cell_type": "code",
   "execution_count": 25,
   "id": "93ad9af5",
   "metadata": {},
   "outputs": [
    {
     "name": "stdout",
     "output_type": "stream",
     "text": [
      "<mysql.connector.connection_cext.CMySQLConnection object at 0x000001B4EA713D10>\n"
     ]
    }
   ],
   "source": [
    "import mysql.connector\n",
    "conn = mysql.connector.connect(user='root', password='jagadeesh',host='localhost', database='Inventory') \n",
    "print(conn)"
   ]
  },
  {
   "cell_type": "code",
   "execution_count": 26,
   "id": "64d857eb",
   "metadata": {},
   "outputs": [],
   "source": [
    "curs= conn.cursor()"
   ]
  },
  {
   "cell_type": "code",
   "execution_count": 4,
   "id": "d3bbfadf",
   "metadata": {},
   "outputs": [],
   "source": [
    "curs.execute(\"use Inventory\")"
   ]
  },
  {
   "cell_type": "code",
   "execution_count": 10,
   "id": "d447b651",
   "metadata": {},
   "outputs": [],
   "source": [
    "curs.execute(\"\"\"CREATE TABLE Items ( \n",
    "id INT AUTO_INCREMENT PRIMARY KEY,\n",
    "name VARCHAR(30),\n",
    "quantity INT)\"\"\")"
   ]
  },
  {
   "cell_type": "code",
   "execution_count": 12,
   "id": "94aed1fa",
   "metadata": {},
   "outputs": [
    {
     "name": "stdout",
     "output_type": "stream",
     "text": [
      " 3 rows inserted into Items.\n"
     ]
    }
   ],
   "source": [
    "insert_query = \"INSERT INTO Items (name, quantity) VALUES (%s, %s)\"\n",
    "\n",
    "insert_data = [('item1',10),('item2',20),('item3',30)]\n",
    "\n",
    "curs.executemany (insert_query, insert_data)\n",
    "\n",
    "conn.commit()\n",
    "\n",
    "print(f\" {curs.rowcount} rows inserted into Items.\")"
   ]
  },
  {
   "cell_type": "code",
   "execution_count": 27,
   "id": "a25cbdc2",
   "metadata": {},
   "outputs": [],
   "source": [
    "select_query = \"SELECT id, name, quantity FROM Items\"\n",
    "\n",
    "curs.execute(select_query)\n",
    "\n",
    "records = curs.fetchall()\n",
    "\n",
    "total_quantity=sum(record[2] for record in records)\n",
    "\n",
    "update_query = \"UPDATE Items SET quantity = quantity * 2\" \n",
    "\n",
    "curs.execute(update_query)\n",
    "\n",
    "conn.commit()"
   ]
  },
  {
   "cell_type": "code",
   "execution_count": 28,
   "id": "3a295264",
   "metadata": {},
   "outputs": [
    {
     "name": "stdout",
     "output_type": "stream",
     "text": [
      "(1, 'item1', 20)\n",
      "(2, 'item2', 40)\n",
      "(3, 'item3', 60)\n"
     ]
    }
   ],
   "source": [
    "curs.execute(\"Select * from Items\")\n",
    "\n",
    "for i in curs:\n",
    "    print(i)"
   ]
  },
  {
   "cell_type": "markdown",
   "id": "846926b0",
   "metadata": {},
   "source": [
    "# 4. You are developing an employee management system for a company. The database should store employee information, including name, salary, department, and hire date. Managers should be able to view and update employee details.\n",
    "\n",
    "1. Design the database schema for the employee management system.\n",
    "\n",
    "2. Write Python code to connect to the database and retrieve a list of employees in a specific department.\n",
    "\n",
    "3. Implement a feature to update an employee's salary."
   ]
  },
  {
   "cell_type": "code",
   "execution_count": 29,
   "id": "051ecc9e",
   "metadata": {},
   "outputs": [],
   "source": [
    "curs.execute(\"CREATE DATABASE EmployeeManagement;\")"
   ]
  },
  {
   "cell_type": "code",
   "execution_count": 30,
   "id": "4ef734b6",
   "metadata": {},
   "outputs": [],
   "source": [
    "curs.execute(\"USE EmployeeManagement;\")"
   ]
  },
  {
   "cell_type": "code",
   "execution_count": 31,
   "id": "402d0352",
   "metadata": {},
   "outputs": [],
   "source": [
    "curs.execute(\"\"\"CREATE TABLE Employees (\n",
    "    employee_id INT AUTO_INCREMENT PRIMARY KEY,\n",
    "    name VARCHAR(255) NOT NULL,\n",
    "    salary DECIMAL(10, 2) NOT NULL,\n",
    "    department VARCHAR(255) NOT NULL,\n",
    "    hire_date DATE NOT NULL\n",
    ")\"\"\")"
   ]
  },
  {
   "cell_type": "code",
   "execution_count": 36,
   "id": "46b6608a",
   "metadata": {},
   "outputs": [],
   "source": [
    "insert_query = \"INSERT INTO Employees (name, salary, department, hire_date) VALUES (%s, %s, %s, %s)\"\n",
    "employee_data = [(\"Jagadeesh\", 55000.00, \"HR\", \"2023-09-15\"),\n",
    "                (\"hari\", 60000.00, \"Finance\", \"2023-09-16\"),\n",
    "                (\"arun\", 50000.00, \"IT\", \"2023-09-17\")]\n",
    "curs.executemany(insert_query, employee_data)"
   ]
  },
  {
   "cell_type": "code",
   "execution_count": 38,
   "id": "5bb51afb",
   "metadata": {},
   "outputs": [],
   "source": [
    "def get_employees_in_department(department):\n",
    "    query = \"SELECT * FROM Employees WHERE department = %s\"\n",
    "    curs.execute(query, (department,))\n",
    "\n",
    "    employees = curs.fetchall()\n",
    "\n",
    "    for employee in employees:\n",
    "        print(f\"Employee ID: {employee[0]}, Name: {employee[1]}, Salary: {employee[2]}, Department: {employee[3]}, Hire Date: {employee[4]}\")"
   ]
  },
  {
   "cell_type": "code",
   "execution_count": 39,
   "id": "414ec88b",
   "metadata": {},
   "outputs": [],
   "source": [
    "def update_employee_salary(employee_id, new_salary):\n",
    "    update_query = \"UPDATE Employees SET salary = %s WHERE employee_id = %s\"\n",
    "    curs.execute(update_query, (new_salary, employee_id))\n",
    "    conn.commit()"
   ]
  },
  {
   "cell_type": "code",
   "execution_count": 40,
   "id": "93490970",
   "metadata": {},
   "outputs": [
    {
     "name": "stdout",
     "output_type": "stream",
     "text": [
      "Employee ID: 1, Name: Jagadeesh, Salary: 55000.00, Department: HR, Hire Date: 2023-09-15\n"
     ]
    }
   ],
   "source": [
    "get_employees_in_department(\"HR\")"
   ]
  },
  {
   "cell_type": "code",
   "execution_count": 41,
   "id": "0b3385cd",
   "metadata": {},
   "outputs": [],
   "source": [
    "update_employee_salary(1, 60000.00)"
   ]
  },
  {
   "cell_type": "code",
   "execution_count": 42,
   "id": "60308fff",
   "metadata": {},
   "outputs": [
    {
     "name": "stdout",
     "output_type": "stream",
     "text": [
      "Employee ID: 1, Name: Jagadeesh, Salary: 60000.00, Department: HR, Hire Date: 2023-09-15\n"
     ]
    }
   ],
   "source": [
    "get_employees_in_department(\"HR\")"
   ]
  },
  {
   "cell_type": "markdown",
   "id": "175f9679",
   "metadata": {},
   "source": [
    "# 1 Scenario: You are developing a complex Python project with multiple modules. To manage the project effectively, you need to import and use various modules. Additionally, you want to organize your code using namespaces and avoid naming conflicts.\n",
    "\n",
    "Design a Python program that demonstrates the following:\n",
    "\n",
    "1. Import multiple modules within your project.\n",
    "2. Use the import statement to access functions, classes, and variables from imported modules.\n",
    "3. Create your custom module and use it in your main program.\n",
    "4. Handle naming conflicts and ensure proper namespacing.\n",
    "5. Implement error handling for missing modules or incorrect module usage."
   ]
  },
  {
   "cell_type": "code",
   "execution_count": 1,
   "id": "d30e923e",
   "metadata": {},
   "outputs": [],
   "source": [
    "def say_hello():\n",
    "    print(\"Hello from module1\")\n",
    "\n",
    "m1_var = \"Variable from module1\""
   ]
  },
  {
   "cell_type": "code",
   "execution_count": 2,
   "id": "cda4a611",
   "metadata": {},
   "outputs": [],
   "source": [
    "def print_variable(variable):\n",
    "    print(f\"Variable from module2: {variable}\")\n",
    "\n",
    "m2_variable = \"I am from module2\""
   ]
  },
  {
   "cell_type": "code",
   "execution_count": 3,
   "id": "2d01b7e7",
   "metadata": {},
   "outputs": [
    {
     "name": "stdout",
     "output_type": "stream",
     "text": [
      "Hello from module1\n",
      "Variable from module2: I am from module2\n"
     ]
    }
   ],
   "source": [
    "try:\n",
    "    import m1\n",
    "    import m2\n",
    "    m1.say_hello()\n",
    "    m2.print_variable(m2.m2_variable)\n",
    "    \n",
    "except ImportError as e:\n",
    "    print(f\"Error importing module: {e}\")\n",
    "    \n",
    "except AttributeError as e:\n",
    "    print(f\"AttributeError: {e}\")\n",
    "\n",
    "except Exception as e:\n",
    "    print(f\"An error occurred: {e}\")"
   ]
  },
  {
   "cell_type": "markdown",
   "id": "0af97025",
   "metadata": {},
   "source": [
    "# 2. Virtual Environment Management\n",
    "Scenario: You are working on multiple Python projects with different dependencies and\n",
    "\n",
    "versions. To avoid conflicts and ensure project isolation, you decide to use virtual environments.\n",
    "\n",
    "Create a Python program that demonstrates the following:\n",
    "\n",
    "1. Create a virtual environment for a specific project.\n",
    "\n",
    "2. Activate and deactivate virtual environments,\n",
    "\n",
    "3. Install, upgrade, and uninstall packages within a virtual environment.\n",
    "\n",
    "4. List the installed packages in a virtual environment.\n",
    "\n",
    "5. Implement error handling for virtual environment operations"
   ]
  },
  {
   "cell_type": "code",
   "execution_count": null,
   "id": "c5d4065e",
   "metadata": {},
   "outputs": [],
   "source": [
    "(base) C:\\Users\\jagad>pip install virtualenv"
   ]
  },
  {
   "cell_type": "code",
   "execution_count": null,
   "id": "15704268",
   "metadata": {},
   "outputs": [],
   "source": [
    "(base) C:\\Users\\jagad>python -m venv venv_demo"
   ]
  },
  {
   "cell_type": "code",
   "execution_count": null,
   "id": "aa93ab83",
   "metadata": {},
   "outputs": [],
   "source": [
    "(base) C:\\Users\\jagad>cd venv_demo"
   ]
  },
  {
   "cell_type": "code",
   "execution_count": null,
   "id": "e8d029ab",
   "metadata": {},
   "outputs": [],
   "source": [
    "(base) C:\\Users\\jagad\\venv_demo>cd Scripts"
   ]
  },
  {
   "cell_type": "code",
   "execution_count": null,
   "id": "b1280bfd",
   "metadata": {},
   "outputs": [],
   "source": [
    "(base) C:\\Users\\jagad\\venv_demo\\Scripts>activate"
   ]
  },
  {
   "cell_type": "code",
   "execution_count": null,
   "id": "e40c0dd8",
   "metadata": {},
   "outputs": [],
   "source": [
    "(venv_demo) (base) C:\\Users\\jagad\\venv_demo\\Scripts>pip install numpy"
   ]
  },
  {
   "cell_type": "code",
   "execution_count": null,
   "id": "c0367eec",
   "metadata": {},
   "outputs": [],
   "source": [
    "(venv_demo) (base) C:\\Users\\jagad\\venv_demo\\Scripts>deactivate"
   ]
  },
  {
   "cell_type": "code",
   "execution_count": null,
   "id": "58da441d",
   "metadata": {},
   "outputs": [],
   "source": [
    "(base) C:\\Users\\jagad\\venv_demo\\Scripts>"
   ]
  },
  {
   "cell_type": "markdown",
   "id": "ec5f8c2b",
   "metadata": {},
   "source": [
    "# 3. Module Dependency Resolution Scenario: You are developing a Python application that relies on third-party packages Managing\n",
    "\n",
    "dependencies and ensuring compatibility is crucial for your project's success.\n",
    "\n",
    "Design a Python program that demonstrates the following:\n",
    "\n",
    "1. Use a requirements.txt file to specify project dependencies.\n",
    "2. Automatically install all project dependencies from the requirements, txt    file\n",
    "3. Ensure that the versions of installed packages are compatible\n",
    "4. implement error handling for dependency resolution and installation"
   ]
  },
  {
   "cell_type": "code",
   "execution_count": null,
   "id": "678db1f6",
   "metadata": {},
   "outputs": [],
   "source": [
    "(base) C:\\Users\\jagad>cd venv_demo\n",
    "\n",
    "(base) C:\\Users\\jagad\\venv_demo>cd Scripts\n",
    "\n",
    "(base) C:\\Users\\jagad\\venv_demo\\Scripts>activate"
   ]
  },
  {
   "cell_type": "code",
   "execution_count": null,
   "id": "fef72e0e",
   "metadata": {},
   "outputs": [],
   "source": [
    "(venv_demo) (base) C:\\Users\\jagad\\venv_demo>cd.."
   ]
  },
  {
   "cell_type": "code",
   "execution_count": null,
   "id": "c4471d3c",
   "metadata": {},
   "outputs": [],
   "source": [
    "(venv_demo) (base) C:\\Users\\jagad\\venv_demo>pip freeze > requirements.txt\n",
    "\n",
    "(venv_demo) (base) C:\\Users\\jagad\\venv_demo>pip install -r requirements.txt\n",
    "Collecting requests==2.26.0 (from -r requirements.txt (line 1))\n",
    "  Downloading requests-2.26.0-py2.py3-none-any.whl (62 kB)\n",
    "     ━━━━━━━━━━━━━━━━━━━━━━━━━━━━━━━━━━━━━━━━ 62.3/62.3 kB 3.3 MB/s eta 0:00:00\n",
    "Requirement already satisfied: numpy<2.0.0,>=1.21.0 in c:\\users\\jagad\\venv_demo\\lib\\site-packages (from -r requirements.txt (line 2)) (1.25.2)\n",
    "Collecting matplotlib<4.0.0,>=3.4.3 (from -r requirements.txt (line 3))\n",
    "  Downloading matplotlib-3.8.0-cp311-cp311-win_amd64.whl (7.6 MB)\n",
    "     ━━━━━━━━━━━━━━━━━━━━━━━━━━━━━━━━━━━━━━━━ 7.6/7.6 MB 7.5 MB/s eta 0:00:00\n",
    "Collecting flask<3.0.0,>=2.1.0 (from -r requirements.txt (line 4))\n",
    "  Downloading flask-2.3.3-py3-none-any.whl (96 kB)\n",
    "     ━━━━━━━━━━━━━━━━━━━━━━━━━━━━━━━━━━━━━━━━ 96.1/96.1 kB 5.4 MB/s eta 0:00:00\n",
    "Collecting pytest==6.2.5 (from -r requirements.txt (line 5))\n",
    "  Downloading pytest-6.2.5-py3-none-any.whl (280 kB)\n",
    "     ━━━━━━━━━━━━━━━━━━━━━━━━━━━━━━━━━━━━━━━━ 280.7/280.7 kB 8.7 MB/s eta 0:00:00\n",
    "Collecting urllib3<1.27,>=1.21.1 (from requests==2.26.0->-r requirements.txt (line 1))\n",
    "  Downloading urllib3-1.26.16-py2.py3-none-any.whl (143 kB)\n",
    "     ━━━━━━━━━━━━━━━━━━━━━━━━━━━━━━━━━━━━━━━━ 143.1/143.1 kB 8.9 MB/s eta 0:00:00\n",
    "Collecting certifi>=2017.4.17 (from requests==2.26.0->-r requirements.txt (line 1))\n",
    "  Downloading certifi-2023.7.22-py3-none-any.whl (158 kB)\n",
    "     ━━━━━━━━━━━━━━━━━━━━━━━━━━━━━━━━━━━━━━━━ 158.3/158.3 kB 9.3 MB/s eta 0:00:00\n",
    "Collecting charset-normalizer~=2.0.0 (from requests==2.26.0->-r requirements.txt (line 1))\n",
    "  Downloading charset_normalizer-2.0.12-py3-none-any.whl (39 kB)\n",
    "Collecting idna<4,>=2.5 (from requests==2.26.0->-r requirements.txt (line 1))\n",
    "  Downloading idna-3.4-py3-none-any.whl (61 kB)\n",
    "     ━━━━━━━━━━━━━━━━━━━━━━━━━━━━━━━━━━━━━━━━ 61.5/61.5 kB ? eta 0:00:00\n",
    "Collecting attrs>=19.2.0 (from pytest==6.2.5->-r requirements.txt (line 5))\n",
    "  Downloading attrs-23.1.0-py3-none-any.whl (61 kB)\n",
    "     ━━━━━━━━━━━━━━━━━━━━━━━━━━━━━━━━━━━━━━━━ 61.2/61.2 kB ? eta 0:00:00\n",
    "Collecting iniconfig (from pytest==6.2.5->-r requirements.txt (line 5))\n",
    "  Downloading iniconfig-2.0.0-py3-none-any.whl (5.9 kB)\n",
    "Collecting packaging (from pytest==6.2.5->-r requirements.txt (line 5))\n",
    "  Downloading packaging-23.1-py3-none-any.whl (48 kB)\n",
    "     ━━━━━━━━━━━━━━━━━━━━━━━━━━━━━━━━━━━━━━━━ 48.9/48.9 kB ? eta 0:00:00\n",
    "Collecting pluggy<2.0,>=0.12 (from pytest==6.2.5->-r requirements.txt (line 5))\n",
    "  Downloading pluggy-1.3.0-py3-none-any.whl (18 kB)\n",
    "Collecting py>=1.8.2 (from pytest==6.2.5->-r requirements.txt (line 5))\n",
    "  Downloading py-1.11.0-py2.py3-none-any.whl (98 kB)\n",
    "     ━━━━━━━━━━━━━━━━━━━━━━━━━━━━━━━━━━━━━━━━ 98.7/98.7 kB ? eta 0:00:00\n",
    "Collecting toml (from pytest==6.2.5->-r requirements.txt (line 5))\n",
    "  Downloading toml-0.10.2-py2.py3-none-any.whl (16 kB)\n",
    "Collecting atomicwrites>=1.0 (from pytest==6.2.5->-r requirements.txt (line 5))\n",
    "  Downloading atomicwrites-1.4.1.tar.gz (14 kB)\n",
    "  Installing build dependencies ... done\n",
    "  Getting requirements to build wheel ... done\n",
    "  Preparing metadata (pyproject.toml) ... done\n",
    "Collecting colorama (from pytest==6.2.5->-r requirements.txt (line 5))\n",
    "  Downloading colorama-0.4.6-py2.py3-none-any.whl (25 kB)\n",
    "Collecting contourpy>=1.0.1 (from matplotlib<4.0.0,>=3.4.3->-r requirements.txt (line 3))\n",
    "  Downloading contourpy-1.1.0-cp311-cp311-win_amd64.whl (470 kB)\n",
    "     ━━━━━━━━━━━━━━━━━━━━━━━━━━━━━━━━━━━━━━━━ 470.9/470.9 kB 7.3 MB/s eta 0:00:00\n",
    "Collecting cycler>=0.10 (from matplotlib<4.0.0,>=3.4.3->-r requirements.txt (line 3))\n",
    "  Downloading cycler-0.11.0-py3-none-any.whl (6.4 kB)\n",
    "Collecting fonttools>=4.22.0 (from matplotlib<4.0.0,>=3.4.3->-r requirements.txt (line 3))\n",
    "  Downloading fonttools-4.42.1-cp311-cp311-win_amd64.whl (2.1 MB)\n",
    "     ━━━━━━━━━━━━━━━━━━━━━━━━━━━━━━━━━━━━━━━━ 2.1/2.1 MB 10.4 MB/s eta 0:00:00\n",
    "Collecting kiwisolver>=1.0.1 (from matplotlib<4.0.0,>=3.4.3->-r requirements.txt (line 3))\n",
    "  Downloading kiwisolver-1.4.5-cp311-cp311-win_amd64.whl (56 kB)\n",
    "     ━━━━━━━━━━━━━━━━━━━━━━━━━━━━━━━━━━━━━━━━ 56.1/56.1 kB 2.9 MB/s eta 0:00:00\n",
    "Collecting pillow>=6.2.0 (from matplotlib<4.0.0,>=3.4.3->-r requirements.txt (line 3))\n",
    "  Downloading Pillow-10.0.1-cp311-cp311-win_amd64.whl (2.5 MB)\n",
    "     ━━━━━━━━━━━━━━━━━━━━━━━━━━━━━━━━━━━━━━━━ 2.5/2.5 MB 8.9 MB/s eta 0:00:00\n",
    "Collecting pyparsing>=2.3.1 (from matplotlib<4.0.0,>=3.4.3->-r requirements.txt (line 3))\n",
    "  Downloading pyparsing-3.1.1-py3-none-any.whl (103 kB)\n",
    "     ━━━━━━━━━━━━━━━━━━━━━━━━━━━━━━━━━━━━━━━━ 103.1/103.1 kB 6.2 MB/s eta 0:00:00\n",
    "Collecting python-dateutil>=2.7 (from matplotlib<4.0.0,>=3.4.3->-r requirements.txt (line 3))\n",
    "  Downloading python_dateutil-2.8.2-py2.py3-none-any.whl (247 kB)\n",
    "     ━━━━━━━━━━━━━━━━━━━━━━━━━━━━━━━━━━━━━━━━ 247.7/247.7 kB 14.8 MB/s eta 0:00:00\n",
    "Collecting Werkzeug>=2.3.7 (from flask<3.0.0,>=2.1.0->-r requirements.txt (line 4))\n",
    "  Downloading werkzeug-2.3.7-py3-none-any.whl (242 kB)\n",
    "     ━━━━━━━━━━━━━━━━━━━━━━━━━━━━━━━━━━━━━━━━ 242.2/242.2 kB 4.9 MB/s eta 0:00:00\n",
    "Collecting Jinja2>=3.1.2 (from flask<3.0.0,>=2.1.0->-r requirements.txt (line 4))\n",
    "  Downloading Jinja2-3.1.2-py3-none-any.whl (133 kB)\n",
    "     ━━━━━━━━━━━━━━━━━━━━━━━━━━━━━━━━━━━━━━━━ 133.1/133.1 kB ? eta 0:00:00\n",
    "Collecting itsdangerous>=2.1.2 (from flask<3.0.0,>=2.1.0->-r requirements.txt (line 4))\n",
    "  Downloading itsdangerous-2.1.2-py3-none-any.whl (15 kB)\n",
    "Collecting click>=8.1.3 (from flask<3.0.0,>=2.1.0->-r requirements.txt (line 4))\n",
    "  Downloading click-8.1.7-py3-none-any.whl (97 kB)\n",
    "     ━━━━━━━━━━━━━━━━━━━━━━━━━━━━━━━━━━━━━━━━ 97.9/97.9 kB ? eta 0:00:00\n",
    "Collecting blinker>=1.6.2 (from flask<3.0.0,>=2.1.0->-r requirements.txt (line 4))\n",
    "  Downloading blinker-1.6.2-py3-none-any.whl (13 kB)\n",
    "Collecting MarkupSafe>=2.0 (from Jinja2>=3.1.2->flask<3.0.0,>=2.1.0->-r requirements.txt (line 4))\n",
    "  Downloading MarkupSafe-2.1.3-cp311-cp311-win_amd64.whl (17 kB)\n",
    "Collecting six>=1.5 (from python-dateutil>=2.7->matplotlib<4.0.0,>=3.4.3->-r requirements.txt (line 3))\n",
    "  Downloading six-1.16.0-py2.py3-none-any.whl (11 kB)\n",
    "Building wheels for collected packages: atomicwrites\n",
    "  Building wheel for atomicwrites (pyproject.toml) ... done\n",
    "  Created wheel for atomicwrites: filename=atomicwrites-1.4.1-py2.py3-none-any.whl size=6973 sha256=7bddc226a418c0d70281f3fbe4eaf962697b8e5b4abf3bd4b301e32221970e14\n",
    "  Stored in directory: c:\\users\\jagad\\appdata\\local\\pip\\cache\\wheels\\f7\\99\\9c\\d24e98c35f30eba0c367ad1e7888d396d676abb35fe1e7611c\n",
    "Successfully built atomicwrites\n",
    "Installing collected packages: urllib3, toml, six, pyparsing, py, pluggy, pillow, packaging, MarkupSafe, kiwisolver, itsdangerous, iniconfig, idna, fonttools, cycler, contourpy, colorama, charset-normalizer, certifi, blinker, attrs, atomicwrites, Werkzeug, requests, python-dateutil, pytest, Jinja2, click, matplotlib, flask\n",
    "Successfully installed Jinja2-3.1.2 MarkupSafe-2.1.3 Werkzeug-2.3.7 atomicwrites-1.4.1 attrs-23.1.0 blinker-1.6.2 certifi-2023.7.22 charset-normalizer-2.0.12 click-8.1.7 colorama-0.4.6 contourpy-1.1.0 cycler-0.11.0 flask-2.3.3 fonttools-4.42.1 idna-3.4 iniconfig-2.0.0 itsdangerous-2.1.2 kiwisolver-1.4.5 matplotlib-3.8.0 packaging-23.1 pillow-10.0.1 pluggy-1.3.0 py-1.11.0 pyparsing-3.1.1 pytest-6.2.5 python-dateutil-2.8.2 requests-2.26.0 six-1.16.0 toml-0.10.2 urllib3-1.26.16\n",
    "\n",
    "[notice] A new release of pip is available: 23.1.2 -> 23.2.1\n",
    "[notice] To update, run: python.exe -m pip install --upgrade pip\n",
    "\n",
    "(venv_demo) (base) C:\\Users\\jagad\\venv_demo>"
   ]
  }
 ],
 "metadata": {
  "kernelspec": {
   "display_name": "Python 3 (ipykernel)",
   "language": "python",
   "name": "python3"
  },
  "language_info": {
   "codemirror_mode": {
    "name": "ipython",
    "version": 3
   },
   "file_extension": ".py",
   "mimetype": "text/x-python",
   "name": "python",
   "nbconvert_exporter": "python",
   "pygments_lexer": "ipython3",
   "version": "3.11.4"
  }
 },
 "nbformat": 4,
 "nbformat_minor": 5
}
