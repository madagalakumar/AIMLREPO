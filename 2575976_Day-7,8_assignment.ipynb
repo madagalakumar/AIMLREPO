{
 "cells": [
  {
   "cell_type": "markdown",
   "id": "205afd94",
   "metadata": {},
   "source": [
    "# 1. Write a Python program to find a target values in a list using linear search with following steps: \n",
    "a. Initialize the list to store the input elements.\n",
    "\n",
    "b. Initialize found-False.\n",
    "\n",
    "c. Enter the item to be searched (match_item).\n",
    "\n",
    "d. For each element in the list 1. if match item = value\n",
    "\n",
    "e. If the match item is not in the list, display an error message that the item is not found in the list.\n",
    "\n",
    "a. return match item's position."
   ]
  },
  {
   "cell_type": "code",
   "execution_count": 2,
   "id": "9852b53d",
   "metadata": {},
   "outputs": [
    {
     "name": "stdout",
     "output_type": "stream",
     "text": [
      "Enter NO of elements to be inserted:\t5\n",
      "Enter the Element 1:12\n",
      "Enter the Element 2:34\n",
      "Enter the Element 3:56\n",
      "Enter the Element 4:76\n",
      "Enter the Element 5:54\n",
      "Enter the value to be searched: \t76\n",
      "Element 76 Found at Position 4\n",
      "[12, 34, 56, 76, 54]\n"
     ]
    }
   ],
   "source": [
    "data=[]\n",
    "n=int(input('Enter NO of elements to be inserted:\\t'))\n",
    "for i in range(0,n):\n",
    "    x=int(input('Enter the Element %d:'%(i+1)))\n",
    "    data.append(x)\n",
    "    \n",
    "e=int(input('Enter the value to be searched: \\t'))\n",
    "pos=0\n",
    "found=False\n",
    "while pos <n and not found:\n",
    "    if data[pos]==e:\n",
    "        found=True\n",
    "    else:\n",
    "        pos+=1\n",
    "        \n",
    "if found:\n",
    "    print('Element %d Found at Position %d'%(e,pos+1))\n",
    "    \n",
    "else:\n",
    "    print('Element %d not found in the list'%e)\n",
    "    \n",
    "print(data)"
   ]
  },
  {
   "cell_type": "markdown",
   "id": "70e73d04",
   "metadata": {},
   "source": [
    "# 2. Write a Python program to implement binary search to find the target values from the list:\n",
    "\n",
    "a. Create a separate function to do binary search.\n",
    "\n",
    "b. Get the number of inputs from the user. . Store the inputs individually in a list. c\n",
    "\n",
    "d. In binary search function at first sort the list in order to start the search from middle of the list.\n",
    "\n",
    "e. Compare the middle element to right and left elements to search target element.\n",
    "\n",
    "f. If greater, move to right of list or else move to another side of the list. \n",
    "g. Print the result along with the position of the element."
   ]
  },
  {
   "cell_type": "code",
   "execution_count": 19,
   "id": "38b4d90f",
   "metadata": {},
   "outputs": [
    {
     "name": "stdout",
     "output_type": "stream",
     "text": [
      "enter the number to be inserted:5\n",
      "enter the data: 76\n",
      "enter the data: 35\n",
      "enter the data: 87\n",
      "enter the data: 32\n",
      "enter the data: 54\n",
      "[32, 35, 54, 76, 87]\n",
      "enter the value to be searched: 32\n",
      "0\n"
     ]
    }
   ],
   "source": [
    "def binary_search(data, low, high, x):\n",
    " \n",
    "    if high >= low:\n",
    " \n",
    "        mid = (high + low) // 2\n",
    " \n",
    "        if data[mid] == x:\n",
    "            return mid\n",
    " \n",
    "        \n",
    "        elif data[mid] > x:\n",
    "            return binary_search(data, low, mid - 1, x)\n",
    " \n",
    "        else:\n",
    "            return binary_search(data, mid + 1, high, x)\n",
    " \n",
    "    else:\n",
    "        return -1\n",
    "    \n",
    "L=[]\n",
    "n=int(input('enter the number to be inserted:'))\n",
    "\n",
    "for i in range(n):\n",
    "    a=int(input('enter the data: '))\n",
    "    L.append(a)\n",
    "L.sort()\n",
    "print(L)\n",
    "s=int(input('enter the value to be searched: '))\n",
    "print(binary_search(L, 0, len(L)-1, s))"
   ]
  },
  {
   "cell_type": "markdown",
   "id": "b0e352a4",
   "metadata": {},
   "source": [
    "# 6. Write a Python script to perform the following operations on a singly linked list\n",
    "a. Create a list \n",
    "\n",
    "b. Find the smallest element from the list\n",
    "\n",
    "c. Insert an element if it is not a duplicate element\n",
    "\n",
    "d. Display the elements in reverse order\n"
   ]
  },
  {
   "cell_type": "code",
   "execution_count": 20,
   "id": "c95854bf",
   "metadata": {},
   "outputs": [
    {
     "name": "stdout",
     "output_type": "stream",
     "text": [
      "Smallest Element: 5\n",
      "Elements in Reverse Order:\n",
      "20 -> 5 -> 15 -> 5 -> 10 -> None\n"
     ]
    }
   ],
   "source": [
    "class Node:\n",
    "    def __init__(self, data):\n",
    "        self.data = data\n",
    "        self.next = None\n",
    "\n",
    "class LinkedList:\n",
    "    def __init__(self):\n",
    "        self.head = None\n",
    "\n",
    "    def append(self, data):\n",
    "        new_node = Node(data)\n",
    "        if not self.head:\n",
    "            self.head = new_node\n",
    "            return\n",
    "        current = self.head\n",
    "        while current.next:\n",
    "            current = current.next\n",
    "        current.next = new_node\n",
    "\n",
    "    def find_smallest(self):\n",
    "        if not self.head:\n",
    "            return None\n",
    "        current = self.head\n",
    "        smallest = current.data\n",
    "        while current:\n",
    "            if current.data < smallest:\n",
    "                smallest = current.data\n",
    "            current = current.next\n",
    "        return smallest\n",
    "\n",
    "    def insert_if_not_duplicate(self, data):\n",
    "        if not self.head:\n",
    "            self.head = Node(data)\n",
    "            return\n",
    "        current = self.head\n",
    "        while current.next:\n",
    "            if current.data == data:\n",
    "                return\n",
    "            current = current.next\n",
    "        if current.data == data:\n",
    "            return\n",
    "        current.next = Node(data)\n",
    "\n",
    "    def display_reverse(self):\n",
    "        def display_recursive(node):\n",
    "            if node:\n",
    "                display_recursive(node.next)\n",
    "                print(node.data, end=\" -> \")\n",
    "\n",
    "        display_recursive(self.head)\n",
    "        print(\"None\")\n",
    "\n",
    "my_linked_list = LinkedList()\n",
    "my_linked_list.append(10)\n",
    "my_linked_list.append(5)\n",
    "my_linked_list.append(15)\n",
    "my_linked_list.append(5)\n",
    "\n",
    "smallest_element = my_linked_list.find_smallest()\n",
    "print(\"Smallest Element:\", smallest_element)\n",
    "\n",
    "my_linked_list.insert_if_not_duplicate(20)\n",
    "my_linked_list.insert_if_not_duplicate(5)\n",
    "\n",
    "print(\"Elements in Reverse Order:\")\n",
    "my_linked_list.display_reverse()\n"
   ]
  },
  {
   "cell_type": "markdown",
   "id": "e370b491",
   "metadata": {},
   "source": [
    "# 7. Write a python program to implement the various operations for Stack ADT Push ii) Pop iii.) Display."
   ]
  },
  {
   "cell_type": "code",
   "execution_count": 24,
   "id": "88c9e5ac",
   "metadata": {},
   "outputs": [],
   "source": [
    "class Stack:\n",
    "    \n",
    "    def __init__(self):\n",
    "        self.__stack=[]\n",
    "        \n",
    "    def is_empty(self):\n",
    "        if len(self.__stack)==0:\n",
    "            return True\n",
    "        else:\n",
    "            return False\n",
    "        \n",
    "    def size(self):\n",
    "        return len(self.__stack)\n",
    "        \n",
    "    def push(self,item):\n",
    "        self.__stack.append(item)\n",
    "        \n",
    "    def pop(self):\n",
    "        if len(self.__stack)==0:\n",
    "            raise Exception('Stack is empty!!- no need to call pop punction ')\n",
    "            \n",
    "        else:\n",
    "            return self.__stack.pop()\n",
    "        \n",
    "    def peek(self):\n",
    "        print(self.__stack)\n",
    "        if (self.is_empty()):\n",
    "            raise Exception('Empty stack')\n",
    "        else:\n",
    "            return self.__stack[len(self.__stack)-1]\n",
    "        \n",
    "    def display(self):\n",
    "        if not self.is_empty():\n",
    "            for item in reversed(self.__stack):\n",
    "                print(item)\n",
    "        else:\n",
    "            print(\"Stack is empty. Nothing to display.\")\n",
    "        \n",
    "s=Stack()\n",
    "for i in range(1,11):\n",
    "    s.push(i)"
   ]
  },
  {
   "cell_type": "code",
   "execution_count": 25,
   "id": "d8367236",
   "metadata": {},
   "outputs": [
    {
     "name": "stdout",
     "output_type": "stream",
     "text": [
      "10\n",
      "9\n",
      "8\n",
      "7\n",
      "6\n",
      "5\n",
      "4\n",
      "3\n",
      "2\n",
      "1\n"
     ]
    }
   ],
   "source": [
    "s.display()"
   ]
  },
  {
   "cell_type": "code",
   "execution_count": 26,
   "id": "1558f5d7",
   "metadata": {},
   "outputs": [
    {
     "data": {
      "text/plain": [
       "10"
      ]
     },
     "execution_count": 26,
     "metadata": {},
     "output_type": "execute_result"
    }
   ],
   "source": [
    "s.pop()"
   ]
  },
  {
   "cell_type": "code",
   "execution_count": 27,
   "id": "ea07e2df",
   "metadata": {},
   "outputs": [
    {
     "name": "stdout",
     "output_type": "stream",
     "text": [
      "9\n",
      "8\n",
      "7\n",
      "6\n",
      "5\n",
      "4\n",
      "3\n",
      "2\n",
      "1\n"
     ]
    }
   ],
   "source": [
    "s.display()"
   ]
  },
  {
   "cell_type": "markdown",
   "id": "6b260ec8",
   "metadata": {},
   "source": [
    "# 8. Write a python script to implement the various operations for Queue ADT 4) Insert ii) Delete in.) Display."
   ]
  },
  {
   "cell_type": "code",
   "execution_count": 31,
   "id": "ec472224",
   "metadata": {},
   "outputs": [],
   "source": [
    "class Queue:\n",
    "    def __init__(self):\n",
    "        self.items = []\n",
    "\n",
    "    def insert(self, item):\n",
    "        self.items.append(item)\n",
    "\n",
    "    def delete(self):\n",
    "        if not self.is_empty():\n",
    "            return self.items.pop(0)\n",
    "        else:\n",
    "            print(\"Queue is empty. Cannot delete an element.\")\n",
    "            return None\n",
    "\n",
    "    def is_empty(self):\n",
    "        return len(self.items) == 0\n",
    "\n",
    "    def display(self):\n",
    "        if not self.is_empty():\n",
    "            for item in self.items:\n",
    "                print(item)\n",
    "        else:\n",
    "            print(\"Queue is empty. Nothing to display.\")\n",
    "\n",
    "q=Queue()\n",
    "for i in range(1,11):\n",
    "    q.insert(i)"
   ]
  },
  {
   "cell_type": "code",
   "execution_count": 32,
   "id": "6d428df2",
   "metadata": {},
   "outputs": [
    {
     "name": "stdout",
     "output_type": "stream",
     "text": [
      "1\n",
      "2\n",
      "3\n",
      "4\n",
      "5\n",
      "6\n",
      "7\n",
      "8\n",
      "9\n",
      "10\n"
     ]
    }
   ],
   "source": [
    "q.display()"
   ]
  },
  {
   "cell_type": "code",
   "execution_count": 33,
   "id": "810ee209",
   "metadata": {},
   "outputs": [
    {
     "data": {
      "text/plain": [
       "1"
      ]
     },
     "execution_count": 33,
     "metadata": {},
     "output_type": "execute_result"
    }
   ],
   "source": [
    "q.delete()"
   ]
  },
  {
   "cell_type": "code",
   "execution_count": 35,
   "id": "87e91665",
   "metadata": {},
   "outputs": [
    {
     "name": "stdout",
     "output_type": "stream",
     "text": [
      "2\n",
      "3\n",
      "4\n",
      "5\n",
      "6\n",
      "7\n",
      "8\n",
      "9\n",
      "10\n"
     ]
    }
   ],
   "source": [
    "q.display()"
   ]
  },
  {
   "cell_type": "markdown",
   "id": "68304138",
   "metadata": {},
   "source": [
    "# 9. Write a program in python to convert the following infix expression to its postfix form using push and pop operations of a Stack\n",
    "\n",
    "a. A/B^C+D*E-F*G \n",
    "b. (B^2-4*A*C)^(1/2)(100)"
   ]
  },
  {
   "cell_type": "code",
   "execution_count": 39,
   "id": "43176b2b",
   "metadata": {},
   "outputs": [],
   "source": [
    "class Stack:\n",
    "    def __init__(self):\n",
    "        self.items = []\n",
    "\n",
    "    def push(self, item):\n",
    "        self.items.append(item)\n",
    "\n",
    "    def pop(self):\n",
    "        if not self.is_empty():\n",
    "            return self.items.pop()\n",
    "        else:\n",
    "            return None\n",
    "\n",
    "    def is_empty(self):\n",
    "        return len(self.items) == 0\n",
    "\n",
    "    def peek(self):\n",
    "        if not self.is_empty():\n",
    "            return self.items[-1]\n",
    "        else:\n",
    "            return None\n",
    "\n",
    "def infix_to_postfix(expression):\n",
    "    precedence = {\n",
    "        '+': 1,\n",
    "        '-': 1,\n",
    "        '*': 2,\n",
    "        '/': 2,\n",
    "        '^': 3,\n",
    "    }\n",
    "\n",
    "    def is_operator(char):\n",
    "        return char in precedence\n",
    "\n",
    "    def higher_precedence(op1, op2):\n",
    "        return precedence[op1] >= precedence[op2]\n",
    "\n",
    "    output = []\n",
    "    stack = Stack()\n",
    "\n",
    "    for char in expression:\n",
    "        if char.isalnum():\n",
    "            output.append(char)\n",
    "        elif char == '(':\n",
    "            stack.push(char)\n",
    "        elif char == ')':\n",
    "            while stack.peek() != '(' and not stack.is_empty():\n",
    "                output.append(stack.pop())\n",
    "            if not stack.is_empty() and stack.peek() == '(':\n",
    "                stack.pop()\n",
    "        else:\n",
    "            while (not stack.is_empty() and\n",
    "                   stack.peek() != '(' and\n",
    "                   higher_precedence(stack.peek(), char)):\n",
    "                output.append(stack.pop())\n",
    "            stack.push(char)\n",
    "\n",
    "    while not stack.is_empty():\n",
    "        output.append(stack.pop())\n",
    "\n",
    "    return ''.join(output)\n",
    "\n"
   ]
  },
  {
   "cell_type": "code",
   "execution_count": 40,
   "id": "b2f969e0",
   "metadata": {},
   "outputs": [
    {
     "name": "stdout",
     "output_type": "stream",
     "text": [
      "Infix Expression A: A/B^C+D*E-F*G\n",
      "Postfix Expression A: ABC^/DE*+FG*-\n"
     ]
    }
   ],
   "source": [
    "infix_expression_a = \"A/B^C+D*E-F*G\"\n",
    "postfix_expression_a = infix_to_postfix(infix_expression_a)\n",
    "print(\"Infix Expression A:\", infix_expression_a)\n",
    "print(\"Postfix Expression A:\", postfix_expression_a)"
   ]
  },
  {
   "cell_type": "code",
   "execution_count": 41,
   "id": "1478050d",
   "metadata": {},
   "outputs": [
    {
     "name": "stdout",
     "output_type": "stream",
     "text": [
      "\n",
      "Infix Expression B: (B^2-4*A*C)^(1/2)(100)\n",
      "Postfix Expression B: B2^4A*C*-12/100^\n"
     ]
    }
   ],
   "source": [
    "infix_expression_b = \"(B^2-4*A*C)^(1/2)(100)\"\n",
    "postfix_expression_b = infix_to_postfix(infix_expression_b)\n",
    "print(\"\\nInfix Expression B:\", infix_expression_b)\n",
    "print(\"Postfix Expression B:\", postfix_expression_b)"
   ]
  },
  {
   "cell_type": "markdown",
   "id": "0e76d9d4",
   "metadata": {},
   "source": [
    "# 3. Write a Python program for sorting a list of elements using selection sort algorithm: \n",
    "a. Assume two lists: Sorted list- Initially empty and Unsorted List-Given input list.\n",
    "\n",
    "b. In the first iteration, find the smallest element in the unsorted list and place it in the sorted list. \n",
    "\n",
    "c. In the second iteration, find the smallest element in the unsorted list and place it in the\n",
    "\n",
    "correct position by comparing with the element in the sorted list.\n",
    "\n",
    "d. In the third iteration, again find the smallest element in the unsorted list and place it in the\n",
    "\n",
    "correct position by comparing with the elements in the sorted list.\n",
    "\n",
    "e. This process continues till the unsorted list becomes empty. \n",
    "\n",
    "f. Display the sorted list.\n",
    "\n"
   ]
  },
  {
   "cell_type": "code",
   "execution_count": 1,
   "id": "55623c38",
   "metadata": {},
   "outputs": [
    {
     "name": "stdout",
     "output_type": "stream",
     "text": [
      "Sorted list: [11, 12, 22, 25, 64]\n"
     ]
    }
   ],
   "source": [
    "def selection_sort(input_list):\n",
    "    sorted_list = []  \n",
    "\n",
    "    while input_list:  \n",
    "        min_element = input_list[0]  \n",
    "\n",
    "        for item in input_list:\n",
    "            if item < min_element:\n",
    "                min_element = item \n",
    "\n",
    "        sorted_list.append(min_element)  \n",
    "        input_list.remove(min_element)   \n",
    "\n",
    "    return sorted_list\n",
    "\n",
    "input_list = [64, 25, 12, 22, 11]\n",
    "\n",
    "sorted_list = selection_sort(input_list)\n",
    "\n",
    "print(\"Sorted list:\", sorted_list)"
   ]
  },
  {
   "cell_type": "markdown",
   "id": "dfa4ebe0",
   "metadata": {},
   "source": [
    "# 4. Write a Python program for sorting a list of elements using insertion sort algorithm:\n",
    "a. Assume two lists: Sorted list- Initially empty and Unsorted List-Given input list. \n",
    "b. In the first iteration, take the first element in the unsorted list and insert it in Sorted list.\n",
    "c. In the second iteration, take the second element in the given list and compare with the element in the sorted sub list and place it in the correct position: \n",
    "d. In the third iteration, take the third element in the given list and compare with the elements in the sorted sub list and place the elements in the correct position. e. This process continues until the last element is inserted in the sorted sub list. .\n",
    "\n",
    "1. Display the sorted elements"
   ]
  },
  {
   "cell_type": "code",
   "execution_count": 2,
   "id": "deabccd8",
   "metadata": {},
   "outputs": [
    {
     "name": "stdout",
     "output_type": "stream",
     "text": [
      "Sorted list: [11, 12, 22, 25, 64]\n"
     ]
    }
   ],
   "source": [
    "def insertion_sort(input_list):\n",
    "    sorted_list = []  \n",
    "\n",
    "    for item in input_list:\n",
    "        if not sorted_list:\n",
    "            sorted_list.append(item)  \n",
    "        else:\n",
    "            \n",
    "            inserted = False\n",
    "            for i in range(len(sorted_list)):\n",
    "                if item < sorted_list[i]:\n",
    "                    sorted_list.insert(i, item)  \n",
    "                    inserted = True\n",
    "                    break\n",
    "\n",
    "            if not inserted:\n",
    "                sorted_list.append(item)  \n",
    "\n",
    "    return sorted_list\n",
    "\n",
    "input_list = [64, 25, 12, 22, 11]\n",
    "\n",
    "sorted_list = insertion_sort(input_list)\n",
    "\n",
    "print(\"Sorted list:\", sorted_list)"
   ]
  },
  {
   "cell_type": "markdown",
   "id": "7dab9403",
   "metadata": {},
   "source": [
    "# 5. Write a Python program that performs merge sort on a list of numbers: \n",
    "a. Divide: If the given array has zero or one element, return.\n",
    "\n",
    "1. Otherwise\n",
    "\n",
    "ii. Divide the input list in to two halves each containing half of the elements. i.e. left half and right half.\n",
    "\n",
    "b. Conquer: Recursively sort the two lists (left half and right half).\n",
    "\n",
    "a. Call the merge sort on left half,\n",
    "\n",
    "b. Call the merge sort on right half.\n",
    "\n",
    "c. Combine: Combine the elements back in the input list by merging the two sorted lists into a sorted sequence."
   ]
  },
  {
   "cell_type": "code",
   "execution_count": 3,
   "id": "7c3a06c7",
   "metadata": {},
   "outputs": [
    {
     "name": "stdout",
     "output_type": "stream",
     "text": [
      "Sorted list: [11, 12, 22, 25, 64]\n"
     ]
    }
   ],
   "source": [
    "def merge_sort(input_list):\n",
    "    if len(input_list) > 1:\n",
    "        mid = len(input_list) // 2  # Calculate the midpoint\n",
    "\n",
    "        # Divide the list into two halves\n",
    "        left_half = input_list[:mid]\n",
    "        right_half = input_list[mid:]\n",
    "\n",
    "        # Recursively sort both halves\n",
    "        merge_sort(left_half)\n",
    "        merge_sort(right_half)\n",
    "\n",
    "        # Merge the sorted halves back into the input list\n",
    "        i = j = k = 0  # Initialize indices for left_half, right_half, and input_list\n",
    "\n",
    "        while i < len(left_half) and j < len(right_half):\n",
    "            if left_half[i] < right_half[j]:\n",
    "                input_list[k] = left_half[i]\n",
    "                i += 1\n",
    "            else:\n",
    "                input_list[k] = right_half[j]\n",
    "                j += 1\n",
    "            k += 1\n",
    "\n",
    "        # Check if any elements were left in the left_half or right_half\n",
    "        while i < len(left_half):\n",
    "            input_list[k] = left_half[i]\n",
    "            i += 1\n",
    "            k += 1\n",
    "\n",
    "        while j < len(right_half):\n",
    "            input_list[k] = right_half[j]\n",
    "            j += 1\n",
    "            k += 1\n",
    "\n",
    "input_list = [64, 25, 12, 22, 11]\n",
    "\n",
    "merge_sort(input_list)\n",
    "\n",
    "\n",
    "print(\"Sorted list:\", input_list)"
   ]
  },
  {
   "cell_type": "code",
   "execution_count": null,
   "id": "a0d59b57",
   "metadata": {},
   "outputs": [],
   "source": []
  }
 ],
 "metadata": {
  "kernelspec": {
   "display_name": "Python 3 (ipykernel)",
   "language": "python",
   "name": "python3"
  },
  "language_info": {
   "codemirror_mode": {
    "name": "ipython",
    "version": 3
   },
   "file_extension": ".py",
   "mimetype": "text/x-python",
   "name": "python",
   "nbconvert_exporter": "python",
   "pygments_lexer": "ipython3",
   "version": "3.11.4"
  }
 },
 "nbformat": 4,
 "nbformat_minor": 5
}
