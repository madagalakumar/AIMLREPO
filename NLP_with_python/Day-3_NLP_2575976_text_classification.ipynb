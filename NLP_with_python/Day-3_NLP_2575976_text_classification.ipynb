{
 "cells": [
  {
   "cell_type": "code",
   "execution_count": 1,
   "id": "0b571522",
   "metadata": {},
   "outputs": [],
   "source": [
    "import warnings\n",
    "warnings.filterwarnings('ignore')\n",
    "\n",
    "from fuzzywuzzy import process\n",
    "from fuzzywuzzy import fuzz\n",
    "from sklearn.datasets import fetch_20newsgroups\n",
    "\n",
    "newsgroup_train=fetch_20newsgroups(subset='train',shuffle=True)\n",
    "newsgroup_test = fetch_20newsgroups(subset='test',shuffle=True)"
   ]
  },
  {
   "cell_type": "code",
   "execution_count": 2,
   "id": "55908f85",
   "metadata": {},
   "outputs": [
    {
     "data": {
      "text/plain": [
       "['alt.atheism',\n",
       " 'comp.graphics',\n",
       " 'comp.os.ms-windows.misc',\n",
       " 'comp.sys.ibm.pc.hardware',\n",
       " 'comp.sys.mac.hardware',\n",
       " 'comp.windows.x',\n",
       " 'misc.forsale',\n",
       " 'rec.autos',\n",
       " 'rec.motorcycles',\n",
       " 'rec.sport.baseball',\n",
       " 'rec.sport.hockey',\n",
       " 'sci.crypt',\n",
       " 'sci.electronics',\n",
       " 'sci.med',\n",
       " 'sci.space',\n",
       " 'soc.religion.christian',\n",
       " 'talk.politics.guns',\n",
       " 'talk.politics.mideast',\n",
       " 'talk.politics.misc',\n",
       " 'talk.religion.misc']"
      ]
     },
     "execution_count": 2,
     "metadata": {},
     "output_type": "execute_result"
    }
   ],
   "source": [
    "newsgroup_train.target_names"
   ]
  },
  {
   "cell_type": "code",
   "execution_count": 3,
   "id": "6390f5a8",
   "metadata": {},
   "outputs": [],
   "source": [
    "import gensim\n",
    "from gensim.utils import simple_preprocess\n",
    "from gensim.parsing.preprocessing import STOPWORDS\n",
    "from nltk.stem import WordNetLemmatizer,SnowballStemmer\n",
    "from nltk.stem.porter import *\n",
    "import numpy as np\n",
    "import pandas as pd\n",
    "stemmer=SnowballStemmer('english')\n",
    "np.random.seed(400)"
   ]
  },
  {
   "cell_type": "code",
   "execution_count": 4,
   "id": "4054cf8d",
   "metadata": {},
   "outputs": [],
   "source": [
    "def lemmatize_stemming(text):\n",
    "    return stemmer.stem(WordNetLemmatizer().lemmatize(text,pos='v'))\n",
    "\n",
    "def preprocess(text):\n",
    "    result=[]\n",
    "    for token in gensim.utils.simple_preprocess(text):\n",
    "        if token not in gensim.parsing.preprocessing.STOPWORDS and len(token)>3:\n",
    "            result.append(lemmatize_stemming(token))\n",
    "    return result"
   ]
  },
  {
   "cell_type": "code",
   "execution_count": 5,
   "id": "e093615b",
   "metadata": {},
   "outputs": [
    {
     "name": "stdout",
     "output_type": "stream",
     "text": [
      "twilli purdu thoma willi subject question organ purdu univers engin network distribut line folk plus final give ghost weekend start life sooo market machin sooner intend look pick powerbook mayb bunch question hope somebodi answer anybodi know dirt round powerbook introduct expect hear suppos appear summer haven hear anymor access macleak wonder anybodi info anybodi hear rumor price drop powerbook line like one go recent impress display probabl swing disk feel better display look great store good solicit opinion peopl worth take disk size money activ display realiz real subject question play machin store breifli figur opinion somebodi actual use machin daili prove help hellcat perform thank bunch advanc info email post summari news read time premium final corner willi twilli purdu purdu electr engin convict danger enemi truth lie nietzsch\n"
     ]
    }
   ],
   "source": [
    "processed_docs=[]\n",
    "for doc in newsgroup_train.data:\n",
    "     x=preprocess(doc)\n",
    "     x=' '.join(x)\n",
    "     processed_docs.append(x)\n",
    "        \n",
    "print(processed_docs[2])"
   ]
  },
  {
   "cell_type": "code",
   "execution_count": 24,
   "id": "c2bdd4d2",
   "metadata": {},
   "outputs": [
    {
     "name": "stdout",
     "output_type": "stream",
     "text": [
      "lerxst thing subject nntp post host organ univers maryland colleg park line wonder enlighten door sport look late earli call bricklin door small addit bumper separ rest bodi know tellm model engin spec year product histori info funki look mail thank bring neighborhood lerxst\n"
     ]
    }
   ],
   "source": [
    "print(processed_docs[0])"
   ]
  },
  {
   "cell_type": "code",
   "execution_count": 25,
   "id": "f4497c44",
   "metadata": {},
   "outputs": [
    {
     "data": {
      "text/plain": [
       "[('rec.sport.baseball', 57),\n",
       " ('rec.sport.hockey', 57),\n",
       " ('comp.windows.x', 26),\n",
       " ('sci.crypt', 26),\n",
       " ('soc.religion.christian', 25)]"
      ]
     },
     "execution_count": 25,
     "metadata": {},
     "output_type": "execute_result"
    }
   ],
   "source": [
    "x=process.extract(processed_docs[0],newsgroup_train.target_names)\n",
    "x"
   ]
  },
  {
   "cell_type": "code",
   "execution_count": 7,
   "id": "f23dba9e",
   "metadata": {},
   "outputs": [
    {
     "data": {
      "text/plain": [
       "11314"
      ]
     },
     "execution_count": 7,
     "metadata": {},
     "output_type": "execute_result"
    }
   ],
   "source": [
    "len(processed_docs)"
   ]
  },
  {
   "cell_type": "code",
   "execution_count": 8,
   "id": "1d6713f7",
   "metadata": {},
   "outputs": [],
   "source": [
    "group=[]\n",
    "for doc in processed_docs:\n",
    "    article_cat=[]\n",
    "    x=process.extract(doc,newsgroup_train.target_names)\n",
    "    cls_name=x.pop(0)[0]\n",
    "    article_cat.append(doc)\n",
    "    article_cat.append(cls_name)\n",
    "    group.append(article_cat)"
   ]
  },
  {
   "cell_type": "code",
   "execution_count": 9,
   "id": "4680c8d6",
   "metadata": {},
   "outputs": [
    {
     "data": {
      "text/plain": [
       "11314"
      ]
     },
     "execution_count": 9,
     "metadata": {},
     "output_type": "execute_result"
    }
   ],
   "source": [
    "len(group)"
   ]
  },
  {
   "cell_type": "code",
   "execution_count": 10,
   "id": "2428290d",
   "metadata": {},
   "outputs": [],
   "source": [
    "df = pd.DataFrame(group, columns=['Article', 'Categories']) "
   ]
  },
  {
   "cell_type": "code",
   "execution_count": 11,
   "id": "b4ae3f6d",
   "metadata": {},
   "outputs": [
    {
     "data": {
      "text/html": [
       "<div>\n",
       "<style scoped>\n",
       "    .dataframe tbody tr th:only-of-type {\n",
       "        vertical-align: middle;\n",
       "    }\n",
       "\n",
       "    .dataframe tbody tr th {\n",
       "        vertical-align: top;\n",
       "    }\n",
       "\n",
       "    .dataframe thead th {\n",
       "        text-align: right;\n",
       "    }\n",
       "</style>\n",
       "<table border=\"1\" class=\"dataframe\">\n",
       "  <thead>\n",
       "    <tr style=\"text-align: right;\">\n",
       "      <th></th>\n",
       "      <th>Article</th>\n",
       "      <th>Categories</th>\n",
       "    </tr>\n",
       "  </thead>\n",
       "  <tbody>\n",
       "    <tr>\n",
       "      <th>0</th>\n",
       "      <td>lerxst thing subject nntp post host organ univ...</td>\n",
       "      <td>rec.sport.baseball</td>\n",
       "    </tr>\n",
       "    <tr>\n",
       "      <th>1</th>\n",
       "      <td>guykuo carson washington subject clock poll fi...</td>\n",
       "      <td>rec.sport.baseball</td>\n",
       "    </tr>\n",
       "    <tr>\n",
       "      <th>2</th>\n",
       "      <td>twilli purdu thoma willi subject question orga...</td>\n",
       "      <td>alt.atheism</td>\n",
       "    </tr>\n",
       "    <tr>\n",
       "      <th>3</th>\n",
       "      <td>jgreen amber green subject weitek organ harri ...</td>\n",
       "      <td>comp.windows.x</td>\n",
       "    </tr>\n",
       "    <tr>\n",
       "      <th>4</th>\n",
       "      <td>head harvard jonathan mcdowel subject shuttl l...</td>\n",
       "      <td>misc.forsale</td>\n",
       "    </tr>\n",
       "  </tbody>\n",
       "</table>\n",
       "</div>"
      ],
      "text/plain": [
       "                                             Article          Categories\n",
       "0  lerxst thing subject nntp post host organ univ...  rec.sport.baseball\n",
       "1  guykuo carson washington subject clock poll fi...  rec.sport.baseball\n",
       "2  twilli purdu thoma willi subject question orga...         alt.atheism\n",
       "3  jgreen amber green subject weitek organ harri ...      comp.windows.x\n",
       "4  head harvard jonathan mcdowel subject shuttl l...        misc.forsale"
      ]
     },
     "execution_count": 11,
     "metadata": {},
     "output_type": "execute_result"
    }
   ],
   "source": [
    "df.head()"
   ]
  },
  {
   "cell_type": "code",
   "execution_count": 12,
   "id": "7448fe5f",
   "metadata": {},
   "outputs": [
    {
     "data": {
      "text/plain": [
       "(11314, 2)"
      ]
     },
     "execution_count": 12,
     "metadata": {},
     "output_type": "execute_result"
    }
   ],
   "source": [
    "df.shape"
   ]
  },
  {
   "cell_type": "code",
   "execution_count": 13,
   "id": "4e196d74",
   "metadata": {},
   "outputs": [
    {
     "data": {
      "image/png": "[encoded data removed]",
      "text/plain": [
       "<Figure size 640x480 with 1 Axes>"
      ]
     },
     "metadata": {},
     "output_type": "display_data"
    }
   ],
   "source": [
    "import seaborn as sns\n",
    "import matplotlib.pyplot as plt\n",
    "sns.countplot(x ='Categories', data = df)\n",
    "plt.xticks(rotation=90)\n",
    "plt.show()\n"
   ]
  },
  {
   "cell_type": "code",
   "execution_count": null,
   "id": "5a762d66",
   "metadata": {},
   "outputs": [],
   "source": []
  }
 ],
 "metadata": {
  "kernelspec": {
   "display_name": "Python 3 (ipykernel)",
   "language": "python",
   "name": "python3"
  },
  "language_info": {
   "codemirror_mode": {
    "name": "ipython",
    "version": 3
   },
   "file_extension": ".py",
   "mimetype": "text/x-python",
   "name": "python",
   "nbconvert_exporter": "python",
   "pygments_lexer": "ipython3",
   "version": "3.11.4"
  }
 },
 "nbformat": 4,
 "nbformat_minor": 5
}
