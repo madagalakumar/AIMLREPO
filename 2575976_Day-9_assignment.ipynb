{
 "cells": [
  {
   "cell_type": "markdown",
   "id": "49edafa5",
   "metadata": {},
   "source": [
    "# 1. Create a 3x3x3 array with random values"
   ]
  },
  {
   "cell_type": "code",
   "execution_count": 2,
   "id": "b5aa29c8",
   "metadata": {},
   "outputs": [],
   "source": [
    "import numpy as np"
   ]
  },
  {
   "cell_type": "code",
   "execution_count": 10,
   "id": "19f4fddf",
   "metadata": {},
   "outputs": [
    {
     "name": "stdout",
     "output_type": "stream",
     "text": [
      "[[[0.08748779 0.31161287 0.53018974]\n",
      "  [0.77147346 0.5866379  0.40178836]\n",
      "  [0.48171336 0.07473948 0.36704468]]\n",
      "\n",
      " [[0.66076242 0.73324348 0.25943681]\n",
      "  [0.22400682 0.15204364 0.57297676]\n",
      "  [0.73344149 0.51129305 0.89861053]]\n",
      "\n",
      " [[0.58183046 0.72409661 0.796132  ]\n",
      "  [0.8666418  0.41767737 0.85285043]\n",
      "  [0.40068806 0.02740544 0.27777017]]]\n"
     ]
    }
   ],
   "source": [
    "x=np.random.rand(3,3,3)\n",
    "print(x)"
   ]
  },
  {
   "cell_type": "markdown",
   "id": "15d4ca21",
   "metadata": {},
   "source": [
    "# 2.Create a 5x5 matrix with values 1,2,3,4 just below the diagonal"
   ]
  },
  {
   "cell_type": "code",
   "execution_count": 11,
   "id": "cd55dd25",
   "metadata": {},
   "outputs": [
    {
     "name": "stdout",
     "output_type": "stream",
     "text": [
      "[[0 0 0 0 0]\n",
      " [1 0 0 0 0]\n",
      " [0 2 0 0 0]\n",
      " [0 0 3 0 0]\n",
      " [0 0 0 4 0]]\n"
     ]
    }
   ],
   "source": [
    "x = np.diag([1, 2, 3, 4], k=-1)\n",
    "\n",
    "print(x)"
   ]
  },
  {
   "cell_type": "markdown",
   "id": "8a3561e1",
   "metadata": {},
   "source": [
    "# 3.Create a 8x8 matrix and fill it with a checkerboard pattern"
   ]
  },
  {
   "cell_type": "code",
   "execution_count": 17,
   "id": "bfe01405",
   "metadata": {},
   "outputs": [
    {
     "name": "stdout",
     "output_type": "stream",
     "text": [
      "[[0 1 0 1 0 1 0 1]\n",
      " [1 0 1 0 1 0 1 0]\n",
      " [0 1 0 1 0 1 0 1]\n",
      " [1 0 1 0 1 0 1 0]\n",
      " [0 1 0 1 0 1 0 1]\n",
      " [1 0 1 0 1 0 1 0]\n",
      " [0 1 0 1 0 1 0 1]\n",
      " [1 0 1 0 1 0 1 0]]\n"
     ]
    }
   ],
   "source": [
    "x = np.zeros((8, 8), dtype=int)\n",
    "\n",
    "x[1::2, ::2] = 1  \n",
    "x[::2, 1::2] = 1  \n",
    "\n",
    "print(x)"
   ]
  },
  {
   "cell_type": "markdown",
   "id": "bf362709",
   "metadata": {},
   "source": [
    "# 4. Normalize a 5x5 random matrix"
   ]
  },
  {
   "cell_type": "code",
   "execution_count": 18,
   "id": "feb68715",
   "metadata": {},
   "outputs": [
    {
     "name": "stdout",
     "output_type": "stream",
     "text": [
      "Original Matrix:\n",
      "[[0.70406538 0.11961542 0.25532786 0.24509001 0.51624099]\n",
      " [0.25868371 0.7691154  0.77855642 0.44954567 0.06800856]\n",
      " [0.84769443 0.36912747 0.76919688 0.52684763 0.80226578]\n",
      " [0.65116793 0.71063194 0.45722908 0.92996179 0.49127938]\n",
      " [0.5448749  0.78059463 0.7367075  0.20609846 0.01600648]]\n",
      "\n",
      "Normalized Matrix:\n",
      "[[ 0.70264283 -1.53031881 -1.01181303 -1.05092798 -0.01496293]\n",
      " [-0.99899161  0.95117429  0.98724485 -0.26978043 -1.72748903]\n",
      " [ 1.25139497 -0.57702788  0.95148562  0.02556102  1.07782934]\n",
      " [ 0.50054174  0.7277312  -0.24042505  1.56570734 -0.11033175]\n",
      " [ 0.09443639  0.9950321   0.82735599 -1.19989989 -1.92616927]]\n"
     ]
    }
   ],
   "source": [
    "x = np.random.rand(5, 5)\n",
    "\n",
    "\n",
    "mean = np.mean(x)\n",
    "std_dev = np.std(x)\n",
    "\n",
    "\n",
    "normalized_x = (x - mean) / std_dev\n",
    "\n",
    "print(\"Original Matrix:\")\n",
    "print(x)\n",
    "print(\"\\nNormalized Matrix:\")\n",
    "print(normalized_x)"
   ]
  },
  {
   "cell_type": "markdown",
   "id": "e805c63b",
   "metadata": {},
   "source": [
    "# 5. How to find common values between two arrays?"
   ]
  },
  {
   "cell_type": "code",
   "execution_count": 19,
   "id": "84776d02",
   "metadata": {},
   "outputs": [
    {
     "name": "stdout",
     "output_type": "stream",
     "text": [
      "Common Values: [3 4 5]\n"
     ]
    }
   ],
   "source": [
    "array1 = np.array([1, 2, 3, 4, 5])\n",
    "array2 = np.array([3, 4, 5, 6, 7])\n",
    "\n",
    "common_values = np.intersect1d(array1, array2)\n",
    "\n",
    "print(\"Common Values:\", common_values)"
   ]
  },
  {
   "cell_type": "markdown",
   "id": "d5486102",
   "metadata": {},
   "source": [
    "# 6. How to get the dates of yesterday, today and tomorrow?"
   ]
  },
  {
   "cell_type": "code",
   "execution_count": 20,
   "id": "9653099e",
   "metadata": {},
   "outputs": [
    {
     "name": "stdout",
     "output_type": "stream",
     "text": [
      "Yesterday: 2023-09-20\n",
      "Today: 2023-09-21\n",
      "Tomorrow: 2023-09-22\n"
     ]
    }
   ],
   "source": [
    "import numpy as np\n",
    "from datetime import datetime, timedelta\n",
    "\n",
    "today = datetime.now().date()\n",
    "\n",
    "date_range = np.array([today - timedelta(days=1), today, today + timedelta(days=1)], dtype='datetime64[D]')\n",
    "\n",
    "print(\"Yesterday:\", date_range[0])\n",
    "print(\"Today:\", date_range[1])\n",
    "print(\"Tomorrow:\", date_range[2])\n"
   ]
  },
  {
   "cell_type": "markdown",
   "id": "2ea15d83",
   "metadata": {},
   "source": [
    "# 7. Consider two random array A and B, check if they are equal"
   ]
  },
  {
   "cell_type": "code",
   "execution_count": 25,
   "id": "b2f5c5c9",
   "metadata": {},
   "outputs": [
    {
     "name": "stdout",
     "output_type": "stream",
     "text": [
      "Arrays A and B are equal.\n"
     ]
    }
   ],
   "source": [
    "A = np.ones((5, 5))\n",
    "B = np.ones((5, 5))\n",
    "\n",
    "# Check if the arrays are equal\n",
    "are_equal = np.array_equal(A, B)\n",
    "\n",
    "if are_equal:\n",
    "    print(\"Arrays A and B are equal.\")\n",
    "else:\n",
    "    print(\"Arrays A and B are not equal.\")"
   ]
  },
  {
   "cell_type": "code",
   "execution_count": 28,
   "id": "2f946b5c",
   "metadata": {},
   "outputs": [
    {
     "name": "stdout",
     "output_type": "stream",
     "text": [
      "[[1. 1. 1. 1. 1.]\n",
      " [1. 1. 1. 1. 1.]\n",
      " [1. 1. 1. 1. 1.]\n",
      " [1. 1. 1. 1. 1.]\n",
      " [1. 1. 1. 1. 1.]] \n",
      "\n",
      " [[1. 1. 1. 1. 1.]\n",
      " [1. 1. 1. 1. 1.]\n",
      " [1. 1. 1. 1. 1.]\n",
      " [1. 1. 1. 1. 1.]\n",
      " [1. 1. 1. 1. 1.]]\n"
     ]
    }
   ],
   "source": [
    "print(A,\"\\n\\n\",B)"
   ]
  },
  {
   "cell_type": "markdown",
   "id": "780a107b",
   "metadata": {},
   "source": [
    "# 8.Create random vector of size 10 and replace the maximum value by 0"
   ]
  },
  {
   "cell_type": "code",
   "execution_count": 31,
   "id": "f81ac836",
   "metadata": {},
   "outputs": [
    {
     "name": "stdout",
     "output_type": "stream",
     "text": [
      "0.9264276803642959\n",
      "7\n",
      "Original Random Vector:\n",
      "[0.47721152 0.45310342 0.2171504  0.46234374 0.490807   0.12102693\n",
      " 0.09568224 0.         0.77561682 0.06561963]\n"
     ]
    }
   ],
   "source": [
    "random_vector = np.random.rand(10)\n",
    "\n",
    "max_value = np.max(random_vector)\n",
    "print(max_value)\n",
    "max_index = np.argmax(random_vector)\n",
    "print(max_index)\n",
    "random_vector[max_index] = 0\n",
    "print(\"Original Random Vector:\")\n",
    "print(random_vector)"
   ]
  },
  {
   "cell_type": "markdown",
   "id": "f16e2dee",
   "metadata": {},
   "source": [
    "# 9. How to print all the values of an array?"
   ]
  },
  {
   "cell_type": "code",
   "execution_count": 30,
   "id": "1e503d19",
   "metadata": {},
   "outputs": [
    {
     "name": "stdout",
     "output_type": "stream",
     "text": [
      "1\n",
      "2\n",
      "3\n",
      "4\n",
      "5\n"
     ]
    }
   ],
   "source": [
    "\n",
    "my_array = np.array([1, 2, 3, 4, 5])\n",
    "\n",
    "for item in my_array:\n",
    "    print(item)\n"
   ]
  },
  {
   "cell_type": "markdown",
   "id": "456195f7",
   "metadata": {},
   "source": [
    "# 10.Subtract the mean of each row of a matrix"
   ]
  },
  {
   "cell_type": "code",
   "execution_count": 34,
   "id": "f221f518",
   "metadata": {},
   "outputs": [
    {
     "name": "stdout",
     "output_type": "stream",
     "text": [
      "[[2.]\n",
      " [5.]\n",
      " [8.]]\n",
      "Original Matrix:\n",
      "[[1 2 3]\n",
      " [4 5 6]\n",
      " [7 8 9]]\n",
      "\n",
      "Matrix with Row Means Subtracted:\n",
      "[[-1.  0.  1.]\n",
      " [-1.  0.  1.]\n",
      " [-1.  0.  1.]]\n"
     ]
    }
   ],
   "source": [
    "matrix = np.array([[1, 2, 3],\n",
    "                   [4, 5, 6],\n",
    "                   [7, 8, 9]])\n",
    "\n",
    "row_means = np.mean(matrix, axis=1, keepdims=True)\n",
    "print(row_means)\n",
    "\n",
    "matrix_minus_means = matrix - row_means\n",
    "\n",
    "print(\"Original Matrix:\")\n",
    "print(matrix)\n",
    "print(\"\\nMatrix with Row Means Subtracted:\")\n",
    "print(matrix_minus_means)\n"
   ]
  },
  {
   "cell_type": "markdown",
   "id": "95cd46f1",
   "metadata": {},
   "source": [
    "# 11.Consider a given vector, how to add 1 to each element indexed by a second vector (be careful with repeated indices)?"
   ]
  },
  {
   "cell_type": "code",
   "execution_count": 35,
   "id": "5d763adf",
   "metadata": {},
   "outputs": [
    {
     "name": "stdout",
     "output_type": "stream",
     "text": [
      "[1 3 4]\n",
      "Modified Vector:\n",
      "[1 3 3 5 6]\n"
     ]
    }
   ],
   "source": [
    "# Given vector\n",
    "vector = np.array([1, 2, 3, 4, 5])\n",
    "\n",
    "# Second vector containing indices\n",
    "indices = np.array([1, 3, 3, 4])\n",
    "\n",
    "# Create a boolean mask for unique indices\n",
    "unique_indices = np.unique(indices)\n",
    "print(unique_indices)\n",
    "# Add 1 to the elements at unique indices\n",
    "vector[unique_indices] += 1\n",
    "\n",
    "print(\"Modified Vector:\")\n",
    "print(vector)\n"
   ]
  },
  {
   "cell_type": "markdown",
   "id": "b62481be",
   "metadata": {},
   "source": [
    "# 12.How to get the diagonal of a dot product?"
   ]
  },
  {
   "cell_type": "code",
   "execution_count": 36,
   "id": "08337aec",
   "metadata": {},
   "outputs": [
    {
     "name": "stdout",
     "output_type": "stream",
     "text": [
      "Matrix A:\n",
      "[[1 2 3]\n",
      " [4 5 6]\n",
      " [7 8 9]]\n",
      "\n",
      "Matrix B:\n",
      "[[9 8 7]\n",
      " [6 5 4]\n",
      " [3 2 1]]\n",
      "\n",
      "Dot Product Result:\n",
      "[[ 30  24  18]\n",
      " [ 84  69  54]\n",
      " [138 114  90]]\n",
      "\n",
      "Diagonal of Dot Product:\n",
      "[30 69 90]\n"
     ]
    }
   ],
   "source": [
    "matrix_A = np.array([[1, 2, 3],\n",
    "                     [4, 5, 6],\n",
    "                     [7, 8, 9]])\n",
    "\n",
    "matrix_B = np.array([[9, 8, 7],\n",
    "                     [6, 5, 4],\n",
    "                     [3, 2, 1]])\n",
    "\n",
    "\n",
    "dot_product_result = np.dot(matrix_A, matrix_B)\n",
    "\n",
    "\n",
    "diagonal = np.diag(dot_product_result)\n",
    "\n",
    "print(\"Matrix A:\")\n",
    "print(matrix_A)\n",
    "\n",
    "print(\"\\nMatrix B:\")\n",
    "print(matrix_B)\n",
    "\n",
    "print(\"\\nDot Product Result:\")\n",
    "print(dot_product_result)\n",
    "\n",
    "print(\"\\nDiagonal of Dot Product:\")\n",
    "print(diagonal)\n"
   ]
  },
  {
   "cell_type": "markdown",
   "id": "122054da",
   "metadata": {},
   "source": [
    "# 13.How to find the most frequent value in an array?"
   ]
  },
  {
   "cell_type": "code",
   "execution_count": 43,
   "id": "ed4eba47",
   "metadata": {},
   "outputs": [
    {
     "name": "stdout",
     "output_type": "stream",
     "text": [
      "[2 3 5 6 8] [4 2 1 1 3]\n",
      "0\n",
      "Array: [2 3 2 5 6 2 8 2 8 8 3]\n",
      "Most Frequent Value: 2\n"
     ]
    }
   ],
   "source": [
    "array = np.array([2, 3, 2, 5, 6, 2, 8, 2, 8, 8, 3])\n",
    "\n",
    "# Use numpy's unique function to get unique values and their counts\n",
    "unique_values, counts = np.unique(array, return_counts=True)\n",
    "\n",
    "print(unique_values,counts)\n",
    "\n",
    "# Find the index of the maximum count (most frequent value)\n",
    "most_frequent_index = np.argmax(counts)\n",
    "\n",
    "print(most_frequent_index)\n",
    "\n",
    "# Get the most frequent value\n",
    "most_frequent_value = unique_values[most_frequent_index]\n",
    "\n",
    "print(\"Array:\", array)\n",
    "print(\"Most Frequent Value:\", most_frequent_value)\n"
   ]
  },
  {
   "cell_type": "markdown",
   "id": "c3d3c115",
   "metadata": {},
   "source": [
    "# 14.How to get the n largest values of an array"
   ]
  },
  {
   "cell_type": "code",
   "execution_count": 45,
   "id": "e4e6a5d8",
   "metadata": {},
   "outputs": [
    {
     "name": "stdout",
     "output_type": "stream",
     "text": [
      "[1 3 6 0 9 2 4 8 7 5]\n",
      "Array: [3 1 4 1 5 9 2 6 5 3]\n",
      "3 Largest Values: [5 6 9]\n"
     ]
    }
   ],
   "source": [
    "array = np.array([3, 1, 4, 1, 5, 9, 2, 6, 5, 3])\n",
    "\n",
    "# Specify the number of largest values (n)\n",
    "n = 3\n",
    "\n",
    "# Use np.argsort to get the indices that would sort the array\n",
    "sorted_indices = np.argsort(array)\n",
    "print(sorted_indices)\n",
    "\n",
    "# Get the n largest values by indexing into the sorted array\n",
    "n_largest_values = array[sorted_indices[-n:]]\n",
    "\n",
    "print(\"Array:\", array)\n",
    "print(f\"{n} Largest Values:\", n_largest_values)\n"
   ]
  },
  {
   "cell_type": "markdown",
   "id": "6090824d",
   "metadata": {},
   "source": [
    "# 15. How to create a record array from a regular array?"
   ]
  },
  {
   "cell_type": "code",
   "execution_count": 46,
   "id": "4aba1583",
   "metadata": {},
   "outputs": [
    {
     "name": "stdout",
     "output_type": "stream",
     "text": [
      "Regular Array:\n",
      "[(1, 'Alice', 25) (2, 'Bob', 30) (3, 'Charlie', 28)]\n",
      "\n",
      "Record Array:\n",
      "((1, 'Alice', 25), (2, 'Bob', 30), (3, 'Charlie', 28))\n"
     ]
    }
   ],
   "source": [
    "import numpy as np\n",
    "\n",
    "# Create a regular array\n",
    "regular_array = np.array([(1, 'Alice', 25),\n",
    "                          (2, 'Bob', 30),\n",
    "                          (3, 'Charlie', 28)],\n",
    "                         dtype=[('ID', int), ('Name', 'U10'), ('Age', int)])\n",
    "\n",
    "# Create a record array from the regular array\n",
    "record_array = np.rec.fromarrays(regular_array.T, names=regular_array.dtype.names)\n",
    "\n",
    "print(\"Regular Array:\")\n",
    "print(regular_array)\n",
    "\n",
    "print(\"\\nRecord Array:\")\n",
    "print(record_array)\n"
   ]
  },
  {
   "cell_type": "markdown",
   "id": "c937ade6",
   "metadata": {},
   "source": [
    "# 16. How to swap two rows of an array?"
   ]
  },
  {
   "cell_type": "code",
   "execution_count": 52,
   "id": "fcc9b0ad",
   "metadata": {},
   "outputs": [
    {
     "name": "stdout",
     "output_type": "stream",
     "text": [
      "Array after swapping rows:\n",
      "[[1 2 3]\n",
      " [7 8 9]\n",
      " [4 5 6]]\n"
     ]
    }
   ],
   "source": [
    "import numpy as np\n",
    "\n",
    "# Create a sample 2D array (replace this with your own array)\n",
    "array = np.array([[1, 2, 3],\n",
    "                  [4, 5, 6],\n",
    "                  [7, 8, 9]])\n",
    "\n",
    "# Define the indices of the rows to swap\n",
    "row1_index = 1  # Index of the first row (0-based)\n",
    "row2_index = 2  # Index of the second row (0-based)\n",
    "\n",
    "# Create temporary variables to hold the rows to be swapped\n",
    "temp_row = array[row1_index].copy()\n",
    "array[row1_index] = array[row2_index]\n",
    "array[row2_index] = temp_row\n",
    "\n",
    "print(\"Array after swapping rows:\")\n",
    "print(array)\n"
   ]
  },
  {
   "cell_type": "markdown",
   "id": "460023e3",
   "metadata": {},
   "source": [
    "# 17. Write python code to reshape to the next dimension of numpy array?"
   ]
  },
  {
   "cell_type": "code",
   "execution_count": 54,
   "id": "f81d445b",
   "metadata": {},
   "outputs": [],
   "source": [
    "x=np.array([[23,34,121],[23,22,67],[686,434,123]])"
   ]
  },
  {
   "cell_type": "code",
   "execution_count": 55,
   "id": "5458c5d5",
   "metadata": {},
   "outputs": [
    {
     "name": "stdout",
     "output_type": "stream",
     "text": [
      "[[ 23  34 121]\n",
      " [ 23  22  67]\n",
      " [686 434 123]]\n"
     ]
    }
   ],
   "source": [
    "print(x)"
   ]
  },
  {
   "cell_type": "code",
   "execution_count": 62,
   "id": "68d54a5f",
   "metadata": {},
   "outputs": [
    {
     "name": "stdout",
     "output_type": "stream",
     "text": [
      "Original Array:\n",
      "[[ 23  34 121]\n",
      " [ 23  22  67]\n",
      " [686 434 123]]\n",
      "\n",
      "Reshaped Array:\n",
      "[[[ 23]\n",
      "  [ 34]\n",
      "  [121]]\n",
      "\n",
      " [[ 23]\n",
      "  [ 22]\n",
      "  [ 67]]\n",
      "\n",
      " [[686]\n",
      "  [434]\n",
      "  [123]]]\n"
     ]
    }
   ],
   "source": [
    "reshaped_x = x.reshape(x.shape[0], x.shape[1], 1)\n",
    "\n",
    "print(\"Original Array:\")\n",
    "print(x)\n",
    "\n",
    "print(\"\\nReshaped Array:\")\n",
    "print(reshaped_x)"
   ]
  },
  {
   "cell_type": "markdown",
   "id": "6d369a2e",
   "metadata": {},
   "source": [
    "# Case study"
   ]
  },
  {
   "cell_type": "code",
   "execution_count": 67,
   "id": "fdeb7618",
   "metadata": {},
   "outputs": [],
   "source": [
    "olympic_country = np.array(['GBR', 'China', 'RUS', 'US', 'KOR', 'JPN', 'GER'])\n",
    "olympic_country_gold = np.array([29, 38, 24, 46, 13,7,11])\n",
    "olympic_country_silver = np.array([17,28,25,28,8,14,11])\n",
    "olympic_country_Bronze = np.array([19,22,32,29,7,17,14])"
   ]
  },
  {
   "cell_type": "markdown",
   "id": "77c985d4",
   "metadata": {},
   "source": [
    "# 1.find the country index with maximum gold"
   ]
  },
  {
   "cell_type": "code",
   "execution_count": 68,
   "id": "45572eca",
   "metadata": {},
   "outputs": [
    {
     "name": "stdout",
     "output_type": "stream",
     "text": [
      "3\n",
      "The country with the maximum gold medals is US at index 3.\n"
     ]
    }
   ],
   "source": [
    "max_gold_index = np.argmax(olympic_country_gold)\n",
    "print(max_gold_index)\n",
    "# Get the country name with the maximum gold medals\n",
    "country_with_max_gold = olympic_country[max_gold_index]\n",
    "\n",
    "print(f\"The country with the maximum gold medals is {country_with_max_gold} at index {max_gold_index}.\")"
   ]
  },
  {
   "cell_type": "markdown",
   "id": "37c69f67",
   "metadata": {},
   "source": [
    "# 3. Find countries with more than 20 gold medals"
   ]
  },
  {
   "cell_type": "code",
   "execution_count": 69,
   "id": "dd065348",
   "metadata": {},
   "outputs": [
    {
     "name": "stdout",
     "output_type": "stream",
     "text": [
      "Countries with more than 20 gold medals:\n",
      "['GBR' 'China' 'RUS' 'US']\n"
     ]
    }
   ],
   "source": [
    "countries_with_more_than_20_gold = olympic_country[olympic_country_gold > 20]\n",
    "\n",
    "print(\"Countries with more than 20 gold medals:\")\n",
    "print(countries_with_more_than_20_gold)"
   ]
  },
  {
   "cell_type": "markdown",
   "id": "e7092f0d",
   "metadata": {},
   "source": [
    "# 4. Evaluate the dataset and print the medal:\n",
    "\n",
    "1. print each country name with number of gold medals\n",
    "\n",
    "2. print each country nale with total number of medals"
   ]
  },
  {
   "cell_type": "code",
   "execution_count": 71,
   "id": "9e7c85b9",
   "metadata": {},
   "outputs": [
    {
     "name": "stdout",
     "output_type": "stream",
     "text": [
      "Country Name and Number of Gold Medals:\n",
      "GBR: 29 gold medals\n",
      "China: 38 gold medals\n",
      "RUS: 24 gold medals\n",
      "US: 46 gold medals\n",
      "KOR: 13 gold medals\n",
      "JPN: 7 gold medals\n",
      "GER: 11 gold medals\n",
      "\n",
      "Country Name and Total Number of Medals:\n",
      "GBR: 65 total medals\n",
      "China: 88 total medals\n",
      "RUS: 81 total medals\n",
      "US: 103 total medals\n",
      "KOR: 28 total medals\n",
      "JPN: 38 total medals\n",
      "GER: 36 total medals\n"
     ]
    }
   ],
   "source": [
    "total_medals = olympic_country_gold + olympic_country_silver + olympic_country_Bronze\n",
    "\n",
    "# Print each country name with the number of gold medals\n",
    "print(\"Country Name and Number of Gold Medals:\")\n",
    "for country, gold_medals in zip(olympic_country, olympic_country_gold):\n",
    "    print(f\"{country}: {gold_medals} gold medals\")\n",
    "\n",
    "# Print each country name with the total number of medals\n",
    "print(\"\\nCountry Name and Total Number of Medals:\")\n",
    "for country, total in zip(olympic_country, total_medals):\n",
    "    print(f\"{country}: {total} total medals\")"
   ]
  }
 ],
 "metadata": {
  "kernelspec": {
   "display_name": "Python 3 (ipykernel)",
   "language": "python",
   "name": "python3"
  },
  "language_info": {
   "codemirror_mode": {
    "name": "ipython",
    "version": 3
   },
   "file_extension": ".py",
   "mimetype": "text/x-python",
   "name": "python",
   "nbconvert_exporter": "python",
   "pygments_lexer": "ipython3",
   "version": "3.11.4"
  }
 },
 "nbformat": 4,
 "nbformat_minor": 5
}
