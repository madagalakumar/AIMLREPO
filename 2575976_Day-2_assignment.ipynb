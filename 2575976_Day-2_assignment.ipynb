{
 "cells": [
  {
   "cell_type": "markdown",
   "id": "7024e27f",
   "metadata": {},
   "source": [
    "# 1.Write a python function to list even and odd numbers in a list."
   ]
  },
  {
   "cell_type": "code",
   "execution_count": 3,
   "id": "9002a827",
   "metadata": {},
   "outputs": [
    {
     "name": "stdout",
     "output_type": "stream",
     "text": [
      "even numbers are:  [54, 76, 34, 76, 56, 32]\n",
      "odd numbers are:  [23, 87, 87, 67]\n"
     ]
    }
   ],
   "source": [
    "def check_even_odd(li):\n",
    "    el=[]\n",
    "    ol=[]\n",
    "    for i in li:\n",
    "        if i%2==0:\n",
    "            el.append(i)\n",
    "        else:\n",
    "            ol.append(i)\n",
    "    print('even numbers are: ',el)\n",
    "    print('odd numbers are: ',ol)\n",
    "li=[23,54,76,34,76,87,56,32,87,67]\n",
    "check_even_odd(li)"
   ]
  },
  {
   "cell_type": "markdown",
   "id": "f9e22f85",
   "metadata": {},
   "source": [
    "# 2. Write and run a Python program that asks the user to enter & integers (one at a time), and then prints out how many of those integers were even numbers. For example, if the user entered 19, 6, 9, 20, 13, 7, 6, and 1, then your program should print out 3 since 3 of those numbers were even."
   ]
  },
  {
   "cell_type": "code",
   "execution_count": 7,
   "id": "7cd65750",
   "metadata": {},
   "outputs": [
    {
     "name": "stdout",
     "output_type": "stream",
     "text": [
      "enter the number to add numbers: 6\n",
      "2\n",
      "4\n",
      "6\n",
      "1\n",
      "3\n",
      "8\n"
     ]
    },
    {
     "data": {
      "text/plain": [
       "4"
      ]
     },
     "execution_count": 7,
     "metadata": {},
     "output_type": "execute_result"
    }
   ],
   "source": [
    "def check_even(li):\n",
    "    c=0\n",
    "    for i in li:\n",
    "        if i%2==0:\n",
    "            c+=1\n",
    "    return c\n",
    "\n",
    "n=int(input('enter the number to add numbers: '))\n",
    "l1=[]\n",
    "for i in range(n):\n",
    "    x=int(input())\n",
    "    l1.append(x)\n",
    "check_even(l1)"
   ]
  },
  {
   "cell_type": "markdown",
   "id": "5057e75a",
   "metadata": {},
   "source": [
    "# 3. Write a Python program where you take any positive integer n, if n is even, divide it by 2 to get n/ 2. If n is odd, multiply it by 3 and add 1 to obtain 3n + 1. Repeat the process until you reach 1."
   ]
  },
  {
   "cell_type": "code",
   "execution_count": 11,
   "id": "d28fd04b",
   "metadata": {},
   "outputs": [
    {
     "name": "stdout",
     "output_type": "stream",
     "text": [
      "enter the number:48\n",
      "This value 1.0 must be equal to 1\n"
     ]
    }
   ],
   "source": [
    "def reach_to_1(n):\n",
    "    while n!=1:\n",
    "        if n%2==0:\n",
    "            n=n/2\n",
    "        else:\n",
    "            n=(n*3)+1\n",
    "    print('This value {} must be equal to 1'.format(n))\n",
    "\n",
    "n=int(input(\"enter the number:\"))\n",
    "reach_to_1(n)"
   ]
  },
  {
   "cell_type": "markdown",
   "id": "cc789ece",
   "metadata": {},
   "source": [
    "# 4. Write a Python program to compute the sum of all the multiples of 3 or 5 below 500."
   ]
  },
  {
   "cell_type": "code",
   "execution_count": 15,
   "id": "22f276df",
   "metadata": {},
   "outputs": [
    {
     "name": "stdout",
     "output_type": "stream",
     "text": [
      "[0, 3, 5, 6, 9, 10, 12, 15, 18, 20, 21, 24, 25, 27, 30, 33, 35, 36, 39, 40, 42, 45, 48, 50, 51, 54, 55, 57, 60, 63, 65, 66, 69, 70, 72, 75, 78, 80, 81, 84, 85, 87, 90, 93, 95, 96, 99, 100, 102, 105, 108, 110, 111, 114, 115, 117, 120, 123, 125, 126, 129, 130, 132, 135, 138, 140, 141, 144, 145, 147, 150, 153, 155, 156, 159, 160, 162, 165, 168, 170, 171, 174, 175, 177, 180, 183, 185, 186, 189, 190, 192, 195, 198, 200, 201, 204, 205, 207, 210, 213, 215, 216, 219, 220, 222, 225, 228, 230, 231, 234, 235, 237, 240, 243, 245, 246, 249, 250, 252, 255, 258, 260, 261, 264, 265, 267, 270, 273, 275, 276, 279, 280, 282, 285, 288, 290, 291, 294, 295, 297, 300, 303, 305, 306, 309, 310, 312, 315, 318, 320, 321, 324, 325, 327, 330, 333, 335, 336, 339, 340, 342, 345, 348, 350, 351, 354, 355, 357, 360, 363, 365, 366, 369, 370, 372, 375, 378, 380, 381, 384, 385, 387, 390, 393, 395, 396, 399, 400, 402, 405, 408, 410, 411, 414, 415, 417, 420, 423, 425, 426, 429, 430, 432, 435, 438, 440, 441, 444, 445, 447, 450, 453, 455, 456, 459, 460, 462, 465, 468, 470, 471, 474, 475, 477, 480, 483, 485, 486, 489, 490, 492, 495, 498]\n",
      "\n",
      "The sum of all multipes:  57918\n"
     ]
    }
   ],
   "source": [
    "def compute():\n",
    "    l2=[]\n",
    "    for i in range(500):\n",
    "        if i%3==0 or i%5==0:\n",
    "            l2.append(i)\n",
    "    print(l2)\n",
    "    print()\n",
    "    print('The sum of all multipes: ',sum(l2))\n",
    "compute()"
   ]
  },
  {
   "cell_type": "markdown",
   "id": "b596ddce",
   "metadata": {},
   "source": [
    "# 5. To write a Python program to find first 'n' prime numbers from a list of given numbers."
   ]
  },
  {
   "cell_type": "code",
   "execution_count": 24,
   "id": "bbfaca16",
   "metadata": {},
   "outputs": [
    {
     "name": "stdout",
     "output_type": "stream",
     "text": [
      "enter the number to find prime numbers: 4\n",
      "The first 4 prime numbers from the given list are: [2, 7, 3, 5]\n"
     ]
    }
   ],
   "source": [
    "def is_prime(number):\n",
    "    if number <= 1:\n",
    "        return False\n",
    "    for i in range(2, int(number ** 0.5) + 1):\n",
    "        if number % i == 0:\n",
    "            return False\n",
    "    return True\n",
    "\n",
    "def find_first_n_primes(numbers, n):\n",
    "    prime_numbers = []\n",
    "    for num in numbers:\n",
    "        if is_prime(num):\n",
    "            prime_numbers.append(num)\n",
    "            if len(prime_numbers) == n:\n",
    "                break\n",
    "    print(f\"The first {n} prime numbers from the given list are: {prime_numbers}\")\n",
    "\n",
    "given_numbers = [2, 7, 4, 6, 3, 5, 8, 12, 6, 7, 11, 13, 17, 19, 23]\n",
    "n = int(input('enter the number to find prime numbers: '))  \n",
    "\n",
    "first_n_primes = find_first_n_primes(given_numbers, n)\n"
   ]
  },
  {
   "cell_type": "markdown",
   "id": "428cf69c",
   "metadata": {},
   "source": [
    "# 6. To write a Python program to compute matrix multiplication."
   ]
  },
  {
   "cell_type": "code",
   "execution_count": 32,
   "id": "d4a6d0fb",
   "metadata": {},
   "outputs": [
    {
     "name": "stdout",
     "output_type": "stream",
     "text": [
      "[114, 160, 60, 27]\n",
      "[74, 97, 73, 14]\n",
      "[119, 157, 112, 23]\n"
     ]
    }
   ],
   "source": [
    "X = [[12,7,3],\n",
    "    [4 ,5,6],\n",
    "    [7 ,8,9]]\n",
    "Y = [[5,8,1,2],\n",
    "    [6,7,3,0],\n",
    "    [4,5,9,1]]\n",
    "result = [[0,0,0,0],\n",
    "         [0,0,0,0],\n",
    "         [0,0,0,0]]\n",
    "\n",
    "for i in range(len(X)):\n",
    "   for j in range(len(Y[0])):\n",
    "       for k in range(len(Y)):\n",
    "           result[i][j] += X[i][k] * Y[k][j]\n",
    "\n",
    "for r in result:\n",
    "   print(r)"
   ]
  },
  {
   "cell_type": "markdown",
   "id": "843ec5cf",
   "metadata": {},
   "source": [
    "# 7. Write a python Function to count the number of vowels in a string."
   ]
  },
  {
   "cell_type": "code",
   "execution_count": 39,
   "id": "f5b57236",
   "metadata": {},
   "outputs": [
    {
     "name": "stdout",
     "output_type": "stream",
     "text": [
      "enter the string:JAGAdeesh\n",
      "total vowels in given string: 4\n"
     ]
    }
   ],
   "source": [
    "def check_vowel(s):\n",
    "    l=['a','e','i','o','u']\n",
    "    c=0\n",
    "    for i in s:\n",
    "        if i in l:\n",
    "            c+=1\n",
    "    return c\n",
    "\n",
    "s=input('enter the string:')\n",
    "total_vowels=check_vowel(s.lower())\n",
    "print('total vowels in given string:',total_vowels)"
   ]
  },
  {
   "cell_type": "markdown",
   "id": "12792dc4",
   "metadata": {},
   "source": [
    "# 8. Write a python Function for finding factorial for the given number using a recursive function"
   ]
  },
  {
   "cell_type": "code",
   "execution_count": 46,
   "id": "23ac31d8",
   "metadata": {},
   "outputs": [
    {
     "name": "stdout",
     "output_type": "stream",
     "text": [
      "enter the number to find factorial: 5\n",
      "120\n"
     ]
    }
   ],
   "source": [
    "def fact(n):\n",
    "    if n==1:\n",
    "        return n\n",
    "    else:\n",
    "        return n*fact(n-1)\n",
    "\n",
    "n=int(input('enter the number to find factorial: '))\n",
    "print(fact(n))"
   ]
  },
  {
   "cell_type": "markdown",
   "id": "04c2d862",
   "metadata": {},
   "source": [
    "# 9.write a python program for generating fibinocci series using functions."
   ]
  },
  {
   "cell_type": "code",
   "execution_count": 50,
   "id": "43329ea8",
   "metadata": {},
   "outputs": [
    {
     "name": "stdout",
     "output_type": "stream",
     "text": [
      "enter the number for nth digit15\n",
      "1 2 3 5 8 13 21 34 55 89 144 233 377 610 987 \n"
     ]
    }
   ],
   "source": [
    "def fibinoci(n):\n",
    "    num1 = 0\n",
    "    num2 = 1\n",
    "    next_number = num2 \n",
    "    count = 1\n",
    "\n",
    "    while count <= n:\n",
    "        print(next_number, end=\" \")\n",
    "        count += 1\n",
    "        num1, num2 = num2, next_number\n",
    "        next_number = num1 + num2\n",
    "    print()\n",
    "\n",
    "n = int(input('enter the number for nth digit'))\n",
    "fibinoci(n)"
   ]
  },
  {
   "cell_type": "markdown",
   "id": "64619112",
   "metadata": {},
   "source": [
    "# 10. Python program to display the given integer in reverse order using the function without an in-built function.\n"
   ]
  },
  {
   "cell_type": "code",
   "execution_count": 51,
   "id": "a0a9dd29",
   "metadata": {},
   "outputs": [
    {
     "name": "stdout",
     "output_type": "stream",
     "text": [
      "Enter an integer: 1234\n",
      "Reversed integer: 4321\n"
     ]
    }
   ],
   "source": [
    "def reverse_integer(number):\n",
    "    rev_num = 0\n",
    "    while number > 0:\n",
    "        digit = number % 10  \n",
    "        rev_num = rev_num * 10 + digit  \n",
    "        number = number // 10  \n",
    "\n",
    "    return rev_num\n",
    "\n",
    "\n",
    "num = int(input(\"Enter an integer: \"))\n",
    "reversed_num = reverse_integer(num)\n",
    "print(\"Reversed integer:\", reversed_num)"
   ]
  },
  {
   "cell_type": "markdown",
   "id": "f5661316",
   "metadata": {},
   "source": [
    "# 11. Write a Python Function to display all integers within the range 200-300 whose sum of digits is an even number."
   ]
  },
  {
   "cell_type": "code",
   "execution_count": 60,
   "id": "f9340588",
   "metadata": {},
   "outputs": [
    {
     "name": "stdout",
     "output_type": "stream",
     "text": [
      "200,202,204,206,208,211,213,215,217,219,220,222,224,226,228,231,233,235,237,239,240,242,244,246,248,251,253,255,257,259,260,262,264,266,268,271,273,275,277,279,280,282,284,286,288,291,293,295,297,299,"
     ]
    }
   ],
   "source": [
    "def even_digit_sum(num):\n",
    "    sum=0\n",
    "    for i in str(num):\n",
    "        sum=sum+int(i)\n",
    "    if sum%2==0:\n",
    "        return num\n",
    "for num in range(200, 301):\n",
    "    if even_digit_sum(num):\n",
    "        print(num,end=',')\n"
   ]
  },
  {
   "cell_type": "markdown",
   "id": "d9bf1c21",
   "metadata": {},
   "source": [
    "# 12. Write a python Function to find the number of digits and sum of digits for a given integer."
   ]
  },
  {
   "cell_type": "code",
   "execution_count": 62,
   "id": "2e21ecbe",
   "metadata": {},
   "outputs": [
    {
     "name": "stdout",
     "output_type": "stream",
     "text": [
      "Enter an integer: 1234\n",
      "Number of digits: 4\n",
      "Sum of digits: 10\n"
     ]
    }
   ],
   "source": [
    "def count_digits_and_sum(number):\n",
    "    num_str = str(number)\n",
    "    digit_count = len(num_str)\n",
    "    digit_sum = sum(int(digit) for digit in num_str)\n",
    "    \n",
    "    print(f\"Number of digits: {digit_count}\")\n",
    "    print(f\"Sum of digits: {digit_sum}\")\n",
    "\n",
    "\n",
    "num = int(input(\"Enter an integer: \"))\n",
    "count_digits_and_sum(num)\n",
    "\n"
   ]
  },
  {
   "cell_type": "markdown",
   "id": "49776a57",
   "metadata": {},
   "source": [
    "# 13. Write functions called is sorted that takes a list as a parameter and returns True if the list is sorted in ascending order and False otherwise and has duplicates that takes a list and returns True if there is any element that appears more than once. It should not modify the original list.\n"
   ]
  },
  {
   "cell_type": "code",
   "execution_count": 66,
   "id": "e029aa6c",
   "metadata": {},
   "outputs": [
    {
     "name": "stdout",
     "output_type": "stream",
     "text": [
      "List 1: [1, 2, 3, 4, 5]\n",
      "Yes, List is sorted.\n"
     ]
    },
    {
     "data": {
      "text/plain": [
       "False"
      ]
     },
     "execution_count": 66,
     "metadata": {},
     "output_type": "execute_result"
    }
   ],
   "source": [
    "def is_sorted(test_list):\n",
    "    flag = 0\n",
    "    i = 1\n",
    "    while i < len(test_list):\n",
    "        if(test_list[i] < test_list[i - 1]):\n",
    "            flag = 1\n",
    "        i += 1\n",
    "\n",
    "    if (not flag) :\n",
    "        print (\"Yes, List is sorted.\")\n",
    "    else :\n",
    "        print (\"No, List is not sorted.\")\n",
    "\n",
    "def has_duplicates(arr):\n",
    "    seen = []\n",
    "    for item in arr:\n",
    "        if item in seen:\n",
    "            return True\n",
    "        seen.append(item)\n",
    "    return False\n",
    "\n",
    "my_list1 = [1, 2, 3, 4, 5]\n",
    "print(\"List 1:\", my_list1)\n",
    "is_sorted(my_list1)\n",
    "has_duplicates(my_list1)"
   ]
  },
  {
   "cell_type": "markdown",
   "id": "42718802",
   "metadata": {},
   "source": [
    "# 14. Write functions called nested_sum that takes a list of integers and adds up the elements from all the nested lists and cumsum that takes a list of numbers and returns the cumulative sum; that is, a new list where the ith element is the sum of the first i + 1 elements from the original list."
   ]
  },
  {
   "cell_type": "code",
   "execution_count": 68,
   "id": "2294dde0",
   "metadata": {},
   "outputs": [
    {
     "name": "stdout",
     "output_type": "stream",
     "text": [
      "Sum of elements in nested list: 28\n"
     ]
    }
   ],
   "source": [
    "def nested_sum(lst):\n",
    "    total = 0\n",
    "    for item in lst:\n",
    "        if isinstance(item, list):\n",
    "            total += nested_sum(item)\n",
    "        else:\n",
    "            total += item\n",
    "    return total\n",
    "\n",
    "nested_list = [1, 2, [3, 4], [5, [6, 7]]]\n",
    "result = nested_sum(nested_list)\n",
    "print(\"Sum of elements in nested list:\", result)\n"
   ]
  },
  {
   "cell_type": "code",
   "execution_count": 69,
   "id": "02ac88c1",
   "metadata": {},
   "outputs": [
    {
     "name": "stdout",
     "output_type": "stream",
     "text": [
      "Cumulative sum of the list: [1, 3, 6, 10, 15]\n"
     ]
    }
   ],
   "source": [
    "def cumsum(numbers):\n",
    "    cumulative_sum = []\n",
    "    current_sum = 0\n",
    "    for num in numbers:\n",
    "        current_sum += num\n",
    "        cumulative_sum.append(current_sum)\n",
    "    return cumulative_sum\n",
    "\n",
    "my_list = [1, 2, 3, 4, 5]\n",
    "cumulative_result = cumsum(my_list)\n",
    "print(\"Cumulative sum of the list:\", cumulative_result)\n"
   ]
  }
 ],
 "metadata": {
  "kernelspec": {
   "display_name": "Python 3 (ipykernel)",
   "language": "python",
   "name": "python3"
  },
  "language_info": {
   "codemirror_mode": {
    "name": "ipython",
    "version": 3
   },
   "file_extension": ".py",
   "mimetype": "text/x-python",
   "name": "python",
   "nbconvert_exporter": "python",
   "pygments_lexer": "ipython3",
   "version": "3.11.4"
  }
 },
 "nbformat": 4,
 "nbformat_minor": 5
}
