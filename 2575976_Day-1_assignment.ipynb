{
 "cells": [
  {
   "cell_type": "markdown",
   "id": "997fc1c2",
   "metadata": {},
   "source": [
    "# 1.Manipulate using a list"
   ]
  },
  {
   "cell_type": "code",
   "execution_count": 8,
   "id": "7b3ca617",
   "metadata": {},
   "outputs": [
    {
     "data": {
      "text/plain": [
       "[1, 2, 3]"
      ]
     },
     "execution_count": 8,
     "metadata": {},
     "output_type": "execute_result"
    }
   ],
   "source": [
    "# to add new elements to the end of the list\n",
    "\n",
    "l=[1,2,3]\n",
    "l"
   ]
  },
  {
   "cell_type": "code",
   "execution_count": 9,
   "id": "fddd4029",
   "metadata": {},
   "outputs": [
    {
     "data": {
      "text/plain": [
       "[1, 2, 3, 4]"
      ]
     },
     "execution_count": 9,
     "metadata": {},
     "output_type": "execute_result"
    }
   ],
   "source": [
    "l.append(4)\n",
    "l"
   ]
  },
  {
   "cell_type": "code",
   "execution_count": 10,
   "id": "f8c864a1",
   "metadata": {},
   "outputs": [],
   "source": [
    "# to reverse elements in the list\n",
    "l.reverse()"
   ]
  },
  {
   "cell_type": "code",
   "execution_count": 12,
   "id": "e778ddac",
   "metadata": {},
   "outputs": [
    {
     "data": {
      "text/plain": [
       "[4, 3, 2, 1]"
      ]
     },
     "execution_count": 12,
     "metadata": {},
     "output_type": "execute_result"
    }
   ],
   "source": [
    "l"
   ]
  },
  {
   "cell_type": "code",
   "execution_count": 14,
   "id": "e0c45d8a",
   "metadata": {},
   "outputs": [
    {
     "data": {
      "text/plain": [
       "[4, 3, 2, 1, 4, 3, 2, 1, 4, 3, 2, 1]"
      ]
     },
     "execution_count": 14,
     "metadata": {},
     "output_type": "execute_result"
    }
   ],
   "source": [
    "#to display the same list of elements multiple times\n",
    "l*3"
   ]
  },
  {
   "cell_type": "code",
   "execution_count": 18,
   "id": "470263d9",
   "metadata": {},
   "outputs": [
    {
     "data": {
      "text/plain": [
       "[4, 3, 2, 1, 5, 6, 7, 8]"
      ]
     },
     "execution_count": 18,
     "metadata": {},
     "output_type": "execute_result"
    }
   ],
   "source": [
    "# to concatenate two lists\n",
    "l1 = [5,6,7,8]\n",
    "l2=l+l1\n",
    "l2"
   ]
  },
  {
   "cell_type": "code",
   "execution_count": 21,
   "id": "784c5330",
   "metadata": {},
   "outputs": [
    {
     "data": {
      "text/plain": [
       "[1, 2, 3, 4, 5, 6, 7, 8]"
      ]
     },
     "execution_count": 21,
     "metadata": {},
     "output_type": "execute_result"
    }
   ],
   "source": [
    "# to sort the elements in the list in ascending order\n",
    "l2.sort()\n",
    "l2"
   ]
  },
  {
   "cell_type": "markdown",
   "id": "e88ff915",
   "metadata": {},
   "source": [
    "# 2. write a python program to do in the tuples"
   ]
  },
  {
   "cell_type": "code",
   "execution_count": 44,
   "id": "54ebdd51",
   "metadata": {},
   "outputs": [
    {
     "ename": "TypeError",
     "evalue": "'tuple' object does not support item assignment",
     "output_type": "error",
     "traceback": [
      "\u001b[1;31m---------------------------------------------------------------------------\u001b[0m",
      "\u001b[1;31mTypeError\u001b[0m                                 Traceback (most recent call last)",
      "Cell \u001b[1;32mIn[44], line 3\u001b[0m\n\u001b[0;32m      1\u001b[0m \u001b[38;5;66;03m# manipulate using tuples\u001b[39;00m\n\u001b[0;32m      2\u001b[0m t\u001b[38;5;241m=\u001b[39m(\u001b[38;5;241m1\u001b[39m,\u001b[38;5;241m2\u001b[39m,\u001b[38;5;241m3\u001b[39m)\n\u001b[1;32m----> 3\u001b[0m t[\u001b[38;5;241m0\u001b[39m]\u001b[38;5;241m=\u001b[39m\u001b[38;5;241m0\u001b[39m\n",
      "\u001b[1;31mTypeError\u001b[0m: 'tuple' object does not support item assignment"
     ]
    }
   ],
   "source": [
    "# manipulate using tuples\n",
    "t=(1,2,3)\n",
    "t[0]=0"
   ]
  },
  {
   "cell_type": "raw",
   "id": "a70db2fa",
   "metadata": {},
   "source": [
    "#we are not able to manipulate the tuple"
   ]
  },
  {
   "cell_type": "code",
   "execution_count": 46,
   "id": "4d14e012",
   "metadata": {},
   "outputs": [
    {
     "data": {
      "text/plain": [
       "(1, 2, 3, 4, 5, 6)"
      ]
     },
     "execution_count": 46,
     "metadata": {},
     "output_type": "execute_result"
    }
   ],
   "source": [
    "# add new elements end of the tuple\n",
    "t=(1,2,3)\n",
    "t = t+(4,5,6)\n",
    "t"
   ]
  },
  {
   "cell_type": "code",
   "execution_count": 47,
   "id": "5fa2266f",
   "metadata": {},
   "outputs": [
    {
     "data": {
      "text/plain": [
       "(6, 5, 4, 3, 2, 1)"
      ]
     },
     "execution_count": 47,
     "metadata": {},
     "output_type": "execute_result"
    }
   ],
   "source": [
    "# reverse elements\n",
    "t[::-1]"
   ]
  },
  {
   "cell_type": "code",
   "execution_count": 29,
   "id": "2dd957ad",
   "metadata": {},
   "outputs": [
    {
     "data": {
      "text/plain": [
       "(1, 2, 3, 4, 5, 6, 1, 2, 3, 4, 5, 6, 1, 2, 3, 4, 5, 6)"
      ]
     },
     "execution_count": 29,
     "metadata": {},
     "output_type": "execute_result"
    }
   ],
   "source": [
    "# display elements multiple times\n",
    "t*3"
   ]
  },
  {
   "cell_type": "code",
   "execution_count": 31,
   "id": "8b040498",
   "metadata": {},
   "outputs": [
    {
     "data": {
      "text/plain": [
       "(1, 2, 3, 4, 5, 6, 7, 8, 9)"
      ]
     },
     "execution_count": 31,
     "metadata": {},
     "output_type": "execute_result"
    }
   ],
   "source": [
    "# concatenate two tuples\n",
    "t1 = (7,8,9)\n",
    "t2 = t+t1\n",
    "t2"
   ]
  },
  {
   "cell_type": "code",
   "execution_count": 36,
   "id": "2f01176d",
   "metadata": {},
   "outputs": [
    {
     "data": {
      "text/plain": [
       "(1, 2, 3, 4, 5, 6, 7, 8, 9)"
      ]
     },
     "execution_count": 36,
     "metadata": {},
     "output_type": "execute_result"
    }
   ],
   "source": [
    "# sort the elemets\n",
    "list(t2).sort()\n",
    "t2"
   ]
  },
  {
   "cell_type": "code",
   "execution_count": 48,
   "id": "8361bb00",
   "metadata": {},
   "outputs": [
    {
     "data": {
      "text/plain": [
       "(1, 3, 5, 5, 7, 8)"
      ]
     },
     "execution_count": 48,
     "metadata": {},
     "output_type": "execute_result"
    }
   ],
   "source": [
    "t3 = (5,7,3,8,5,1)\n",
    "sorted_tuple = tuple(sorted(t3))\n",
    "sorted_tuple"
   ]
  },
  {
   "cell_type": "markdown",
   "id": "5c790268",
   "metadata": {},
   "source": [
    "# 3.Write a python program to implement the following using list"
   ]
  },
  {
   "cell_type": "code",
   "execution_count": 49,
   "id": "dc686890",
   "metadata": {},
   "outputs": [
    {
     "data": {
      "text/plain": [
       "[1, 2, 3, 4, 5, 6, 7, 8, 9, 10]"
      ]
     },
     "execution_count": 49,
     "metadata": {},
     "output_type": "execute_result"
    }
   ],
   "source": [
    "# create a list with integers (minimum 10 numbers)\n",
    "l4=[1,2,3,4,5,6,7,8,9,10]\n",
    "l4"
   ]
  },
  {
   "cell_type": "code",
   "execution_count": 51,
   "id": "7d06699b",
   "metadata": {},
   "outputs": [
    {
     "data": {
      "text/plain": [
       "10"
      ]
     },
     "execution_count": 51,
     "metadata": {},
     "output_type": "execute_result"
    }
   ],
   "source": [
    "#how to display the last number in the list\n",
    "l4[-1]"
   ]
  },
  {
   "cell_type": "code",
   "execution_count": 53,
   "id": "20bcf7b3",
   "metadata": {},
   "outputs": [
    {
     "data": {
      "text/plain": [
       "[1, 2, 3, 4]"
      ]
     },
     "execution_count": 53,
     "metadata": {},
     "output_type": "execute_result"
    }
   ],
   "source": [
    "#display values from [0:4]\n",
    "l4[0:4]"
   ]
  },
  {
   "cell_type": "code",
   "execution_count": 55,
   "id": "a6e2ad88",
   "metadata": {},
   "outputs": [
    {
     "data": {
      "text/plain": [
       "[3, 4, 5, 6, 7, 8, 9, 10]"
      ]
     },
     "execution_count": 55,
     "metadata": {},
     "output_type": "execute_result"
    }
   ],
   "source": [
    "#display values from [2:]\n",
    "l4[2:]"
   ]
  },
  {
   "cell_type": "code",
   "execution_count": 57,
   "id": "dd14f695",
   "metadata": {},
   "outputs": [
    {
     "data": {
      "text/plain": [
       "[1, 2, 3, 4, 5, 6]"
      ]
     },
     "execution_count": 57,
     "metadata": {},
     "output_type": "execute_result"
    }
   ],
   "source": [
    "#display values from [:6]\n",
    "l4[:6]"
   ]
  },
  {
   "cell_type": "markdown",
   "id": "12b01e87",
   "metadata": {},
   "source": [
    "# 4.write a python program:tuple=(10,50,20,40,30)"
   ]
  },
  {
   "cell_type": "code",
   "execution_count": 59,
   "id": "c929a34a",
   "metadata": {},
   "outputs": [
    {
     "data": {
      "text/plain": [
       "(10, 50, 20, 40, 30)"
      ]
     },
     "execution_count": 59,
     "metadata": {},
     "output_type": "execute_result"
    }
   ],
   "source": [
    "t4=(10,50,20,40,30)\n",
    "t4"
   ]
  },
  {
   "cell_type": "code",
   "execution_count": 61,
   "id": "e401523c",
   "metadata": {},
   "outputs": [
    {
     "data": {
      "text/plain": [
       "(10, 50)"
      ]
     },
     "execution_count": 61,
     "metadata": {},
     "output_type": "execute_result"
    }
   ],
   "source": [
    "#display 10 and 50 from tuple\n",
    "t4[:2]"
   ]
  },
  {
   "cell_type": "code",
   "execution_count": 63,
   "id": "42df69c4",
   "metadata": {},
   "outputs": [
    {
     "data": {
      "text/plain": [
       "5"
      ]
     },
     "execution_count": 63,
     "metadata": {},
     "output_type": "execute_result"
    }
   ],
   "source": [
    "#length of tuple\n",
    "len(t4)"
   ]
  },
  {
   "cell_type": "code",
   "execution_count": 65,
   "id": "2ba1f6ba",
   "metadata": {},
   "outputs": [
    {
     "data": {
      "text/plain": [
       "10"
      ]
     },
     "execution_count": 65,
     "metadata": {},
     "output_type": "execute_result"
    }
   ],
   "source": [
    "#to find minimum element from tuple\n",
    "min(t4)"
   ]
  },
  {
   "cell_type": "code",
   "execution_count": 67,
   "id": "c87efe9d",
   "metadata": {},
   "outputs": [
    {
     "data": {
      "text/plain": [
       "150"
      ]
     },
     "execution_count": 67,
     "metadata": {},
     "output_type": "execute_result"
    }
   ],
   "source": [
    "#to add all element from tuple\n",
    "sum(t4)"
   ]
  },
  {
   "cell_type": "code",
   "execution_count": 69,
   "id": "2cb6bd0d",
   "metadata": {},
   "outputs": [
    {
     "data": {
      "text/plain": [
       "(10, 50, 20, 40, 30, 10, 50, 20, 40, 30, 10, 50, 20, 40, 30)"
      ]
     },
     "execution_count": 69,
     "metadata": {},
     "output_type": "execute_result"
    }
   ],
   "source": [
    "#display multiple times\n",
    "t4*3"
   ]
  },
  {
   "cell_type": "markdown",
   "id": "9b541750",
   "metadata": {},
   "source": [
    "# 5.write a python program"
   ]
  },
  {
   "cell_type": "code",
   "execution_count": 71,
   "id": "b577e5d9",
   "metadata": {},
   "outputs": [
    {
     "data": {
      "text/plain": [
       "'jagadeesh'"
      ]
     },
     "execution_count": 71,
     "metadata": {},
     "output_type": "execute_result"
    }
   ],
   "source": [
    "s='jagadeesh'\n",
    "s"
   ]
  },
  {
   "cell_type": "code",
   "execution_count": 74,
   "id": "c1c295bc",
   "metadata": {},
   "outputs": [
    {
     "data": {
      "text/plain": [
       "9"
      ]
     },
     "execution_count": 74,
     "metadata": {},
     "output_type": "execute_result"
    }
   ],
   "source": [
    "#to calculate the length of the string\n",
    "len(s)"
   ]
  },
  {
   "cell_type": "code",
   "execution_count": 76,
   "id": "9362c435",
   "metadata": {},
   "outputs": [
    {
     "data": {
      "text/plain": [
       "'hseedagaj'"
      ]
     },
     "execution_count": 76,
     "metadata": {},
     "output_type": "execute_result"
    }
   ],
   "source": [
    "#reverse a string\n",
    "s[::-1]"
   ]
  },
  {
   "cell_type": "code",
   "execution_count": 78,
   "id": "1ec6a191",
   "metadata": {},
   "outputs": [
    {
     "data": {
      "text/plain": [
       "'jagadeeshjagadeeshjagadeesh'"
      ]
     },
     "execution_count": 78,
     "metadata": {},
     "output_type": "execute_result"
    }
   ],
   "source": [
    "#display multiple times\n",
    "s*3"
   ]
  },
  {
   "cell_type": "code",
   "execution_count": 81,
   "id": "801799b3",
   "metadata": {},
   "outputs": [
    {
     "data": {
      "text/plain": [
       "'jagadeesh kumar'"
      ]
     },
     "execution_count": 81,
     "metadata": {},
     "output_type": "execute_result"
    }
   ],
   "source": [
    "#concatenate two strings\n",
    "s1='kumar'\n",
    "s2 = s+' '+s1\n",
    "s2"
   ]
  },
  {
   "cell_type": "code",
   "execution_count": 83,
   "id": "fc74a478",
   "metadata": {},
   "outputs": [
    {
     "data": {
      "text/plain": [
       "'India'"
      ]
     },
     "execution_count": 83,
     "metadata": {},
     "output_type": "execute_result"
    }
   ],
   "source": [
    "#5\n",
    "str1 = 'South India'\n",
    "str1[-5:]"
   ]
  },
  {
   "cell_type": "markdown",
   "id": "ab3cf2af",
   "metadata": {},
   "source": [
    "# 6.perform the following"
   ]
  },
  {
   "cell_type": "code",
   "execution_count": 85,
   "id": "03278392",
   "metadata": {},
   "outputs": [
    {
     "data": {
      "text/plain": [
       "{'f_name': 'jagadeesh', 'l_name': 'madagala'}"
      ]
     },
     "execution_count": 85,
     "metadata": {},
     "output_type": "execute_result"
    }
   ],
   "source": [
    "# create a dictionary\n",
    "d={'f_name':'jagadeesh','l_name':'madagala'}\n",
    "d"
   ]
  },
  {
   "cell_type": "code",
   "execution_count": 87,
   "id": "f1b5334a",
   "metadata": {},
   "outputs": [
    {
     "data": {
      "text/plain": [
       "dict_items([('f_name', 'jagadeesh'), ('l_name', 'madagala')])"
      ]
     },
     "execution_count": 87,
     "metadata": {},
     "output_type": "execute_result"
    }
   ],
   "source": [
    "#accessing values and keys\n",
    "d.items()"
   ]
  },
  {
   "cell_type": "code",
   "execution_count": 89,
   "id": "079b858b",
   "metadata": {},
   "outputs": [],
   "source": [
    "#update dic using fun\n",
    "d.update({'age':23})"
   ]
  },
  {
   "cell_type": "code",
   "execution_count": 90,
   "id": "938a3b44",
   "metadata": {},
   "outputs": [
    {
     "data": {
      "text/plain": [
       "{'f_name': 'jagadeesh', 'l_name': 'madagala', 'age': 23}"
      ]
     },
     "execution_count": 90,
     "metadata": {},
     "output_type": "execute_result"
    }
   ],
   "source": [
    "d"
   ]
  },
  {
   "cell_type": "code",
   "execution_count": 93,
   "id": "8e066f25",
   "metadata": {},
   "outputs": [
    {
     "data": {
      "text/plain": [
       "{}"
      ]
     },
     "execution_count": 93,
     "metadata": {},
     "output_type": "execute_result"
    }
   ],
   "source": [
    "d.clear()\n",
    "d"
   ]
  },
  {
   "cell_type": "markdown",
   "id": "3c861e8b",
   "metadata": {},
   "source": [
    "# 7.python program to insert a number to any position in a list"
   ]
  },
  {
   "cell_type": "code",
   "execution_count": 105,
   "id": "314b22e5",
   "metadata": {},
   "outputs": [
    {
     "data": {
      "text/plain": [
       "[12, 13, 14, 16]"
      ]
     },
     "execution_count": 105,
     "metadata": {},
     "output_type": "execute_result"
    }
   ],
   "source": [
    "l5 = [12,13,14,16]\n",
    "l5"
   ]
  },
  {
   "cell_type": "code",
   "execution_count": 106,
   "id": "4ef5eb71",
   "metadata": {},
   "outputs": [
    {
     "data": {
      "text/plain": [
       "[11, 12, 13, 14, 16]"
      ]
     },
     "execution_count": 106,
     "metadata": {},
     "output_type": "execute_result"
    }
   ],
   "source": [
    "l5.insert(0,11)\n",
    "l5"
   ]
  },
  {
   "cell_type": "code",
   "execution_count": 107,
   "id": "1635d092",
   "metadata": {},
   "outputs": [
    {
     "data": {
      "text/plain": [
       "[11, 12, 13, 14, 15, 16]"
      ]
     },
     "execution_count": 107,
     "metadata": {},
     "output_type": "execute_result"
    }
   ],
   "source": [
    "l5.insert(4,15)\n",
    "l5"
   ]
  },
  {
   "cell_type": "markdown",
   "id": "ba523341",
   "metadata": {},
   "source": [
    "# 8.python program to delete an element from a list by index"
   ]
  },
  {
   "cell_type": "code",
   "execution_count": 108,
   "id": "779af02c",
   "metadata": {},
   "outputs": [
    {
     "data": {
      "text/plain": [
       "13"
      ]
     },
     "execution_count": 108,
     "metadata": {},
     "output_type": "execute_result"
    }
   ],
   "source": [
    "l5.pop(2)"
   ]
  },
  {
   "cell_type": "code",
   "execution_count": 110,
   "id": "74dd0bf3",
   "metadata": {},
   "outputs": [
    {
     "data": {
      "text/plain": [
       "[11, 12, 14, 15, 16]"
      ]
     },
     "execution_count": 110,
     "metadata": {},
     "output_type": "execute_result"
    }
   ],
   "source": [
    "l5"
   ]
  },
  {
   "cell_type": "markdown",
   "id": "a3c61f4f",
   "metadata": {},
   "source": [
    "# 9.write a program to display numbers from 1 to 100"
   ]
  },
  {
   "cell_type": "code",
   "execution_count": 113,
   "id": "4458c025",
   "metadata": {},
   "outputs": [
    {
     "name": "stdout",
     "output_type": "stream",
     "text": [
      "1\n",
      "2\n",
      "3\n",
      "4\n",
      "5\n",
      "6\n",
      "7\n",
      "8\n",
      "9\n",
      "10\n",
      "11\n",
      "12\n",
      "13\n",
      "14\n",
      "15\n",
      "16\n",
      "17\n",
      "18\n",
      "19\n",
      "20\n",
      "21\n",
      "22\n",
      "23\n",
      "24\n",
      "25\n",
      "26\n",
      "27\n",
      "28\n",
      "29\n",
      "30\n",
      "31\n",
      "32\n",
      "33\n",
      "34\n",
      "35\n",
      "36\n",
      "37\n",
      "38\n",
      "39\n",
      "40\n",
      "41\n",
      "42\n",
      "43\n",
      "44\n",
      "45\n",
      "46\n",
      "47\n",
      "48\n",
      "49\n",
      "50\n",
      "51\n",
      "52\n",
      "53\n",
      "54\n",
      "55\n",
      "56\n",
      "57\n",
      "58\n",
      "59\n",
      "60\n",
      "61\n",
      "62\n",
      "63\n",
      "64\n",
      "65\n",
      "66\n",
      "67\n",
      "68\n",
      "69\n",
      "70\n",
      "71\n",
      "72\n",
      "73\n",
      "74\n",
      "75\n",
      "76\n",
      "77\n",
      "78\n",
      "79\n",
      "80\n",
      "81\n",
      "82\n",
      "83\n",
      "84\n",
      "85\n",
      "86\n",
      "87\n",
      "88\n",
      "89\n",
      "90\n",
      "91\n",
      "92\n",
      "93\n",
      "94\n",
      "95\n",
      "96\n",
      "97\n",
      "98\n",
      "99\n",
      "100\n"
     ]
    }
   ],
   "source": [
    "for i in range(1,101):\n",
    "    print(i)"
   ]
  },
  {
   "cell_type": "markdown",
   "id": "8b24a577",
   "metadata": {},
   "source": [
    "# 10.write a program to find the sum of all elemnts in a tuple"
   ]
  },
  {
   "cell_type": "code",
   "execution_count": 115,
   "id": "3084ee1d",
   "metadata": {},
   "outputs": [
    {
     "data": {
      "text/plain": [
       "150"
      ]
     },
     "execution_count": 115,
     "metadata": {},
     "output_type": "execute_result"
    }
   ],
   "source": [
    "t5=(10,50,20,40,30)\n",
    "sum(t5)"
   ]
  },
  {
   "cell_type": "markdown",
   "id": "f718e3d5",
   "metadata": {},
   "source": [
    "# 11.create a dic containing three lambda functions square, cube, and square root"
   ]
  },
  {
   "cell_type": "code",
   "execution_count": 7,
   "id": "e4751719",
   "metadata": {},
   "outputs": [
    {
     "name": "stdout",
     "output_type": "stream",
     "text": [
      "Enter the number : 2\n",
      "square of 2  is 4\n",
      "Cube of 2  is 8\n",
      "Square Root of 2  is 1.4142135623730951\n",
      "Sum of all function outputs is:  13.414213562373096\n"
     ]
    }
   ],
   "source": [
    "dict = {'square': lambda x: x** 2, 'Cube': lambda x: x** 3, 'Square Root': lambda x: x ** 0.5}\n",
    "\n",
    "user_input=int(input(\"Enter the number : \"))\n",
    "\n",
    "output_sum = 0\n",
    "\n",
    "for key, function in dict.items():\n",
    "    output = function(user_input)\n",
    "    print(key,'of', user_input,' is', output)\n",
    "    output_sum = output_sum + output\n",
    "\n",
    "print('Sum of all function outputs is: ', output_sum)"
   ]
  },
  {
   "cell_type": "markdown",
   "id": "01dbb10b",
   "metadata": {},
   "source": [
    "# 12. A list of words given, find the words from the list that have their secondcharacter in upper case"
   ]
  },
  {
   "cell_type": "code",
   "execution_count": 118,
   "id": "8a3d8d5e",
   "metadata": {},
   "outputs": [
    {
     "name": "stdout",
     "output_type": "stream",
     "text": [
      "hOw\n",
      "ARe\n"
     ]
    }
   ],
   "source": [
    "ls = ['hello', 'Dear', 'hOw', 'ARe', 'You']\n",
    "for i in ls:\n",
    "    if i[1].isupper():\n",
    "        print(i)"
   ]
  },
  {
   "cell_type": "markdown",
   "id": "c6cba91c",
   "metadata": {},
   "source": [
    "# 13. A dict of names and weights on earth is given. find how much weigh in moon"
   ]
  },
  {
   "cell_type": "code",
   "execution_count": 121,
   "id": "a27ab023",
   "metadata": {},
   "outputs": [
    {
     "data": {
      "text/plain": [
       "{'john': 45, 'Shelly': 65, 'Marry': 35}"
      ]
     },
     "execution_count": 121,
     "metadata": {},
     "output_type": "execute_result"
    }
   ],
   "source": [
    "woe = {'john':45,'Shelly':65,\"Marry\":35}\n",
    "woe"
   ]
  },
  {
   "cell_type": "code",
   "execution_count": 126,
   "id": "6a4a6bc2",
   "metadata": {},
   "outputs": [],
   "source": [
    "wom = {}\n",
    "for i,j in woe.items():\n",
    "    wom[i] = ((j*1.622)/9.81)"
   ]
  },
  {
   "cell_type": "code",
   "execution_count": 128,
   "id": "05c01059",
   "metadata": {},
   "outputs": [
    {
     "data": {
      "text/plain": [
       "{'john': 7.440366972477065,\n",
       " 'Shelly': 10.747196738022426,\n",
       " 'Marry': 5.786952089704383}"
      ]
     },
     "execution_count": 128,
     "metadata": {},
     "output_type": "execute_result"
    }
   ],
   "source": [
    "wom"
   ]
  },
  {
   "cell_type": "markdown",
   "id": "c0f4bc17",
   "metadata": {},
   "source": [
    "# Control Structures"
   ]
  },
  {
   "cell_type": "markdown",
   "id": "32dadbad",
   "metadata": {},
   "source": [
    "# 1. write a python program to find first n prime numbers"
   ]
  },
  {
   "cell_type": "code",
   "execution_count": 140,
   "id": "91f3f4a2",
   "metadata": {},
   "outputs": [
    {
     "name": "stdout",
     "output_type": "stream",
     "text": [
      "Enter a number: 5\n",
      "2 3 5 7 11 "
     ]
    }
   ],
   "source": [
    "from math import sqrt\n",
    " \n",
    "num = int(input(\"Enter a number: \"))\n",
    "count = 0\n",
    "n = 2\n",
    " \n",
    "while count < num:\n",
    "    prime_flag = True\n",
    "     \n",
    "    for i in range(2, int(sqrt(n)) + 1):\n",
    "        if (n % i) == 0:\n",
    "            prime_flag = False\n",
    "            break\n",
    "     \n",
    "    if prime_flag:\n",
    "        print(n, end =\" \")\n",
    "        count = count + 1\n",
    "    n = n + 1"
   ]
  },
  {
   "cell_type": "markdown",
   "id": "ed5daa0c",
   "metadata": {},
   "source": [
    "# 2.calculate salary of an employee"
   ]
  },
  {
   "cell_type": "code",
   "execution_count": 146,
   "id": "24b71706",
   "metadata": {},
   "outputs": [
    {
     "name": "stdout",
     "output_type": "stream",
     "text": [
      "enter bs:15000\n",
      "enter hra:5000\n",
      "enter ta:2000\n",
      "enter da:1000\n",
      "gross salary: 23000\n",
      "tax: 2300.0\n",
      "net salary: 20700.0\n"
     ]
    }
   ],
   "source": [
    "bs=int(input('enter bs:'))\n",
    "hra = int(input('enter hra:'))\n",
    "ta = int(input('enter ta:'))\n",
    "da = int(input('enter da:'))\n",
    "gs=bs+hra+ta+da\n",
    "tax =(10/100)*gs\n",
    "ns = gs-tax\n",
    "print('gross salary:',gs)\n",
    "print('tax:',tax)\n",
    "print('net salary:',ns)"
   ]
  },
  {
   "cell_type": "markdown",
   "id": "ee51ca91",
   "metadata": {},
   "source": [
    "# 3.write a python program to search for a string in the given list"
   ]
  },
  {
   "cell_type": "code",
   "execution_count": 148,
   "id": "a055bc11",
   "metadata": {},
   "outputs": [
    {
     "name": "stdout",
     "output_type": "stream",
     "text": [
      "govind is present in the list\n"
     ]
    }
   ],
   "source": [
    "l6= ['jagadeesh', 'darshan', 'govind', 'pawan','srini']\n",
    " \n",
    "s = 'govind' \n",
    " \n",
    "if s in l6:\n",
    "    print(f'{s} is present in the list')\n",
    "else:\n",
    "    print(f'{s} is not present in the list')"
   ]
  },
  {
   "cell_type": "markdown",
   "id": "8f9633d4",
   "metadata": {},
   "source": [
    "# 4.write a python function that accepts a string and calculates the number of upper-case letters and lower-case letters"
   ]
  },
  {
   "cell_type": "code",
   "execution_count": 151,
   "id": "144f3e9a",
   "metadata": {},
   "outputs": [
    {
     "name": "stdout",
     "output_type": "stream",
     "text": [
      "enter the string:JaGaDeEsH\n",
      "The no of upper case letters: 5\n",
      "The no of lower case letters: 4\n"
     ]
    }
   ],
   "source": [
    "s4 =input('enter the string:')\n",
    "nou=0\n",
    "nol=0\n",
    "for i in s4:\n",
    "    if i.isupper():\n",
    "        nou+=1\n",
    "    else:\n",
    "        nol+=1\n",
    "        \n",
    "print('The no of upper case letters:',nou)\n",
    "print('The no of lower case letters:',nol)"
   ]
  },
  {
   "cell_type": "markdown",
   "id": "6288ab72",
   "metadata": {},
   "source": [
    "# 5. write a program to displaythe sum of odd numbers and even numbers that fall between 12 and 37."
   ]
  },
  {
   "cell_type": "code",
   "execution_count": 154,
   "id": "ae4a3ded",
   "metadata": {},
   "outputs": [
    {
     "name": "stdout",
     "output_type": "stream",
     "text": [
      "the sum of odd numbers: 288\n",
      "the sum of even numbers: 312\n"
     ]
    }
   ],
   "source": [
    "soen=0\n",
    "sood=0\n",
    "for i in range(12,37):\n",
    "    if i%2==0:\n",
    "        soen+=i\n",
    "    else:\n",
    "        sood+=i\n",
    "print('the sum of odd numbers:',sood)\n",
    "print('the sum of even numbers:',soen)"
   ]
  },
  {
   "cell_type": "markdown",
   "id": "6e5083b6",
   "metadata": {},
   "source": [
    "# 6.write a program the table of any number"
   ]
  },
  {
   "cell_type": "code",
   "execution_count": 156,
   "id": "2f589b5c",
   "metadata": {},
   "outputs": [
    {
     "name": "stdout",
     "output_type": "stream",
     "text": [
      "enter the number to calculate table:2\n",
      "2 * 1 = 2\n",
      "2 * 2 = 4\n",
      "2 * 3 = 6\n",
      "2 * 4 = 8\n",
      "2 * 5 = 10\n",
      "2 * 6 = 12\n",
      "2 * 7 = 14\n",
      "2 * 8 = 16\n",
      "2 * 9 = 18\n",
      "2 * 10 = 20\n",
      "2 * 11 = 22\n",
      "2 * 12 = 24\n",
      "2 * 13 = 26\n",
      "2 * 14 = 28\n",
      "2 * 15 = 30\n",
      "2 * 16 = 32\n",
      "2 * 17 = 34\n",
      "2 * 18 = 36\n",
      "2 * 19 = 38\n",
      "2 * 20 = 40\n"
     ]
    }
   ],
   "source": [
    "n=int(input('enter the number to calculate table:'))\n",
    "for i in range(1,21):\n",
    "    print(n,'*',i,'=',n*i)"
   ]
  },
  {
   "cell_type": "markdown",
   "id": "bcd2efd4",
   "metadata": {},
   "source": [
    "# 7. write a python program to sum the first ten prime numbers"
   ]
  },
  {
   "cell_type": "code",
   "execution_count": 175,
   "id": "c20a0fc4",
   "metadata": {},
   "outputs": [
    {
     "name": "stdout",
     "output_type": "stream",
     "text": [
      "Enter a number: 10\n",
      "[2, 3, 5, 7, 11, 13, 17, 19, 23, 29]\n",
      "sum of first ten prime numbers:  129\n"
     ]
    }
   ],
   "source": [
    "from math import sqrt\n",
    " \n",
    "num = int(input(\"Enter a number: \"))\n",
    "count = 0\n",
    "n = 2\n",
    "l=[]\n",
    " \n",
    "while count < num:\n",
    "    prime_flag = True\n",
    "     \n",
    "    for i in range(2, int(sqrt(n)) + 1):\n",
    "        if (n % i) == 0:\n",
    "            prime_flag = False\n",
    "            break\n",
    "     \n",
    "    if prime_flag:\n",
    "        l.append(n)\n",
    "        count = count + 1\n",
    "    n = n + 1\n",
    "print(l)\n",
    "print('sum of first ten prime numbers: ',sum(l))"
   ]
  },
  {
   "cell_type": "markdown",
   "id": "1d967f87",
   "metadata": {},
   "source": [
    "# 8.write a program to implement arthimetic operation using nested if statement"
   ]
  },
  {
   "cell_type": "code",
   "execution_count": 179,
   "id": "746ca162",
   "metadata": {},
   "outputs": [
    {
     "name": "stdout",
     "output_type": "stream",
     "text": [
      "enter the first number:15\n",
      "enter the second number:5\n",
      "enter the arthimetic operation: add\n",
      "20\n"
     ]
    }
   ],
   "source": [
    "n1=int(input('enter the first number:'))\n",
    "n2=int(input('enter the second number:'))\n",
    "operation = input('enter the arthimetic operation: ')\n",
    "if operation == 'add':\n",
    "    print(n1+n2)\n",
    "elif operation == 'sub':\n",
    "    print(n1-n2)\n",
    "elif operation == 'mul':\n",
    "    print(n1*n2)\n",
    "else:\n",
    "    print(n1/n2)"
   ]
  },
  {
   "cell_type": "markdown",
   "id": "3cb23e43",
   "metadata": {},
   "source": [
    "# 9.write a python program to take temp in celsius and convert into farenheit"
   ]
  },
  {
   "cell_type": "code",
   "execution_count": 164,
   "id": "eccf5aaa",
   "metadata": {},
   "outputs": [
    {
     "name": "stdout",
     "output_type": "stream",
     "text": [
      "enter the celsius temperature: 38.9\n",
      "38.9 celsius is equal to 102.02 fahrenheit\n"
     ]
    }
   ],
   "source": [
    "celsius = float(input('enter the celsius temperature: '))\n",
    " \n",
    "fahrenheit = (celsius * 1.8) + 32\n",
    " \n",
    "print('{} celsius is equal to {} fahrenheit'.format(celsius,fahrenheit))"
   ]
  },
  {
   "cell_type": "markdown",
   "id": "7ae22b6d",
   "metadata": {},
   "source": [
    "# 10.write a python program to find minimum and maximum number in a list without using an inbuilt function"
   ]
  },
  {
   "cell_type": "code",
   "execution_count": 169,
   "id": "d597608f",
   "metadata": {},
   "outputs": [
    {
     "name": "stdout",
     "output_type": "stream",
     "text": [
      "The maximum number in the list:  82\n",
      "The minimum number in the list:  8\n"
     ]
    }
   ],
   "source": [
    "l7=[34,65,76,8,82,75,12]\n",
    "max_num = 0\n",
    "min_num = l7[0]\n",
    "for i in l7:\n",
    "    if i>max_num:\n",
    "        max_num = i\n",
    "    if i<min_num:\n",
    "        min_num = i\n",
    "print('The maximum number in the list: ',max_num)\n",
    "print('The minimum number in the list: ',min_num)"
   ]
  },
  {
   "cell_type": "markdown",
   "id": "a8ec9a96",
   "metadata": {},
   "source": [
    "# 11.write a program in python print out the number of seconds in 30 day month 30 days,24 hours in a day, 60 minutes per hour, 60 seconds in minute"
   ]
  },
  {
   "cell_type": "code",
   "execution_count": 173,
   "id": "4841d9c4",
   "metadata": {},
   "outputs": [
    {
     "name": "stdout",
     "output_type": "stream",
     "text": [
      "seconds_in_month= 2592000\n",
      "seconds_in_24_hrs= 86400\n",
      "seconds_in_1_hr= 3600\n",
      "seconds_in_1_min= 60\n"
     ]
    }
   ],
   "source": [
    "print('seconds_in_month=',30*24*60*60)\n",
    "print('seconds_in_24_hrs=',24*60*60)\n",
    "print('seconds_in_1_hr=',60*60)\n",
    "print('seconds_in_1_min=',1*60)"
   ]
  },
  {
   "cell_type": "markdown",
   "id": "886d3599",
   "metadata": {},
   "source": [
    "# 12.write a program in python to print no oof seconds in year"
   ]
  },
  {
   "cell_type": "code",
   "execution_count": 174,
   "id": "dbe872be",
   "metadata": {},
   "outputs": [
    {
     "name": "stdout",
     "output_type": "stream",
     "text": [
      "Number of seconds in a year are: 31536000\n"
     ]
    }
   ],
   "source": [
    "days_in_year = 365\n",
    "hours_in_day = 24\n",
    "minutes_in_hour = 60\n",
    "seconds_in_minute = 60\n",
    "\n",
    "result = days_in_year * hours_in_day * minutes_in_hour * seconds_in_minute\n",
    "\n",
    "print(\"Number of seconds in a year are: {}\".format(result))"
   ]
  },
  {
   "cell_type": "markdown",
   "id": "43d33090",
   "metadata": {},
   "source": [
    "# 13.A high speed train at an average speed of 150 mph, how long will it takea tarin travelling at this speed to tarvel from london to glasgow is 414 miles away."
   ]
  },
  {
   "cell_type": "code",
   "execution_count": 180,
   "id": "571c4605",
   "metadata": {},
   "outputs": [
    {
     "name": "stdout",
     "output_type": "stream",
     "text": [
      "time taken to tarvel:  2.76 hrs\n"
     ]
    }
   ],
   "source": [
    "d=414\n",
    "s=150\n",
    "t=d/s\n",
    "print('time taken to tarvel: ',t,'hrs')"
   ]
  },
  {
   "cell_type": "markdown",
   "id": "0141142c",
   "metadata": {},
   "source": [
    "# 14.write a python program that defines a variable called days_in_each_school_year and assign 192 to the variable. the program should then print out the total hrs that your "
   ]
  },
  {
   "cell_type": "code",
   "execution_count": 182,
   "id": "9dfc7d33",
   "metadata": {},
   "outputs": [
    {
     "name": "stdout",
     "output_type": "stream",
     "text": [
      "total hours spent in school: 5760\n"
     ]
    }
   ],
   "source": [
    "days_in_each_school_year = 192\n",
    "total_hrs=0\n",
    "for i in range(7,12):\n",
    "    total_hrs+=(192*6)\n",
    "print('total hours spent in school:',total_hrs)"
   ]
  },
  {
   "cell_type": "markdown",
   "id": "0f569ca8",
   "metadata": {},
   "source": [
    "# 15.if the age of Ram,sam and khan are input through the keyboard, write program to determine the eldest and youngest of the three"
   ]
  },
  {
   "cell_type": "code",
   "execution_count": 190,
   "id": "c46c1077",
   "metadata": {},
   "outputs": [
    {
     "name": "stdout",
     "output_type": "stream",
     "text": [
      "enter the age of ram: 26\n",
      "enter the age of sam: 24\n",
      "enter the age of khan: 28\n",
      "The youngest is Sam\n",
      "The eldest is Khan\n"
     ]
    }
   ],
   "source": [
    "Ram_age = int(input('enter the age of ram: '))\n",
    "Sam_age = int(input('enter the age of sam: '))\n",
    "Khan_age = int(input('enter the age of khan: '))\n",
    "d={Ram_age:'Ram',Sam_age:'Sam',Khan_age:'Khan'}\n",
    "eldest=''\n",
    "youngest=''\n",
    "if(Ram_age>Sam_age and Ram_age>Khan_age):\n",
    "    eldest=Ram_age\n",
    "elif(Sam_age>Khan_age):\n",
    "    eldest=Sam_age\n",
    "else:\n",
    "    eldest=Khan_age\n",
    "\n",
    "if(Ram_age<Sam_age and Ram_age<Khan_age):\n",
    "    youngest=Ram_age\n",
    "elif(Sam_age<Khan_age):\n",
    "    youngest=Sam_age\n",
    "else:\n",
    "    youngest=Khan_age\n",
    "print('The youngest is',d[youngest])\n",
    "print('The eldest is',d[eldest])"
   ]
  },
  {
   "cell_type": "markdown",
   "id": "8bb18ca6",
   "metadata": {},
   "source": [
    "# 16.write a python program to rotate a list by right n times with and without slicing technique"
   ]
  },
  {
   "cell_type": "code",
   "execution_count": 199,
   "id": "024daca5",
   "metadata": {},
   "outputs": [
    {
     "name": "stdout",
     "output_type": "stream",
     "text": [
      "[4, 5, 6, 1, 2, 3]\n"
     ]
    }
   ],
   "source": [
    "num = 3\n",
    "lists= [1, 2, 3, 4, 5, 6]\n",
    "output_list = []\n",
    "\n",
    "for item in range(len(lists) - num, len(lists)):\n",
    "    output_list.append(lists[item])\n",
    "\n",
    "for item in range(0, len(lists) - num):\n",
    "    output_list.append(lists[item])\n",
    "\n",
    "print(output_list)"
   ]
  },
  {
   "cell_type": "markdown",
   "id": "6caeba34",
   "metadata": {},
   "source": [
    "# 17.python program to print patterns given below"
   ]
  },
  {
   "cell_type": "code",
   "execution_count": 3,
   "id": "9d0fc2d5",
   "metadata": {},
   "outputs": [
    {
     "name": "stdout",
     "output_type": "stream",
     "text": [
      "1 \n",
      "1 1 \n",
      "1 2 1 \n",
      "1 3 3 1 \n",
      "1 4 6 4 1 \n",
      "1 5 10 10 5 1 \n",
      "1 6 15 20 15 6 1 \n"
     ]
    }
   ],
   "source": [
    "rows = 7\n",
    "list = []\n",
    "for line in range(1, rows + 1):\n",
    "    row = []\n",
    "    for i in range(line):\n",
    "        if i == 0 or i == line - 1:\n",
    "            row.append(1)\n",
    "        else:\n",
    "            prev_row = list[line - 2]\n",
    "            value = prev_row[i - 1] + prev_row[i]\n",
    "            row.append(value)\n",
    "    list.append(row)\n",
    "for row in list:\n",
    "        for num in row:\n",
    "            print(num, end=' ')\n",
    "        print()"
   ]
  },
  {
   "cell_type": "code",
   "execution_count": 5,
   "id": "a70684f1",
   "metadata": {},
   "outputs": [
    {
     "name": "stdout",
     "output_type": "stream",
     "text": [
      "* \n",
      "* * \n",
      "* * * \n",
      "* * * * \n",
      "* * * * * \n"
     ]
    }
   ],
   "source": [
    "rows = 5\n",
    "for i in range(1, rows + 1):\n",
    "    for j in range(i):\n",
    "        print('*', end=' ')\n",
    "    print()"
   ]
  },
  {
   "cell_type": "code",
   "execution_count": 6,
   "id": "e6fb7073",
   "metadata": {},
   "outputs": [
    {
     "name": "stdout",
     "output_type": "stream",
     "text": [
      "     * \n",
      "    * * \n",
      "   * * * \n",
      "  * * * * \n",
      " * * * * * \n",
      "* * * * * * \n"
     ]
    }
   ],
   "source": [
    "rows = 6\n",
    "for i in range(0, rows):\n",
    "    for j in range(0, rows - 1):\n",
    "        print(end=' ')\n",
    "    rows = rows - 1\n",
    "    for k in range(0, i + 1):\n",
    "        print('*', end=' ')\n",
    "    print()"
   ]
  },
  {
   "cell_type": "code",
   "execution_count": 7,
   "id": "b2de9bab",
   "metadata": {},
   "outputs": [
    {
     "name": "stdout",
     "output_type": "stream",
     "text": [
      "\n",
      "P \n",
      "P y \n",
      "P y t \n",
      "P y t h \n",
      "P y t h o \n",
      "P y t h o n "
     ]
    }
   ],
   "source": [
    "String ='Python'\n",
    "for i in range(0,6):\n",
    "    print()\n",
    "    for j in range(0,i+1):\n",
    "        print(String[j], end=' ')"
   ]
  }
 ],
 "metadata": {
  "kernelspec": {
   "display_name": "Python 3 (ipykernel)",
   "language": "python",
   "name": "python3"
  },
  "language_info": {
   "codemirror_mode": {
    "name": "ipython",
    "version": 3
   },
   "file_extension": ".py",
   "mimetype": "text/x-python",
   "name": "python",
   "nbconvert_exporter": "python",
   "pygments_lexer": "ipython3",
   "version": "3.11.4"
  }
 },
 "nbformat": 4,
 "nbformat_minor": 5
}
