{
 "cells": [
  {
   "cell_type": "markdown",
   "id": "31224921",
   "metadata": {},
   "source": [
    "# 1. Write a python function that copies a file reading and writing up to 50 characters at a time."
   ]
  },
  {
   "cell_type": "code",
   "execution_count": 5,
   "id": "a66c5f7a",
   "metadata": {},
   "outputs": [
    {
     "name": "stdout",
     "output_type": "stream",
     "text": [
      "Hi, this is jagadeesh kumar from mphasis working i\n"
     ]
    }
   ],
   "source": [
    "f1=open('text1.txt','r')\n",
    "f2=open('text2.txt','w')\n",
    "text=f1.read(50)\n",
    "print(text)\n",
    "f2.write(text)\n",
    "f1.close()\n",
    "f2.close()"
   ]
  },
  {
   "cell_type": "markdown",
   "id": "8346e166",
   "metadata": {},
   "source": [
    "# 2. Print all numbers present in the text file and print the number of blank spaces in that file."
   ]
  },
  {
   "cell_type": "code",
   "execution_count": 12,
   "id": "4d28e444",
   "metadata": {},
   "outputs": [
    {
     "name": "stdout",
     "output_type": "stream",
     "text": [
      "2,6,1,2,3,4,5,6,\n",
      "Total number of blank spaces are:  19\n"
     ]
    }
   ],
   "source": [
    "f3=open('text3.txt','r')\n",
    "text=f3.read()\n",
    "c=0\n",
    "for i in text:\n",
    "    if i.isnumeric():\n",
    "        print(i,end=',')\n",
    "    if i.isspace():\n",
    "        c+=1\n",
    "print('\\nTotal number of blank spaces are: ',c)"
   ]
  },
  {
   "cell_type": "markdown",
   "id": "003ca5c9",
   "metadata": {},
   "source": [
    "# 3. Write a function called sed that takes as arguments a pattern string, a replacement string. and two filenames; it should read the first file and write the contents into the second file (creating it if necessary). If the pattern string appears anywhere in the file, it should be replaced with the replacement string. If an error occurs while opening, reading, writing. or closing files, your program should catch the exception, print an error message, and exit."
   ]
  },
  {
   "cell_type": "code",
   "execution_count": 10,
   "id": "f9a0203e",
   "metadata": {},
   "outputs": [
    {
     "name": "stdout",
     "output_type": "stream",
     "text": [
      "Pattern 'jagadeesh' replaced with 'kumar' in 'text1.txt' and saved to 'text4.txt'.\n"
     ]
    }
   ],
   "source": [
    "def sed(pattern,replacement,input_file,output_file):\n",
    "    try:\n",
    "        f1=open(input_file,'r')\n",
    "        f2=open(output_file,'w')\n",
    "        for line in f1:\n",
    "            modified_name = line.replace(pattern, replacement)\n",
    "            f2.write(modified_name)\n",
    "        print(f\"Pattern '{pattern}' replaced with '{replacement}' in '{input_file}' and saved to '{output_file}'.\")\n",
    "        f1.close()\n",
    "        f2.close()\n",
    "    except FileNotFoundError:\n",
    "        print(f\"Error: The file '{input_file}' does not exist.\")\n",
    "    except Exception as e:\n",
    "        print(f\"An error occurred: {str(e)}\")\n",
    "\n",
    "sed(\"jagadeesh\", \"kumar\", \"text1.txt\", \"text4.txt\")"
   ]
  },
  {
   "cell_type": "markdown",
   "id": "f840b2cf",
   "metadata": {},
   "source": [
    "# 5. Text File Search and Replace: You have a text file with a large amount of text, and you want to search for specific words or phrases and replace them with new content. a. Write Python code to search for and replace text within a text file.\n"
   ]
  },
  {
   "cell_type": "code",
   "execution_count": 13,
   "id": "2994b3be",
   "metadata": {},
   "outputs": [
    {
     "name": "stdout",
     "output_type": "stream",
     "text": [
      "Search and replace complete in 'text1.txt' and saved to 'text5.txt'.\n"
     ]
    }
   ],
   "source": [
    "def search_replace_in_file(input_file, output_file, replacements):\n",
    "    f1=open(input_file,'r')\n",
    "    f2=open(output_file,'w')\n",
    "    for line in f1:\n",
    "        for search_text, replace_text in replacements.items():\n",
    "            line = line.replace(search_text, replace_text)\n",
    "        f2.write(line)\n",
    "    print(f\"Search and replace complete in '{input_file}' and saved to '{output_file}'.\")\n",
    "\n",
    "replacements = {\n",
    "    \"jagadeesh\": \"kumar\",\n",
    "    \"pune\": \"Bangalore\",\n",
    "}\n",
    "search_replace_in_file(\"text1.txt\", \"text5.txt\", replacements)\n"
   ]
  },
  {
   "cell_type": "markdown",
   "id": "457f0dfb",
   "metadata": {},
   "source": [
    "# 6. Write a Python script that concatenates the contents of multiple text files into a single output file. Allow the user to specify the input files and the output file."
   ]
  },
  {
   "cell_type": "code",
   "execution_count": 14,
   "id": "4df91545",
   "metadata": {},
   "outputs": [
    {
     "name": "stdout",
     "output_type": "stream",
     "text": [
      "Enter the path of an input file (or 'q' to quit): text1.txt\n",
      "Enter the path of an input file (or 'q' to quit): text5.txt\n",
      "Enter the path of an input file (or 'q' to quit): q\n",
      "Enter the path of the output file: text6.txt\n",
      "Concatenated 2 files into 'text6.txt' successfully.\n"
     ]
    }
   ],
   "source": [
    "def concatenate_files(input_files, output_file):\n",
    "    with open(output_file, 'w') as output:\n",
    "        for input_file in input_files:\n",
    "            with open(input_file, 'r') as file:\n",
    "                output.write(file.read())\n",
    "    print(f\"Concatenated {len(input_files)} files into '{output_file}' successfully.\")\n",
    "\n",
    "\n",
    "input_files = []\n",
    "\n",
    "while True:\n",
    "    file_path = input(\"Enter the path of an input file (or 'q' to quit): \")\n",
    "    if file_path.lower() == 'q':\n",
    "        break\n",
    "    input_files.append(file_path)\n",
    "\n",
    "if not input_files:\n",
    "    print(\"No input files provided. Exiting.\")\n",
    "else:\n",
    "    output_file = input(\"Enter the path of the output file: \")\n",
    "    concatenate_files(input_files, output_file)\n"
   ]
  },
  {
   "cell_type": "markdown",
   "id": "b119d345",
   "metadata": {},
   "source": [
    "# 7.You are given a text file named input.txt containing a list of words, one word per line.\n",
    "\n",
    "Your task is to create a Python program that reads the contents of input.txt, processes the words, and writes the result to an output file named output.txt.\n",
    "\n",
    "a. The program should perform the following operations: i. Read the words from input.txt.\n",
    "\n",
    "ii. For each word in the input file, calculate the length of the word and store it in a dictionary where the word is the key, and the length is the value\n",
    "\n",
    ".\n",
    "\n",
    "iii. Write the word-length dictionary to output.txt in the following format:\n",
    "\n",
    "Word1: Length1\n",
    "\n",
    "Word2: Length2\n",
    "\n",
    "iv. Close both input and output files properly. v. Write Python code to accomplish this task. Ensure proper error handling for file operations.\n",
    "\n",
    "Sample Input(\"input.txt')\n",
    "\n",
    "apple\n",
    "\n",
    "banana\n",
    "\n",
    "cherry\n",
    "\n",
    "date\n",
    "\n",
    "Sample Output(\"output.txt')\n",
    "\n",
    "apple: 5\n",
    "\n",
    "banana: 6\n",
    "\n",
    "cherry: 6\n",
    "\n",
    "date: 4\n",
    "\n",
    "Note: Your code should work for any input file containing words and produce the corresponding word-length dictionary in the output file."
   ]
  },
  {
   "cell_type": "code",
   "execution_count": 16,
   "id": "f72de0d1",
   "metadata": {},
   "outputs": [
    {
     "name": "stdout",
     "output_type": "stream",
     "text": [
      "Word-length dictionary saved successfully.\n"
     ]
    }
   ],
   "source": [
    "try:\n",
    "    with open('text7.txt', 'r') as f1, open('text8.txt', 'w') as f2:\n",
    "        wldict = {}\n",
    "        for line in f1:\n",
    "            word = line.strip()  \n",
    "            length = len(word)\n",
    "            wldict[word] = length\n",
    "\n",
    "        for word, length in wldict.items():\n",
    "            f2.write(f\"{word}: {length}\\n\")\n",
    "\n",
    "    print(f\"Word-length dictionary saved successfully.\")\n",
    "except FileNotFoundError:\n",
    "    print(f\"Error: The file '{input_file}' does not exist.\")\n",
    "except Exception as e:\n",
    "    print(f\"An error occurred: {str(e)}\")"
   ]
  },
  {
   "cell_type": "markdown",
   "id": "5102e71d",
   "metadata": {},
   "source": [
    "# 8. Assume that you are developing a student gradebook system for a school. The system should allow teachers to input student grades for various subjects, store the data in files, and provide students with the ability to view their grades. Design a Python program that accomplishes the following tasks:\n",
    "\n",
    "i. Teachers should be able to input grades for students in different\n",
    "\n",
    "subjects.\n",
    "\n",
    "ii. Store the student grade data in separate text files for each subject.\n",
    "\n",
    "iii. Students should be able to view their grades for each subject.\n",
    "\n",
    "iv. Implement error handling for file operations, such as file not found or\n",
    "\n",
    "permission issues."
   ]
  },
  {
   "cell_type": "code",
   "execution_count": 3,
   "id": "82fa254b",
   "metadata": {},
   "outputs": [
    {
     "name": "stdout",
     "output_type": "stream",
     "text": [
      "Student Gradebook System\n",
      "1. Input Grades\n",
      "2. View Grades\n",
      "3. Exit\n",
      "Enter your choice: 1\n",
      "Enter the subject: python\n",
      "Enter the number of students for python: 3\n",
      "Enter the name of student 1: jagadeesh\n",
      "Enter the grade for python for jagadeesh: 80\n",
      "Enter the name of student 2: hari\n",
      "Enter the grade for python for hari: 90\n",
      "Enter the name of student 3: vamsi\n",
      "Enter the grade for python for vamsi: 70\n",
      "Grades for python have been recorded in python.txt.\n",
      "\n",
      "Student Gradebook System\n",
      "1. Input Grades\n",
      "2. View Grades\n",
      "3. Exit\n",
      "Enter your choice: 1\n",
      "Enter the subject: java\n",
      "Enter the number of students for java: 3\n",
      "Enter the name of student 1: jagadeesh\n",
      "Enter the grade for java for jagadeesh: 70\n",
      "Enter the name of student 2: hari\n",
      "Enter the grade for java for hari: 75\n",
      "Enter the name of student 3: vamsi\n",
      "Enter the grade for java for vamsi: 70\n",
      "Grades for java have been recorded in java.txt.\n",
      "\n",
      "Student Gradebook System\n",
      "1. Input Grades\n",
      "2. View Grades\n",
      "3. Exit\n",
      "Enter your choice: 2\n",
      "Enter the subject: python\n",
      "Grades for python:\n",
      "\n",
      "jagadeesh: 80.0\n",
      "hari: 90.0\n",
      "vamsi: 70.0\n",
      "\n",
      "Student Gradebook System\n",
      "1. Input Grades\n",
      "2. View Grades\n",
      "3. Exit\n",
      "Enter your choice: 3\n"
     ]
    }
   ],
   "source": [
    "import os\n",
    "\n",
    "def input_grades(subject):\n",
    "    try:\n",
    "        filename = f\"{subject}.txt\"\n",
    "        \n",
    "        num_students = int(input(f\"Enter the number of students for {subject}: \"))\n",
    "        \n",
    "        with open(filename, 'w') as file:\n",
    "            for i in range(num_students):\n",
    "                student_name = input(f\"Enter the name of student {i+1}: \")\n",
    "                grade = float(input(f\"Enter the grade for {subject} for {student_name}: \"))\n",
    "                file.write(f\"{student_name}: {grade}\\n\")\n",
    "        \n",
    "        print(f\"Grades for {subject} have been recorded in {filename}.\\n\")\n",
    "    except Exception as e:\n",
    "        print(f\"An error occurred: {str(e)}\\n\")\n",
    "\n",
    "def view_grades(subject):\n",
    "    try:\n",
    "        filename = f\"{subject}.txt\"\n",
    "        \n",
    "        if not os.path.exists(filename):\n",
    "            print(f\"No grades recorded for {subject}.\\n\")\n",
    "            return\n",
    "        \n",
    "        with open(filename, 'r') as file:\n",
    "            print(f\"Grades for {subject}:\\n\")\n",
    "            for line in file:\n",
    "                print(line.strip())\n",
    "        \n",
    "        print()\n",
    "    except FileNotFoundError:\n",
    "        print(f\"No grades recorded for {subject}.\\n\")\n",
    "    except Exception as e:\n",
    "        print(f\"An error occurred: {str(e)}\\n\")\n",
    "\n",
    "if __name__ == \"__main__\":\n",
    "    while True:\n",
    "        print(\"Student Gradebook System\")\n",
    "        print(\"1. Input Grades\")\n",
    "        print(\"2. View Grades\")\n",
    "        print(\"3. Exit\")\n",
    "        \n",
    "        choice = input(\"Enter your choice: \")\n",
    "        \n",
    "        if choice == '1':\n",
    "            subject = input(\"Enter the subject: \")\n",
    "            input_grades(subject)\n",
    "        elif choice == '2':\n",
    "            subject = input(\"Enter the subject: \")\n",
    "            view_grades(subject)\n",
    "        elif choice == '3':\n",
    "            break\n",
    "        else:\n",
    "            print(\"Invalid choice. Please try again.\\n\")\n"
   ]
  }
 ],
 "metadata": {
  "kernelspec": {
   "display_name": "Python 3 (ipykernel)",
   "language": "python",
   "name": "python3"
  },
  "language_info": {
   "codemirror_mode": {
    "name": "ipython",
    "version": 3
   },
   "file_extension": ".py",
   "mimetype": "text/x-python",
   "name": "python",
   "nbconvert_exporter": "python",
   "pygments_lexer": "ipython3",
   "version": "3.11.4"
  }
 },
 "nbformat": 4,
 "nbformat_minor": 5
}
